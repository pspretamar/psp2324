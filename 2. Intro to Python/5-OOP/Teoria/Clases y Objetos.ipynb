{
 "cells": [
  {
   "cell_type": "markdown",
   "metadata": {},
   "source": [
    "![imagen](./img/python.jpg)"
   ]
  },
  {
   "cell_type": "markdown",
   "metadata": {},
   "source": [
    "# Clases y Objetos en Python\n",
    "\n",
    "Como sabes, Python es un lenguaje de programación orientado a objetos. ¿Esto qué es? El código se organiza en elementos denominados objetos, que vienen definidos por clases. Es una manera de expresar en lenguaje máquina cosas de la vida real.\n",
    "\n",
    "1. [Clases](#1.-Clases)\n",
    "1. [Atributos](#2.-Atributos)\n",
    "3. [Constructor](#3.-Constructor)\n",
    "4. [Métodos](#4.-Métodos)\n",
    "5. [Documentación](#5.-Documentación)\n",
    "6. [Resumen](#6.-Resumen)"
   ]
  },
  {
   "cell_type": "markdown",
   "metadata": {},
   "source": [
    "## 1. Clases\n",
    "Las clases son la manera que tenemos de describir los objetos. Hasta ahora hemos visto clases básicas que vienen incluidas en Python como *int*, *str* o clases algo más complejas como los *dict*. Pero, **¿y si queremos crear nuestros propios objetos?** En los lenguajes orientados a objetos tenemos la posibilidad de definir nuevos objetos que se asemejen más a nuestros casos de uso y hagan la programación más sencilla de desarrollar y entender.\n",
    "\n",
    "**Un número entero es un objeto de la clase *int* que posee unas características diferentes a un texto**, que es de la clase *str*. Por ejemplo, **¿cómo sabemos que un coche es un coche?** ¿qué características tiene? Los coches tienen una marca, una cantidad de caballos, hay unos automáticos, otros no… De esta manera traducimos a lenguaje de maquina, a programación, un concepto que tenemos nosotros muy claro e interiorizado.\n",
    " \n",
    "Hasta ahora, hemos visto varias clases, por ejemplo la clase *str*. Cuando veiamos el tipo de dato, Python imprimía por pantalla `str`. Y al ser `str`, tenía unas propiedades que no tenían otros objetos, como las funciones .upper() o .lower().\n",
    "\n",
    "La sintaxis para crear una clase es:\n",
    "```Python\n",
    "class NombreClase:\n",
    "    # Cosas de la clase\n",
    "```\n",
    "\n",
    "Normalmente para el nombre de la clase se usa *CamelCase*, que quiere decir que se define en minúscila, sin espacios ni guiones, y jugando con las mayúsculas para diferenciar palabras.\n",
    "\n",
    "Mira cómo es la [clase *built_in* de *String*](https://docs.python.org/3/library/stdtypes.html#str)"
   ]
  },
  {
   "cell_type": "code",
   "execution_count": null,
   "metadata": {},
   "outputs": [],
   "source": [
    "class Coche:\n",
    "    # Cosas de la clase\n",
    "    pass"
   ]
  },
  {
   "cell_type": "markdown",
   "metadata": {},
   "source": [
    "La sentencia `pass` se usa para forzar el fin de la clase *Coche*. La hemos declarado, pero no lleva nada. Python demanda una definición de la clase y podemos ignorar esa demanda mediante la sentencia `pass`."
   ]
  },
  {
   "cell_type": "code",
   "execution_count": null,
   "metadata": {},
   "outputs": [
    {
     "name": "stdout",
     "output_type": "stream",
     "text": [
      "<class 'type'>\n"
     ]
    }
   ],
   "source": [
    "print(type(Coche))"
   ]
  },
  {
   "cell_type": "markdown",
   "metadata": {},
   "source": [
    "Bien, coche es de tipo `type`, claro porque **no es un objeto con tal**, sino que es una clase. Cuando creemos coches, estos serán de clase *Coche*, es decir, de tipo *Coche*, por lo que tiene sentido que *Coche* sea de tipo `type`."
   ]
  },
  {
   "cell_type": "markdown",
   "metadata": {},
   "source": [
    "### Clase vs Funciones \n",
    "\n",
    "Como ya sabéis utilizar funciones, estáis listos para aprender sobre las clases.\n",
    "\n",
    "Las clases son una forma de empaquetar datos y funcionalidades juntos. Al crear una nueva clase, se crea un nuevo tipo de objeto, permitiendo crear nuevas instancias de ese tipo. Cada instancia de clase puede tener atributos adjuntos para mantener su estado. Las instancias de clase también pueden tener métodos (definidos por su clase) para modificar su estado.\n",
    "\n",
    "En otras palabras, las funciones son bloques de código que se pueden llamar en cualquier momento para realizar una tarea específica. Las clases son similares a las funciones, pero en lugar de ser bloques de código independientes, son objetos que contienen datos y funciones.\n",
    "\n",
    "Por ejemplo, consideremos la siguiente función ``area_rectangulo()`` que calcula el área de un rectángulo según su base y su altura:\n",
    "\n"
   ]
  },
  {
   "cell_type": "code",
   "execution_count": null,
   "metadata": {},
   "outputs": [
    {
     "name": "stdout",
     "output_type": "stream",
     "text": [
      "Área del rectángulo:  200\n"
     ]
    }
   ],
   "source": [
    "def area_rectangulo(base, altura):\n",
    "    \"\"\"\n",
    "    Calcula el área de un rectángulo dado su base y altura.\n",
    "\n",
    "    Parámetros:\n",
    "    - base (float o int): La longitud de la base del rectángulo.\n",
    "    - altura (float o int): La altura del rectángulo.\n",
    "\n",
    "    Retorna:\n",
    "    - float o int: El área del rectángulo, calculada como base * altura.\n",
    "    \"\"\"\n",
    "    return base * altura\n",
    "\n",
    "area = area_rectangulo(20, 10)\n",
    "print(\"Área del rectángulo: \", area)\n"
   ]
  },
  {
   "cell_type": "markdown",
   "metadata": {},
   "source": [
    "En este ejemplo, la función area_rectangulo toma dos argumentos: base y altura, y devuelve el área del rectángulo.\n",
    "\n",
    "Ahora, consideremos la siguiente clase ``Rectangulo`` que define un rectángulo según su base y su altura:"
   ]
  },
  {
   "cell_type": "code",
   "execution_count": null,
   "metadata": {},
   "outputs": [
    {
     "name": "stdout",
     "output_type": "stream",
     "text": [
      "Área del rectángulo:  200\n"
     ]
    }
   ],
   "source": [
    "class Rectangulo:\n",
    "    \"\"\"Define un rectángulo según su base y su altura.\"\"\"\n",
    "    def __init__(self, b, h):\n",
    "        self.b = b\n",
    "        self.h = h\n",
    "    \n",
    "    def area(self):\n",
    "        \"\"\"\n",
    "        Calcula el área de un rectángulo dado su base y altura.\n",
    "\n",
    "        Parámetros:\n",
    "        - base (float o int): La longitud de la base del rectángulo.\n",
    "        - altura (float o int): La altura del rectángulo.\n",
    "\n",
    "        Retorna:\n",
    "        - float o int: El área del rectángulo, calculada como base * altura.\n",
    "        \"\"\"\n",
    "        return self.b * self.h\n",
    "\n",
    "rectangulo = Rectangulo(20, 10)\n",
    "print(\"Área del rectángulo: \", rectangulo.area())\n"
   ]
  },
  {
   "cell_type": "markdown",
   "metadata": {},
   "source": [
    "Y también podemos ver sus atributos y acceder a ellos en cuanquiero momento:"
   ]
  },
  {
   "cell_type": "code",
   "execution_count": null,
   "metadata": {},
   "outputs": [
    {
     "data": {
      "text/plain": [
       "20"
      ]
     },
     "execution_count": 9,
     "metadata": {},
     "output_type": "execute_result"
    }
   ],
   "source": [
    "rectangulo.b"
   ]
  },
  {
   "cell_type": "markdown",
   "metadata": {},
   "source": [
    "### Clase vs Objeto\n",
    "**La clase se usa para definir algo**. Al igual que con las funciones. Creamos el esqueleto de lo que será un objeto de esa clase. Por tanto, **una vez tengamos la clase definida, instanciaremos un objeto de esa clase**.  Es como crear el concepto de coche, con todas sus características y funcionalidades. Después, a lo largo del programa, podremos crear objetos de tipo coche, que se ajusten a lo definido en la clase coche. Cada coche tendrá una marca, una potencia, etc…"
   ]
  },
  {
   "cell_type": "code",
   "execution_count": null,
   "metadata": {},
   "outputs": [],
   "source": [
    "class Coche:\n",
    "    # Cosas de la clase\n",
    "    pass"
   ]
  },
  {
   "cell_type": "code",
   "execution_count": null,
   "metadata": {},
   "outputs": [
    {
     "name": "stdout",
     "output_type": "stream",
     "text": [
      "<__main__.Coche object at 0x000001EF6EA4C388>\n",
      "<class 'type'>\n",
      "<class '__main__.Coche'>\n"
     ]
    }
   ],
   "source": [
    "primer_coche = Coche()\n",
    "print(primer_coche)\n",
    "print(type(Coche))\n",
    "print(type(primer_coche))"
   ]
  },
  {
   "cell_type": "markdown",
   "metadata": {},
   "source": [
    "Ahora sí tenemos un objeto de tipo Coche, que se llama `primer_coche`. Cuando imprimimos su tipo, vemos que es de tipo Coche, y cuando lo imprimes el objeto por pantalla, simplemente nos dice su tipo y un identificador.\n",
    "\n",
    "Podremos crear todos los coches que queramos"
   ]
  },
  {
   "cell_type": "code",
   "execution_count": null,
   "metadata": {},
   "outputs": [
    {
     "name": "stdout",
     "output_type": "stream",
     "text": [
      "False\n"
     ]
    }
   ],
   "source": [
    "citroen = Coche()\n",
    "seat = Coche()\n",
    "\n",
    "print(citroen == seat)"
   ]
  },
  {
   "cell_type": "markdown",
   "metadata": {},
   "source": [
    "De momento todos nuestros coches son iguales, no hemos definido bien la clase, por lo que va a ser difícil diferenciar un coche de otro. Vamos a ver cómo lograr esa diferenciación."
   ]
  },
  {
   "cell_type": "markdown",
   "metadata": {},
   "source": [
    "![imagen](./img/dogs.jpg)"
   ]
  },
  {
   "cell_type": "markdown",
   "metadata": {},
   "source": [
    "## 2. Atributos\n",
    "Son las **características que definen a los objetos de una clase**. La marca, el color, potencia del coche. Estos son atributos, que se definen de manera genérica en la clase y luego cada objeto *Coche* tendrá un valor para cada uno de sus atributos.\n",
    "\n",
    "Los atributos los definimos tras la declaración de la clase. Y luego se accede a ellos mediante la sintaxis `objeto.atributo`\n",
    "\n",
    "Vamos a empezar a definir atributos en los coches."
   ]
  },
  {
   "cell_type": "code",
   "execution_count": null,
   "metadata": {},
   "outputs": [],
   "source": [
    "class Coche:\n",
    "    # Atributos de la clase\n",
    "    puertas = 4\n",
    "    ruedas = 4"
   ]
  },
  {
   "cell_type": "markdown",
   "metadata": {},
   "source": [
    "Ahora todos los coches que creamos, tendrán 4 puertas y 4 ruedas."
   ]
  },
  {
   "cell_type": "code",
   "execution_count": null,
   "metadata": {},
   "outputs": [
    {
     "name": "stdout",
     "output_type": "stream",
     "text": [
      "4\n",
      "4\n",
      "4\n",
      "4\n"
     ]
    }
   ],
   "source": [
    "citroen = Coche()\n",
    "\n",
    "print(citroen.puertas)\n",
    "print(citroen.ruedas)\n",
    "\n",
    "seat = Coche()\n",
    "print(seat.puertas)\n",
    "print(seat.ruedas)"
   ]
  },
  {
   "cell_type": "code",
   "execution_count": null,
   "metadata": {},
   "outputs": [
    {
     "name": "stdout",
     "output_type": "stream",
     "text": [
      "4\n"
     ]
    }
   ],
   "source": [
    "coche_miguel = Coche()\n",
    "print(coche_miguel.puertas)"
   ]
  },
  {
   "cell_type": "markdown",
   "metadata": {},
   "source": [
    "También podemos modificar los atributos. Esto Python lo hace muy sencillo, los cambiamos directamente reasignando valores. En otros lenguajes de programación hay que implementar esto mediante métodos  denominados `getters` y `setters`."
   ]
  },
  {
   "cell_type": "code",
   "execution_count": null,
   "metadata": {},
   "outputs": [
    {
     "name": "stdout",
     "output_type": "stream",
     "text": [
      "2\n",
      "4\n"
     ]
    }
   ],
   "source": [
    "citroen = Coche()\n",
    "citroen.puertas = 2\n",
    "print(citroen.puertas)\n",
    "print(citroen.ruedas)"
   ]
  },
  {
   "cell_type": "markdown",
   "metadata": {},
   "source": [
    "<table align=\"left\">\n",
    " <tr><td width=\"80\"><img src=\"./img/error.png\" style=\"width:auto;height:auto\"></td>\n",
    "     <td style=\"text-align:left\">\n",
    "         <h3>ERRORES atributos que no existen</h3>\n",
    "         \n",
    " </td></tr>\n",
    "</table>"
   ]
  },
  {
   "cell_type": "code",
   "execution_count": null,
   "metadata": {},
   "outputs": [
    {
     "ename": "AttributeError",
     "evalue": "'Coche' object has no attribute 'motor'",
     "output_type": "error",
     "traceback": [
      "\u001b[1;31m---------------------------------------------------------------------------\u001b[0m",
      "\u001b[1;31mAttributeError\u001b[0m                            Traceback (most recent call last)",
      "\u001b[1;32m~\\AppData\\Local\\Temp\\ipykernel_28936\\1223230374.py\u001b[0m in \u001b[0;36m<module>\u001b[1;34m\u001b[0m\n\u001b[1;32m----> 1\u001b[1;33m \u001b[0mprint\u001b[0m\u001b[1;33m(\u001b[0m\u001b[0mcitroen\u001b[0m\u001b[1;33m.\u001b[0m\u001b[0mmotor\u001b[0m\u001b[1;33m)\u001b[0m\u001b[1;33m\u001b[0m\u001b[1;33m\u001b[0m\u001b[0m\n\u001b[0m",
      "\u001b[1;31mAttributeError\u001b[0m: 'Coche' object has no attribute 'motor'"
     ]
    }
   ],
   "source": [
    "print(citroen.motor)"
   ]
  },
  {
   "cell_type": "markdown",
   "metadata": {},
   "source": [
    "Seguimos sin poder diferenciar claramente un coche de otro, pero ya vamos definiendo sus características, que será posible ir modificándolas tanto en la inicialización del objeto, como después. De momento, tenemos características comunes a todos los coches... o no, ¿todos los coches tienen 4 puertas?"
   ]
  },
  {
   "cell_type": "markdown",
   "metadata": {},
   "source": [
    "## 3. Constructor\n",
    "Cuando creamos un objeto de la clase *Coche*, tenemos que definirlo bien para diferenciarlo de otros coches. Esa definición inicial se realiza en el constructor de la clase. Son unos argumentos de entrada que nos pide el objeto, para definir esa instancia de otras instancias de la misma clase.\n",
    "\n",
    "**¿Cómo definimos esto?** Mediante la sentencia `__init__`, dentro de la clase."
   ]
  },
  {
   "cell_type": "code",
   "execution_count": null,
   "metadata": {},
   "outputs": [],
   "source": [
    "class Coche:\n",
    "    # Atributos de la clase (compartidos por todos)\n",
    "    puertas = 4\n",
    "    ruedas = 4\n",
    "    # Constructor\n",
    "    def __init__(self, marca_coche, año):\n",
    "        # Atributos de instancia\n",
    "        self.marca = marca_coche \n",
    "        self.año = año"
   ]
  },
  {
   "cell_type": "markdown",
   "metadata": {},
   "source": [
    "En resumen, las clases necesitan un constructor para inicializar sus atributos, y en Python, este constructor se define usando el método especial __init__. En Python, los métodos que tienen nombres especiales rodeados por doble guión bajo tienen un significado especial. __init__ es uno de estos métodos especiales que se llama automáticamente en ciertos momentos."
   ]
  },
  {
   "cell_type": "markdown",
   "metadata": {},
   "source": [
    "En la declaración del constructor hemos metido la palabra `self`. **Lo tendremos que poner siempre**. Hace referencia a la propia instancia de coche, es decir, a cuando creemos coches nuevos.\n",
    "\n",
    "Es un estándar de Python pasar self como el primer parámetro de todos los métodos de instancia (incluido __init__, el constructor).\n",
    "\n",
    "En este caso estamos diferenciando los atributos comunes de la clase *Coche*, de los atributos particulares de los coches, como por ejemplo, la marca. Por eso la marca va junto con `self`, porque no hace referencia a la clase genércia de coche, sino a cada coche que creemos."
   ]
  },
  {
   "cell_type": "code",
   "execution_count": null,
   "metadata": {},
   "outputs": [],
   "source": [
    "citroen = Coche(\"Citroen\", 2010)"
   ]
  },
  {
   "cell_type": "code",
   "execution_count": null,
   "metadata": {},
   "outputs": [
    {
     "name": "stdout",
     "output_type": "stream",
     "text": [
      "4\n",
      "4\n",
      "Citroen\n",
      "2010\n"
     ]
    }
   ],
   "source": [
    "print(citroen.puertas)\n",
    "print(citroen.ruedas)\n",
    "print(citroen.marca)\n",
    "print(citroen.año)"
   ]
  },
  {
   "cell_type": "markdown",
   "metadata": {},
   "source": [
    "Ahora ya podemos diferenciar los coches por su marca. Para acceder al atributo de la marca, lo hacemos igual que con los anteriores."
   ]
  },
  {
   "cell_type": "code",
   "execution_count": null,
   "metadata": {},
   "outputs": [
    {
     "name": "stdout",
     "output_type": "stream",
     "text": [
      "Citroen\n",
      "2012\n",
      "4\n",
      "Seat\n",
      "2008\n",
      "4\n",
      "Renault\n",
      "2015\n",
      "4\n"
     ]
    }
   ],
   "source": [
    "citroen = Coche(\"Citroen\", 2012)\n",
    "\n",
    "seat = Coche(\"Seat\", 2008)\n",
    "\n",
    "renault = Coche(\"Renault\", 2015)\n",
    "\n",
    "print(citroen.marca)\n",
    "print(citroen.año)\n",
    "print(citroen.ruedas)\n",
    "print(seat.marca)\n",
    "print(seat.año)\n",
    "print(seat.ruedas)\n",
    "print(renault.marca)\n",
    "print(renault.año)\n",
    "print(renault.ruedas)"
   ]
  },
  {
   "cell_type": "markdown",
   "metadata": {},
   "source": [
    "Ya podemos solucionar el tema de que no todos los coches tienen 4 puertas"
   ]
  },
  {
   "cell_type": "code",
   "execution_count": null,
   "metadata": {},
   "outputs": [],
   "source": [
    "class Coche:\n",
    "    ruedas = 4\n",
    "\n",
    "    def __init__(self, marca_coche, num_puertas):\n",
    "        self.marca = marca_coche\n",
    "        self.num_puertas = num_puertas"
   ]
  },
  {
   "cell_type": "code",
   "execution_count": null,
   "metadata": {},
   "outputs": [
    {
     "name": "stdout",
     "output_type": "stream",
     "text": [
      "Citroen\n",
      "4\n",
      "2\n"
     ]
    }
   ],
   "source": [
    "coche_miguel = Coche(\"Citroen\", 2)\n",
    "print(coche_miguel.marca)\n",
    "print(coche_miguel.ruedas)\n",
    "print(coche_miguel.num_puertas)"
   ]
  },
  {
   "cell_type": "markdown",
   "metadata": {},
   "source": [
    "<table align=\"left\">\n",
    " <tr><td width=\"80\"><img src=\"./img/ejercicio.png\" style=\"width:auto;height:auto\"></td>\n",
    "     <td style=\"text-align:left\">\n",
    "         <h3>Ejercicio 1. Crea tu clase coche</h3>\n",
    "\n",
    "Crea tu propia clase coche a partir de la que acabamos de ver. La clase coche tiene que llevar un par de atributos comunes a todos los coches, y otros tres que los introduciremos mediante el constructor.\n",
    "         \n",
    " </td></tr>\n",
    "</table>"
   ]
  },
  {
   "cell_type": "code",
   "execution_count": null,
   "metadata": {},
   "outputs": [
    {
     "name": "stdout",
     "output_type": "stream",
     "text": [
      "Tipo: hibrido Modelo: seat Caballos: 120\n"
     ]
    }
   ],
   "source": [
    "class Coche:\n",
    "    puertas = 4\n",
    "    pedales = 3\n",
    "    espejos = 3\n",
    "    def __init__(self,tipo,modelo,caballos):\n",
    "        self.tipo = tipo\n",
    "        self.modelo = modelo\n",
    "        self.caballos = caballos\n",
    "    def show_caracs(self):\n",
    "        return \"Tipo: \"+self.tipo + \" Modelo: \" + self.modelo +\" Caballos: \"+ self.caballos\n",
    "\n",
    "coche_Antonio = Coche(\"hibrido\",\"seat\",\"120\")\n",
    "\n",
    "print(coche_Antonio.show_caracs())\n"
   ]
  },
  {
   "cell_type": "markdown",
   "metadata": {},
   "source": [
    "## 4. Métodos\n",
    "Son funciones que podemos definir dentro de las clases. Estas funciones cambiarán el estado de algún atributo o realizarán calculos que nos sirvan de output. Un ejemplo sencillo puede ser, un método de la clase coche que saque la potencia en kilovatios, en vez de en caballos. O si tiene un estado de mantenimiento (ITV pasada o no), que modifique ese estado.\n",
    "\n",
    "El constructor es un tipo de método. La diferencia con el resto de métodos radica en su nombre, `__init__`. La sintaxis para definir los métodos es como si fuese una función. Y luego para llamar al método se utiliza `objeto.metodo(argumentos_metodo)`. Esto ya lo hemos usado anteriormente, cuando haciamos un `string.lower()`, simplemente llamábamos al método `lower()`, que no requería de argumentos, de la clase ``string()``."
   ]
  },
  {
   "cell_type": "code",
   "execution_count": null,
   "metadata": {},
   "outputs": [],
   "source": [
    "class Coche:\n",
    "    ruedas = 4\n",
    "\n",
    "    def __init__(self, marca_coche, num_puertas):\n",
    "        self.marca_coche = marca_coche\n",
    "        self.num_puertas = num_puertas\n",
    "    \n",
    "    def show_caracs(self):\n",
    "        return \"Marca: \" + self.marca_coche + \". Num Puertas: \" + str(self.num_puertas) + \". Num Ruedas: \" + str(self.ruedas)"
   ]
  },
  {
   "cell_type": "code",
   "execution_count": null,
   "metadata": {},
   "outputs": [],
   "source": [
    "# run it\n"
   ]
  },
  {
   "cell_type": "markdown",
   "metadata": {},
   "source": [
    "Fíjate que para llamar a las ruedas se usa `self`, a pesar de que no lo habíamos metido en el constructor. Así evitamos llamar a otra variable del programa que se llame *ruedas*. Nos aseguramos que son las ruedas de ese coche con el `self`."
   ]
  },
  {
   "cell_type": "markdown",
   "metadata": {},
   "source": [
    "<table align=\"left\">\n",
    " <tr><td width=\"80\"><img src=\"./img/ejercicio.png\" style=\"width:auto;height:auto\"></td>\n",
    "     <td style=\"text-align:left\">\n",
    "         <h3>Ejercicio 2. Crea nuevos métodos</h3>\n",
    "\n",
    "Crea lo siguiente en la clase coche.\n",
    "<ol>\n",
    "    <li>Introduce dos atributos nuevos en el constructor: Años desde su compra, y precio de compra.</li>\n",
    "    <li>Crea un método nuevo que calcule su precio actual. Si el coche tiene 5 años o menos, su precio será del 50% del precio de compra, en caso de que sean más años, será de un 30%</li>\n",
    "\n",
    "</ol>\n",
    " \n",
    " </td></tr>\n",
    "</table>"
   ]
  },
  {
   "cell_type": "code",
   "execution_count": null,
   "metadata": {},
   "outputs": [
    {
     "data": {
      "text/plain": [
       "'El precio actual del coche Mercedes es de 13500.0€'"
      ]
     },
     "execution_count": 41,
     "metadata": {},
     "output_type": "execute_result"
    }
   ],
   "source": [
    "\n",
    "class Coche:\n",
    "    ruedas = 4\n",
    "\n",
    "    def __init__(self, marca_coche, num_puertas, año_compra, precio_compra):\n",
    "        self.marca_coche = marca_coche\n",
    "        self.num_puertas = num_puertas\n",
    "        self.año_compra = año_compra\n",
    "        self.precio_compra = precio_compra\n",
    "    \n",
    "    def show_caracs(self):\n",
    "        return \"Marca: \" + self.marca_coche + \". Num Puertas: \" + str(self.num_puertas) + \". Num Ruedas: \" + str(self.ruedas)\n",
    "    \n",
    "    def calcular_precio(self):\n",
    "        if 2024-self.año_compra <=5:\n",
    "            return f\"El precio actual del coche {self.marca_coche} es de {self.precio_compra * 0.5}€\"\n",
    "        else :\n",
    "            return f\"El precio actual del coche {self.marca_coche} es de {self.precio_compra * 0.3}€\"\n",
    "        \n",
    "cocheNuevo = Coche(\"Mercedes\", 4, 2018, 45000)\n",
    "\n",
    "cocheNuevo.calcular_precio()\n"
   ]
  },
  {
   "cell_type": "markdown",
   "metadata": {},
   "source": [
    "## 5. Documentación\n",
    "Al igual que con las funciones, en las clases también podemos documentar con el método *built-in* `__doc__`. Es un método de `class`. Por tanto, podremos poner al principio de la clase una documentación con todo lo que hace esta clase. Ocurre lo mismo con los métodos de la clase. Se recomienda dar una breve definición de las funcionalidades de las clases/métodos y describir cómo son las entradas y salidas de los métodos. Qué espera recibir y de qué tipo."
   ]
  },
  {
   "cell_type": "code",
   "execution_count": null,
   "metadata": {},
   "outputs": [
    {
     "name": "stdout",
     "output_type": "stream",
     "text": [
      "\n",
      "    Clase coche utilizada como ejemplo para la clase\n",
      "    Parameters:\n",
      "        marca_coche: distingue el fabricante del coche\n",
      "        num_puertas: hay coches de 2 y 4 puertas\n",
      "    \n",
      "\n",
      "        Documentacion del init\n",
      "        \n"
     ]
    }
   ],
   "source": [
    "class Coche:\n",
    "    '''\n",
    "    Clase coche utilizada como ejemplo para la clase\n",
    "    Parameters:\n",
    "        marca_coche: distingue el fabricante del coche\n",
    "        num_puertas: hay coches de 2 y 4 puertas\n",
    "    '''\n",
    "    ruedas = 4\n",
    "    \n",
    "    def __init__(self, marca_coche, num_puertas):\n",
    "        '''\n",
    "        Documentacion del init\n",
    "        '''\n",
    "        self.marca_coche = marca_coche\n",
    "        self.num_puertas = num_puertas\n",
    "\n",
    "print(Coche.__doc__)\n",
    "print(Coche.__init__.__doc__)"
   ]
  },
  {
   "cell_type": "markdown",
   "metadata": {},
   "source": [
    "<table align=\"left\">\n",
    " <tr><td width=\"80\"><img src=\"./img/ejercicio.png\" style=\"width:auto;height:auto\"></td>\n",
    "     <td style=\"text-align:left\">\n",
    "         <h3>Ejercicio 3. Crea tu clase coche</h3>\n",
    "\n",
    "Crea la clase Coche que contenga las siguientes propiedades:\n",
    "\n",
    "- ``matrícula`` (string)\n",
    "- ``marca`` (string)\n",
    "- ``kilometros_recorridos`` (float)\n",
    "- ``gasolina`` (float)\n",
    "\n",
    "La clase tendrá un método llamado ``avanzar()`` que recibirá como argumento el número de kilómetros a conducir y sumará los kilómetros recorridos al valor de la propiedad ``kilometros_recorridos``. El método también restará al valor de ``gasolina`` el resultado de los kilómetros multiplicado por 0'1. La clase también contendrá otro método llamado ``repostar()`` que recibirá como argumento los litros introducidos que deberán sumarse a la variable ``gasolina``. Por último, será necesario controlar que el método avanzar nunca obtendrá un número negativo en la gasolina. En dicho caso, deberá mostrar el siguiente mensaje: ``\"Es necesario repostar para recorrer la cantidad indicada de kilómetros\"``.     \n",
    "\n",
    "Ejemplo:\n",
    "\n",
    "- ``avanzar(50)`` # gasolina = 50\n",
    "- ``avanzar(100)`` # kilometros_recorridos = 100, gasolina = 40\n",
    "- ``avanzar(40)`` # kilometros_recorridos = 140, gasolina = 36\n",
    "- ``avanzar(180)`` # kilometros_recorridos = 320, gasolina = 18\n",
    "\n",
    " </td></tr>\n",
    "</table>"
   ]
  },
  {
   "cell_type": "code",
   "execution_count": null,
   "metadata": {},
   "outputs": [
    {
     "data": {
      "text/plain": [
       "'\\n        Este metodo se usa para repostar el coche.\\n\\n        Parametros:\\n            litros: litros que se van a repostar\\n\\n        Funcionamiento:\\n            Se suman los litros a la gasolina del coche\\n        '"
      ]
     },
     "execution_count": 8,
     "metadata": {},
     "output_type": "execute_result"
    }
   ],
   "source": [
    "class Coche:\n",
    "    '''\n",
    "    Clase coche utilizada como ejemplo para la clase\n",
    "    Parameters:\n",
    "        matricula: la matricula del coche\n",
    "        marca: la marca del coche\n",
    "        kilometros_recorridos: los kilometros que ha recorrido el coche\n",
    "        gasolina: la gasolina que tiene el coche\n",
    "\n",
    "    Methods:\n",
    "        avanzar()\n",
    "        repostar()\n",
    "    '''\n",
    "    def __init__(self, matricula, marca, kilometros_recorridos, gasolina):\n",
    "        self.matricula = matricula\n",
    "        self.marca = marca\n",
    "        self.kilometros_recorridos = kilometros_recorridos\n",
    "        self.gasolina = gasolina\n",
    "    \n",
    "    def avanzar(self, kilometros_a_conducir):\n",
    "        '''\n",
    "        Este metodo se usa para avanzar con el coche los kilometros introducidos como parametro\n",
    "\n",
    "        Parametros:\n",
    "            kilometros_a_conducir: los kilometros que quieres conducir con el coche\n",
    "        \n",
    "        Funcionamiento:\n",
    "            Para calcular la gasolina que se va a usar en el recorrido, se multiplica los kilometros\n",
    "            a conducir por 0.1\n",
    "\n",
    "            Si la gasolina que se va a usar, es mayor que la que tiene el coche, se muestra un mensaje.\n",
    "            En caso de que la gasolina de para el viaje, se suman los kilometros a recorrer a los kilometros\n",
    "            actuales del coche, y también se resta la gasolina usada a la gasolina del coche.\n",
    "            \n",
    "        '''\n",
    "        if kilometros_a_conducir*0.1 < self.gasolina:\n",
    "            self.kilometros_recorridos+=kilometros_a_conducir\n",
    "            self.gasolina-= kilometros_a_conducir*0.1\n",
    "        else:\n",
    "            print(\"Es neceesario repostar para recorrer la cantidad indicada de kilometros\")\n",
    "    \n",
    "    def repostar(self, litros):\n",
    "        '''\n",
    "        Este metodo se usa para repostar el coche.\n",
    "\n",
    "        Parametros:\n",
    "            litros: litros que se van a repostar\n",
    "\n",
    "        Funcionamiento:\n",
    "            Se suman los litros a la gasolina del coche\n",
    "        '''\n",
    "        self.gasolina+=litros\n",
    "\n",
    "coche = Coche(\"1234ABC\", \"Porsche\", 9800, 50)\n",
    "coche.avanzar(50)\n",
    "coche.avanzar(100)\n",
    "coche.avanzar(40)\n",
    "coche.avanzar(180)\n",
    "coche.gasolina\n",
    "\n",
    "coche.repostar.__doc__"
   ]
  },
  {
   "cell_type": "markdown",
   "metadata": {},
   "source": [
    "<table align=\"left\">\n",
    " <tr><td width=\"80\"><img src=\"./img/ejercicio.png\" style=\"width:auto;height:auto\"></td>\n",
    "     <td style=\"text-align:left\">\n",
    "         <h3>Ejercicio 4. Crea tu clase robot</h3>\n",
    "\n",
    "Crea una clase ``Robot`` que simule los movimientos de un robot y calcule la posición en la que se encuentra cada momento. El robot se moverá por un tablero infinito de coordenadas X e Y, podrá realizar los siguientes movimientos:\n",
    "\n",
    "- Avanzar hacia adelante (A)\n",
    "- Retroceder (R)\n",
    "- Avanzar hacia la izquierda (I) o hacia la derecha (D)\n",
    "\n",
    "El robot tendrá un método llamado ``mueve()`` que recibirá la orden como parámetro y otro método, ``posicion_actual()``, que indicará su posición en las coordenadas X e Y. Al crear el robot este se inicializará a las coordenadas (0,0).\n",
    "\n",
    "Puedes utilizar el siguiente código para probar la clase creada:\n",
    "\n",
    "``\n",
    "    miRobot = Robot()\n",
    "\n",
    "    orden = \"A\"\n",
    "\n",
    "    while orden != 'fin':\n",
    "\n",
    "        orden = input(\"Introduce la orden: \")\n",
    "\n",
    "        miRobot.mueve(orden)\n",
    "\n",
    "        print(miRobot.posicion_actual())\n",
    "``\n",
    "\n",
    "Ejemplo:\n",
    "\n",
    "- Introduce la orden: A #Posición actual: 1,0\n",
    "\n",
    "- Introduce la orden: A #Posición actual: 2,0\n",
    "\n",
    "- Introduce la orden: I #Posición actual: 2,-1\n",
    "\n",
    " </td></tr>\n",
    "</table>"
   ]
  },
  {
   "cell_type": "code",
   "execution_count": 12,
   "metadata": {},
   "outputs": [
    {
     "name": "stdout",
     "output_type": "stream",
     "text": [
      "(0, 1)\n",
      "(1, 1)\n",
      "(0, 1)\n",
      "(-1, 1)\n",
      "(-1, 2)\n",
      "(-1, 1)\n",
      "(0, 1)\n",
      "(1, 1)\n",
      "(1, 1)\n"
     ]
    }
   ],
   "source": [
    "class Robot:\n",
    "    \"\"\"\n",
    "    Atributos:\n",
    "        y: representa la altura de la posicion del robot\n",
    "        x: representa la longitud de la posicion del robot\n",
    "\n",
    "    Metodos:\n",
    "        mueve\n",
    "    \"\"\"\n",
    "\n",
    "    def __init__(self):\n",
    "        self.y = 0\n",
    "        self.x = 0\n",
    "\n",
    "    def mueve(self,orden):\n",
    "        if orden == 'A':\n",
    "            self.y +=1\n",
    "        elif orden == 'R':\n",
    "            self.y -=1\n",
    "        elif orden == 'I':\n",
    "            self.x -=1\n",
    "        elif orden == 'D':\n",
    "            self.x +=1  \n",
    "\n",
    "\n",
    "    def posicion_actual(self):\n",
    "        return self.x, self.y\n",
    "\n",
    "\n",
    "miRobot = Robot()\n",
    "orden = \"A\"\n",
    "while orden != 'fin':\n",
    "    orden = input(\"Introduce la orden: \")\n",
    "    miRobot.mueve(orden)\n",
    "    print(miRobot.posicion_actual())\n",
    "\n"
   ]
  },
  {
   "cell_type": "markdown",
   "metadata": {},
   "source": [
    "<table align=\"left\">\n",
    " <tr><td width=\"80\"><img src=\"./img/ejercicio.png\" style=\"width:auto;height:auto\"></td>\n",
    "     <td style=\"text-align:left\">\n",
    "         <h3>Ejercicio 5. Crea tu clase robot v2.0</h3>\n",
    "\n",
    "Mejora el ejercicio anterior de forma que el robot pueda recibir una secuencia de movimientos. Por ejemplo:\n",
    "\n",
    "mueve(\"AADDADIR\")\n",
    "También deberá tener otros dos métodos: uno que devuelva todas las órdenes recibidas y otro capaz de listar los movimientos necesarios para volver a la posición inicial (0,0).\n",
    "\n",
    "Aquí tienes un ejemplo de una posible ejecución del programa:\n",
    "\n",
    "- Introduce la orden: AADAD #Posición actual: 3,2\n",
    "- Introduce la orden: IAADR #Posición actual: 4,2\n",
    "- Introduce la orden: fin# Posición actual: 4,2\n",
    "\n",
    "\n",
    " </td></tr>\n",
    "</table>"
   ]
  },
  {
   "cell_type": "code",
   "execution_count": 8,
   "metadata": {},
   "outputs": [
    {
     "name": "stdout",
     "output_type": "stream",
     "text": [
      "Posición actual: (2, 2)\n",
      "Todas las órdenes recibidas: AADDADIR\n",
      "Movimientos para volver a la posición inicial: IIRR\n"
     ]
    }
   ],
   "source": [
    "class Robot:\n",
    "    \"\"\"\n",
    "    Esta clase representa un robot en un plano bidimensional.\n",
    "\n",
    "    Atributos:\n",
    "    - y (int): Representa la coordenada vertical (altura) del robot.\n",
    "    - x (int): Representa la coordenada horizontal (longitud) del robot.\n",
    "    - ordenes (list): Almacena todas las órdenes recibidas por el robot.\n",
    "\n",
    "    Métodos:\n",
    "    - mover(secuencia): Mueve el robot de acuerdo a una secuencia de órdenes.\n",
    "    - posicion_actual(): Devuelve la posición actual del robot como una tupla (x, y).\n",
    "    - get_ordenes(): Devuelve todas las órdenes recibidas por el robot como una cadena.\n",
    "    - movimientos_para_volver(): Calcula los movimientos necesarios para volver a la posición inicial (0, 0).\n",
    "    \"\"\"\n",
    "\n",
    "    def __init__(self):\n",
    "        self.y = 0\n",
    "        self.x = 0\n",
    "        self.ordenes = []\n",
    "\n",
    "    def mover(self, secuencia):\n",
    "        \"\"\"\n",
    "        Mueve el robot de acuerdo a una secuencia de órdenes.\n",
    "\n",
    "        Parámetros:\n",
    "        - secuencia (str): Una cadena que representa la secuencia de órdenes. Puede contener 'A', 'R', 'I' o 'D'.\n",
    "        \"\"\"\n",
    "        for orden in secuencia:\n",
    "            if orden == 'A':\n",
    "                self.y += 1\n",
    "            elif orden == 'R':\n",
    "                self.y -= 1\n",
    "            elif orden == 'I':\n",
    "                self.x -= 1\n",
    "            elif orden == 'D':\n",
    "                self.x += 1\n",
    "            self.ordenes.append(orden)\n",
    "\n",
    "    def posicion_actual(self):\n",
    "        \"\"\"\n",
    "        Devuelve la posición actual del robot como una tupla (x, y).\n",
    "\n",
    "        Retorna:\n",
    "        - tuple: Una tupla que contiene las coordenadas (x, y) del robot.\n",
    "        \"\"\"\n",
    "        return self.y, self.x\n",
    "\n",
    "    def get_ordenes(self):\n",
    "        \"\"\"\n",
    "        Devuelve todas las órdenes recibidas por el robot como una cadena.\n",
    "\n",
    "        Retorna:\n",
    "        - str: Una cadena que contiene todas las órdenes recibidas por el robot.\n",
    "        \"\"\"\n",
    "        return ''.join(self.ordenes)\n",
    "\n",
    "    def movimientos_para_volver(self):\n",
    "        \"\"\"\n",
    "        Calcula los movimientos necesarios para volver a la posición inicial (0, 0).\n",
    "\n",
    "        Retorna:\n",
    "        - str: Una cadena que representa los movimientos necesarios para volver a la posición inicial.\n",
    "        \"\"\"\n",
    "        movimientos_x = 'I' * self.x if self.x > 0 else 'D' * abs(self.x)\n",
    "        movimientos_y = 'R' * self.y if self.y > 0 else 'A' * abs(self.y)\n",
    "        \n",
    "        return movimientos_x + movimientos_y\n",
    "    \n",
    "\n",
    "miRobot = Robot()\n",
    "movimiento = 'AADDADIR'\n",
    "\n",
    "miRobot.mover(movimiento)\n",
    "print(f\"Posición actual: {miRobot.posicion_actual()}\")\n",
    "print(f\"Todas las órdenes recibidas: {miRobot.get_ordenes()}\")\n",
    "print(f\"Movimientos para volver a la posición inicial: {miRobot.movimientos_para_volver()}\")\n"
   ]
  },
  {
   "cell_type": "markdown",
   "metadata": {},
   "source": [
    "<table align=\"left\">\n",
    " <tr><td width=\"80\"><img src=\"./img/ejercicio.png\" style=\"width:auto;height:auto\"></td>\n",
    "     <td style=\"text-align:left\">\n",
    "         <h3>Ejercicio 6. Crea tu clase triangulo</h3>\n",
    "\n",
    "Crea la clase Triangulo que almacene la longitud de cada uno de sus lados. Deberá contener los siguientes métodos:\n",
    "\n",
    "- ``area()``: devuelve el área del triángulo\n",
    "- ``forma()``: indica si se trata de un triángulo equilátero, isósceles o irregular.\n",
    "- ``perímetro()``: devuelve el perímetro del triángulo.\n",
    "\n",
    "\n",
    " </td></tr>\n",
    "</table>"
   ]
  },
  {
   "cell_type": "code",
   "execution_count": null,
   "metadata": {},
   "outputs": [],
   "source": []
  },
  {
   "cell_type": "markdown",
   "metadata": {},
   "source": [
    "## 6. Herencias"
   ]
  },
  {
   "cell_type": "code",
   "execution_count": 25,
   "metadata": {},
   "outputs": [],
   "source": [
    "# A partir de la clase Coche\n",
    "\n",
    "class Coche:\n",
    "    puertas = 4\n",
    "    pedales = 3\n",
    "    espejos = 3\n",
    "    def __init__(self,tipo,modelo,caballos):\n",
    "        self.tipo = tipo\n",
    "        self.modelo = modelo\n",
    "        self.caballos = caballos\n",
    "    def show_caracs(self):\n",
    "        return \"Tipo: \"+self.tipo + \" Modelo: \" + self.modelo +\" Caballos: \"+ self.caballos"
   ]
  },
  {
   "cell_type": "code",
   "execution_count": 33,
   "metadata": {},
   "outputs": [],
   "source": [
    "class CocheVolador(Coche):\n",
    "    ruedas = 6\n",
    "\n",
    "    def __init__(self, tipo, modelo, caballos, volando=False):\n",
    "        super().__init__(tipo, modelo, caballos)  # Llamamos al constructor de la clase padre\n",
    "        self.volando = volando\n",
    "\n",
    "    def vuela(self):\n",
    "        self.volando = True\n",
    "        \n",
    "    def aterriza(self):\n",
    "        self.volando = False"
   ]
  },
  {
   "cell_type": "code",
   "execution_count": 20,
   "metadata": {},
   "outputs": [
    {
     "name": "stdout",
     "output_type": "stream",
     "text": [
      "(<class '__main__.Coche'>,)\n"
     ]
    }
   ],
   "source": [
    "# Podemos ver de cuál hereda con un print(__bases__)\n",
    "\n",
    "print(CocheVolador.__bases__)"
   ]
  },
  {
   "cell_type": "code",
   "execution_count": 34,
   "metadata": {},
   "outputs": [
    {
     "name": "stdout",
     "output_type": "stream",
     "text": [
      "4\n",
      "6\n",
      "Tipo: 1234ABC Modelo: Porsche Caballos: 9800\n"
     ]
    }
   ],
   "source": [
    "mi_coche_volador = CocheVolador(\"1234ABC\", \"Porsche\", '9800', True)\n",
    "print(mi_coche_volador.puertas)\n",
    "print(mi_coche_volador.ruedas)\n",
    "print(mi_coche_volador.show_caracs())"
   ]
  },
  {
   "cell_type": "code",
   "execution_count": 33,
   "metadata": {},
   "outputs": [
    {
     "name": "stdout",
     "output_type": "stream",
     "text": [
      "False\n",
      "True\n",
      "False\n"
     ]
    }
   ],
   "source": [
    "print(mi_coche_volador.volando)\n",
    "mi_coche_volador.vuela()\n",
    "print(mi_coche_volador.volando)\n",
    "mi_coche_volador.aterriza()\n",
    "print(mi_coche_volador.volando)"
   ]
  },
  {
   "cell_type": "markdown",
   "metadata": {},
   "source": [
    "<table align=\"left\">\n",
    " <tr><td width=\"80\"><img src=\"./img/ejercicio.png\" style=\"width:auto;height:auto\"></td>\n",
    "     <td style=\"text-align:left\">\n",
    "         <h3>Ejercicio 7. Herencias</h3>\n",
    "\n",
    "En el ``ejercicio 6`` creaste la clase ``Triangulo`` que almacene la longitud de cada uno de los lados d eun triángulo. Crea una subclase, o una clase hija, que se llame ``InvestInThisTriangle``.  Se trata de una herramienta para inversores, que reciba commo argumento el tipo de suelo ``soil_type`` (booleano que diga si es urbano o no) y que tenga un método que se llame ``value``, el cual debe calcular cuanto cuesta invertir en una parcela. Este método solamente debe ejecutarse si el suelo es urbano, y debe recibir un argumento que sea el precio del metro cuadrado ``price`` (float), debe calcular el precio a partir del área de la clase padre.\n",
    "\n",
    " </td></tr>\n",
    "</table>"
   ]
  },
  {
   "cell_type": "code",
   "execution_count": null,
   "metadata": {},
   "outputs": [],
   "source": []
  },
  {
   "cell_type": "markdown",
   "metadata": {},
   "source": [
    "## 7. Privados y protegidos\n",
    "\n",
    "A diferencia de otros lenguajes de Programación Orientada a Objetos, todos los métodos y atributos en Python son públicos. Es decir, no es posible definir una variable como ``private`` o ``protected``.\n",
    "\n",
    "Es una forma de esconder variables. Esto tiene sentido ya que ayuda a proteger los detalles internos de un objeto y protegerlos del mundo exterior. Por tanto, utilizando variables privadas y protegidas un desarrollador puede controlar la visibilidad de los mismos. Además, estas variables ayudan a que un objeto sea más fácil de utilizar y un usario no pueda modificarlos sin querer.\n",
    "\n",
    "Existe una convención de añadir como prefijo un guión bajo (_) a los atributos que consideramos como protected y dos guiones bajos (__) a las variables que consideramos private.\n",
    "\n",
    "- Los atributos privados deben ser utilizados únicamente dentro de la clase y no se pueden acceder desde fuera de la misma. De esta forma, se prevée cambios accidentales de estas variables."
   ]
  },
  {
   "cell_type": "code",
   "execution_count": 46,
   "metadata": {},
   "outputs": [],
   "source": [
    "class Persona:\n",
    "    def __init__(self, nombre, edad):\n",
    "        self.nombre = nombre \n",
    "        self.edad = edad \n",
    "        self.__codigoSeguridadSocial = '95040592895KFR'"
   ]
  },
  {
   "cell_type": "code",
   "execution_count": 36,
   "metadata": {},
   "outputs": [
    {
     "ename": "AttributeError",
     "evalue": "'Persona' object has no attribute '__codigoSeguridadSocial'",
     "output_type": "error",
     "traceback": [
      "\u001b[1;31m---------------------------------------------------------------------------\u001b[0m",
      "\u001b[1;31mAttributeError\u001b[0m                            Traceback (most recent call last)",
      "\u001b[1;32m~\\AppData\\Local\\Temp\\ipykernel_10828\\815795774.py\u001b[0m in \u001b[0;36m<module>\u001b[1;34m\u001b[0m\n\u001b[0;32m      1\u001b[0m \u001b[0mpersona_1\u001b[0m \u001b[1;33m=\u001b[0m \u001b[0mPersona\u001b[0m\u001b[1;33m(\u001b[0m\u001b[1;34m'John Doe'\u001b[0m\u001b[1;33m,\u001b[0m \u001b[1;36m30\u001b[0m\u001b[1;33m)\u001b[0m\u001b[1;33m\u001b[0m\u001b[1;33m\u001b[0m\u001b[0m\n\u001b[1;32m----> 2\u001b[1;33m \u001b[0mprint\u001b[0m\u001b[1;33m(\u001b[0m\u001b[0mpersona_1\u001b[0m\u001b[1;33m.\u001b[0m\u001b[0m__codigoSeguridadSocial\u001b[0m\u001b[1;33m)\u001b[0m  \u001b[1;31m# AttributeError: 'Person' object has no attribute '__private_attribute'\u001b[0m\u001b[1;33m\u001b[0m\u001b[1;33m\u001b[0m\u001b[0m\n\u001b[0m",
      "\u001b[1;31mAttributeError\u001b[0m: 'Persona' object has no attribute '__codigoSeguridadSocial'"
     ]
    }
   ],
   "source": [
    "persona_1 = Persona('John Doe', 30)\n",
    "print(persona_1.__codigoSeguridadSocial)  # AttributeError: 'Person' object has no attribute '__private_attribute'"
   ]
  },
  {
   "cell_type": "markdown",
   "metadata": {},
   "source": [
    "Una forma de saltarse este error sería mediante un método, ya que la variable seguiría protegida."
   ]
  },
  {
   "cell_type": "code",
   "execution_count": 41,
   "metadata": {},
   "outputs": [],
   "source": [
    "class Persona:\n",
    "    def __init__(self, nombre, edad):\n",
    "        self.nombre = nombre  \n",
    "        self.edad = edad\n",
    "        self.__codigoSeguridadSocial = '95040592895KFR'\n",
    "\n",
    "    def obtener_numero_seguridad_social(self):\n",
    "        return self.__codigoSeguridadSocial"
   ]
  },
  {
   "cell_type": "code",
   "execution_count": 42,
   "metadata": {},
   "outputs": [
    {
     "name": "stdout",
     "output_type": "stream",
     "text": [
      "95040592895KFR\n"
     ]
    }
   ],
   "source": [
    "persona_1 = Persona('John Doe', 30)\n",
    "ss = persona_1.obtener_numero_seguridad_social()\n",
    "print(ss) "
   ]
  },
  {
   "cell_type": "markdown",
   "metadata": {},
   "source": [
    "- Los atributos protegidos son muy similares a los atributos privados. Sin embargo, a diferencia de estos últimos, los atributos protegidos pueden ser accedidos desde subclases"
   ]
  },
  {
   "cell_type": "code",
   "execution_count": 44,
   "metadata": {},
   "outputs": [],
   "source": [
    "class Persona:\n",
    "    def __init__(self, nombre, edad):\n",
    "        self.nombre = nombre   \n",
    "        self.edad = edad \n",
    "        self.__codigoSeguridadSocial = '95040592895KFR' # atributo protected\n",
    "        self._address = 'Avenida de Logroño 33' # atributo private\n",
    "\n",
    "class Base_de_datos_de_policia(Persona):\n",
    "    def mostrar_direccion(self):\n",
    "        print(f'Este individuo vive en {self._address}')"
   ]
  },
  {
   "cell_type": "code",
   "execution_count": 45,
   "metadata": {},
   "outputs": [
    {
     "data": {
      "text/plain": [
       "'Avenida de Logroño 33'"
      ]
     },
     "execution_count": 45,
     "metadata": {},
     "output_type": "execute_result"
    }
   ],
   "source": [
    "sospechoso = Base_de_datos_de_policia('Alvise', 32)\n",
    "sospechoso._address"
   ]
  },
  {
   "cell_type": "code",
   "execution_count": 33,
   "metadata": {},
   "outputs": [
    {
     "name": "stdout",
     "output_type": "stream",
     "text": [
      "Este individuo vive en Avenida de Logroño 33\n"
     ]
    }
   ],
   "source": [
    "sospechoso.mostrar_direccion()"
   ]
  },
  {
   "cell_type": "markdown",
   "metadata": {},
   "source": [
    "Otro ejemplo, si tienes una clase Persona con un atributo edad, no querrás que alguien pueda establecer la edad de una persona en un valor negativo. Al hacer que el atributo edad sea protegido, puedes agregar una validación en el método set_edad para asegurarte de que la edad siempre sea un número positivo."
   ]
  },
  {
   "cell_type": "code",
   "execution_count": 6,
   "metadata": {},
   "outputs": [
    {
     "name": "stdout",
     "output_type": "stream",
     "text": [
      "30\n",
      "La edad debe ser un número positivo.\n",
      "30\n"
     ]
    }
   ],
   "source": [
    "class Persona:\n",
    "    def __init__(self, nombre, edad):\n",
    "        self.nombre = nombre\n",
    "        self.__edad = edad\n",
    "    \n",
    "    def get_edad(self):\n",
    "        return self.__edad\n",
    "    \n",
    "    def set_edad(self, edad):\n",
    "        if edad >= 0:\n",
    "            self.__edad = edad\n",
    "        else:\n",
    "            print(\"La edad debe ser un número positivo.\")\n",
    "    \n",
    "p = Persona(\"Juan\", 30)\n",
    "print(p.get_edad()) # Output: 30\n",
    "p.set_edad(-10) # Output: \"La edad debe ser un número positivo.\"\n",
    "print(p.get_edad()) # Output: 30\n"
   ]
  },
  {
   "cell_type": "markdown",
   "metadata": {},
   "source": [
    "Además, también hay métodos protegidos, los cuales también empiezan por dos guiones bajos (__). Estos métodos están pensados para usarse únicamente dentro de la clase."
   ]
  },
  {
   "cell_type": "code",
   "execution_count": 36,
   "metadata": {},
   "outputs": [
    {
     "ename": "AttributeError",
     "evalue": "'Person' object has no attribute '__check_for_mistakes_in_name'",
     "output_type": "error",
     "traceback": [
      "\u001b[1;31m---------------------------------------------------------------------------\u001b[0m",
      "\u001b[1;31mAttributeError\u001b[0m                            Traceback (most recent call last)",
      "\u001b[1;32m~\\AppData\\Local\\Temp\\ipykernel_7656\\3951402467.py\u001b[0m in \u001b[0;36m<module>\u001b[1;34m\u001b[0m\n\u001b[0;32m     11\u001b[0m \u001b[1;33m\u001b[0m\u001b[0m\n\u001b[0;32m     12\u001b[0m \u001b[0mperson\u001b[0m \u001b[1;33m=\u001b[0m \u001b[0mPerson\u001b[0m\u001b[1;33m(\u001b[0m\u001b[1;34m'John Doe'\u001b[0m\u001b[1;33m,\u001b[0m \u001b[1;36m30\u001b[0m\u001b[1;33m)\u001b[0m\u001b[1;33m\u001b[0m\u001b[1;33m\u001b[0m\u001b[0m\n\u001b[1;32m---> 13\u001b[1;33m \u001b[0mperson\u001b[0m\u001b[1;33m.\u001b[0m\u001b[0m__check_for_mistakes_in_name\u001b[0m\u001b[1;33m(\u001b[0m\u001b[1;33m)\u001b[0m  \u001b[1;31m# AttributeError: 'Person' object has no attribute '__check_for_mistakes_in_name'\u001b[0m\u001b[1;33m\u001b[0m\u001b[1;33m\u001b[0m\u001b[0m\n\u001b[0m",
      "\u001b[1;31mAttributeError\u001b[0m: 'Person' object has no attribute '__check_for_mistakes_in_name'"
     ]
    }
   ],
   "source": [
    "class Person:\n",
    "    def __init__(self, name, age):\n",
    "        self.name = name\n",
    "        self.age = age\n",
    "    \n",
    "    def __check_for_mistakes_in_name(self):\n",
    "        if self.name.isdigit():\n",
    "            # Whatever\n",
    "            pass\n",
    "        \n",
    "\n",
    "person = Person('John Doe', 30)\n",
    "person.__check_for_mistakes_in_name()  # AttributeError: 'Person' object has no attribute '__check_for_mistakes_in_name'"
   ]
  },
  {
   "cell_type": "markdown",
   "metadata": {},
   "source": [
    "También hay métodos privados, los cuales si que pueden usarse dentro de subclases."
   ]
  },
  {
   "cell_type": "code",
   "execution_count": 38,
   "metadata": {},
   "outputs": [
    {
     "name": "stdout",
     "output_type": "stream",
     "text": [
      "Python executed\n",
      "Python executed\n"
     ]
    }
   ],
   "source": [
    "class Person:\n",
    "    def __init__(self, name, age):\n",
    "        self.name = name\n",
    "        self.age = age\n",
    "    \n",
    "    def _protected_method(self):\n",
    "        print('Python executed')\n",
    "\n",
    "\n",
    "class Employee(Person):\n",
    "    def display_protected_method(self):\n",
    "        self._protected_method()\n",
    "\n",
    "\n",
    "employee = Employee('Jane Doe', 25)\n",
    "employee.display_protected_method()  # This is a private method.\n",
    "employee._protected_method()         # This is a private method."
   ]
  },
  {
   "cell_type": "markdown",
   "metadata": {},
   "source": [
    "__En definitiva__,nada en Python es verdaderamente privado; internamente, los nombres de los métodos y atributos privados son modificados y desmodificados sobre la marcha para hacer que parezcan inaccesibles por sus nombres dados.\n",
    "\n",
    "- Privado: Prefijo de un guión bajo (_). Convención de no invocar desde fuera de la clase.\n",
    "\n",
    "- Protegido: Prefijo de dos guiones bajos (__). Convención y alguna restricción para no llamar directamente desde fuera de la clase.\n"
   ]
  },
  {
   "cell_type": "markdown",
   "metadata": {},
   "source": [
    "<table align=\"left\">\n",
    " <tr><td width=\"80\"><img src=\"./img/ejercicio.png\" style=\"width:auto;height:auto\"></td>\n",
    "     <td style=\"text-align:left\">\n",
    "         <h3>Ejercicio 8. Métodos protegidos</h3>\n",
    "\n",
    "Crea una clase que permita a un usuario guardar sus datos de registro en una app. Esta clase ``RegisterUser``, debe recibir como argumentos ``nid``, ``alias``, ``nombre``, ``apellidos``, ``password``. Guarda la ``password`` en una variable protegida. \n",
    "\n",
    "Accede a la variable ``password``.\n",
    "\n",
    " </td></tr>\n",
    "</table>"
   ]
  },
  {
   "cell_type": "code",
   "execution_count": null,
   "metadata": {},
   "outputs": [],
   "source": []
  },
  {
   "cell_type": "markdown",
   "metadata": {},
   "source": [
    "## 8. Resumen\n"
   ]
  },
  {
   "cell_type": "code",
   "execution_count": null,
   "metadata": {},
   "outputs": [],
   "source": [
    "# Las clases se declaran con la siguiente sintaxis\n",
    "class Coche:\n",
    "    # Estos son los atributos comunes a los objetos de esta clase\n",
    "    ruedas = 4\n",
    "    puertas = 4\n",
    "    # Constructor de la clase\n",
    "    def __init__(self, marca_coche, num_puertas):\n",
    "        # Atributos particulares de cada instancia\n",
    "        self.marca_coche = marca_coche\n",
    "        self.num_puertas = num_puertas\n",
    "    \n",
    "    # Metodo propio de esta clase\n",
    "    def caracteristicas(self):\n",
    "        return \"Marca: \" + self.marca_coche + \". Num Puertas: \" + str(self.num_puertas) + \". Num Ruedas: \" + str(self.ruedas)\n",
    "    \n",
    "    def show_ruedas(self):\n",
    "        return self.ruedas\n",
    "\n",
    "audi = Coche(\"Audi\", 2)\n",
    "print(audi.ruedas)\n",
    "print(audi.marca_coche)\n",
    "print(audi.num_puertas)\n",
    "print(audi.caracteristicas())"
   ]
  }
 ],
 "metadata": {
  "interpreter": {
   "hash": "7c77fdb427e7cbc9bc1367dd530fc2b36aacdbbde1ac83c85833b10dfa8b831c"
  },
  "kernelspec": {
   "display_name": "Python 3.7.4 64-bit",
   "name": "python3"
  },
  "language_info": {
   "codemirror_mode": {
    "name": "ipython",
    "version": 3
   },
   "file_extension": ".py",
   "mimetype": "text/x-python",
   "name": "python",
   "nbconvert_exporter": "python",
   "pygments_lexer": "ipython3",
   "version": "3.7.4"
  }
 },
 "nbformat": 4,
 "nbformat_minor": 4
}
