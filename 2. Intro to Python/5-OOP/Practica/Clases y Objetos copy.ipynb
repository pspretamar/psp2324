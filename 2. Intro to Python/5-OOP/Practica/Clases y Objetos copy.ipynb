{
 "cells": [
  {
   "cell_type": "markdown",
   "metadata": {},
   "source": [
    "# Ejercicios de Clases y Objetos\n",
    "\n",
    "----\n",
    "\n",
    "Este examen se evaluará de tal forma que se vea la maestría del alumno sobre Python. Esto se ve no solamente con el código bien elaborado, sino con comentarios sobre el código. Se debe demostrar los conocimientos adquiridos en clase.\n",
    "\n",
    "Se evaluará:\n",
    "- Que se haya llegado a una solución (50%)\n",
    "- Que se haya llegado a soluciones creativas, no en todas las preguntas, sino en aquellas en las que sea apropiado, mostrando una forma alternativa de resolver un apartado (20%)\n",
    "- Que se haya resuelto únicamente de una forma no vista en clase (-30%)\n",
    "- Documentación de las clases y funciones (30%)\n",
    "\n",
    "Acuérdate que solo se aceptan entregas en formato html"
   ]
  },
  {
   "cell_type": "markdown",
   "metadata": {},
   "source": [
    "![imagen](./img/ejercicios.png)\n"
   ]
  },
  {
   "cell_type": "markdown",
   "metadata": {},
   "source": [
    "## Ejercicio 1A\n",
    "\n",
    "Crea una clase de Python llamado ``Automovil`` que contenga, como atributos,  ``velocidad_max``, ``marca``, ``combustible`` y ``kilometraje``. Esta clase la utilizará una API de una tienda online de coches de segunda mano, de tal forma que la persona que quiera vender su coche tenga que introducir estos parámetros cuando ponga su coche a la venta en dicha plataforma."
   ]
  },
  {
   "cell_type": "code",
   "execution_count": 100,
   "metadata": {},
   "outputs": [],
   "source": [
    "class Automovil:\n",
    "    \"\"\"\n",
    "    Clase que representa un automóvil.\n",
    "\n",
    "    Atributos:\n",
    "    - velocidad_max (int): La velocidad máxima del automóvil en kilómetros por hora.\n",
    "    - marca (str): La marca del automóvil.\n",
    "    - combustible (str): Tipo de combustible que utiliza el automóvil.\n",
    "    - kilometraje (float): La cantidad de kilómetros recorridos por el automóvil.\n",
    "    \"\"\"\n",
    "    def __init__(self, velocidad_max: int, marca: str, combustible: str, kilometraje: float):\n",
    "        self.velocidad_max = velocidad_max\n",
    "        self.marca = marca\n",
    "        self.combustible = combustible\n",
    "        self.kilometraje = kilometraje"
   ]
  },
  {
   "cell_type": "markdown",
   "metadata": {},
   "source": [
    "Una vez creada tu clase, llámala introduciendo los datos de un coche. Por ej: un Jaguar, con velocidad máxima 375, de gasolina, y con 23.000 kilémtros de kilometraje."
   ]
  },
  {
   "cell_type": "code",
   "execution_count": 84,
   "metadata": {},
   "outputs": [
    {
     "name": "stdout",
     "output_type": "stream",
     "text": [
      "- Mi nuevo coche -\n",
      "Marca: Jaguar\n",
      "Velocidad máxima: 375 km/h\n",
      "Combustible: gasolina\n",
      "Kilometraje: 23000 km\n"
     ]
    }
   ],
   "source": [
    "coche = Automovil(velocidad_max=375, marca=\"Jaguar\", combustible=\"gasolina\", kilometraje=23000)\n",
    "\n",
    "print(\"- Mi nuevo coche -\")\n",
    "print(\"Marca:\", coche.marca)\n",
    "print(\"Velocidad máxima:\", coche.velocidad_max,\"km/h\")\n",
    "print(\"Combustible:\", coche.combustible)\n",
    "print(\"Kilometraje:\", coche.kilometraje,\"km\")"
   ]
  },
  {
   "cell_type": "markdown",
   "metadata": {},
   "source": [
    "## Ejercicio 1B\n",
    "\n",
    "Partiendo de la clase creada en el [ejercicio 1A](#ejercicio-1a), crea una clase \"hija\" llamada ``Bus``, la cual heredará todos los atributos y métodos de la clase ``Automovil``. "
   ]
  },
  {
   "cell_type": "markdown",
   "metadata": {},
   "source": [
    "Además, como eres el programador de esta tienda online de coches, necesitas añadir algún atributo que tienen los autobuses y que no tienen otros vehículos, en concreto, el atributo es ``capacidad_bus``. Por defecto, esta variable debe de tener un valor de ``50``."
   ]
  },
  {
   "cell_type": "code",
   "execution_count": 4,
   "metadata": {},
   "outputs": [],
   "source": [
    "class Bus(Automovil):\n",
    "    \"\"\"\n",
    "    Clase que representa un autobús, que es un tipo de automóvil.\n",
    "\n",
    "    Attributes:\n",
    "    - capacidad_bus (int): La capacidad máxima de pasajeros que puede transportar el autobús.\n",
    "    - velocidad_max (int): La velocidad máxima del autobús en kilómetros por hora.\n",
    "    - marca (str): La marca del autobús.\n",
    "    - combustible (str): Tipo de combustible que utiliza el autobús.\n",
    "    - kilometraje (float): La cantidad de kilómetros recorridos por el autobús.\n",
    "    \"\"\"\n",
    "    def __init__(self, velocidad_max: int, marca: str, combustible: str, kilometraje: float,capacidad_bus: int = 50):\n",
    "        super().__init__(velocidad_max, marca, combustible, kilometraje)\n",
    "        self.capacidad_bus = capacidad_bus"
   ]
  },
  {
   "cell_type": "markdown",
   "metadata": {},
   "source": [
    "Una vez creada tu clase, llámala introduciendo los datos de un autobús. Por ej: un Volvo, con velocidad máxima 180, de gasolina, con 190.000 kilémtros de kilometraje, y con una capacidad de 55 asientos."
   ]
  },
  {
   "cell_type": "code",
   "execution_count": 85,
   "metadata": {},
   "outputs": [
    {
     "name": "stdout",
     "output_type": "stream",
     "text": [
      "- Autobus de Volvo -\n",
      "Marca: Volvo\n",
      "Velocidad máxima: 180 km/h\n",
      "Combustible: gasolina\n",
      "Kilometraje: 190000 km\n",
      "Capacidad: 55 personas\n"
     ]
    }
   ],
   "source": [
    "bus = Bus(velocidad_max=180, marca=\"Volvo\", combustible=\"gasolina\", kilometraje=190000, capacidad_bus=55)\n",
    "\n",
    "print(\"- Autobus de Volvo -\")\n",
    "print(\"Marca:\", bus.marca)\n",
    "print(\"Velocidad máxima:\", bus.velocidad_max,\"km/h\")\n",
    "print(\"Combustible:\", bus.combustible)\n",
    "print(\"Kilometraje:\", bus.kilometraje,\"km\")\n",
    "print(\"Capacidad:\", bus.capacidad_bus,\"personas\")"
   ]
  },
  {
   "cell_type": "markdown",
   "metadata": {},
   "source": [
    "Crea un método para estimar el número de ventanas que tiene el autobús, sabiendo que de media hay una ventana cada 4 asientos. Este método debe llamarse ``window_estimation`` y debe devolver un una frase (un print) donde diga la estimación y el porqué. "
   ]
  },
  {
   "cell_type": "code",
   "execution_count": 86,
   "metadata": {},
   "outputs": [],
   "source": [
    "class Bus(Automovil):\n",
    "    \"\"\"\n",
    "    Clase que representa un autobús, que es un tipo de automóvil.\n",
    "\n",
    "    Attributes:\n",
    "    - capacidad_bus (int): La capacidad máxima de pasajeros que puede transportar el autobús.\n",
    "    - velocidad_max (int): La velocidad máxima del autobús en kilómetros por hora.\n",
    "    - marca (str): La marca del autobús.\n",
    "    - combustible (str): Tipo de combustible que utiliza el autobús.\n",
    "    - kilometraje (float): La cantidad de kilómetros recorridos por el autobús.\n",
    "    \"\"\"\n",
    "    def __init__(self, velocidad_max, marca, combustible, kilometraje,capacidad_bus=50):\n",
    "        super().__init__(velocidad_max, marca, combustible, kilometraje)\n",
    "        self.capacidad_bus = capacidad_bus\n",
    "\n",
    "    def window_estimation(self):\n",
    "        \"\"\"\n",
    "        Función que estima la cantidad de ventanas que tiene el autobús.\n",
    "\n",
    "        Returns:\n",
    "        - int: La cantidad aproximada de ventanas en el autobús, calculada según la capacidad de pasajeros.\n",
    "        \"\"\"\n",
    "        print(f\"El autobus tiene aproximadamente {round(self.capacidad_bus /4)} ventanas.\\nAsientos por ventana: 4\")"
   ]
  },
  {
   "cell_type": "markdown",
   "metadata": {},
   "source": [
    "Cuántas ventanas tiene el Volvo aproximadamente?"
   ]
  },
  {
   "cell_type": "code",
   "execution_count": 87,
   "metadata": {},
   "outputs": [
    {
     "name": "stdout",
     "output_type": "stream",
     "text": [
      "El autobus tiene aproximadamente 14 ventanas.\n",
      "Asientos por ventana: 4\n"
     ]
    }
   ],
   "source": [
    "bus = Bus(velocidad_max=180,marca=\"Volvo\",combustible=\"gasolina\",kilometraje=190000,capacidad_bus=55)\n",
    "bus.window_estimation()"
   ]
  },
  {
   "cell_type": "markdown",
   "metadata": {},
   "source": [
    "## Ejercicio 2A\n",
    "\n",
    "1. Crea una clase llamada ``CuentaBancaria``, la cual debe de tener dos atributos: ``titular`` y ``saldo``.  El segundo atributo debe ser __privado__. \n",
    "2. Crea un método dentro de la clase que se llame ``depositar``, y que reciba un argumento ``cantidad``. \n",
    "- Si la cantidad no es mayor que cero, haz un print que avise a navegantes de que la operación parece errónea. \n",
    "- Si la cantidad es mayor que cero, aumenta el saldo e imprime la cantidad depositada para que el navegante tenga ese extra feedback. \n",
    "3. Crea un método dentro de la clase que se llame ``retirar``, y que reciba un argumento ``cantidad``. \n",
    "- Si la cantidad no es menor que cero, haz un print que avise a navegantes de que la operación parece errónea. \n",
    "- Si la cantidad es menor que cero y el saldo es suficiente para afrontar esta retirada de dinero, disminuye el saldo e imprime la cantidad depositada para que el navegante tenga ese extra feedback. \n",
    "- Si la cantidad es menor que cero pero no hay saldo suficiente en la cuenta para esa retirada de dinero, imprime un mensaje para avisar que esta operación no se puede realizar por saldo insuficiente."
   ]
  },
  {
   "cell_type": "code",
   "execution_count": 35,
   "metadata": {},
   "outputs": [],
   "source": [
    "class CuentaBancaria:\n",
    "    \"\"\"\n",
    "    Clase que representa una cuenta bancaria.\n",
    "\n",
    "    Atributos:\n",
    "    - titular (str): El titular de la cuenta bancaria.\n",
    "    - __saldo (float): El saldo de la cuenta bancaria (privado).\n",
    "\n",
    "    Métodos:\n",
    "    - depositar(cantidad: float) -> None: Deposita una cantidad de dinero en la cuenta.\n",
    "    - retirar(cantidad: float) -> None: Retira una cantidad de dinero de la cuenta, si es posible.\n",
    "    \"\"\"\n",
    "    def __init__(self, titular: str, saldo: float) -> None:\n",
    "        self.titular = titular\n",
    "        self.__saldo = saldo\n",
    "    \n",
    "    def depositar(self, cantidad: float):\n",
    "        \"\"\"\n",
    "        Funcion que deposita dinero de la cuenta\n",
    "        Input:\n",
    "            cantidad (float) Cantidad de dinero a retirar\n",
    "        Output:\n",
    "            print (str) Indica si la operacion fue realizada o no\n",
    "        \"\"\"\n",
    "        if cantidad < 0:\n",
    "            print(\"La operacion fue erronea\")\n",
    "        else:\n",
    "            self.__saldo += cantidad\n",
    "            print(f\"Fue depositada en su cuenta, la cantidad de {cantidad} €\")\n",
    "    \n",
    "    def retirar(self, cantidad: float):\n",
    "        \"\"\"\n",
    "        Funcion que retira dinero de la cuenta, si no hay cantidad disponible lanzara un error\n",
    "        Input:\n",
    "            cantidad (float) Cantidad de dinero a retirar\n",
    "        Output:\n",
    "            print (str) Indica si la operacion fue realizada o no\n",
    "        \"\"\"\n",
    "        if cantidad > 0:\n",
    "            print(\"La operacion fue erronea\")\n",
    "        elif abs(cantidad) > self.__saldo:\n",
    "            print(\"Error no dispone de suficiente saldo\")\n",
    "        else:\n",
    "            self.__saldo -= abs(cantidad)\n",
    "            print(f\"Ha retirado la cantidad de {cantidad} €\")"
   ]
  },
  {
   "cell_type": "code",
   "execution_count": 29,
   "metadata": {},
   "outputs": [
    {
     "name": "stdout",
     "output_type": "stream",
     "text": [
      "Error no dispone de suficiente saldo\n"
     ]
    }
   ],
   "source": [
    "cuenta_santander = CuentaBancaria('Jorge', 40000)\n",
    "cuenta_santander.retirar(-50000000)"
   ]
  },
  {
   "cell_type": "markdown",
   "metadata": {},
   "source": [
    "## Ejercicio 2B\n",
    "\n",
    "Crea un método para obtener el saldo, a pesar de que sea un atribudo privado"
   ]
  },
  {
   "cell_type": "code",
   "execution_count": 3,
   "metadata": {},
   "outputs": [],
   "source": [
    "class CuentaBancaria:\n",
    "    \"\"\"\n",
    "    Clase que representa una cuenta bancaria.\n",
    "\n",
    "    Atributos:\n",
    "    - titular (str): El titular de la cuenta bancaria.\n",
    "    - __saldo (float): El saldo de la cuenta bancaria (privado).\n",
    "\n",
    "    Métodos:\n",
    "    - depositar(cantidad: float) -> None: Deposita una cantidad de dinero en la cuenta.\n",
    "    - retirar(cantidad: float) -> None: Retira una cantidad de dinero de la cuenta, si es posible.\n",
    "    - getSaldo() -> float: Retorna el saldo actual de la cuenta.\n",
    "    \"\"\"\n",
    "    def __init__(self, titular: str, saldo: float) -> None:\n",
    "        self.titular = titular\n",
    "        self._saldo = saldo\n",
    "    \n",
    "    def depositar(self, cantidad: float):\n",
    "        \"\"\"\n",
    "        Funcion que deposita dinero de la cuenta\n",
    "        Input:\n",
    "            cantidad (float): Cantidad de dinero a retirar\n",
    "        Output:\n",
    "            print (str): Indica si la operacion fue realizada o no\n",
    "        \"\"\"\n",
    "        if cantidad < 0:\n",
    "            print(\"La operacion fue erronea\")\n",
    "        else:\n",
    "            self._saldo += cantidad\n",
    "            print(f\"Fue depositada en su cuenta, la cantidad de {cantidad} €\")\n",
    "    \n",
    "    def retirar(self, cantidad: float):\n",
    "        \"\"\"\n",
    "        Funcion que retira dinero de la cuenta, si no hay cantidad disponible lanzara un error\n",
    "        Input:\n",
    "            cantidad (float): Cantidad de dinero a retirar\n",
    "        Output:\n",
    "            print (str): Indica si la operacion fue realizada o no\n",
    "        \"\"\"\n",
    "        if cantidad > 0:\n",
    "            print(\"La operacion fue erronea\")\n",
    "        elif abs(cantidad) > self._saldo:\n",
    "            print(\"Error no dispone de suficiente saldo\")\n",
    "        else:\n",
    "            self._saldo -= abs(cantidad)\n",
    "            print(f\"Ha retirado la cantidad de {abs(cantidad)} €\")\n",
    "\n",
    "    def getSaldo(self):\n",
    "        return self._saldo"
   ]
  },
  {
   "cell_type": "code",
   "execution_count": 4,
   "metadata": {},
   "outputs": [
    {
     "name": "stdout",
     "output_type": "stream",
     "text": [
      "Ha retirado la cantidad de 5 €\n"
     ]
    },
    {
     "data": {
      "text/plain": [
       "39995"
      ]
     },
     "execution_count": 4,
     "metadata": {},
     "output_type": "execute_result"
    }
   ],
   "source": [
    "cuenta_santander = CuentaBancaria('Jorge', 40000)\n",
    "cuenta_santander.retirar(-5)\n",
    "cuenta_santander.getSaldo()"
   ]
  },
  {
   "cell_type": "code",
   "execution_count": 40,
   "metadata": {},
   "outputs": [],
   "source": [
    "# por medio de un decorador\n",
    "\n",
    "class CuentaBancaria:\n",
    "    def __init__(self, titular: str, saldo: float):\n",
    "        self.titular = titular\n",
    "        self.__saldo = saldo\n",
    "    \n",
    "    def depositar(self, cantidad: float):\n",
    "        if cantidad < 0:\n",
    "            print(\"La operación fue errónea\")\n",
    "        else:\n",
    "            self.__saldo += cantidad\n",
    "            print(f\"Fue depositada en su cuenta, la cantidad de {cantidad} €\")\n",
    "    \n",
    "    def retirar(self, cantidad: float):\n",
    "        if cantidad > 0:\n",
    "            print(\"La operación fue errónea\")\n",
    "        elif abs(cantidad) > self.__saldo:\n",
    "            print(\"Error: no dispone de suficiente saldo\")\n",
    "        else:\n",
    "            self.__saldo -= abs(cantidad)\n",
    "            print(f\"Ha retirado la cantidad de {cantidad} €\")\n",
    "\n",
    "    @property\n",
    "    def saldo(self):\n",
    "        return self.__saldo\n",
    "    \n",
    "    def transaccion(self, cantidad: float):\n",
    "        if cantidad < 0 and abs(cantidad) > self.__saldo:\n",
    "            print(\"Error: no dispone de suficiente saldo\")\n",
    "        else:\n",
    "            self.__saldo += cantidad\n",
    "\n",
    "def obtener_saldo(cuenta):\n",
    "    return cuenta.saldo"
   ]
  },
  {
   "cell_type": "code",
   "execution_count": 41,
   "metadata": {},
   "outputs": [
    {
     "data": {
      "text/plain": [
       "40000"
      ]
     },
     "execution_count": 41,
     "metadata": {},
     "output_type": "execute_result"
    }
   ],
   "source": [
    "cuenta_santander = CuentaBancaria('Jorge', 40000)\n",
    "obtener_saldo(cuenta_santander)"
   ]
  },
  {
   "cell_type": "code",
   "execution_count": 46,
   "metadata": {},
   "outputs": [
    {
     "name": "stdout",
     "output_type": "stream",
     "text": [
      "1000.0\n",
      "Fue depositada en su cuenta, la cantidad de 500 €\n",
      "1500.0\n",
      "Ha retirado la cantidad de 200 €\n",
      "1300.0\n",
      "Error: no dispone de suficiente saldo\n",
      "1300.0\n"
     ]
    }
   ],
   "source": [
    "class CuentaBancaria:\n",
    "    def __init__(self, titular: str, saldo: float):\n",
    "        self.titular = titular\n",
    "        self.__saldo = saldo\n",
    "    \n",
    "    @property\n",
    "    def saldo(self):\n",
    "        return self.__saldo\n",
    "    \n",
    "    @saldo.setter\n",
    "    def transaccion(self, cantidad: float):\n",
    "        if cantidad == 0:\n",
    "            print(\"La cantidad debe ser diferente de cero\")\n",
    "        elif cantidad > 0:\n",
    "            self.__depositar(cantidad)\n",
    "        else:\n",
    "            self.__retirar(abs(cantidad))\n",
    "\n",
    "    def __depositar(self, cantidad: float):\n",
    "        self.__saldo += cantidad\n",
    "        print(f\"Fue depositada en su cuenta, la cantidad de {cantidad} €\")\n",
    "    \n",
    "    def __retirar(self, cantidad: float):\n",
    "        if cantidad > self.__saldo:\n",
    "            print(\"Error: no dispone de suficiente saldo\")\n",
    "        else:\n",
    "            self.__saldo -= cantidad\n",
    "            print(f\"Ha retirado la cantidad de {cantidad} €\")\n",
    "\n",
    "# Ejemplo de uso:\n",
    "cuenta = CuentaBancaria(\"Juan\", 1000.0)\n",
    "print(cuenta.saldo)  # Salida: 1000.0\n",
    "\n",
    "cuenta.transaccion = 500  # Depositar 500 euros\n",
    "print(cuenta.saldo)  # Salida: 1500.0\n",
    "\n",
    "cuenta.transaccion = -200  # Retirar 200 euros\n",
    "print(cuenta.saldo)  # Salida: 1300.0\n",
    "\n",
    "cuenta.transaccion = -15000  # Intentar retirar más dinero del disponible\n",
    "print(cuenta.saldo)  # Salida: 1300.0\n"
   ]
  },
  {
   "cell_type": "markdown",
   "metadata": {},
   "source": [
    "Más sobre decoradores [aquí](https://www.youtube.com/watch?v=3fqll_Mnf3M) y [aquí](https://www.youtube.com/watch?v=s1GGVkledGk)."
   ]
  },
  {
   "cell_type": "markdown",
   "metadata": {},
   "source": [
    "## Ejercicio 3\n",
    "Somos una empresa que tiene varias tiendas de electrodomesticos. Necesitamos un programa para manejar las tiendas, ver las ventas que han tenido, cuántos empleados hay, etc... Para ello vamos a modelizar la tienda en una clase, que tendrá las siguientes características:\n",
    "* Nombre clase: \"Tienda\"\n",
    "* Atributos comunes:\n",
    "    * Tipo: \"Electrodomésticos\"\n",
    "    * Abierta: True\n",
    "* Atributos propios de cada tienda:\n",
    "    * Nombre - String\n",
    "    * Dirección - String\n",
    "    * Número de empleados - int\n",
    "    * Ventas ultimos 3 meses - Lista de 3 numeros\n",
    "* Método para calcular las ventas de todos los meses, que devuelva un numero con todas las ventas.\n",
    "* Método que calcula la media de ventas de los ultimos meses, por empleado\n",
    "* Método que devuelve en un string el nombre de la tienda, junto con su dirección.\n",
    "* Método que obtiene las ventas del último mes.\n",
    "* Método para dar una proyección de las ventas en caso de haber invertido X dinero en marketing en esa tienda. Siendo X el parámetro de entrada. Si X es menor de 1000, las ventas de los ultimos 3 meses hubiesen sido de (1.2 x ventas), si es mayor o igual de 1000, las ventas hubiesen sido de (1.5 x venta). El método reescribe el atributo de ventas en los últimos 3 meses, y además devuelve las ventas con el aumento.\n",
    "\n",
    "Implementa la clase \"Tienda\""
   ]
  },
  {
   "cell_type": "code",
   "execution_count": 97,
   "metadata": {},
   "outputs": [],
   "source": [
    "class Tienda:\n",
    "    \"\"\"\n",
    "    Clase que representa una tienda de electrodomésticos que está abierta.\n",
    "\n",
    "    Atributos de clase:\n",
    "    - tipo (str): El tipo de productos que vende la tienda, en este caso, \"Electrodomésticos\".\n",
    "    - abierta (bool): Indica si la tienda está abierta o no.\n",
    "\n",
    "    Métodos:\n",
    "    - all_months_sales() -> float: Calcula la suma de todas las ventas.\n",
    "    - mean_sales_by_employer() -> float: Calcula la media de ventas por empleado.\n",
    "    - shop_identification() -> str: Devuelve el nombre y la dirección de la tienda.\n",
    "    - get_last_month_sales() -> int: Devuelve el total de ventas del último mes.\n",
    "    - sales_projection(amount: int) -> float: Calcula y devuelve la proyección de ventas según la cantidad de dinero ingresada.\n",
    "    \"\"\"\n",
    "    tipo = \"Electrodomésticos\"\n",
    "    abierta = True\n",
    "\n",
    "    def __init__(self,nombre:str, direccion:str, num_empleados:int, ventas:list) -> None:\n",
    "        self.nombre = nombre\n",
    "        self.direccion = direccion\n",
    "        self.num_empleados = num_empleados\n",
    "        self.ventas = ventas\n",
    "\n",
    "    def all_months_sales(self) -> float:\n",
    "        \"\"\"\n",
    "        Calcula la suma de todas las ventas.\n",
    "        \"\"\"\n",
    "        return sum(self.ventas)\n",
    "    \n",
    "    def mean_sales_by_employer(self) -> float:\n",
    "        \"\"\"\n",
    "        Calcula la media de ventas por empleado.\n",
    "        \"\"\"\n",
    "        media = self.all_months_sales() / self.num_empleados\n",
    "        return media\n",
    "\n",
    "    def shop_identification(self) -> str:\n",
    "        \"\"\"\n",
    "        Funcion que devuelve el nombre y la direccion de la tienda\n",
    "        \"\"\"\n",
    "        return f\"Nombre: {self.nombre} /n Direccion: {self.direccion}\"\n",
    "    \n",
    "    def get_last_month_sales(self) -> float:\n",
    "        \"\"\"\n",
    "        Funcion que devuelve el ultimo mes de ventas\n",
    "        \"\"\"\n",
    "        return self.ventas[-1]\n",
    "    \n",
    "    def sales_projection(self, amount: int) -> float:\n",
    "        \"\"\"\n",
    "        Calcula y devuelve la proyección de ventas según la cantidad de dinero ingresada.\n",
    "\n",
    "        Input:\n",
    "            amount (int)\n",
    "        \"\"\"\n",
    "        if amount < 1000:\n",
    "            aumento_factor = 1.2\n",
    "        else:\n",
    "            aumento_factor = 1.5\n",
    "\n",
    "        ventas_proyectadas = [venta * aumento_factor for venta in self.ventas]\n",
    "        self.ventas = ventas_proyectadas\n",
    "        return ventas_proyectadas"
   ]
  },
  {
   "cell_type": "markdown",
   "metadata": {},
   "source": [
    "Una vez creada la clase ``Tienda``, \n",
    "\n",
    "1. Crea tres tiendas con datos inventados\n",
    "2. Comprueba en al menos una de ellas, todo lo implementado en la clase tienda (sus atributos, media de ventas, ventas/empleado...)\n",
    "3. Calcula las ventas del último mes de todas las tiendas. Para ello usa el bucle `for`\n",
    "4. Imprime por pantalla los nombres de las tiendas cuya dirección lleve el string \"Avenida\"\n",
    "5. Seguro que ya has hecho este apartado... Documenta la clase :)"
   ]
  },
  {
   "cell_type": "code",
   "execution_count": 98,
   "metadata": {},
   "outputs": [],
   "source": [
    "tienda_zara = Tienda(nombre=\"Zara Home\", direccion=\"calle Princesa 2\", num_empleados=50, ventas=[45,85,52])\n",
    "tienda_bmw = Tienda(nombre=\"BMW\", direccion=\"calle Garcia Noblejas 5\", num_empleados=10, ventas=[10,5,25])\n",
    "tienda_carcasas = Tienda(nombre=\"Casa de la Carcasa\", direccion=\"calle Fuencarral 8\", num_empleados= 20, ventas=[200,22,21])"
   ]
  },
  {
   "cell_type": "code",
   "execution_count": 90,
   "metadata": {},
   "outputs": [
    {
     "data": {
      "text/plain": [
       "10"
      ]
     },
     "execution_count": 90,
     "metadata": {},
     "output_type": "execute_result"
    }
   ],
   "source": [
    "tienda_bmw.num_empleados"
   ]
  },
  {
   "cell_type": "code",
   "execution_count": 91,
   "metadata": {},
   "outputs": [
    {
     "data": {
      "text/plain": [
       "182"
      ]
     },
     "execution_count": 91,
     "metadata": {},
     "output_type": "execute_result"
    }
   ],
   "source": [
    "tienda_zara.all_months_sales()"
   ]
  },
  {
   "cell_type": "code",
   "execution_count": 99,
   "metadata": {},
   "outputs": [
    {
     "data": {
      "text/plain": [
       "3.64"
      ]
     },
     "execution_count": 99,
     "metadata": {},
     "output_type": "execute_result"
    }
   ],
   "source": [
    "tienda_zara.mean_sales_by_employer()"
   ]
  },
  {
   "cell_type": "code",
   "execution_count": 93,
   "metadata": {},
   "outputs": [
    {
     "data": {
      "text/plain": [
       "'Nombre: Casa de la Carcasa /n Direccion: calle Fuencarral 8'"
      ]
     },
     "execution_count": 93,
     "metadata": {},
     "output_type": "execute_result"
    }
   ],
   "source": [
    "tienda_carcasas.shop_identification()"
   ]
  },
  {
   "cell_type": "code",
   "execution_count": 94,
   "metadata": {},
   "outputs": [
    {
     "data": {
      "text/plain": [
       "21"
      ]
     },
     "execution_count": 94,
     "metadata": {},
     "output_type": "execute_result"
    }
   ],
   "source": [
    "tienda_carcasas.get_last_month_sales()"
   ]
  },
  {
   "cell_type": "code",
   "execution_count": 95,
   "metadata": {},
   "outputs": [
    {
     "data": {
      "text/plain": [
       "[67.5, 127.5, 78.0]"
      ]
     },
     "execution_count": 95,
     "metadata": {},
     "output_type": "execute_result"
    }
   ],
   "source": [
    "tienda_zara.sales_projection(1000)"
   ]
  },
  {
   "cell_type": "markdown",
   "metadata": {},
   "source": [
    "## Ejercicio 4\n",
    "\n",
    "En este ejercicio vamos a implementar una clase ``Perro`` en Python. La clase tiene las siguientes características:\n",
    "* Cosas que sabemos seguro que tiene un perro\n",
    "    * Tiene 4 patas\n",
    "    * 2 orejas\n",
    "    * 2 ojos\n",
    "    * Una velocidad de 0. Por defecto, el perro está parado\n",
    "* Cuando se inicialice:\n",
    "    * El perro será de una determinada raza\n",
    "    * Por defecto tendrá pelo \"Marrón\", a no ser que se diga lo contrario.\n",
    "    * Por defecto no tendrá dueño, a no ser que se diga lo contrario.\n",
    "    \n",
    "* Dispondrá también de un método llamado andar, que tiene un argumento de entrada (aumento_velocidad). Este valor se le sumará a la velocidad que ya llevaba el perro.\n",
    "* Necesita otro método (parar), donde pondremos la velocidad a 0.\n",
    "* Otro método llamado \"ladrar\", que tendrá un argumento de entrada, y la salida será el siguiente string: \"GUAU!\" + el argumento de entrada.\n",
    "\n",
    "\n",
    "Se pide:\n",
    "* Implementa la clase *Perro*\n",
    "* Crea un objeto de tipo *Perro*, sin dueño\n",
    "* Comprueba que están bien todos sus atributos\n",
    "* Prueba que ande, y comprueba su velocidad\n",
    "* Páralo\n",
    "* Documenta la clase *Perro*"
   ]
  },
  {
   "cell_type": "code",
   "execution_count": 61,
   "metadata": {},
   "outputs": [],
   "source": [
    "class Perro:\n",
    "    \"\"\"\n",
    "    Clase que identifica a un perro.\n",
    "\n",
    "    Características comunes:\n",
    "    - patas: 4\n",
    "    - orejas: 2\n",
    "    - ojos: 2\n",
    "    - velocidad: 0 por defecto\n",
    "\n",
    "    __init__:\n",
    "    - raza (str): Tipo de perro.\n",
    "    - pelo (str): Color del perro (predeterminado: Marrón).\n",
    "    - dueño (str): Nombre del dueño (predeterminado: None).\n",
    "\n",
    "    Funciones:\n",
    "    - andar(aumento_velocidad: int): Aumenta la velocidad del perro en X.\n",
    "    - parar(): Iguala la velocidad a 0.\n",
    "    - ladrar(ladrido: str) -> str: Saca un mensaje predeterminado seguido de Y.\n",
    "    \"\"\"\n",
    "\n",
    "    patas = 4\n",
    "    orejas = 2\n",
    "    ojos = 2\n",
    "    velocidad = 0\n",
    "\n",
    "    def __init__(self, raza: str, pelo: str = \"Marrón\", dueño: str = None):\n",
    "        self.raza = raza\n",
    "        self.pelo = pelo\n",
    "        self.dueño = dueño\n",
    "    \n",
    "    def andar(self, aumento_velocidad: int) -> None:\n",
    "        \"\"\"\n",
    "        Aumenta la velocidad del perro.\n",
    "\n",
    "        Parámetros:\n",
    "        - aumento_velocidad (int): La cantidad en la que se incrementa la velocidad.\n",
    "        \"\"\"\n",
    "        self.velocidad += aumento_velocidad\n",
    "    \n",
    "    def parar(self) -> None:\n",
    "        \"\"\"\n",
    "        Iguala la velocidad a 0.\n",
    "        \"\"\"\n",
    "        self.velocidad = 0\n",
    "    \n",
    "    def ladrar(self, ladrido: str) -> str:\n",
    "        \"\"\"\n",
    "        Acción de ladrar.\n",
    "\n",
    "        Parámetros:\n",
    "        - ladrido (str): El ladrido que se agrega al mensaje.\n",
    "\n",
    "        Retorna:\n",
    "        - str: El ladrido del perro.\n",
    "        \"\"\"\n",
    "        return f\"GUAU! {ladrido}\"\n"
   ]
  },
  {
   "cell_type": "code",
   "execution_count": 74,
   "metadata": {},
   "outputs": [
    {
     "data": {
      "text/plain": [
       "4"
      ]
     },
     "execution_count": 74,
     "metadata": {},
     "output_type": "execute_result"
    }
   ],
   "source": [
    "pastor_aleman = Perro(raza='pastor aleman', pelo='marron castaño')\n",
    "pastor_aleman.patas"
   ]
  },
  {
   "cell_type": "code",
   "execution_count": 75,
   "metadata": {},
   "outputs": [
    {
     "data": {
      "text/plain": [
       "2"
      ]
     },
     "execution_count": 75,
     "metadata": {},
     "output_type": "execute_result"
    }
   ],
   "source": [
    "pastor_aleman.orejas"
   ]
  },
  {
   "cell_type": "code",
   "execution_count": 76,
   "metadata": {},
   "outputs": [
    {
     "data": {
      "text/plain": [
       "'pastor aleman'"
      ]
     },
     "execution_count": 76,
     "metadata": {},
     "output_type": "execute_result"
    }
   ],
   "source": [
    "pastor_aleman.raza"
   ]
  },
  {
   "cell_type": "code",
   "execution_count": 77,
   "metadata": {},
   "outputs": [
    {
     "data": {
      "text/plain": [
       "'marron castaño'"
      ]
     },
     "execution_count": 77,
     "metadata": {},
     "output_type": "execute_result"
    }
   ],
   "source": [
    "pastor_aleman.pelo"
   ]
  },
  {
   "cell_type": "code",
   "execution_count": 78,
   "metadata": {},
   "outputs": [],
   "source": [
    "pastor_aleman.dueño"
   ]
  },
  {
   "cell_type": "code",
   "execution_count": 79,
   "metadata": {},
   "outputs": [
    {
     "data": {
      "text/plain": [
       "0"
      ]
     },
     "execution_count": 79,
     "metadata": {},
     "output_type": "execute_result"
    }
   ],
   "source": [
    "pastor_aleman.velocidad"
   ]
  },
  {
   "cell_type": "code",
   "execution_count": 80,
   "metadata": {},
   "outputs": [
    {
     "data": {
      "text/plain": [
       "5"
      ]
     },
     "execution_count": 80,
     "metadata": {},
     "output_type": "execute_result"
    }
   ],
   "source": [
    "pastor_aleman.andar(5)\n",
    "pastor_aleman.velocidad"
   ]
  },
  {
   "cell_type": "code",
   "execution_count": 81,
   "metadata": {},
   "outputs": [
    {
     "data": {
      "text/plain": [
       "0"
      ]
     },
     "execution_count": 81,
     "metadata": {},
     "output_type": "execute_result"
    }
   ],
   "source": [
    "pastor_aleman.parar()\n",
    "pastor_aleman.velocidad"
   ]
  },
  {
   "cell_type": "markdown",
   "metadata": {},
   "source": [
    "-----------------\n",
    "\n",
    "Recuerda entregar el notebook en formato html. Puedes hacerlo con la librería \"nbconvert\" desde el cmd en la ruta del documento que quieres transformar de ipynb a html:\n",
    "\n",
    "> jupyter nbconvert --to html --execute notebook_name.ipynb"
   ]
  }
 ],
 "metadata": {
  "kernelspec": {
   "display_name": "Python 3",
   "language": "python",
   "name": "python3"
  },
  "language_info": {
   "codemirror_mode": {
    "name": "ipython",
    "version": 3
   },
   "file_extension": ".py",
   "mimetype": "text/x-python",
   "name": "python",
   "nbconvert_exporter": "python",
   "pygments_lexer": "ipython3",
   "version": "3.7.4"
  }
 },
 "nbformat": 4,
 "nbformat_minor": 4
}
