{
 "cells": [
  {
   "cell_type": "markdown",
   "metadata": {},
   "source": [
    "![imagen](./img/python.jpg)"
   ]
  },
  {
   "cell_type": "markdown",
   "metadata": {},
   "source": [
    "# Python Colecciones\n",
    "\n",
    "Las colecciones son una manera de agrupar varios elementos. En otros notebooks vimos cómo funcionan las listas, que es la colección más usada, pero se trata solo de la punta del iceberg. Con Python tenemos varias manera de almacenar conjuntos de datos, dependiendo del tipo de dato, finalidad, tipo de acceso y rendimiento.\n",
    "\n",
    "1. [Listas](#1.-Listas)\n",
    "2. [Tuplas](#2.-Tuplas)\n",
    "3. [Diccionarios](#3.-Diccionarios)\n",
    "4. [Sets](#4.-Sets)\n",
    "5. [Conversiones entre colecciones](#5.-Conversiones-entre-colecciones)\n",
    "6. [List comprehensions](#6.-Comprensión-de-listas)\n",
    "7. [Resumen](#7.-Resumen)"
   ]
  },
  {
   "cell_type": "markdown",
   "metadata": {},
   "source": [
    "## 1. Listas\n",
    "Ya conocemos bastante las listas. Veamos un repaso de lo que podemos hacer con ellas, así como algunas funcionalidades nuevas"
   ]
  },
  {
   "cell_type": "code",
   "execution_count": 20,
   "metadata": {},
   "outputs": [],
   "source": [
    "# Listas de números, strings, booleanos, con elementos repetidos, listas anidadas...\n",
    "nums = [6, 2, 8, 3, 4, 5, 5]\n",
    "months = [\"Enero\", \"Febrero\", \"Marzo\"]\n",
    "mix = [5, 7, \"Abril\", True, None, [\"Blanco\", \"Negro\"]]"
   ]
  },
  {
   "cell_type": "code",
   "execution_count": 21,
   "metadata": {},
   "outputs": [
    {
     "data": {
      "text/plain": [
       "list"
      ]
     },
     "execution_count": 21,
     "metadata": {},
     "output_type": "execute_result"
    }
   ],
   "source": [
    "type(nums)"
   ]
  },
  {
   "cell_type": "code",
   "execution_count": 22,
   "metadata": {},
   "outputs": [
    {
     "name": "stdout",
     "output_type": "stream",
     "text": [
      "<class 'int'>\n",
      "<class 'int'>\n",
      "<class 'int'>\n",
      "<class 'int'>\n",
      "<class 'int'>\n",
      "<class 'int'>\n",
      "<class 'int'>\n"
     ]
    }
   ],
   "source": [
    "for i in nums:\n",
    "    print(type(i))"
   ]
  },
  {
   "cell_type": "code",
   "execution_count": 23,
   "metadata": {},
   "outputs": [
    {
     "data": {
      "text/plain": [
       "7"
      ]
     },
     "execution_count": 23,
     "metadata": {},
     "output_type": "execute_result"
    }
   ],
   "source": [
    "len(nums)"
   ]
  },
  {
   "cell_type": "markdown",
   "metadata": {},
   "source": [
    "### Acceso\n",
    "Entre corchetes introducimos el indice del elemento al que queremos acceder"
   ]
  },
  {
   "cell_type": "code",
   "execution_count": 108,
   "metadata": {},
   "outputs": [
    {
     "name": "stdout",
     "output_type": "stream",
     "text": [
      "Antes del cambio ['Renault', 'ferrari', 'McClaren', 'Alpine']\n"
     ]
    }
   ],
   "source": [
    "# Indexación\n",
    "\n",
    "coches = ['Renault', 'ferrari', 'McClaren', 'Alpine']\n",
    "print('Antes del cambio', coches)\n"
   ]
  },
  {
   "cell_type": "code",
   "execution_count": 25,
   "metadata": {},
   "outputs": [
    {
     "name": "stdout",
     "output_type": "stream",
     "text": [
      "Después del cambio ['Renault', 'ferrari', 'Orange McClaren', 'Alpine']\n"
     ]
    }
   ],
   "source": [
    "# Como las listas son mutables, así las modificamos:\n",
    "coches[2] = 'Orange McClaren'\n",
    "print('Después del cambio', coches)"
   ]
  },
  {
   "cell_type": "markdown",
   "metadata": {},
   "source": [
    "Si planteamos el problema al revés. Tenemos los valores de la lista y lo que queremos es obtener el índice de esos valores dentro de la lista"
   ]
  },
  {
   "cell_type": "code",
   "execution_count": 115,
   "metadata": {},
   "outputs": [
    {
     "data": {
      "text/plain": [
       "2"
      ]
     },
     "execution_count": 115,
     "metadata": {},
     "output_type": "execute_result"
    }
   ],
   "source": [
    "# Método index\n",
    "coches.index('Alpine')"
   ]
  },
  {
   "cell_type": "markdown",
   "metadata": {},
   "source": [
    "**Slicing**: usamos slicing para acceder a varios elementos seguidos de la lista"
   ]
  },
  {
   "cell_type": "code",
   "execution_count": 27,
   "metadata": {},
   "outputs": [
    {
     "data": {
      "text/plain": [
       "['Renault', 'ferrari', 'McClaren']"
      ]
     },
     "execution_count": 27,
     "metadata": {},
     "output_type": "execute_result"
    }
   ],
   "source": [
    "coches = ['Renault', 'ferrari', 'McClaren', 'Alpine']\n",
    "\n",
    "# Slicing\n",
    "coches[0:3]"
   ]
  },
  {
   "cell_type": "code",
   "execution_count": 116,
   "metadata": {},
   "outputs": [
    {
     "data": {
      "text/plain": [
       "[4, 6, 8, 10, 12, 14, 16, 18, 20]"
      ]
     },
     "execution_count": 116,
     "metadata": {},
     "output_type": "execute_result"
    }
   ],
   "source": [
    "my_list = list(range(1, 31, 1))\n",
    "my_list[3:20:2]"
   ]
  },
  {
   "cell_type": "code",
   "execution_count": 30,
   "metadata": {},
   "outputs": [
    {
     "name": "stdout",
     "output_type": "stream",
     "text": [
      "16\n",
      "25\n",
      "36\n",
      "49\n",
      "64\n",
      "81\n",
      "100\n"
     ]
    }
   ],
   "source": [
    "# Operations on slicing\n",
    "for i in my_list[3:10]:\n",
    "    print(i**2)"
   ]
  },
  {
   "cell_type": "code",
   "execution_count": 31,
   "metadata": {},
   "outputs": [],
   "source": [
    "# Copiar una lista\n",
    "\n",
    "copy_list = my_list[::-1]"
   ]
  },
  {
   "cell_type": "code",
   "execution_count": 32,
   "metadata": {},
   "outputs": [
    {
     "data": {
      "text/plain": [
       "[30,\n",
       " 29,\n",
       " 28,\n",
       " 27,\n",
       " 26,\n",
       " 25,\n",
       " 24,\n",
       " 23,\n",
       " 22,\n",
       " 21,\n",
       " 20,\n",
       " 19,\n",
       " 18,\n",
       " 17,\n",
       " 16,\n",
       " 15,\n",
       " 14,\n",
       " 13,\n",
       " 12,\n",
       " 11,\n",
       " 10,\n",
       " 9,\n",
       " 8,\n",
       " 7,\n",
       " 6,\n",
       " 5,\n",
       " 4,\n",
       " 3,\n",
       " 2,\n",
       " 1]"
      ]
     },
     "execution_count": 32,
     "metadata": {},
     "output_type": "execute_result"
    }
   ],
   "source": [
    "copy_list"
   ]
  },
  {
   "cell_type": "markdown",
   "metadata": {},
   "source": [
    "### Modificar elementos\n",
    "Las listas son mutables, por lo que podremos modificarlas"
   ]
  },
  {
   "cell_type": "code",
   "execution_count": 33,
   "metadata": {},
   "outputs": [
    {
     "name": "stdout",
     "output_type": "stream",
     "text": [
      "['Enero', 'Febrero', 'Marzo']\n",
      "['Enero', 'February', 'Marzo']\n"
     ]
    }
   ],
   "source": [
    "print(months)\n",
    "\n",
    "# Indexing to access a value in the list an to convert it\n",
    "months[1] = 'February'\n",
    "print(months)\n"
   ]
  },
  {
   "cell_type": "markdown",
   "metadata": {},
   "source": [
    "### Añadir elementos\n",
    "Se añade al final de la lista si usamos `append`, o si queremos en un lugar concreto, mediante `insert`"
   ]
  },
  {
   "cell_type": "code",
   "execution_count": 34,
   "metadata": {},
   "outputs": [
    {
     "data": {
      "text/plain": [
       "4"
      ]
     },
     "execution_count": 34,
     "metadata": {},
     "output_type": "execute_result"
    }
   ],
   "source": [
    "len(coches)"
   ]
  },
  {
   "cell_type": "code",
   "execution_count": 120,
   "metadata": {},
   "outputs": [],
   "source": [
    "# Sobre una lista\n",
    "\n",
    "coches.append('Aston Marti')"
   ]
  },
  {
   "cell_type": "code",
   "execution_count": 122,
   "metadata": {},
   "outputs": [],
   "source": [
    "# insert\n",
    "\n",
    "coches.insert(0, 'Minardi')"
   ]
  },
  {
   "cell_type": "code",
   "execution_count": 124,
   "metadata": {},
   "outputs": [
    {
     "data": {
      "text/plain": [
       "['Minardi']"
      ]
     },
     "execution_count": 124,
     "metadata": {},
     "output_type": "execute_result"
    }
   ],
   "source": [
    "# Sobre una lista vacía\n",
    "\n",
    "empty_list = []\n",
    "for i in range(len(coches)):\n",
    "    if coches[i] == 'Minardi':\n",
    "        empty_list.append(coches[i])\n",
    "\n",
    "empty_list"
   ]
  },
  {
   "cell_type": "markdown",
   "metadata": {},
   "source": [
    "### Eliminar elementos\n",
    "Para eliminar elementos se usar `remove`. Si no existe, da error, así que cuidado con esta sentencia.\n",
    "\n",
    "En ocasiones resulta útil quedarnos con el elemento eliminado. Para ello usamos `pop()`, que elimina el elemento que le indiquemos, y además devuelve ese elemento por lo que podremos guardarlo en una variable para usarlo después."
   ]
  },
  {
   "cell_type": "code",
   "execution_count": 129,
   "metadata": {},
   "outputs": [
    {
     "name": "stdout",
     "output_type": "stream",
     "text": [
      "['VW', 'Seat', 'BMW', 'VW']\n",
      "['Seat', 'BMW', 'VW']\n"
     ]
    }
   ],
   "source": [
    "cars = ['VW', 'Seat', 'BMW', 'VW']\n",
    "print(cars)\n",
    "\n",
    "# remove > borra por contenido\n",
    "cars.remove('VW')\n",
    "print(cars)\n"
   ]
  },
  {
   "cell_type": "code",
   "execution_count": 133,
   "metadata": {},
   "outputs": [
    {
     "name": "stdout",
     "output_type": "stream",
     "text": [
      "['VW', 'Seat', 'BMW', 'VW']\n",
      "['VW', 'BMW', 'VW']\n"
     ]
    }
   ],
   "source": [
    "cars = ['VW', 'Seat', 'BMW', 'VW']\n",
    "print(cars)\n",
    "\n",
    "# pop > borra por índice\n",
    "cars.pop(1)\n",
    "print(cars)"
   ]
  },
  {
   "cell_type": "markdown",
   "metadata": {},
   "source": [
    "<table align=\"left\">\n",
    " <tr><td width=\"80\"><img src=\"./img/error.png\" style=\"width:auto;height:auto\"></td>\n",
    "     <td style=\"text-align:left\">\n",
    "         <h3>ERRORES remove</h3>\n",
    "         \n",
    " </td></tr>\n",
    "</table>"
   ]
  },
  {
   "cell_type": "code",
   "execution_count": 134,
   "metadata": {
    "collapsed": true,
    "jupyter": {
     "outputs_hidden": true
    },
    "tags": []
   },
   "outputs": [
    {
     "ename": "ValueError",
     "evalue": "list.remove(x): x not in list",
     "output_type": "error",
     "traceback": [
      "\u001b[1;31m---------------------------------------------------------------------------\u001b[0m",
      "\u001b[1;31mValueError\u001b[0m                                Traceback (most recent call last)",
      "\u001b[1;32m~\\AppData\\Local\\Temp\\ipykernel_19896\\4063213283.py\u001b[0m in \u001b[0;36m<module>\u001b[1;34m\u001b[0m\n\u001b[0;32m      1\u001b[0m \u001b[0mcars\u001b[0m \u001b[1;33m=\u001b[0m \u001b[1;33m[\u001b[0m\u001b[1;34m'VW'\u001b[0m\u001b[1;33m,\u001b[0m \u001b[1;34m'Seat'\u001b[0m\u001b[1;33m,\u001b[0m \u001b[1;34m'BMW'\u001b[0m\u001b[1;33m,\u001b[0m \u001b[1;34m'VW'\u001b[0m\u001b[1;33m]\u001b[0m\u001b[1;33m\u001b[0m\u001b[1;33m\u001b[0m\u001b[0m\n\u001b[1;32m----> 2\u001b[1;33m \u001b[0mcars\u001b[0m\u001b[1;33m.\u001b[0m\u001b[0mremove\u001b[0m\u001b[1;33m(\u001b[0m\u001b[1;34m\"Audi\"\u001b[0m\u001b[1;33m)\u001b[0m\u001b[1;33m\u001b[0m\u001b[1;33m\u001b[0m\u001b[0m\n\u001b[0m",
      "\u001b[1;31mValueError\u001b[0m: list.remove(x): x not in list"
     ]
    }
   ],
   "source": [
    "cars = ['VW', 'Seat', 'BMW', 'VW']\n",
    "cars.remove(\"Audi\")"
   ]
  },
  {
   "cell_type": "markdown",
   "metadata": {},
   "source": [
    "### Métodos: ordenar, tamaño, invertir orden, ocurrencia\n",
    "En este apartado veremos los métodos más útiles, pero podrás consultar el resto en [este enlace](https://www.w3schools.com/python/python_ref_list.asp)"
   ]
  },
  {
   "cell_type": "code",
   "execution_count": 140,
   "metadata": {},
   "outputs": [
    {
     "name": "stdout",
     "output_type": "stream",
     "text": [
      "[22, 34, 15, 26, 18, 22]\n",
      "[15, 18, 22, 22, 26, 34]\n",
      "[22, 34, 15, 26, 18, 22]\n"
     ]
    }
   ],
   "source": [
    "degrees = [22, 34, 15, 26, 18, 22]\n",
    "print(degrees)\n",
    "\n",
    "# sorted\n",
    "print(sorted(degrees))\n",
    "print(degrees)"
   ]
  },
  {
   "cell_type": "code",
   "execution_count": 142,
   "metadata": {},
   "outputs": [
    {
     "name": "stdout",
     "output_type": "stream",
     "text": [
      "[15, 18, 22, 22, 26, 34]\n"
     ]
    }
   ],
   "source": [
    "degrees = [22, 34, 15, 26, 18, 22]\n",
    "\n",
    "# método sort\n",
    "degrees.sort()\n",
    "print(degrees)\n"
   ]
  },
  {
   "cell_type": "code",
   "execution_count": 145,
   "metadata": {},
   "outputs": [
    {
     "name": "stdout",
     "output_type": "stream",
     "text": [
      "[22, 34, 15, 26, 18, 24, 22, 22]\n",
      "[22, 22, 24, 18, 26, 15, 34, 22]\n"
     ]
    }
   ],
   "source": [
    "degrees = [22, 34, 15, 26, 18, 24, 22, 22]\n",
    "print(degrees)\n",
    "# Método reverse\n",
    "degrees.reverse()\n",
    "print(degrees)\n"
   ]
  },
  {
   "cell_type": "code",
   "execution_count": 147,
   "metadata": {},
   "outputs": [
    {
     "data": {
      "text/plain": [
       "0"
      ]
     },
     "execution_count": 147,
     "metadata": {},
     "output_type": "execute_result"
    }
   ],
   "source": [
    "degrees.index(22)"
   ]
  },
  {
   "cell_type": "markdown",
   "metadata": {},
   "source": [
    "<table align=\"left\">\n",
    " <tr><td width=\"80\"><img src=\"./img/error.png\" style=\"width:auto;height:auto\"></td>\n",
    "     <td style=\"text-align:left\">\n",
    "         <h3>ERRORES indice</h3>\n",
    "         \n",
    " </td></tr>\n",
    "</table>"
   ]
  },
  {
   "cell_type": "markdown",
   "metadata": {},
   "source": [
    "Mucho cuidado cuando accedemos a los elementos de la lista. Es un error muy habitual acceder a un índice que no existe en la lista.\n",
    "\n",
    "Si estamos accediendo al ultimo elemento, en vez de poner el numero de su indice, poner mejor `-1`, y asi evitamos errores"
   ]
  },
  {
   "cell_type": "markdown",
   "metadata": {},
   "source": [
    "Si tenemos este tipo de errores y no sabemos resolverlos, lo mejor es imprimir la longitud de la lista, y todos los elementos."
   ]
  },
  {
   "cell_type": "markdown",
   "metadata": {},
   "source": [
    "<table align=\"left\">\n",
    " <tr><td width=\"80\"><img src=\"./img/ejercicio.png\" style=\"width:auto;height:auto\"></td>\n",
    "     <td style=\"text-align:left\">\n",
    "         <h3>Ejercicio de listas 1</h3>\n",
    "\n",
    "Piensa en al menos 3 personas que invitarías a cenar\n",
    "<ol>\n",
    "    <li>Utiliza la lista de invitados para imprimir cada uno por pantalla, mediante un bucle</li>\n",
    "    <li>Ordena alfabeticamente tu lista de invitados</li>\n",
    "    <li>¿Quién es el primer invitado de la lista?</li>\n",
    "    <li>Te llama uno de ellos a última hora, que no va a poder asistir. Eliminalo de la lista</li>\n",
    "    <li>Por suerte te ha llamado un amigo que no iba a asistir y al final si puede. Añadelo a mitad de la lista</li>\n",
    "</ol>\n",
    "         \n",
    " </td></tr>\n",
    "</table>"
   ]
  },
  {
   "cell_type": "code",
   "execution_count": 155,
   "metadata": {},
   "outputs": [
    {
     "name": "stdout",
     "output_type": "stream",
     "text": [
      "['Ana', 'Diego', 'Sergio']\n",
      "Ana\n",
      "['Ana', 'Diego']\n",
      "['Ana', 'Alvaro', 'Diego']\n",
      "['Ana', 'Guille', 'Alvaro', 'Diego']\n"
     ]
    }
   ],
   "source": [
    "#lista\n",
    "invitados = [\"Diego\",\"Sergio\",\"Ana\"]\n",
    "#2\n",
    "invitados.sort()\n",
    "print(invitados)\n",
    "#3\n",
    "print(invitados[0])\n",
    "#4\n",
    "invitados.remove(\"Sergio\")\n",
    "print(invitados)\n",
    "#5\n",
    "invitados.insert(1,\"Alvaro\")\n",
    "print(invitados)\n",
    "\n",
    "invitados.insert(int(len(invitados)/2),\"Guille\")\n",
    "print(invitados)"
   ]
  },
  {
   "cell_type": "markdown",
   "metadata": {},
   "source": [
    "<table align=\"left\">\n",
    " <tr><td width=\"80\"><img src=\"./img/ejercicio.png\" style=\"width:auto;height:auto\"></td>\n",
    "     <td style=\"text-align:left\">\n",
    "         <h3>Ejercicio de listas 2</h3>\n",
    "\n",
    "Escribe el código para comprobar que una lista está vacía o no\n",
    "<ol>\n",
    "    <li>Hint: se puede lograr utilizando una condición</li>\n",
    "</ol>\n",
    "         \n",
    " </td></tr>\n",
    "</table>"
   ]
  },
  {
   "cell_type": "code",
   "execution_count": 163,
   "metadata": {},
   "outputs": [
    {
     "name": "stdout",
     "output_type": "stream",
     "text": [
      "la lista esta vacia\n"
     ]
    }
   ],
   "source": [
    "lista_vacia =[]\n",
    "\n",
    "if len(lista_vacia) == 0:\n",
    "    print(\"la lista esta vacia\")"
   ]
  },
  {
   "cell_type": "code",
   "execution_count": 164,
   "metadata": {},
   "outputs": [
    {
     "name": "stdout",
     "output_type": "stream",
     "text": [
      "The list is empty\n"
     ]
    }
   ],
   "source": [
    "if not lista_vacia:\n",
    "    print('The list is empty')\n",
    "else:\n",
    "    print('The data was recorded into the list')"
   ]
  },
  {
   "cell_type": "markdown",
   "metadata": {},
   "source": [
    "<table align=\"left\">\n",
    " <tr><td width=\"80\"><img src=\"./img/ejercicio.png\" style=\"width:auto;height:auto\"></td>\n",
    "     <td style=\"text-align:left\">\n",
    "         <h3>Ejercicio de listas 3</h3>\n",
    "\n",
    "Escribe el código para encontrar qué palabras tienen una longitud mayor que 4 en un string que contiene una frase\n",
    "<ol>\n",
    "    <li>String > my_string = \"en esta clase tenemos mucho que aprender sobre listas y listillas\"</li>\n",
    "    <li>Instrucción 1: utiliza un método que te permita pasar este string a una lista</li>\n",
    "    <li>Instrucción 2: tendrás que identificar qué elementos de la lista tienen una longitud mayor a \"4\"</li>\n",
    "    <li>Instrucción 3: tendrás almacenar estas palabras en una nueva lista </li>\n",
    "</ol>\n",
    "         \n",
    " </td></tr>\n",
    "</table>"
   ]
  },
  {
   "cell_type": "code",
   "execution_count": 169,
   "metadata": {},
   "outputs": [
    {
     "name": "stdout",
     "output_type": "stream",
     "text": [
      "['clase', 'tenemos', 'mucho', 'aprender', 'sobre', 'listas', 'listillas']\n"
     ]
    }
   ],
   "source": [
    "my_string = \"en esta clase tenemos mucho que aprender sobre listas y listillas\"\n",
    "\n",
    "my_list = my_string.split()\n",
    "\n",
    "long_words = []\n",
    "\n",
    "for palabra in my_list:\n",
    "    if len(palabra) > 4:\n",
    "        long_words.append(palabra)\n",
    "\n",
    "print(long_words)\n"
   ]
  },
  {
   "cell_type": "markdown",
   "metadata": {},
   "source": [
    "<table align=\"left\">\n",
    " <tr><td width=\"80\"><img src=\"./img/ejercicio.png\" style=\"width:auto;height:auto\"></td>\n",
    "     <td style=\"text-align:left\">\n",
    "         <h3>Ejercicio de listas 4</h3>\n",
    "\n",
    "Escribe el código para encontrar qué elementos comunes tienen estas dos listas\n",
    "<ol>\n",
    "    <li>Lista 1 > list1=[1,2,3,4,5]</li>\n",
    "    <li>Lista 1 > list2=[5,6,7,8,9]</li>\n",
    "    <li>Hint: lo puedes resolver mediante un bucle for</li>\n",
    "</ol>\n",
    "         \n",
    " </td></tr>\n",
    "</table>"
   ]
  },
  {
   "cell_type": "code",
   "execution_count": 4,
   "metadata": {},
   "outputs": [
    {
     "name": "stdout",
     "output_type": "stream",
     "text": [
      "Tiene un elemento comun en list1[4] y en list2[0]: 5\n"
     ]
    }
   ],
   "source": [
    "list1 = [1,2,3,4,5]\n",
    "list2 = [5,6,7,8,9]\n",
    "\n",
    "for i in range(len(list1)):\n",
    "    for j in range(len(list2)):\n",
    "        if list1[i] == list2[j]:\n",
    "            print(f\"Tiene un elemento comun en list1[{i}] y en list2[{j}]: {list1[i]}\")"
   ]
  },
  {
   "cell_type": "code",
   "execution_count": 5,
   "metadata": {},
   "outputs": [
    {
     "name": "stdout",
     "output_type": "stream",
     "text": [
      "[5]\n"
     ]
    }
   ],
   "source": [
    "list_aux=[]\n",
    "for elemento in list1:\n",
    "    if elemento in list2:\n",
    "        list_aux.append(elemento)\n",
    "print(list_aux)        "
   ]
  },
  {
   "cell_type": "markdown",
   "metadata": {},
   "source": [
    "<table align=\"left\">\n",
    " <tr><td width=\"80\"><img src=\"./img/ejercicio.png\" style=\"width:auto;height:auto\"></td>\n",
    "     <td style=\"text-align:left\">\n",
    "         <h3>Ejercicio de listas 5</h3>\n",
    "\n",
    "Dada la siguiente lista > list_all = [7,32,81,20,25,14,32,23,32,27]\n",
    "<ol>\n",
    "    <li>Escribe el código para devolver todos los elementos de una lista tras eliminar números impares</li>\n",
    "    <li>Suma todos los elementos de la lista</li>\n",
    "    <li>Devuelve el mayor elemento de la lista</li>\n",
    "    <li>Obtén el número de veces que aparece el número \"32\"</li>\n",
    "    <li>Obtén el índice en el que aparece el número \"32\" (puede haber varios índices) usando 'range'</li>\n",
    "    <li>Obtén el índice en el que aparece el número \"32\" (puede haber varios índices) usando 'enumerate'</li>\n",
    "</ol>\n",
    "         \n",
    " </td></tr>\n",
    "</table>"
   ]
  },
  {
   "cell_type": "code",
   "execution_count": 9,
   "metadata": {},
   "outputs": [
    {
     "name": "stdout",
     "output_type": "stream",
     "text": [
      "[32, 20, 14, 32, 32]\n"
     ]
    }
   ],
   "source": [
    "list_all = [7,32,81,20,25,14,32,23,32,27]\n",
    "#1. \n",
    "for index,elemento in enumerate(list_all):\n",
    "    if elemento%2!=0:\n",
    "        #list_all.remove(elemento)\n",
    "        list_all.pop(index)\n",
    "print(list_all) \n",
    "       \n",
    "# for i in range(list_all):\n",
    "#     if list_all[i]%2!=0:\n",
    "#         # list_all.pop(i)\n",
    "#         list_all.remove(list_all[i])"
   ]
  },
  {
   "cell_type": "code",
   "execution_count": 12,
   "metadata": {},
   "outputs": [
    {
     "name": "stdout",
     "output_type": "stream",
     "text": [
      "130\n",
      "130\n"
     ]
    }
   ],
   "source": [
    "#2\n",
    "#declaracion de variable auxiliar\n",
    "resultado=0\n",
    "#sumar elementos de la lista\n",
    "for elemento in list_all:\n",
    "    resultado+=elemento\n",
    "print(resultado)\n",
    "#funcion sum\n",
    "print(sum(list_all))    \n"
   ]
  },
  {
   "cell_type": "code",
   "execution_count": 14,
   "metadata": {},
   "outputs": [
    {
     "name": "stdout",
     "output_type": "stream",
     "text": [
      "32\n",
      "14\n"
     ]
    }
   ],
   "source": [
    "#3\n",
    "print(max(list_all))\n",
    "#devolver el menor de la lista\n",
    "print(min(list_all))\n"
   ]
  },
  {
   "cell_type": "code",
   "execution_count": 15,
   "metadata": {},
   "outputs": [
    {
     "name": "stdout",
     "output_type": "stream",
     "text": [
      "3\n"
     ]
    }
   ],
   "source": [
    "#4\n",
    "print(list_all.count(32))"
   ]
  },
  {
   "cell_type": "code",
   "execution_count": 17,
   "metadata": {},
   "outputs": [
    {
     "name": "stdout",
     "output_type": "stream",
     "text": [
      "5. [0, 3, 4]\n"
     ]
    }
   ],
   "source": [
    "#5\n",
    "listaAux = []\n",
    "for i in range(len(list_all)):\n",
    "    if list_all[i] == 32:\n",
    "        listaAux.append(i)\n",
    "print(\"5.\", listaAux)"
   ]
  },
  {
   "cell_type": "code",
   "execution_count": 16,
   "metadata": {},
   "outputs": [
    {
     "name": "stdout",
     "output_type": "stream",
     "text": [
      "5. [0, 3, 4]\n"
     ]
    }
   ],
   "source": [
    "#6\n",
    "listaAux = []\n",
    "for idx, valor in enumerate(list_all):\n",
    "    if valor == 32:\n",
    "        listaAux.append(idx)\n",
    "print(\"5.\", listaAux)"
   ]
  },
  {
   "cell_type": "markdown",
   "metadata": {},
   "source": [
    "<table align=\"left\">\n",
    " <tr><td width=\"80\"><img src=\"./img/ejercicio.png\" style=\"width:auto;height:auto\"></td>\n",
    "     <td style=\"text-align:left\">\n",
    "         <h3>Ejercicio de listas 6</h3>\n",
    "\n",
    "Ordena la lista en base al tamaño de sus elementos > list_all = [\"AAA\", \"BB\", \"C\"]\n",
    "<ol>\n",
    "    <li>Hint: Puedes utilizar parámetros del método para ordenar listas</li>\n",
    "</ol>\n",
    "         \n",
    " </td></tr>\n",
    "</table>"
   ]
  },
  {
   "cell_type": "code",
   "execution_count": 20,
   "metadata": {},
   "outputs": [
    {
     "name": "stdout",
     "output_type": "stream",
     "text": [
      "['C', 'BB', 'AAA']\n"
     ]
    }
   ],
   "source": [
    "list_all = [\"AAA\", \"BB\", \"C\"]\n",
    "\n",
    "list_all.sort(key=len)\n",
    "print(list_all)"
   ]
  },
  {
   "cell_type": "markdown",
   "metadata": {},
   "source": [
    "## 2. Tuplas\n",
    "Muy similares a las listas. Si en Notebooks anteriores definíamos a las listas como ordenadas y mutables, las tuplas son ordenadas e inmutables.\n",
    "\n",
    "* **Inmutables**: una vez creada la tupla con sus elementos iniciales, no se puede modificar\n",
    "* **Ordenadas**: podemos acceder a sus elementos a través del indice y reordenar la tupla según queramos\n",
    "\n",
    "Las tuplas se suelen usar para pequeñas colecciones de datos que no van a cambiar a lo largo del programa, como es el caso de las constantes.\n",
    "\n",
    "Si las listas se construían mediante corchetes `[]`, las tuplas lo hacen con los paréntesis `()`"
   ]
  },
  {
   "cell_type": "code",
   "execution_count": 37,
   "metadata": {},
   "outputs": [
    {
     "name": "stdout",
     "output_type": "stream",
     "text": [
      "(3, 'text')\n",
      "<class 'tuple'>\n"
     ]
    }
   ],
   "source": [
    "primera_tupla = (3, \"text\")\n",
    "print(primera_tupla)\n",
    "print(type(primera_tupla))"
   ]
  },
  {
   "cell_type": "markdown",
   "metadata": {},
   "source": [
    "Los paréntesis ya se usan para reordenar operaciones `5 * (3 + 4)`, por lo que hay que añadir una coma cuando definamos una tupla con un único elemento, sino Python lo interpretará como un número."
   ]
  },
  {
   "cell_type": "code",
   "execution_count": 1,
   "metadata": {
    "collapsed": true,
    "jupyter": {
     "outputs_hidden": true
    },
    "tags": []
   },
   "outputs": [],
   "source": [
    "tupla_anid = (1, 2, 3, (\"A\", \"B\", \"C\"))\n"
   ]
  },
  {
   "cell_type": "code",
   "execution_count": 5,
   "metadata": {},
   "outputs": [],
   "source": [
    "# Count, index, slicing\n",
    "\n"
   ]
  },
  {
   "cell_type": "markdown",
   "metadata": {},
   "source": [
    "<table align=\"left\">\n",
    " <tr><td width=\"80\"><img src=\"./img/error.png\" style=\"width:auto;height:auto\"></td>\n",
    "     <td style=\"text-align:left\">\n",
    "         <h3>ERRORES tuplas</h3>\n",
    "         \n",
    " </td></tr>\n",
    "</table>"
   ]
  },
  {
   "cell_type": "markdown",
   "metadata": {},
   "source": [
    "Cuidado que las tuplas son inmutables, y una vez creadas no las podrás modificar después"
   ]
  },
  {
   "cell_type": "code",
   "execution_count": 47,
   "metadata": {
    "collapsed": true,
    "jupyter": {
     "outputs_hidden": true
    },
    "tags": []
   },
   "outputs": [
    {
     "ename": "TypeError",
     "evalue": "'tuple' object does not support item assignment",
     "output_type": "error",
     "traceback": [
      "\u001b[1;31m---------------------------------------------------------------------------\u001b[0m",
      "\u001b[1;31mTypeError\u001b[0m                                 Traceback (most recent call last)",
      "\u001b[1;32m<ipython-input-47-d9af5c266f87>\u001b[0m in \u001b[0;36m<module>\u001b[1;34m\u001b[0m\n\u001b[0;32m      1\u001b[0m \u001b[0mtupla_error\u001b[0m \u001b[1;33m=\u001b[0m \u001b[1;33m(\u001b[0m\u001b[1;36m1\u001b[0m\u001b[1;33m,\u001b[0m\u001b[1;36m2\u001b[0m\u001b[1;33m,\u001b[0m\u001b[1;36m3\u001b[0m\u001b[1;33m)\u001b[0m\u001b[1;33m\u001b[0m\u001b[1;33m\u001b[0m\u001b[0m\n\u001b[1;32m----> 2\u001b[1;33m \u001b[0mtupla_error\u001b[0m\u001b[1;33m[\u001b[0m\u001b[1;36m0\u001b[0m\u001b[1;33m]\u001b[0m \u001b[1;33m=\u001b[0m \u001b[1;36m10\u001b[0m\u001b[1;33m\u001b[0m\u001b[1;33m\u001b[0m\u001b[0m\n\u001b[0m",
      "\u001b[1;31mTypeError\u001b[0m: 'tuple' object does not support item assignment"
     ]
    }
   ],
   "source": [
    "tupla_error = (1,2,3)\n",
    "tupla_error[0] = 10"
   ]
  },
  {
   "cell_type": "code",
   "execution_count": 45,
   "metadata": {},
   "outputs": [
    {
     "name": "stdout",
     "output_type": "stream",
     "text": [
      "(1, 2, 3, 4, 5, 6)\n"
     ]
    }
   ],
   "source": [
    "# Si queremos añadir elementos, podemos meterlos en otra tupla y sumarlas para que se concatenen\n",
    "tupla1 = (1,2,3)\n",
    "tupla2 = (4,5,6)\n",
    "\n",
    "print(tupla1 + tupla2)"
   ]
  },
  {
   "cell_type": "markdown",
   "metadata": {},
   "source": [
    "### Listas y tuplas\n",
    "Podemos combinar listas y tuplas que no tendremos ningún problema, siempre y cuando respetemos las propiedades de cada tipo de dato."
   ]
  },
  {
   "cell_type": "code",
   "execution_count": 6,
   "metadata": {},
   "outputs": [],
   "source": [
    "mi_tupla = (\"Naranjas\", \"Limones\")\n",
    "frutas = [\"Manzanas\", mi_tupla, \"Fresas\"]\n",
    "\n"
   ]
  },
  {
   "cell_type": "code",
   "execution_count": 48,
   "metadata": {},
   "outputs": [
    {
     "name": "stdout",
     "output_type": "stream",
     "text": [
      "['Manzanas', ('Naranjas', 'Limones'), 'Fresas', 'Melocoton', 'Melocoton']\n"
     ]
    },
    {
     "ename": "AttributeError",
     "evalue": "'tuple' object has no attribute 'append'",
     "output_type": "error",
     "traceback": [
      "\u001b[1;31m---------------------------------------------------------------------------\u001b[0m",
      "\u001b[1;31mAttributeError\u001b[0m                            Traceback (most recent call last)",
      "\u001b[1;32mC:\\Users\\MIGUEL~1\\AppData\\Local\\Temp/ipykernel_9092/1662717813.py\u001b[0m in \u001b[0;36m<module>\u001b[1;34m\u001b[0m\n\u001b[0;32m      1\u001b[0m \u001b[0mfrutas\u001b[0m\u001b[1;33m.\u001b[0m\u001b[0mappend\u001b[0m\u001b[1;33m(\u001b[0m\u001b[1;34m\"Melocoton\"\u001b[0m\u001b[1;33m)\u001b[0m\u001b[1;33m\u001b[0m\u001b[1;33m\u001b[0m\u001b[0m\n\u001b[0;32m      2\u001b[0m \u001b[0mprint\u001b[0m\u001b[1;33m(\u001b[0m\u001b[0mfrutas\u001b[0m\u001b[1;33m)\u001b[0m\u001b[1;33m\u001b[0m\u001b[1;33m\u001b[0m\u001b[0m\n\u001b[1;32m----> 3\u001b[1;33m \u001b[0mfrutas\u001b[0m\u001b[1;33m[\u001b[0m\u001b[1;36m1\u001b[0m\u001b[1;33m]\u001b[0m\u001b[1;33m.\u001b[0m\u001b[0mappend\u001b[0m\u001b[1;33m(\u001b[0m\u001b[1;34m\"Otro melocoton\"\u001b[0m\u001b[1;33m)\u001b[0m\u001b[1;33m\u001b[0m\u001b[1;33m\u001b[0m\u001b[0m\n\u001b[0m",
      "\u001b[1;31mAttributeError\u001b[0m: 'tuple' object has no attribute 'append'"
     ]
    }
   ],
   "source": [
    "frutas.append(\"Melocoton\")\n",
    "print(frutas)\n",
    "frutas[1].append(\"Otro melocoton\")"
   ]
  },
  {
   "cell_type": "markdown",
   "metadata": {},
   "source": [
    "<table align=\"left\">\n",
    " <tr><td width=\"80\"><img src=\"./img/ejercicio.png\" style=\"width:auto;height:auto\"></td>\n",
    "     <td style=\"text-align:left\">\n",
    "         <h3>Ejercicio de tuplas 1</h3>\n",
    "\n",
    "\n",
    "<ol>\n",
    "    <li>Crea una tupla con un único valor. Comprueba su tipo</li>\n",
    "    <li>Crea otra tupla con 3 elementos</li>\n",
    "    <li>Añadele (como puedas) a la primera tupla, los tres elementos de la segunda</li>\n",
    "    <li>Obtén una cuarta tupla a partir de los dos primeros valores de la tupla creada del apartado anterior</li>\n",
    "</ol>\n",
    "         \n",
    " </td></tr>\n",
    "</table>"
   ]
  },
  {
   "cell_type": "code",
   "execution_count": null,
   "metadata": {},
   "outputs": [],
   "source": []
  },
  {
   "cell_type": "markdown",
   "metadata": {},
   "source": [
    "<table align=\"left\">\n",
    " <tr><td width=\"80\"><img src=\"./img/ejercicio.png\" style=\"width:auto;height:auto\"></td>\n",
    "     <td style=\"text-align:left\">\n",
    "         <h3>Ejercicio de tuplas 2</h3>\n",
    "\n",
    "Imagina que estás gestionando una biblioteca y necesitas organizar información sobre diferentes libros. Cada libro tiene un título, un autor, un año de publicación y una categoría. Utiliza tuplas para representar la información de cada libro y realiza operaciones que serían más complicadas o menos eficientes con listas.\n",
    "\n",
    "<ol>\n",
    "    <li>Crea una tupla para representar la información de al menos tres libros. Cada tupla debe contener el título, autor, año de publicación y categoría.</li>\n",
    "    <li>Imprime la información de un libro específico. Accede a la tupla y muestra el título y el autor.</li>\n",
    "    <li>Intenta cambiar el año de publicación de un libro después de crear la tupla. ¿Puedes hacerlo? ¿Por qué?</li>\n",
    "    <li>Imagina que quieres almacenar información adicional sobre la disponibilidad de cada libro en la biblioteca, como el número de copias disponibles y el número total de copias. ¿Cómo podrías representar esta información usando tuplas?\n",
    "</li>\n",
    "</ol>\n",
    "         \n",
    " </td></tr>\n",
    "</table>"
   ]
  },
  {
   "cell_type": "code",
   "execution_count": null,
   "metadata": {},
   "outputs": [],
   "source": []
  },
  {
   "cell_type": "markdown",
   "metadata": {},
   "source": [
    "## 3. Diccionarios\n",
    "En este tipo de colecciones no solo podemos agrupar datos, sino que tenemos la posibilidad de establecer una relación entre los mismos, con la forma **clave: valor**.\n",
    "\n",
    "La sintaxis  es mediante llaves `{}`\n",
    "\n",
    "> nombre_diccionario = {clave1: valor1, clave2: valor2, clave3: valor3}\n",
    "\n",
    "Si veíamos que las listas son elementos mutables y y ordenadas, y las tuplas inmutables y ordenadas, los diccionarios son:\n",
    "\n",
    "* **Mutables**: podemos modificar sus elementos\n",
    "* **Desordenado**: la potencia de acceso de los diccionarios es su formato clave-valor, no su orden. Aun así, el dicionario conserva el orden de los elemento según los vamos insertando.\n",
    "\n",
    "Vamos a declarar un diccionario en el que definiremos elementos de un coche"
   ]
  },
  {
   "cell_type": "code",
   "execution_count": 29,
   "metadata": {},
   "outputs": [
    {
     "data": {
      "text/plain": [
       "{'color': 'Gris', 'marca': 'VW', 'peso': 1500, 'Cambio automatico': False}"
      ]
     },
     "execution_count": 29,
     "metadata": {},
     "output_type": "execute_result"
    }
   ],
   "source": [
    "coche = {\"color\": \"Gris\",\n",
    "        \"marca\": \"VW\",\n",
    "        \"peso\": 1500,\n",
    "        \"Cambio automatico\": True,\n",
    "        \"Cambio automatico\": False}\n",
    "coche"
   ]
  },
  {
   "cell_type": "markdown",
   "metadata": {},
   "source": [
    "Se puede almacenar todo tipo de datos: numero, cadena, booleano, listas, tuplas, diccionarios...\n",
    "\n",
    "Cuando declaremos el diccionario, lo podemos hacer en una sola linea `coche = {\"color\"=\"Gris\", \"marca\"...}`, aunque se recomienda por sencillez a la hora de leer el código, realizar esta acción en varias líneas. Si escribimos el primer elemento y presionamos enter, Jupyter introduce automáticamente la tabulación."
   ]
  },
  {
   "cell_type": "markdown",
   "metadata": {},
   "source": [
    "### Acceso, modificación, añadir, eliminar"
   ]
  },
  {
   "cell_type": "code",
   "execution_count": 31,
   "metadata": {},
   "outputs": [],
   "source": [
    "# Acceso\n",
    "\n",
    "# Modificar\n",
    "\n",
    "# Añadir\n",
    "\n",
    "# Eliminar\n"
   ]
  },
  {
   "cell_type": "code",
   "execution_count": 7,
   "metadata": {},
   "outputs": [],
   "source": [
    "# Podemos acceder a las claves y valores"
   ]
  },
  {
   "cell_type": "markdown",
   "metadata": {},
   "source": [
    "Para más detalle de los métodos de los diccionario puedes [consultar la documentación](https://www.w3schools.com/python/python_ref_dictionary.asp)"
   ]
  },
  {
   "cell_type": "code",
   "execution_count": 51,
   "metadata": {},
   "outputs": [],
   "source": [
    "# Podemos empezar tambien mediante un diccionario vacío\n",
    "tienda = {}\n"
   ]
  },
  {
   "cell_type": "markdown",
   "metadata": {},
   "source": [
    "<table align=\"left\">\n",
    " <tr><td width=\"80\"><img src=\"./img/error.png\" style=\"width:auto;height:auto\"></td>\n",
    "     <td style=\"text-align:left\">\n",
    "         <h3>ERRORES en diccionarios</h3>\n",
    "         \n",
    " </td></tr>\n",
    "</table>"
   ]
  },
  {
   "cell_type": "markdown",
   "metadata": {},
   "source": [
    "Si hay una clave que no existe en el diccionario, saltará un error.\n",
    "\n",
    "En este caso, el error es bastante intuitivo: `KeyError`, no encuentra la clave"
   ]
  },
  {
   "cell_type": "code",
   "execution_count": 53,
   "metadata": {},
   "outputs": [
    {
     "ename": "KeyError",
     "evalue": "'peso'",
     "output_type": "error",
     "traceback": [
      "\u001b[1;31m---------------------------------------------------------------------------\u001b[0m",
      "\u001b[1;31mKeyError\u001b[0m                                  Traceback (most recent call last)",
      "\u001b[1;32m~\\AppData\\Local\\Temp\\ipykernel_13108\\675840988.py\u001b[0m in \u001b[0;36m<module>\u001b[1;34m\u001b[0m\n\u001b[0;32m      1\u001b[0m coche = {\"color\": \"Gris\",\n\u001b[0;32m      2\u001b[0m         \"marca\": \"VW\"}\n\u001b[1;32m----> 3\u001b[1;33m \u001b[0mcoche\u001b[0m\u001b[1;33m[\u001b[0m\u001b[1;34m\"peso\"\u001b[0m\u001b[1;33m]\u001b[0m\u001b[1;33m\u001b[0m\u001b[1;33m\u001b[0m\u001b[0m\n\u001b[0m",
      "\u001b[1;31mKeyError\u001b[0m: 'peso'"
     ]
    }
   ],
   "source": [
    "coche = {\"color\": \"Gris\",\n",
    "        \"marca\": \"VW\"}\n",
    "coche[\"peso\"]"
   ]
  },
  {
   "cell_type": "markdown",
   "metadata": {},
   "source": [
    "**¿Cómo solventar esto?** Sirmpre tienes la opción de usar el bloque `try/except`, pero en este caso, los diccionarios tienen una solución más elegante: `get(clave, valor si no existe)`"
   ]
  },
  {
   "cell_type": "code",
   "execution_count": 56,
   "metadata": {},
   "outputs": [],
   "source": [
    "a = coche.get(\"peso\", \"No hay peso\")"
   ]
  },
  {
   "cell_type": "code",
   "execution_count": 57,
   "metadata": {},
   "outputs": [
    {
     "name": "stdout",
     "output_type": "stream",
     "text": [
      "No hay ruedas\n"
     ]
    }
   ],
   "source": [
    "a = coche.get(\"ruedas\", False)\n",
    "if a == False:\n",
    "    print(\"No hay ruedas\")"
   ]
  },
  {
   "cell_type": "markdown",
   "metadata": {},
   "source": [
    "### Iterar\n",
    "Que el diccionario no esté ordenado, no quiere decir que no podamos iterar sus elementos, ya que también es un **iterable**, como los son las listas o las tuplas."
   ]
  },
  {
   "cell_type": "code",
   "execution_count": 14,
   "metadata": {},
   "outputs": [],
   "source": [
    "coche = {\"color\": \"Gris\",\n",
    "        \"marca\": \"VW\"}\n"
   ]
  },
  {
   "cell_type": "code",
   "execution_count": 17,
   "metadata": {},
   "outputs": [],
   "source": [
    "# Métodos items para acceder a la clave y valor\n"
   ]
  },
  {
   "cell_type": "markdown",
   "metadata": {},
   "source": [
    "<table align=\"left\">\n",
    " <tr><td width=\"80\"><img src=\"./img/ejercicio.png\" style=\"width:auto;height:auto\"></td>\n",
    "     <td style=\"text-align:left\">\n",
    "         <h3>Ejercicio de diccionarios 1</h3>\n",
    "\n",
    "\n",
    "<ol>\n",
    "    <li>Crea un diccionario con las caracteristicas de un televisor: tamaño, smarttv, marca...</li>\n",
    "    <li>Añade otra catacteristica del tv</li>\n",
    "    <li>Modifica una de ellas</li>\n",
    "    <li>Imprime por pantalla sus claves, valores e items</li>\n",
    "</ol>\n",
    "         \n",
    " </td></tr>\n",
    "</table>"
   ]
  },
  {
   "cell_type": "code",
   "execution_count": null,
   "metadata": {},
   "outputs": [],
   "source": []
  },
  {
   "cell_type": "markdown",
   "metadata": {},
   "source": [
    "<table align=\"left\">\n",
    " <tr><td width=\"80\"><img src=\"./img/ejercicio.png\" style=\"width:auto;height:auto\"></td>\n",
    "     <td style=\"text-align:left\">\n",
    "         <h3>Ejercicio de diccionarios 2</h3>\n",
    "\n",
    "\n",
    "<ol>\n",
    "    <li>A partir del diccionario \"sample_dict\" crea un diccionario nuevo que contenga las claves indicadas en \"keys\"</li>\n",
    "    <li>Hint: Puedes utilizar el método pop</li>\n",
    "</ol>\n",
    "         \n",
    " </td></tr>\n",
    "</table>"
   ]
  },
  {
   "cell_type": "code",
   "execution_count": null,
   "metadata": {},
   "outputs": [],
   "source": [
    "# Inputs:\n",
    "sample_dict = {\n",
    "    \"name\": \"Kelly\",\n",
    "    \"age\": 25,\n",
    "    \"salary\": 8000,\n",
    "    \"city\": \"New york\"}\n",
    "\n",
    "# Keys to extract\n",
    "keys = [\"name\", \"salary\"]"
   ]
  },
  {
   "cell_type": "markdown",
   "metadata": {},
   "source": [
    "<table align=\"left\">\n",
    " <tr><td width=\"80\"><img src=\"./img/ejercicio.png\" style=\"width:auto;height:auto\"></td>\n",
    "     <td style=\"text-align:left\">\n",
    "         <h3>Ejercicio de diccionarios 3</h3>\n",
    "\n",
    "\n",
    "<ol>\n",
    "    <li>En el diccionario \"sample_dict\" devuelve la asignatura en el que el alumno ha sacado peor nota</li>\n",
    "    <li>Devuelve en una lista todas las asignaturas</li>\n",
    "    <li>Devuelve las notas ordenadas de menor a mayor</li>\n",
    "    <li>Devuelve la nota media</li>\n",
    "</ol>\n",
    "         \n",
    " </td></tr>\n",
    "</table>"
   ]
  },
  {
   "cell_type": "code",
   "execution_count": null,
   "metadata": {},
   "outputs": [],
   "source": [
    "sample_dict = {\n",
    "  'Physics': 82,\n",
    "  'Math': 65,\n",
    "  'history': 75\n",
    "}"
   ]
  },
  {
   "cell_type": "markdown",
   "metadata": {},
   "source": [
    "## 4. Sets\n",
    "Otra colección *bulit-in* de Python, compuesta por un conjunto de *claves*. Muy parecidos a los diccionarios. Tienen las siguientes características:\n",
    "* **Mutables**: podemos modificarlos una vez se hayan creado\n",
    "* **No ordenado**\n",
    "* **Elementos unicos**: se compone de un conjunto de claves únicas\n",
    "\n",
    "**¿Cuándo usar sets?** Cuando estemos buscando unicidad en nuestros datos y no nos importe el orden.\n",
    "\n",
    "Te dejo por aquí [la documentación](https://docs.python.org/2/library/sets.html) para realizar consultas sobre los sets\n",
    "\n",
    "Su sintaxis es:\n",
    ">```Python\n",
    "> mi_set = {elemento1, elemento2, elemento3}\n",
    ">```\n",
    "\n",
    "Tiene una sintaxis muy parecida a la de los diccionarios, pero en este caso no se utilizan los `:`. "
   ]
  },
  {
   "cell_type": "code",
   "execution_count": 71,
   "metadata": {},
   "outputs": [
    {
     "name": "stdout",
     "output_type": "stream",
     "text": [
      "{'azul', 'rojo', 'blanco'}\n"
     ]
    }
   ],
   "source": [
    "colores = {\"rojo\", \"azul\", \"blanco\"}\n",
    "print(colores)\n"
   ]
  },
  {
   "cell_type": "markdown",
   "metadata": {},
   "source": [
    "Los elementos del set son unicos, por lo que si en la declaración, o posteriormente añadiendo elementos hubiese algún duplicado, el set lo ignoraría. Es más, cuando aplicas el `len`, muestra la cantidad de valores únicos que tiene."
   ]
  },
  {
   "cell_type": "code",
   "execution_count": null,
   "metadata": {
    "collapsed": true,
    "jupyter": {
     "outputs_hidden": true
    },
    "tags": []
   },
   "outputs": [],
   "source": []
  },
  {
   "cell_type": "markdown",
   "metadata": {},
   "source": [
    "Para comprobar si dos sets tienen los mismos elementos"
   ]
  },
  {
   "cell_type": "code",
   "execution_count": null,
   "metadata": {},
   "outputs": [],
   "source": []
  },
  {
   "cell_type": "code",
   "execution_count": null,
   "metadata": {},
   "outputs": [],
   "source": []
  },
  {
   "cell_type": "code",
   "execution_count": null,
   "metadata": {},
   "outputs": [],
   "source": [
    "# Comprobar los elementos iguales\n"
   ]
  },
  {
   "cell_type": "markdown",
   "metadata": {},
   "source": [
    "## 5. Conversiones entre colecciones\n",
    "\n",
    "### De lista"
   ]
  },
  {
   "cell_type": "code",
   "execution_count": 73,
   "metadata": {
    "collapsed": true,
    "jupyter": {
     "outputs_hidden": true
    },
    "tags": []
   },
   "outputs": [
    {
     "name": "stdout",
     "output_type": "stream",
     "text": [
      "[1, 2, 3, 3, 3, 3, 3, 3, 3]\n"
     ]
    }
   ],
   "source": [
    "list_1 = [1,2,3,3,3,3,3,3,3]\n",
    "print(list_1)\n",
    "\n",
    "# A tupla\n",
    "\n",
    "# A set\n"
   ]
  },
  {
   "cell_type": "markdown",
   "metadata": {},
   "source": [
    "### De Tupla"
   ]
  },
  {
   "cell_type": "code",
   "execution_count": 74,
   "metadata": {},
   "outputs": [
    {
     "name": "stdout",
     "output_type": "stream",
     "text": [
      "(1, 2, 3)\n"
     ]
    }
   ],
   "source": [
    "tupla_1 = (1,2,3)\n",
    "print(tupla_1)\n",
    "\n",
    "# A lista\n",
    "\n",
    "# A set\n",
    "\n",
    "# A diccionario\n"
   ]
  },
  {
   "cell_type": "markdown",
   "metadata": {},
   "source": [
    "### De diccionario"
   ]
  },
  {
   "cell_type": "code",
   "execution_count": 77,
   "metadata": {
    "collapsed": true,
    "jupyter": {
     "outputs_hidden": true
    },
    "tags": []
   },
   "outputs": [
    {
     "name": "stdout",
     "output_type": "stream",
     "text": [
      "{'Ciudad': 'Madrid', 'Tiempo': 'nublado'}\n"
     ]
    }
   ],
   "source": [
    "tupla_dict = [(\"Ciudad\", \"Madrid\"), (\"Tiempo\", \"nublado\")]\n",
    "dict_1 = dict(tupla_dict)\n",
    "print(dict_1)\n",
    "\n",
    "# A lista\n",
    "\n",
    "# A tupla\n",
    "\n",
    "# A set\n"
   ]
  },
  {
   "cell_type": "code",
   "execution_count": 75,
   "metadata": {},
   "outputs": [],
   "source": [
    "# Creando una lista vacía y recorriendonosla"
   ]
  },
  {
   "cell_type": "markdown",
   "metadata": {},
   "source": [
    "Se queda únicamente con las claves, y perdemos los valores. Para no perder la informacion:"
   ]
  },
  {
   "cell_type": "code",
   "execution_count": null,
   "metadata": {
    "collapsed": true,
    "jupyter": {
     "outputs_hidden": true
    },
    "tags": []
   },
   "outputs": [],
   "source": []
  },
  {
   "cell_type": "markdown",
   "metadata": {},
   "source": [
    "### De Set"
   ]
  },
  {
   "cell_type": "code",
   "execution_count": 79,
   "metadata": {
    "collapsed": true,
    "jupyter": {
     "outputs_hidden": true
    },
    "tags": []
   },
   "outputs": [
    {
     "name": "stdout",
     "output_type": "stream",
     "text": [
      "{1, 2, 3}\n"
     ]
    }
   ],
   "source": [
    "set_1 = {1,2,3}\n",
    "print(set_1)\n"
   ]
  },
  {
   "cell_type": "markdown",
   "metadata": {},
   "source": [
    "<table align=\"left\">\n",
    " <tr><td width=\"80\"><img src=\"./img/error.png\" style=\"width:auto;height:auto\"></td>\n",
    "     <td style=\"text-align:left\">\n",
    "         <h3>ERRORES en conversiones</h3>\n",
    "         \n",
    " </td></tr>\n",
    "</table>"
   ]
  },
  {
   "cell_type": "markdown",
   "metadata": {},
   "source": [
    "El diccionario suele dar problemas cuando intentamos realizar conversiones entre colecciones, ya que es la estrutura más compleja."
   ]
  },
  {
   "cell_type": "code",
   "execution_count": 34,
   "metadata": {},
   "outputs": [
    {
     "ename": "TypeError",
     "evalue": "cannot convert dictionary update sequence element #0 to a sequence",
     "output_type": "error",
     "traceback": [
      "\u001b[1;31m---------------------------------------------------------------------------\u001b[0m",
      "\u001b[1;31mTypeError\u001b[0m                                 Traceback (most recent call last)",
      "\u001b[1;32m<ipython-input-34-7f28c6012a4e>\u001b[0m in \u001b[0;36m<module>\u001b[1;34m\u001b[0m\n\u001b[0;32m      1\u001b[0m \u001b[0mmi_tupla\u001b[0m \u001b[1;33m=\u001b[0m \u001b[1;33m(\u001b[0m\u001b[1;36m1\u001b[0m\u001b[1;33m,\u001b[0m\u001b[1;36m2\u001b[0m\u001b[1;33m,\u001b[0m\u001b[1;36m3\u001b[0m\u001b[1;33m)\u001b[0m\u001b[1;33m\u001b[0m\u001b[1;33m\u001b[0m\u001b[0m\n\u001b[1;32m----> 2\u001b[1;33m \u001b[0mdict\u001b[0m\u001b[1;33m(\u001b[0m\u001b[0mmi_tupla\u001b[0m\u001b[1;33m)\u001b[0m\u001b[1;33m\u001b[0m\u001b[1;33m\u001b[0m\u001b[0m\n\u001b[0m",
      "\u001b[1;31mTypeError\u001b[0m: cannot convert dictionary update sequence element #0 to a sequence"
     ]
    }
   ],
   "source": [
    "mi_tupla = (1,2,3)\n",
    "dict(mi_tupla)"
   ]
  },
  {
   "cell_type": "markdown",
   "metadata": {},
   "source": [
    "<table align=\"left\">\n",
    " <tr><td width=\"80\"><img src=\"./img/ejercicio.png\" style=\"width:auto;height:auto\"></td>\n",
    "     <td style=\"text-align:left\">\n",
    "         <h3>Elimina los duplicados de la siguiente lista</h3>\n",
    "\n",
    "\n",
    "<ol>\n",
    "    <li>Lista > my_list = [1,2,3,7,2,1,5,6,4,8,5,4]\n",
    "</li>\n",
    "\n",
    "</ol>\n",
    "         \n",
    " </td></tr>\n",
    "</table>"
   ]
  },
  {
   "cell_type": "code",
   "execution_count": 83,
   "metadata": {},
   "outputs": [],
   "source": [
    "my_list = [1,2,3,7,2,1,5,6,4,8,5,4]"
   ]
  },
  {
   "cell_type": "markdown",
   "metadata": {},
   "source": [
    "## 6. Comprensión de listas\n",
    "\n",
    "Las listas pueden crearse también por comprensión (en inglés, *comprehension*). Esto tiene mucha relación con la definición de conjuntos por comprensión de las matemáticas. Sea por ejemplo, en matemáticas esta expresión:\n",
    "$$ S = \\{x^2 |\\ x \\in [3, 7), x \\  impar\\}$$\n",
    "Esta expresión define un conjunto $ S = \\{9, 25\\}$, puesto que el intervalo es abierto por la derecha, con lo que solo comprende los números 3, 4, 5 y 6, pero la condición dice que solo tengamos en cuenta los impares, es decir, 3 y 5, y la expresión del principio dice que tomemos los cuadrados. Recordando que para saber si un número es par o impar usamos en Python el operador módulo (`%`), esto se puede escribir (definiendo una lista `s` en lugar de un conjunto) como:"
   ]
  },
  {
   "cell_type": "code",
   "execution_count": 80,
   "metadata": {},
   "outputs": [],
   "source": [
    "list_comp = []\n",
    "\n",
    "# X en un rango entre 3 y 7\n",
    "\n",
    "# Condición de que X sea impar\n"
   ]
  },
  {
   "cell_type": "markdown",
   "metadata": {},
   "source": [
    "Si tenemos un trozo de código que define una lista de este tipo:\n",
    "``` python\n",
    "nueva_lista = []\n",
    "for e in vieja_lista:\n",
    "    if filtro(e):\n",
    "        nueva_lista.append(transformacion(e))\n",
    "```\n",
    "Se puede escribir, usando comprensión, como:\n",
    "```python\n",
    "nueva_lista = [transformacion(e) for e in vieja_lista if filtro(e)]\n",
    "```\n",
    "\n",
    "La definición de listas por comprensión es muy cómoda, compacta y expresiva. No obstante, no debemos abusar de ella; si la expresión que escribimos es muy compleja se puede volver muy difícil de leer. En ese caso sería preferible la definición \"clásica\" de la lista.\n",
    "\n",
    "Vamos a ver esto con un ejemplo. Supongamos una lista de `edades`, de la que queremos obtener una nueva lista, `mayores_edad` con las que sean mayores o iguales que 21. Escribiríamos:"
   ]
  },
  {
   "cell_type": "code",
   "execution_count": 81,
   "metadata": {},
   "outputs": [
    {
     "name": "stdout",
     "output_type": "stream",
     "text": [
      "[19, 20, 18, 21, 19, 25]\n"
     ]
    }
   ],
   "source": [
    "edades = [19, 20, 18, 21, 19, 25]\n",
    "print(edades)\n",
    "\n"
   ]
  },
  {
   "cell_type": "markdown",
   "metadata": {},
   "source": [
    "<table align=\"left\">\n",
    " <tr><td width=\"80\"><img src=\"./img/ejercicio.png\" style=\"width:auto;height:auto\"></td>\n",
    "     <td style=\"text-align:left\">\n",
    "         <h3>Ejercicio list comprehension</h3>\n",
    "\n",
    "Prueba a definir una lista temperaturas_menores, a partir de la lista temperaturas, con las temperaturas menores que 27 grados.\n",
    "         \n",
    "         temperaturas = [25.2, 24.9, 25.2, 26.7, 28.6, 29.5, 29.7]\n",
    "         \n",
    " </td></tr>\n",
    "</table>"
   ]
  },
  {
   "cell_type": "code",
   "execution_count": 82,
   "metadata": {},
   "outputs": [],
   "source": [
    "temperaturas = [25.2, 24.9, 25.2, 26.7, 28.6, 29.5, 29.7]\n",
    "\n"
   ]
  },
  {
   "cell_type": "markdown",
   "metadata": {},
   "source": [
    "## 7. Resumen"
   ]
  },
  {
   "cell_type": "code",
   "execution_count": null,
   "metadata": {},
   "outputs": [],
   "source": [
    "# Listas\n",
    "print(\"Listas\")\n",
    "nums = [6, 2, 8, 3, 4, 5, 5]\n",
    "\n",
    "# Tamaño\n",
    "print(len(nums))\n",
    "\n",
    "# Acceso\n",
    "print(nums[2])\n",
    "print(nums[-1])\n",
    "\n",
    "# Acceso por indice\n",
    "print(nums.index(5))\n",
    "nums.append('numeros')\n",
    "print(nums)\n",
    "\n",
    "# Eliminar\n",
    "nums.remove(\"numeros\")\n",
    "print(nums)\n",
    "\n",
    "# Ordenar\n",
    "nums.sort()\n",
    "print(nums)\n",
    "\n",
    "# Tamaño de la lista\n",
    "print(len(nums))\n",
    "\n",
    "# Invertir el orden\n",
    "nums.reverse()\n",
    "print(nums)\n",
    "\n",
    "# Ocurrencia de un valor\n",
    "print(nums.count(22))"
   ]
  },
  {
   "cell_type": "code",
   "execution_count": null,
   "metadata": {},
   "outputs": [],
   "source": [
    "# Tuplas\n",
    "primera_tupla = (3, \"text\")\n",
    "\n",
    "# Anidacion de tuplas\n",
    "tupla_anid = (1, 2, 3, (\"A\", \"B\", \"C\"))\n",
    "print(tupla_anid)\n",
    "\n",
    "# El acceso es como en las listas\n",
    "print(tupla_anid[0])\n",
    "\n",
    "# Tambien son elementos iterables\n",
    "for i in tupla_anid:\n",
    "    print(i)\n",
    "    \n",
    "# El slicing también funciona igual\n",
    "print(tupla_anid[0:2])\n",
    "\n",
    "# Longitud de la tupla\n",
    "print(len(tupla_anid))"
   ]
  },
  {
   "cell_type": "code",
   "execution_count": null,
   "metadata": {},
   "outputs": [],
   "source": [
    "# Diccionario\n",
    "coche = {\"color\": \"Gris\",\n",
    "        \"marca\": \"VW\",\n",
    "        \"peso\": 1500,\n",
    "        \"Cambio automatico\": True}\n",
    "\n",
    "print(coche)\n",
    "\n",
    "coche = {\"color\": \"Gris\",\n",
    "        \"marca\": \"VW\"\n",
    "        }\n",
    "\n",
    "for i in coche: # Esta recorriendo las claves\n",
    "    print(i) # Imprimimos la clave\n",
    "    print(coche[i]) # Imprimimos el valor\n",
    "    \n",
    "# Otra menera de recorrer los elementos\n",
    "for clave, valor in coche.items():\n",
    "    print(clave, valor)"
   ]
  },
  {
   "cell_type": "code",
   "execution_count": null,
   "metadata": {},
   "outputs": [],
   "source": [
    "# Sets\n",
    "colores = {\"rojo\", \"azul\", \"blanco\"}\n",
    "print(colores)\n",
    "\n",
    "# Mira lo que ocurre cuando ponemos duplicados\n",
    "colores2 = {\"rojo\", \"azul\", \"blanco\", \"rojo\"}\n",
    "print(colores2)\n",
    "\n",
    "# El len tambien funciona aqui\n",
    "len(colores2)\n",
    "\n",
    "# Crear un set vacio. No se crea con {}, ya que si no, sería un diccionario.\n",
    "dias = set()\n",
    "print(dias)\n",
    "\n",
    "# Añadir elementos\n",
    "dias.add(\"Lunes\")\n",
    "dias.add(\"Martes\")\n",
    "dias.add(\"Miercoles\")\n",
    "print(dias)\n",
    "\n",
    "# Eliminar elementos\n",
    "dias.remove(\"Miercoles\")\n",
    "print(dias)\n",
    "\n",
    "# Buscar elementos\n",
    "print(\"Lunes\" in dias)\n",
    "print(\"Viernes\" not in dias)\n",
    "\n",
    "# Tambien es un iterable\n",
    "for i in dias:\n",
    "    print(i)"
   ]
  },
  {
   "cell_type": "markdown",
   "metadata": {},
   "source": [
    "Para practicar:\n",
    "\n",
    "- [Ejercicios de listas](https://www.tutorjoes.in/python_programming_tutorial/list_programs_in_python)"
   ]
  }
 ],
 "metadata": {
  "kernelspec": {
   "display_name": "Python 3",
   "language": "python",
   "name": "python3"
  },
  "language_info": {
   "codemirror_mode": {
    "name": "ipython",
    "version": 3
   },
   "file_extension": ".py",
   "mimetype": "text/x-python",
   "name": "python",
   "nbconvert_exporter": "python",
   "pygments_lexer": "ipython3",
   "version": "3.7.4"
  },
  "nbTranslate": {
   "displayLangs": [
    "*"
   ],
   "hotkey": "alt-t",
   "langInMainMenu": true,
   "sourceLang": "en",
   "targetLang": "fr",
   "useGoogleTranslate": true
  },
  "varInspector": {
   "cols": {
    "lenName": 16,
    "lenType": 16,
    "lenVar": 40
   },
   "kernels_config": {
    "python": {
     "delete_cmd_postfix": "",
     "delete_cmd_prefix": "del ",
     "library": "var_list.py",
     "varRefreshCmd": "print(var_dic_list())"
    },
    "r": {
     "delete_cmd_postfix": ") ",
     "delete_cmd_prefix": "rm(",
     "library": "var_list.r",
     "varRefreshCmd": "cat(var_dic_list()) "
    }
   },
   "types_to_exclude": [
    "module",
    "function",
    "builtin_function_or_method",
    "instance",
    "_Feature"
   ],
   "window_display": false
  }
 },
 "nbformat": 4,
 "nbformat_minor": 4
}
