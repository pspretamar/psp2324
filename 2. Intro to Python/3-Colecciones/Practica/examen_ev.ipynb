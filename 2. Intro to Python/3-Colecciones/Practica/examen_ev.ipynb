{
 "cells": [
  {
   "cell_type": "markdown",
   "metadata": {},
   "source": [
    "# Ejercicios de la 1ª evaluación\n",
    "### Énfasis especial en colecciones de datos\n",
    "\n",
    "----\n",
    "\n",
    "Este examen se evaluará de tal forma que se vea la maestría del alumno sobre Python. Esto se ve no solamente con el código bien elaborado, sino con comentarios sobre el código. Se debe demostrar los conocimientos adquiridos en clase.\n",
    "\n",
    "Se evaluará:\n",
    "- Que se haya llegado a una solución (50%)\n",
    "- Que se haya llegado a soluciones creativas, no en todas las preguntas, sino en aquellas en las que sea apropiado, mostrando una forma alternativa de resolver un apartado (10%)\n",
    "- Que se haya resuelto únicamente de una forma no vista en clase (-30%)\n",
    "- Que se explique cada paso con comentarios en el código de forma clara, concisa y ordenada (es decir, que se comprenda bien el código) (20%)\n",
    "- Ejercicios de Markdown (20%)\n",
    "\n",
    "Acuérdate que solo se aceptan entregas en formato html"
   ]
  },
  {
   "cell_type": "markdown",
   "metadata": {},
   "source": [
    "![imagen](img/ejercicios.png)"
   ]
  },
  {
   "cell_type": "markdown",
   "metadata": {},
   "source": [
    "Estructura del examen y su respectiva evaluación correspondiente a la mera resolución (sin incluir puntos por claridad, resoluciones alternativas, etc...)\n",
    "\n",
    "- 2 ejercicios de Markdown (20% de la nota)\n",
    "- 5 ejercicios de listas (10% de la nota) \n",
    "- 4 ejercicios de tuplas (10% de la nota) \n",
    "- 3 ejercicios de colecciones en general (10% de la nota)  \n",
    "- 3 ejercicios de diccionarios  (10% de la nota) \n",
    "- 1 ejercicio de set (10% de la nota) "
   ]
  },
  {
   "cell_type": "markdown",
   "metadata": {},
   "source": [
    "## Ejercicio Markdown I\n",
    "\n",
    "Crea una tabla que explique los cuatro principales tipos de colecciones de datos de Python, con sus características básicas que nos permita saber la particularidad de cada colección con respecto a las otras."
   ]
  },
  {
   "cell_type": "markdown",
   "metadata": {},
   "source": []
  },
  {
   "cell_type": "markdown",
   "metadata": {},
   "source": [
    "## Ejercicio Markdown II\n",
    "\n",
    "Escriba un hipervínculo de la documentación de Python que explique el método \"range()\". Al clickar sobre el hipervínculo debe llevar a la página web indicada."
   ]
  },
  {
   "cell_type": "markdown",
   "metadata": {},
   "source": []
  },
  {
   "cell_type": "markdown",
   "metadata": {},
   "source": [
    "-----"
   ]
  },
  {
   "cell_type": "markdown",
   "metadata": {},
   "source": [
    "## Ejercicio 1 | Listas\n",
    "\n",
    "Crea la siguiente lista a partir del método \"range()\" y llámala \"ejer_1_1\"\n",
    "> ```[1,2,3,4,5]```\n",
    "\n",
    "Inviérte la lista \"ejer_1_1\" por medio de un método para que quede de la siguiente manera\n",
    "> ```[5,4,3,2,1]```\n",
    "\n",
    "Crea la siguiente lista a partir del método \"range()\" y llámala \"ejer_1_2\"\n",
    "> ```[4, 3, 2, 1, 0, -1]```"
   ]
  },
  {
   "cell_type": "code",
   "execution_count": null,
   "metadata": {},
   "outputs": [],
   "source": []
  },
  {
   "cell_type": "markdown",
   "metadata": {},
   "source": [
    "## Ejercicio 2 | Listas\n",
    "Eleva todos los elementos de la lista al cuadrado\n",
    "> ```ejer_2 = ['1','2','3','4','5']```"
   ]
  },
  {
   "cell_type": "code",
   "execution_count": 6,
   "metadata": {},
   "outputs": [],
   "source": [
    "ejer_2 = ['1','2','3','4','5']\n"
   ]
  },
  {
   "cell_type": "markdown",
   "metadata": {},
   "source": [
    "## Ejercicio 3 | Listas\n",
    "\n",
    "Crea una lista nueva con todas las combinaciones de las siguientes dos listas:\n",
    "> ```ejer_3_1 = [\"Hola\", \"amigo\"]```\n",
    ">\n",
    "> ```ejer_3_2 = [\"Que\", \"tal\"]```\n",
    "\n",
    "Obten el siguiente output:\n",
    "\n",
    "['Hola Que', 'Hola tal', 'amigo Que', 'amigo tal']"
   ]
  },
  {
   "cell_type": "code",
   "execution_count": 2,
   "metadata": {},
   "outputs": [],
   "source": [
    "ejer_3_1 = [\"Hola\", \"amigo\"]\n",
    "ejer_3_2 = [\"Que\", \"tal\"]\n"
   ]
  },
  {
   "cell_type": "markdown",
   "metadata": {},
   "source": [
    "## Ejercicio 4 | Listas\n",
    "\n",
    "Dada la siguiente lista, encuentra el índice del valor 45 y, a partir de su índice, sustitúye el 45 por el 0\n",
    "> ```ejer_4 = [20, 47, 19, 29, 45, 67, 78, 90]```"
   ]
  },
  {
   "cell_type": "code",
   "execution_count": 3,
   "metadata": {},
   "outputs": [],
   "source": [
    "ejer_4 = [20, 47, 19, 29, 45, 67, 78, 90]\n",
    "\n"
   ]
  },
  {
   "cell_type": "markdown",
   "metadata": {},
   "source": [
    "## Ejercicio 5 | Listas\n",
    "\n",
    "Dada la siguiente lista:\n",
    "> ```ejer_5 = [3, 20, 3, 47, 19, 3, 29, 47, 45, 67, 78, 90, 3, 3]```\n",
    "\n",
    "1. Elimina todos los valores iguales a 3\n",
    "2. Elimina todos los valores duplicados\n",
    "\n",
    "TIP: Recuerda que vas a tener un problemón si intentes eliminar elementos sobre la lista que estás iterando. Para evitarlo, recuerda hacer una copia con el método copy()."
   ]
  },
  {
   "cell_type": "code",
   "execution_count": 4,
   "metadata": {},
   "outputs": [],
   "source": [
    "ejer_5 = [3, 20, 3, 47, 19, 3, 29, 45, 67, 78, 90, 3, 3]\n",
    "\n",
    "     "
   ]
  },
  {
   "cell_type": "markdown",
   "metadata": {},
   "source": [
    "-----"
   ]
  },
  {
   "cell_type": "markdown",
   "metadata": {},
   "source": [
    "## Ejercicio 6 | Tuplas\n",
    "\n",
    "Resuelve cada uno de estos 7 enunciados en una celda diferente:\n",
    "\n",
    "1. Crea una tupla con 3 elementos\n",
    "2. Crea otra tupla con un elemento y comprueba su tipo\n",
    "3. Crea una tupla con elementos de diferentes tipos\n",
    "4. Imprime por pantalla el primer y ultimo elemento de la tupla del apartado 3. Usa `len` para el ultimo\n",
    "5. Añade un elemento a la tupla del apartado 3.\n",
    "6. Eliminar un elemento de la tupla del apartado 5, que se encuentre más o menos en la mitad.\n",
    "7. Convierte la tupla del apartado 5 en una lista"
   ]
  },
  {
   "cell_type": "code",
   "execution_count": 13,
   "metadata": {},
   "outputs": [],
   "source": [
    "# 1"
   ]
  },
  {
   "cell_type": "code",
   "execution_count": 14,
   "metadata": {},
   "outputs": [],
   "source": [
    "# 2"
   ]
  },
  {
   "cell_type": "code",
   "execution_count": null,
   "metadata": {},
   "outputs": [],
   "source": [
    "# 3"
   ]
  },
  {
   "cell_type": "code",
   "execution_count": null,
   "metadata": {},
   "outputs": [],
   "source": []
  },
  {
   "cell_type": "code",
   "execution_count": null,
   "metadata": {},
   "outputs": [],
   "source": []
  },
  {
   "cell_type": "code",
   "execution_count": null,
   "metadata": {},
   "outputs": [],
   "source": []
  },
  {
   "cell_type": "code",
   "execution_count": null,
   "metadata": {},
   "outputs": [],
   "source": []
  },
  {
   "cell_type": "markdown",
   "metadata": {},
   "source": [
    "## Ejercicio 7 | Tuplas y Strings\n",
    "\n",
    "Concatena todos los elementos de la tupla en un unico string. Para ello utiliza un [metodo de Strings](https://www.w3schools.com/python/python_ref_string.asp), que unifique elementos de un iterable a un mismo string.\n",
    "> ```ejer_7 = (\"cien\", \"cañones\", \"por\", \"banda\")```\n",
    "\n",
    "Resultado: `cien cañones por banda`"
   ]
  },
  {
   "cell_type": "code",
   "execution_count": 15,
   "metadata": {},
   "outputs": [],
   "source": [
    "ejer_7 = (\"cien\", \"cañones\", \"por\", \"banda\")\n",
    "\n"
   ]
  },
  {
   "cell_type": "markdown",
   "metadata": {},
   "source": [
    "## Ejercicio 8 | Tuplas\n",
    "\n",
    "Obten el tercer elemento de la siguiente tupla, y el tercero empezando por la cola\n",
    "> ```ejer_8 = (3, 20, 3, 47, 19, 3, 29, 45, 67, 78, 90, 3, 3)```"
   ]
  },
  {
   "cell_type": "code",
   "execution_count": 16,
   "metadata": {},
   "outputs": [],
   "source": [
    "ejer_8 = (3, 20, 3, 47, 19, 3, 29, 45, 67, 78, 90, 3, 3)\n",
    "\n"
   ]
  },
  {
   "cell_type": "markdown",
   "metadata": {},
   "source": [
    "## Ejercicio 9 | Tuplas\n",
    "\n",
    "1. ¿Cuántas veces se repite el 3 en la siguiente tupla?\n",
    "2. Crea una tupla nueva con los elementos desde la posicion 5 a la 10.\n",
    "3. ¿Cuántos elementos tiene la tupla `ejer_9`?\n",
    "> ```ejer_9 = (3, 20, 3, 47, 19, 3, 29, 45, 67, 78, 90, 3, 3, 5, 2, 4, 7, 9, 4, 2, 4, 3, 3, 4, 6, 7)```"
   ]
  },
  {
   "cell_type": "code",
   "execution_count": 17,
   "metadata": {},
   "outputs": [],
   "source": [
    "ejer_9 = (3, 20, 3, 47, 19, 3, 29, 45, 67, 78, 90, 3, 3, 5, 2, 4, 7, 9, 4, 2, 4, 3, 3, 4, 6, 7)\n"
   ]
  },
  {
   "cell_type": "markdown",
   "metadata": {},
   "source": [
    "-----"
   ]
  },
  {
   "cell_type": "markdown",
   "metadata": {},
   "source": [
    "## Ejercicio 10 | Colecciones\n",
    "\n",
    "Comprueba si el numero 60 esta en la tupla del ejercicio 9"
   ]
  },
  {
   "cell_type": "code",
   "execution_count": null,
   "metadata": {},
   "outputs": [],
   "source": []
  },
  {
   "cell_type": "markdown",
   "metadata": {},
   "source": [
    "## Ejercicio 11 | Conversión de colecciones\n",
    "\n",
    "1. Convierte la tupla del apartado 10 en una lista\n",
    "2. Convierte la tupla del apartado 10 en un set\n",
    "3. Convierte la tupla del apartado 10 en un diccionario. Para ello, usa los indices como keys"
   ]
  },
  {
   "cell_type": "code",
   "execution_count": 18,
   "metadata": {},
   "outputs": [],
   "source": [
    "ejer_9 = (3, 20, 3, 47, 19, 3, 29, 45, 67, 78, 90, 3, 3, 5, 2, 4, 7, 9, 4, 2, 4, 3, 3, 4, 6, 7)\n",
    "\n"
   ]
  },
  {
   "cell_type": "markdown",
   "metadata": {},
   "source": [
    "## Ejercicio 12 | Conversión de colecciones y Bucles\n",
    "\n",
    "Convierte la siguiente lista de tuplas en un diccionario\n",
    "> ```ejer_12 = [(\"x\", 1), (\"x\", 2), (\"x\", 3), (\"y\", 1), (\"y\", 2), (\"z\", 1)]```\n",
    "\n",
    "Output esperado: ```{'x': [1, 2, 3], 'y': [1, 2], 'z': [1]}```\n",
    "\n",
    "TIP: Puedes usar dos variables de control en un bucle `for`. Una por cada valor de las tuplas, tal que: ```for i,j in ejer_12:```\n",
    "\n",
    "TIP: Puedes usar el método \"get\" de los dictionarios, para obtener un valor en el caso de que exista, o devolver otro en caso de que no exista"
   ]
  },
  {
   "cell_type": "code",
   "execution_count": 23,
   "metadata": {},
   "outputs": [],
   "source": [
    "ejer_12 = [(\"x\", 1), (\"x\", 2), (\"x\", 3), (\"y\", 1), (\"y\", 2), (\"z\", 1)]\n",
    "\n",
    "dic = {}\n",
    "for i,j in ejer_12: \n",
    "    \"\"\"Incluye tu respuesta aquí\"\"\"\n",
    "\n",
    "print(dic)"
   ]
  },
  {
   "cell_type": "markdown",
   "metadata": {},
   "source": [
    "----"
   ]
  },
  {
   "cell_type": "markdown",
   "metadata": {},
   "source": [
    "## Ejercicio 13 | diccionarios\n",
    "\n",
    "Dado el siguiente diccionario:\n",
    "> ```ejer_13 = {4:78, 2:98, 8:234, 5:29}```\n",
    "\n",
    "1. Crea una lista ordenada ascendente con las claves del diccionario\n",
    "2. Crea otra lista ordenada descendente con los valores\n",
    "3. Añade una nueva clave/valor. Por ej: la clave nueva puede ser 9 y el valor 65.\n",
    "4. Busca la clave con el valor de 2 dentro del diccionario\n",
    "5. Itera la clave y el valor del diccionario con un unico for. Aquí es clave el método que uses\n"
   ]
  },
  {
   "cell_type": "code",
   "execution_count": 29,
   "metadata": {},
   "outputs": [],
   "source": [
    "ejer_13 = {4:78, 2:98, 8:234, 5:29}\n",
    "\n"
   ]
  },
  {
   "cell_type": "markdown",
   "metadata": {},
   "source": [
    "## Ejercicio 14 | diccionarios\n",
    "\n",
    "Suma todos los valores del dicionario\n",
    "> ```ejer_14 = {1: 11, 2: 22, 3: 33, 4: 44, 5: 55}```"
   ]
  },
  {
   "cell_type": "code",
   "execution_count": 30,
   "metadata": {},
   "outputs": [],
   "source": [
    "ejer_14 = {1: 11, 2: 22, 3: 33, 4: 44, 5: 55}\n",
    "\n"
   ]
  },
  {
   "cell_type": "markdown",
   "metadata": {},
   "source": [
    "## Ejercicio 15\n",
    "Multiplica todos los valores del diccionario\n",
    "> ```ejer_15 = {1: 11, 2: 22, 3: 33, 4: 44, 5: 55}```"
   ]
  },
  {
   "cell_type": "code",
   "execution_count": 31,
   "metadata": {},
   "outputs": [],
   "source": [
    "ejer_15 = {1: 11, 2: 22, 3: 33, 4: 44, 5: 55}\n"
   ]
  },
  {
   "cell_type": "markdown",
   "metadata": {},
   "source": [
    "------"
   ]
  },
  {
   "cell_type": "markdown",
   "metadata": {},
   "source": [
    "## Ejercicio 16 | sets\n",
    "\n",
    "1. crea un set vacío\n",
    "2. Crea un set de tres elementos\n",
    "3. Añade un cuarto\n",
    "4. Elimina el utlimo elemento añadido\n",
    "5. Elimina el elemento 10, si está presente. Usa `discard()`"
   ]
  },
  {
   "cell_type": "code",
   "execution_count": null,
   "metadata": {},
   "outputs": [],
   "source": []
  },
  {
   "cell_type": "markdown",
   "metadata": {},
   "source": [
    "-----------------\n",
    "\n",
    "Recuerda entregar el notebook en formato html. Puedes hacerlo con la librería \"nbconvert\" desde el cmd en la ruta del documento que quieres transformar de ipynb a html:\n",
    "\n",
    "> jupyter nbconvert --to html --execute examen_ev.ipynb\n"
   ]
  }
 ],
 "metadata": {
  "kernelspec": {
   "display_name": "Python 3",
   "language": "python",
   "name": "python3"
  },
  "language_info": {
   "codemirror_mode": {
    "name": "ipython",
    "version": 3
   },
   "file_extension": ".py",
   "mimetype": "text/x-python",
   "name": "python",
   "nbconvert_exporter": "python",
   "pygments_lexer": "ipython3",
   "version": "3.7.4"
  }
 },
 "nbformat": 4,
 "nbformat_minor": 4
}
