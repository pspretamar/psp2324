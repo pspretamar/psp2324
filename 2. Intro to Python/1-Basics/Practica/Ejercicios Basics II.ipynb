{
 "cells": [
  {
   "cell_type": "markdown",
   "metadata": {},
   "source": [
    "![imagen](./img/ejercicios.png)"
   ]
  },
  {
   "cell_type": "markdown",
   "metadata": {},
   "source": [
    "# Ejercicios Python Basics II\n",
    "\n",
    "Este ejercicio se evaluará de tal forma que se vea la comprensión del alumno. Esto se ve no solamente con el código bien elaborado, sino con comentarios puestos por el alumno. Se debe demostrar los conocimientos adquiridos en clase.\n",
    "\n",
    "Se evaluará:\n",
    "- Que se haya llegado a una solución (30%)\n",
    "- Que se haya llegado a soluciones creativas (30%), mostrando distintos caminos de resolvelo\n",
    "- Que se haya resuelto únicamente de una forma no vista en clase (-30%)\n",
    "- Que se explique cada paso con comentarios en el código de forma clara, concisa y ordenada (30%)\n",
    "- Markdown (10%)\n",
    "\n",
    "Acuérdate que solo se aceptan entregas en formato html"
   ]
  },
  {
   "cell_type": "markdown",
   "metadata": {},
   "source": []
  },
  {
   "cell_type": "markdown",
   "metadata": {},
   "source": []
  },
  {
   "cell_type": "markdown",
   "metadata": {},
   "source": [
    "## Ejercicio 1\n",
    "* Crea dos variables numericas: un `int` y un `float`\n",
    "* Comprueba sus tipos\n",
    "* Sumalas en otra nueva\n",
    "* ¿De qué tipo es la nueva variable?\n",
    "* Elimina las dos primeras variables creadas"
   ]
  },
  {
   "cell_type": "code",
   "execution_count": 9,
   "metadata": {},
   "outputs": [
    {
     "name": "stdout",
     "output_type": "stream",
     "text": [
      "<class 'int'>\n",
      "<class 'float'>\n",
      "5.4\n",
      "<class 'float'>\n"
     ]
    }
   ],
   "source": [
    "# 1\n",
    "var_int = 2\n",
    "var_float = 3.4\n",
    "\n",
    "# 2\n",
    "print(type(var_int))\n",
    "print(type(var_float))\n",
    "\n",
    "# 3 Sumamos ambas variables dando lugar a un float\n",
    "print(var_int + var_float)\n",
    "new_var = var_int + var_float\n",
    "\n",
    "# 4\n",
    "print(type(new_var))\n",
    "\n",
    "# 5\n",
    "del var_int\n",
    "del var_float"
   ]
  },
  {
   "cell_type": "code",
   "execution_count": 10,
   "metadata": {},
   "outputs": [
    {
     "ename": "NameError",
     "evalue": "name 'var_int' is not defined",
     "output_type": "error",
     "traceback": [
      "\u001b[1;31m---------------------------------------------------------------------------\u001b[0m",
      "\u001b[1;31mNameError\u001b[0m                                 Traceback (most recent call last)",
      "\u001b[1;32m~\\AppData\\Local\\Temp\\ipykernel_17920\\2652124700.py\u001b[0m in \u001b[0;36m<module>\u001b[1;34m\u001b[0m\n\u001b[1;32m----> 1\u001b[1;33m \u001b[0mvar_int\u001b[0m\u001b[1;33m\u001b[0m\u001b[1;33m\u001b[0m\u001b[0m\n\u001b[0m",
      "\u001b[1;31mNameError\u001b[0m: name 'var_int' is not defined"
     ]
    }
   ],
   "source": [
    "var_int"
   ]
  },
  {
   "cell_type": "markdown",
   "metadata": {},
   "source": [
    "## Ejercicio 2\n",
    "Escribe un programa para pasar de grados a radianes. Hay que usar `input`. Recuerda que la conversión se realiza mediante\n",
    "\n",
    "radianes = grados*(pi/180)"
   ]
  },
  {
   "cell_type": "code",
   "execution_count": null,
   "metadata": {},
   "outputs": [],
   "source": [
    "import math\n",
    "\n",
    "# Variable definition\n",
    "pi = math.pi\n",
    "grados = input('Introduce el número de grados que quieres convertir')\n",
    "\n",
    "# Variable type conversion\n",
    "grados = float(grados)\n",
    "\n",
    "# Formula\n",
    "radianes = grados * pi / 180"
   ]
  },
  {
   "cell_type": "code",
   "execution_count": null,
   "metadata": {},
   "outputs": [
    {
     "data": {
      "text/plain": [
       "1.2199851471440364"
      ]
     },
     "execution_count": 16,
     "metadata": {},
     "output_type": "execute_result"
    }
   ],
   "source": [
    "radianes"
   ]
  },
  {
   "cell_type": "markdown",
   "metadata": {},
   "source": [
    "## Ejercicio MARKDOWN\n",
    "\n",
    "Escribe en formato fórmula matemática la función de radianes escrita arriba"
   ]
  },
  {
   "cell_type": "markdown",
   "metadata": {},
   "source": [
    "$$ radianes = grados*(\\pi/180) $$"
   ]
  },
  {
   "cell_type": "markdown",
   "metadata": {},
   "source": [
    "## Ejercicio 3\n",
    "Escribe un programa que calcule el area de un paralelogramo (base x altura). También con `input`\n"
   ]
  },
  {
   "cell_type": "code",
   "execution_count": null,
   "metadata": {},
   "outputs": [
    {
     "name": "stdout",
     "output_type": "stream",
     "text": [
      "El area de su paralelogramo es 6\n"
     ]
    }
   ],
   "source": [
    "base= input('base')\n",
    "altura= input('altura')\n",
    "resultado= int(base)*int(altura)\n",
    "print(\"El area de su paralelogramo es\", resultado)"
   ]
  },
  {
   "cell_type": "code",
   "execution_count": null,
   "metadata": {},
   "outputs": [
    {
     "name": "stdout",
     "output_type": "stream",
     "text": [
      "El area de su paralelogramo es 6\n"
     ]
    }
   ],
   "source": [
    "print(\"El area de su paralelogramo es \" + str(resultado))\n"
   ]
  },
  {
   "cell_type": "markdown",
   "metadata": {},
   "source": [
    "## Ejercicio 4\n",
    "Tenemos las siguientes variables:\n",
    "\n",
    "```Python\n",
    "A = 4\n",
    "B = \"Text\"\n",
    "C = 4.1\n",
    "```\n",
    "\n",
    "Comprueba y deja por escrito la comprobación:\n",
    "1. Si A y B son equivalentes\n",
    "2. Si A y C NO son equivalentes\n",
    "3. Si A es mayor que C \n",
    "4. Si C es menor o igual que A\n",
    "5. Si B NO es equivalente a C"
   ]
  },
  {
   "cell_type": "code",
   "execution_count": null,
   "metadata": {},
   "outputs": [
    {
     "name": "stdout",
     "output_type": "stream",
     "text": [
      "False\n",
      "True\n",
      "False\n",
      "True\n",
      "True\n"
     ]
    }
   ],
   "source": [
    "A = 4\n",
    "B = \"Text\"\n",
    "C = 4.1\n",
    "\n",
    "# 1\n",
    "print(A == B)\n",
    "\n",
    "# 2\n",
    "print(A != C)\n",
    "\n",
    "# 3\n",
    "print(A > C)\n",
    "\n",
    "# 4\n",
    "print(A <= C)\n",
    "\n",
    "# 5\n",
    "print(not(B == C))"
   ]
  },
  {
   "cell_type": "markdown",
   "metadata": {},
   "source": [
    "## Ejercicio 5\n",
    "Crea un programa donde se recojan dos inputs del usuario, y el output del programa sea si esos inputs son iguales o no"
   ]
  },
  {
   "cell_type": "code",
   "execution_count": null,
   "metadata": {},
   "outputs": [
    {
     "name": "stdout",
     "output_type": "stream",
     "text": [
      "El vallor ingresado son iguales: False\n"
     ]
    }
   ],
   "source": [
    "input1 = input(\"Introduce tu Nombre\")\n",
    "input2 = input(\"Introduce tu apellido\")\n",
    "\n",
    "inputfinal= input1 == input2\n",
    "\n",
    "print(\"El vallor ingresado son iguales:\",inputfinal)"
   ]
  },
  {
   "cell_type": "markdown",
   "metadata": {},
   "source": [
    "Ahora tienen que ser tres inputs y dos salidas. Una de las salidas que nos indique si todos son iguales, y la otra si al menos dos inputs sí que lo son"
   ]
  },
  {
   "cell_type": "code",
   "execution_count": null,
   "metadata": {},
   "outputs": [],
   "source": [
    "input1 = input(\"Introduce tu Nombre\")\n",
    "input2 = input(\"Introduce tu apellido\")\n",
    "input3= input(\"Introduce tu segundo apellido\")\n",
    "\n",
    "print(input1 == input2 and input2 == input3)\n",
    "print(input1 == input2 or input2 == input3 or input3 == input1)"
   ]
  },
  {
   "cell_type": "markdown",
   "metadata": {},
   "source": [
    "## Ejercicio 6\n",
    "Crea un programa que recoja dos inputs. Tiene que comprobar si su suma es igual, superior o inferior a 10"
   ]
  },
  {
   "cell_type": "code",
   "execution_count": null,
   "metadata": {},
   "outputs": [
    {
     "name": "stdout",
     "output_type": "stream",
     "text": [
      "Ambos pasajeros tienen una edad combinada menor a 10  True\n"
     ]
    }
   ],
   "source": [
    "edad_pasajero_1 = int(input('¿Cual es la edad del pasajero?'))\n",
    "edad_pasajero_2 = int(input('¿Cual es la edad del pasajero?'))\n",
    "\n",
    "# Variable definition\n",
    "edad_menor_a_10 = edad_pasajero_1 + edad_pasajero_2 < 10\n",
    "edad_igual_a_10 = edad_pasajero_1 + edad_pasajero_2 == 10\n",
    "edad_mayor_a_10 = edad_pasajero_1 + edad_pasajero_2 > 10\n",
    "\n",
    "print('Ambos pasajeros tienen una edad combinada menor a 10 ', edad_menor_a_10)"
   ]
  },
  {
   "cell_type": "code",
   "execution_count": null,
   "metadata": {},
   "outputs": [
    {
     "name": "stdout",
     "output_type": "stream",
     "text": [
      "Ambos pasajeros pueden viajar gratis\n"
     ]
    }
   ],
   "source": [
    "# IF and ELSE\n",
    "\n",
    "if edad_pasajero_1 + edad_pasajero_2 < 10:\n",
    "    print('Ambos pasajeros pueden viajar gratis')\n",
    "elif edad_pasajero_1 + edad_pasajero_2 == 10:\n",
    "    print('Ambos pasajeros tienen descuento')\n",
    "else:\n",
    "    print('Ambos pasajeros no pueden viajar gratis')"
   ]
  },
  {
   "cell_type": "code",
   "execution_count": null,
   "metadata": {},
   "outputs": [],
   "source": [
    "# IF and ELSE\n",
    "\n",
    "if edad_pasajero_1 + edad_pasajero_2 <= 10:\n",
    "    if edad_pasajero_1 + edad_pasajero_2 < 10:\n",
    "        print('Ambos pasajeros pueden viajar gratis')\n",
    "    else:\n",
    "        print('Ambos pasajeros tienen descuento')\n",
    "else:\n",
    "    print('Ambos pasajeros no pueden viajar gratis')"
   ]
  },
  {
   "cell_type": "markdown",
   "metadata": {},
   "source": [
    "## Ejercicio 7\n",
    "Razona sin ejecutar código el output que obtendremos de las siguientes sentencias. Debes explicarlo con palabras en markdwon, realizando una tabla con dos columnas y cuatro filas. La primera columna debe contener cada sentencia, y la segunda la explicación del output que obtendremos. Sentencias:\n",
    "1. True and True and False\n",
    "2. not ((True or False) and (True or False))\n",
    "3. (False or False or False or True) and False\n",
    "4. not False and True and not True"
   ]
  },
  {
   "cell_type": "markdown",
   "metadata": {},
   "source": [
    "| Sentencia | Resultado lógico |\n",
    "| ---- | ----|\n",
    "| 1. True and True and False | No puede ser falso y verdadero al mismo tiempo. Si fuese \"or\" en lugar de \"and\" si se sería verdadero |\n",
    "| 2. not ((True or False) and (True or False)) | jfirmfirf |\n",
    "| 3. (False or False or False or True) and False | jiftnitv |\n",
    "| 4. not False and True and not True | itnivgv |"
   ]
  },
  {
   "cell_type": "markdown",
   "metadata": {},
   "source": [
    "## Ejercicio 8\n",
    "Para este ejercicio vamos a poner en práctica [las funciones built in](https://docs.python.org/3/library/functions.html).\n",
    "\n",
    "1. Calcula el máximo de la lista: [4, 6, 8, -1]\n",
    "2. Suma todos los elementos de la lista anterior\n",
    "3. Redondea este float a 3 dígitos decimales: 63.451256965\n",
    "4. Valor absoluto de: -74"
   ]
  },
  {
   "cell_type": "code",
   "execution_count": 12,
   "metadata": {},
   "outputs": [
    {
     "name": "stdout",
     "output_type": "stream",
     "text": [
      "8\n",
      "17\n",
      "63.451\n",
      "74\n",
      "74.0\n"
     ]
    }
   ],
   "source": [
    "import math\n",
    "my_list = [4, 6, 8, -1]\n",
    "\n",
    "# 1 \n",
    "print(max(my_list))\n",
    "\n",
    "# 2\n",
    "print(sum(my_list))\n",
    "\n",
    "# 3\n",
    "print(round(63.451256965, 3))\n",
    "\n",
    "# 4\n",
    "print(abs(-74))\n",
    "print(math.fabs(-74))"
   ]
  },
  {
   "cell_type": "markdown",
   "metadata": {},
   "source": [
    "## Ejercicio 9\n",
    "Para el siguiente string se pide imprimir por pantalla los siguientes casos\n",
    "\n",
    "    \"A quien madruga, Dios le ayuda\"\n",
    "\n",
    "1. Pasarlo todo a mayusculas\n",
    "2. Pasarlo todo a minusculas\n",
    "3. Pasar a mayusculas solo las iniciales de las palabras\n",
    "4. Crea una lista dividiendolo por sus espacios\n",
    "5. Sustituye las comas `,` por puntos y comas `;`\n",
    "6. Elimina las `a` minusculas"
   ]
  },
  {
   "cell_type": "code",
   "execution_count": 31,
   "metadata": {},
   "outputs": [
    {
     "name": "stdout",
     "output_type": "stream",
     "text": [
      "A QUIEN MADRUGA, DIOS LE AYUDA\n",
      "a quien madruga, dios le ayuda\n",
      "A Quien Madruga, Dios Le Ayuda\n",
      "['A', 'quien', 'madruga,', 'Dios', 'le', 'ayuda']\n",
      "A quien madruga; Dios le ayuda\n",
      "A quien mdrug, Dios le yud\n",
      " QUIEN MDRUG, DIOS LE YUD\n"
     ]
    }
   ],
   "source": [
    "my_string = \"A quien madruga, Dios le ayuda\"\n",
    "\n",
    "# 1\n",
    "print(my_string.upper())\n",
    "\n",
    "# 2\n",
    "print(my_string.lower())\n",
    "\n",
    "# 3\n",
    "# print(my_string.capitalize()) # Esto solo te pone en mayúsculas la primera\n",
    "print(my_string.title())\n",
    "\n",
    "# 4\n",
    "print(my_string.split())\n",
    "\n",
    "# 5\n",
    "print(my_string.replace(',',';'))\n",
    "\n",
    "# 6\n",
    "print(my_string.replace('a',''))\n",
    "print(my_string.upper().replace('A','')) # Reemplazamos todas las \"A\"\n"
   ]
  },
  {
   "cell_type": "markdown",
   "metadata": {},
   "source": [
    "## Ejercicio 10\n",
    "1. Crea una lista con 3 elementos numéricos\n",
    "2. Añade un cuarto elemento\n",
    "3. Calcula la suma de todos\n",
    "4. Elimina el segundo elemento de la lista\n",
    "5. Añade otro elemento en la posicion 3 de la lista\n",
    "6. Crea otra lista con 4 elementos y concaténala a la que ya tenías."
   ]
  },
  {
   "cell_type": "code",
   "execution_count": 47,
   "metadata": {},
   "outputs": [
    {
     "name": "stdout",
     "output_type": "stream",
     "text": [
      "1) lista:  [42, 65, 78]\n",
      "2) lista:  [42, 65, 78, 56]\n",
      "3) La suma es:  241\n",
      "4) lista:  [42, 78, 56]\n",
      "5) lista:  [42, 78, 455, 56]\n",
      "[42, 78, 455, 56, 4, 5, 6, 7]\n"
     ]
    }
   ],
   "source": [
    "# 1\n",
    "my_list = [42, 65, 78]\n",
    "print('1) lista: ', my_list)\n",
    "\n",
    "# 2 \n",
    "my_list.append(56)\n",
    "print('2) lista: ', my_list)\n",
    "\n",
    "# 3\n",
    "print('3) La suma es: ', sum(my_list))\n",
    "\n",
    "# 4\n",
    "del my_list[1]\n",
    "print('4) lista: ', my_list)\n",
    "\n",
    "# 5\n",
    "my_list.insert(2, 455)\n",
    "print('5) lista: ', my_list)\n",
    "\n",
    "# 6 \n",
    "new_list = [4, 5, 6, 7]\n",
    "print(my_list + new_list)"
   ]
  },
  {
   "cell_type": "markdown",
   "metadata": {},
   "source": [
    "### Acuérdate de entregar este ejercicio en la dirección de classroom y en formato html\n",
    "\n",
    "Hay varios conversores de ipynb a html [online](https://htmtopdf.herokuapp.com/ipynbviewer/)\n",
    "\n"
   ]
  },
  {
   "cell_type": "code",
   "execution_count": 18,
   "metadata": {},
   "outputs": [
    {
     "data": {
      "text/plain": [
       "[48, 36, 28, 14, 9, 2]"
      ]
     },
     "execution_count": 18,
     "metadata": {},
     "output_type": "execute_result"
    }
   ],
   "source": [
    "my_list = [14, 2, 28, 9]\n",
    "\n",
    "# A | imprime el segundo elemento\n",
    "my_list[1]\n",
    "\n",
    "# B | añade el nº36 en el segundo elemento de la lista\n",
    "my_list.insert(1, 36)\n",
    "my_list[1] # para verlo\n",
    "\n",
    "# C | imprime el último elemento de la lista\n",
    "my_list[-1]\n",
    "\n",
    "# D | Añadir el nº 48 al final de la lista\n",
    "my_list.append(48)\n",
    "my_list\n",
    "\n",
    "# E | Ordena la lista de forma ascendente\n",
    "my_list = sorted(my_list) # asc\n",
    "my_list = sorted(my_list, reverse=True) # desc\n",
    "my_list"
   ]
  },
  {
   "cell_type": "code",
   "execution_count": 21,
   "metadata": {},
   "outputs": [
    {
     "data": {
      "text/plain": [
       "45.0"
      ]
     },
     "execution_count": 21,
     "metadata": {},
     "output_type": "execute_result"
    }
   ],
   "source": [
    "# Objeto\n",
    "import math\n",
    "\n",
    "# Atributo\n",
    "math.pi\n",
    "\n",
    "# Método\n",
    "math.fabs(-45)\n"
   ]
  }
 ],
 "metadata": {
  "kernelspec": {
   "display_name": "Python 3",
   "language": "python",
   "name": "python3"
  },
  "language_info": {
   "codemirror_mode": {
    "name": "ipython",
    "version": 3
   },
   "file_extension": ".py",
   "mimetype": "text/x-python",
   "name": "python",
   "nbconvert_exporter": "python",
   "pygments_lexer": "ipython3",
   "version": "3.7.4"
  },
  "nbTranslate": {
   "displayLangs": [
    "*"
   ],
   "hotkey": "alt-t",
   "langInMainMenu": true,
   "sourceLang": "en",
   "targetLang": "fr",
   "useGoogleTranslate": true
  },
  "varInspector": {
   "cols": {
    "lenName": 16,
    "lenType": 16,
    "lenVar": 40
   },
   "kernels_config": {
    "python": {
     "delete_cmd_postfix": "",
     "delete_cmd_prefix": "del ",
     "library": "var_list.py",
     "varRefreshCmd": "print(var_dic_list())"
    },
    "r": {
     "delete_cmd_postfix": ") ",
     "delete_cmd_prefix": "rm(",
     "library": "var_list.r",
     "varRefreshCmd": "cat(var_dic_list()) "
    }
   },
   "types_to_exclude": [
    "module",
    "function",
    "builtin_function_or_method",
    "instance",
    "_Feature"
   ],
   "window_display": false
  }
 },
 "nbformat": 4,
 "nbformat_minor": 4
}
