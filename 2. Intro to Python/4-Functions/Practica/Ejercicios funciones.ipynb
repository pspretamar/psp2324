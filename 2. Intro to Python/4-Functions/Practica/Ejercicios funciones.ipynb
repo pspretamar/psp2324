{
 "cells": [
  {
   "cell_type": "markdown",
   "metadata": {},
   "source": [
    "# Ejercicios de funciones\n",
    "\n",
    "----\n",
    "\n",
    "Este examen se evaluará de tal forma que se vea la maestría del alumno sobre Python. Esto se ve no solamente con el código bien elaborado, sino con comentarios sobre el código. Se debe demostrar los conocimientos adquiridos en clase.\n",
    "\n",
    "Se evaluará:\n",
    "- Que se haya llegado a una solución (50%)\n",
    "- Que se haya llegado a soluciones creativas, no en todas las preguntas, sino en aquellas en las que sea apropiado, mostrando una forma alternativa de resolver un apartado (20%)\n",
    "- Que se haya resuelto únicamente de una forma no vista en clase (-30%)\n",
    "- Documentación de las funciones (30%)\n",
    "\n",
    "Acuérdate que solo se aceptan entregas en formato html"
   ]
  },
  {
   "cell_type": "markdown",
   "metadata": {},
   "source": [
    "![imagen](./img/ejercicios.png)"
   ]
  },
  {
   "cell_type": "markdown",
   "metadata": {},
   "source": [
    "## Ejercicio 1\n",
    "\n",
    "Escribe una función que reciba un número y lo redondee a tres decimales. Ejecuta la función con el número pi.\n",
    "\n",
    "> HINT acuérdate de que para redondear puedes hacer uso de una [función integrada](https://docs.hektorprofe.net/python/programacion-de-funciones/funciones-integradas/)"
   ]
  },
  {
   "cell_type": "code",
   "execution_count": 6,
   "metadata": {},
   "outputs": [],
   "source": [
    "def round_float(number):\n",
    "    return round(number,3)"
   ]
  },
  {
   "cell_type": "code",
   "execution_count": 7,
   "metadata": {},
   "outputs": [
    {
     "data": {
      "text/plain": [
       "3.142"
      ]
     },
     "execution_count": 7,
     "metadata": {},
     "output_type": "execute_result"
    }
   ],
   "source": [
    "import math\n",
    "\n",
    "round_float(math.pi)"
   ]
  },
  {
   "cell_type": "markdown",
   "metadata": {},
   "source": [
    "## Ejercicio 2\n",
    "\n",
    "Escribe una función llamada \"continent_name\" que recibe un input de tipo string, llamado \"continent\", y que imprima por pantalla \"The name of continent is _..._\".\n",
    "\n",
    "Ejecuta la función. ¿Se debe guardar en una variable? ¿o no? ¿por qué?"
   ]
  },
  {
   "cell_type": "code",
   "execution_count": 83,
   "metadata": {},
   "outputs": [],
   "source": [
    "def continent_name(continent):\n",
    "    print(f'The name of continent is {continent}')"
   ]
  },
  {
   "cell_type": "code",
   "execution_count": 84,
   "metadata": {},
   "outputs": [
    {
     "name": "stdout",
     "output_type": "stream",
     "text": [
      "The name of continent is $Australia\n"
     ]
    }
   ],
   "source": [
    "# No es necesario guardarlo en una variable ya que se imprime automáticamente y no hay un return\n",
    "continent_name('Australia')"
   ]
  },
  {
   "cell_type": "markdown",
   "metadata": {},
   "source": [
    "## Ejercicio 3\n",
    "\n",
    "Escribe una función llamada \"location_of_cpus\" que recibe un input de tipo list, llamado \"continent\". \n",
    "- La función devuelve el número de veces que se ejecuta un proceso (pero no ejecuta ningún proceso en sí dado que eso todavía no lo hemos visto) \n",
    "- Si alguno de los continentes en la lista está entre estos continentes: America, Europe, Africa; entonces significa que tiene que ejecutarse un proceso llamado \"aws\". La función no tiene que ejecutar ningún proceso, pero tiene que devolver el número de veces que se requiere de ese proceso. Es decir, si el input de la función aparece dos veces \"America\", que devuelva \"aws\" = 2.\n",
    "- Si algún continente en la lista no está entre estos continentes: America, Europe, Africa; entonces significa que tiene que ejecutarse un proceso llamado \"local\". Del mismo modo, la función no tiene que ejecutar ningún proceso, pero tiene que devolver el número de veces que se requiere de ese proceso. Es decir, si el input de la función aparece dos veces \"Antartida\", que devuelva \"local\" = 2."
   ]
  },
  {
   "cell_type": "code",
   "execution_count": 28,
   "metadata": {},
   "outputs": [],
   "source": [
    "def location_of_cpus(continent):\n",
    "    aws = 0\n",
    "    local = 0\n",
    "    for i in continent:\n",
    "        if (i == 'America') or (i=='Europe') or (i=='Africa'):\n",
    "            aws += 1\n",
    "        else:\n",
    "            local += 1\n",
    "\n",
    "    print(f\"AWS process was run {aws} times, and local process was run {local} times\")"
   ]
  },
  {
   "cell_type": "code",
   "execution_count": 31,
   "metadata": {},
   "outputs": [
    {
     "name": "stdout",
     "output_type": "stream",
     "text": [
      "AWS process was run 0 times, and local process was run 2 times\n"
     ]
    }
   ],
   "source": [
    "location_of_cpus(['Antartida', 'Antartida'])"
   ]
  },
  {
   "cell_type": "code",
   "execution_count": 75,
   "metadata": {},
   "outputs": [
    {
     "data": {
      "text/plain": [
       "{'aws': 2, 'local': 2}"
      ]
     },
     "execution_count": 75,
     "metadata": {},
     "output_type": "execute_result"
    }
   ],
   "source": [
    "# Otra alternativa para resolverlo\n",
    "\n",
    "def location_of_cpus(continent:list):\n",
    "    veces = {'aws' : 0,'local' : 0}\n",
    "    for i in continent:\n",
    "        if i in [\"America\",\"Africa\",\"Europe\"]:\n",
    "             veces['aws'] += 1\n",
    "        elif i in [\"Antartida\",\"Oceanía\"]:\n",
    "            veces['local'] += 1\n",
    "    return veces\n",
    "\n",
    "location_of_cpus([\"Antartida\",\"Africa\",\"Europe\",\"Oceanía\"])"
   ]
  },
  {
   "cell_type": "code",
   "execution_count": 92,
   "metadata": {},
   "outputs": [
    {
     "name": "stdout",
     "output_type": "stream",
     "text": [
      "{'aws': 4, 'local': 1}\n"
     ]
    }
   ],
   "source": [
    "# Alternativa\n",
    "\n",
    "def location_of_cpus(continent):\n",
    "    aws_count = continent.count(\"America\") + continent.count(\"Europe\") + continent.count(\"Africa\") \n",
    "    local_count = len(continent) - aws_count  \n",
    "    return {\"aws\": aws_count, \"local\": local_count}  \n",
    "\n",
    "continent = [\"America\", \"Europe\", \"Asia\", \"Africa\", \"America\"]\n",
    "result = location_of_cpus(continent)\n",
    "print(result)"
   ]
  },
  {
   "cell_type": "markdown",
   "metadata": {},
   "source": [
    "## Ejercicio 4\n",
    "\n",
    "Documenta esta función"
   ]
  },
  {
   "cell_type": "code",
   "execution_count": 88,
   "metadata": {},
   "outputs": [],
   "source": [
    "def venta_online(pedido, fecha_entrega, incidencia = False):\n",
    "    \"\"\"\n",
    "    funcion de venta online\n",
    "    Input:\n",
    "        pedido: str\n",
    "        fecha_entrega: Date\n",
    "        incidencia: bool\n",
    "\n",
    "    Output:\n",
    "        print()\n",
    "    \"\"\"\n",
    "    \n",
    "    if(incidencia):\n",
    "        print(\"Contacte con Att. Cliente\")\n",
    "        \n",
    "    else:\n",
    "        print(\"Su pedido\", pedido, \"se entregará el\", fecha_entrega)\n"
   ]
  },
  {
   "cell_type": "code",
   "execution_count": 89,
   "metadata": {},
   "outputs": [
    {
     "name": "stdout",
     "output_type": "stream",
     "text": [
      "\n",
      "    funcion de venta online\n",
      "    Input:\n",
      "        pedido: str\n",
      "        fecha_entrega: Date\n",
      "        incidencia: bool\n",
      "\n",
      "    Output:\n",
      "        print()\n",
      "    \n"
     ]
    }
   ],
   "source": [
    "#sacar la documentacion de la funcion venta_online\n",
    "print(venta_online.__doc__)"
   ]
  },
  {
   "cell_type": "markdown",
   "metadata": {},
   "source": [
    "## Ejercicio 5\n",
    "\n",
    "En la siguiente celda se ha creado una variable llamada \"compras\", la cual es una lista que contiene distintas compras de una empresa. Te sigo explicando más abajo."
   ]
  },
  {
   "cell_type": "code",
   "execution_count": 32,
   "metadata": {},
   "outputs": [],
   "source": [
    "# Celda escrita para crear variable 'compras', necesaria para el ejercicio 5\n",
    "import random \n",
    "\n",
    "marcas = ['Samsung', 'Apple', 'Sony', 'LG', 'Nike', 'Adidas', 'Microsoft', 'HP', 'Dell', 'Lenovo']\n",
    "tiendas = ['ElectroStore', 'Gadget Haven', 'Fashion Electronics', 'Super Sports Gear', 'Digital World', 'Gizmo Central']\n",
    "productos = ['Smartphone', 'Laptop', 'Headphones', 'Smart TV', 'Running Shoes', 'Gaming Console']\n",
    "\n",
    "compras = []\n",
    "\n",
    "for i in range(1, 11):\n",
    "    compra = {\n",
    "        'brand': random.choice(marcas),\n",
    "        'price': round(random.uniform(50.0, 200.0), 2),\n",
    "        'shop': random.choice(tiendas),\n",
    "        'product': random.choice(productos),\n",
    "    }\n",
    "    compras.append(compra)"
   ]
  },
  {
   "cell_type": "markdown",
   "metadata": {},
   "source": [
    "La variable \"compras\" contiene diccionarios, cada uno de los cuales representa una compra ejecutada por una empresa. Por ejemplo, la primera compra sería:"
   ]
  },
  {
   "cell_type": "code",
   "execution_count": 38,
   "metadata": {},
   "outputs": [
    {
     "data": {
      "text/plain": [
       "79.39"
      ]
     },
     "execution_count": 38,
     "metadata": {},
     "output_type": "execute_result"
    }
   ],
   "source": [
    "compras[0]['price']"
   ]
  },
  {
   "cell_type": "markdown",
   "metadata": {},
   "source": [
    "Crea una función llamada ``\"product_retrieval()\"`` te permite buscar compras superiores o inferiores a una cantidad.\n",
    "- la función debe recibir tres inputs: la lista con las compras (list), el umbral del precio (int/float), y si queremos precios superiores o inferiores (boolean)\n",
    "- la función debe devolver cada compra con toda su información que supere / o sea inferior al umbral del precio definido"
   ]
  },
  {
   "cell_type": "code",
   "execution_count": 76,
   "metadata": {},
   "outputs": [],
   "source": [
    "def product_retrieval(compras, price_threshold, upper_prices):\n",
    "    selected_compras = list()\n",
    "    for i in range(len(compras)):\n",
    "        if upper_prices:\n",
    "            if compras[i].get('price') > price_threshold:\n",
    "                selected_compras.append(compras[i])\n",
    "        else:\n",
    "            if compras[i].get('price') < price_threshold:\n",
    "                selected_compras.append(compras[i])\n",
    "\n",
    "    return selected_compras"
   ]
  },
  {
   "cell_type": "markdown",
   "metadata": {},
   "source": [
    "Ejecuta la función, devolviendo toda la información de los productos que han costado más de 100 euros"
   ]
  },
  {
   "cell_type": "code",
   "execution_count": 77,
   "metadata": {},
   "outputs": [
    {
     "data": {
      "text/plain": [
       "[{'brand': 'Nike',\n",
       "  'price': 150.17,\n",
       "  'shop': 'Super Sports Gear',\n",
       "  'product': 'Gaming Console'},\n",
       " {'brand': 'Lenovo',\n",
       "  'price': 176.48,\n",
       "  'shop': 'Gizmo Central',\n",
       "  'product': 'Gaming Console'},\n",
       " {'brand': 'LG',\n",
       "  'price': 174.67,\n",
       "  'shop': 'ElectroStore',\n",
       "  'product': 'Headphones'},\n",
       " {'brand': 'Apple',\n",
       "  'price': 166.39,\n",
       "  'shop': 'ElectroStore',\n",
       "  'product': 'Gaming Console'},\n",
       " {'brand': 'Microsoft',\n",
       "  'price': 136.99,\n",
       "  'shop': 'Gizmo Central',\n",
       "  'product': 'Laptop'}]"
      ]
     },
     "execution_count": 77,
     "metadata": {},
     "output_type": "execute_result"
    }
   ],
   "source": [
    "my_list = product_retrieval(compras, 100, True)\n",
    "my_list"
   ]
  },
  {
   "cell_type": "markdown",
   "metadata": {},
   "source": [
    "## Ejercicio 6\n",
    "\n",
    "En el enunciado del ejercicio 5 se presentaba en una celda de Python la creación de una lista llamada \"compras\". Ese código ya está escrito. Encapsúlalo en una función lamada \"generar_compra\", la cual reciba tres parámetros \"marcas\", \"tiendas\", \"productos\" (de tipo lista), y te devuelva en un diccionario con la información de la compra. \n",
    "\n",
    "Ejemplo de lo que debe devolver: \n",
    "\n",
    "`{'brand': 'Adidas',\n",
    " 'price': 69.85,\n",
    " 'shop': 'Gadget Haven',\n",
    " 'product': 'Headphones'}`"
   ]
  },
  {
   "cell_type": "code",
   "execution_count": 49,
   "metadata": {},
   "outputs": [],
   "source": [
    "import random\n",
    "\n",
    "def generar_compra(marcas, tiendas, productos):\n",
    "    compra = {\n",
    "        'brand': random.choice(marcas),\n",
    "        'price': round(random.uniform(50.0, 200.0), 2),\n",
    "        'shop': random.choice(tiendas),\n",
    "        'product': random.choice(productos),\n",
    "    }\n",
    "\n",
    "    return compra"
   ]
  },
  {
   "cell_type": "code",
   "execution_count": 50,
   "metadata": {},
   "outputs": [
    {
     "data": {
      "text/plain": [
       "{'brand': 'Microsoft',\n",
       " 'price': 108.91,\n",
       " 'shop': 'Digital World',\n",
       " 'product': 'Gaming Console'}"
      ]
     },
     "execution_count": 50,
     "metadata": {},
     "output_type": "execute_result"
    }
   ],
   "source": [
    "marcas = ['Samsung', 'Apple', 'Sony', 'LG', 'Nike', 'Adidas', 'Microsoft', 'HP', 'Dell', 'Lenovo']\n",
    "tiendas = ['ElectroStore', 'Gadget Haven', 'Fashion Electronics', 'Super Sports Gear', 'Digital World', 'Gizmo Central']\n",
    "productos = ['Smartphone', 'Laptop', 'Headphones', 'Smart TV', 'Running Shoes', 'Gaming Console']\n",
    "\n",
    "generar_compra(marcas, tiendas, productos)"
   ]
  },
  {
   "cell_type": "code",
   "execution_count": 90,
   "metadata": {},
   "outputs": [],
   "source": [
    "# Alternativa\n",
    "\n",
    "def generar_compra(marcas:list,tiendas:list,productos:list):\n",
    "    listaCompra = []\n",
    "    # se comprueba que todas las listas sean del mismo tamaño\n",
    "    if len(marcas) != len(tiendas) and len(tiendas) != len(productos):\n",
    "        return \"No hay longitudes iguales\"\n",
    "    else:\n",
    "        for i in range(0,len(productos)-1):\n",
    "            #Se guardan los nuevos diccionarios es una lista para que se retorno\n",
    "            compra = {\"Brand\": marcas[i], \"Price\": round(random.uniform(50.0, 200.0), 2),\"Shop\":tiendas[i],\"product\":productos[i]}\n",
    "            listaCompra.append(compra)\n",
    "        return listaCompra"
   ]
  },
  {
   "cell_type": "markdown",
   "metadata": {},
   "source": [
    "## Ejercicio 7\n",
    "\n",
    "Crea una función **recursiva** que muestre la cuenta regresiva hasta cero a partir de un número. \n",
    "- La función debe de llamarse ``\"cuenta_atras()\"``\n",
    "- debe recibir un único argumento que es el número a contar __(por defecto tiene que ser 10)__\n",
    "- que imprimir todos los números desde ese número (ej: 10, 9, 8, 7, 6, 5, 4, 3, 2, 1, 'BOOM'). Como ves, al llegar a cero debe imprimir \"BOOM\".\n",
    "- acuérdate de que debe ser una función __recursiva__, es decir, se debe llamar a sí misma en la propia función"
   ]
  },
  {
   "cell_type": "code",
   "execution_count": 52,
   "metadata": {},
   "outputs": [],
   "source": [
    "def cuenta_atras(numero=10):\n",
    "    if numero == 0:\n",
    "        print('BOOM')\n",
    "    else: \n",
    "        print(numero)\n",
    "        numero -= 1\n",
    "        cuenta_atras(numero)"
   ]
  },
  {
   "cell_type": "code",
   "execution_count": 53,
   "metadata": {},
   "outputs": [
    {
     "name": "stdout",
     "output_type": "stream",
     "text": [
      "10\n",
      "9\n",
      "8\n",
      "7\n",
      "6\n",
      "5\n",
      "4\n",
      "3\n",
      "2\n",
      "1\n",
      "BOOM\n"
     ]
    }
   ],
   "source": [
    "cuenta_atras()"
   ]
  },
  {
   "cell_type": "code",
   "execution_count": 85,
   "metadata": {},
   "outputs": [
    {
     "name": "stdout",
     "output_type": "stream",
     "text": [
      "10, 9, 8, 7, 6, 5, 4, 3, 2, 1, BOOM\n"
     ]
    }
   ],
   "source": [
    "# Alternativa\n",
    "\n",
    "def cuenta_atras(numero=10):\n",
    "    if numero > 0:\n",
    "        print(numero, end=\", \")\n",
    "        cuenta_atras(numero - 1)\n",
    "    else:\n",
    "        print(\"BOOM\")\n",
    "\n",
    "cuenta_atras()"
   ]
  },
  {
   "cell_type": "markdown",
   "metadata": {},
   "source": [
    "## Ejercicio 8\n",
    "\n",
    "Realiza una función ``separar(lista)`` que tome una lista de números enteros y devuelva dos listas ordenadas. La primera con los números pares y la segunda con los números impares."
   ]
  },
  {
   "cell_type": "code",
   "execution_count": 64,
   "metadata": {},
   "outputs": [],
   "source": [
    "def separar(lista):\n",
    "    \"\"\"\n",
    "    Lista para separar en pares o inpares\n",
    "    Input:\n",
    "        lista: list\n",
    "    Output:\n",
    "        tupla: (ListaPares,ListaImpares)\n",
    "    \"\"\"\n",
    "    pares = list()\n",
    "    impares = list()\n",
    "    for i in lista:\n",
    "        if i % 2 == 0:\n",
    "            pares.append(i)\n",
    "        else:\n",
    "            impares.append(i)\n",
    "    return sorted(pares), sorted(impares)"
   ]
  },
  {
   "cell_type": "code",
   "execution_count": 79,
   "metadata": {},
   "outputs": [
    {
     "data": {
      "text/plain": [
       "[2, 4, 6, 8]"
      ]
     },
     "execution_count": 79,
     "metadata": {},
     "output_type": "execute_result"
    }
   ],
   "source": [
    "pares, impares = separar([6, 7, 8, 2, 3, 4, 5 , 9])\n",
    "pares"
   ]
  },
  {
   "cell_type": "code",
   "execution_count": 80,
   "metadata": {},
   "outputs": [
    {
     "data": {
      "text/plain": [
       "[3, 5, 7, 9]"
      ]
     },
     "execution_count": 80,
     "metadata": {},
     "output_type": "execute_result"
    }
   ],
   "source": [
    "impares"
   ]
  },
  {
   "cell_type": "code",
   "execution_count": 78,
   "metadata": {},
   "outputs": [],
   "source": [
    "# Alternativa\n",
    "\n",
    "def separar(lista):\n",
    "    pares = sorted([x for x in lista if x % 2 == 0])\n",
    "    impares = sorted([x for x in lista if x % 2 != 0])\n",
    "    \n",
    "    return pares, impares"
   ]
  },
  {
   "cell_type": "markdown",
   "metadata": {},
   "source": [
    "## Ejercicio 9\n",
    "\n",
    "Realiza una función llamada ``area_circulo(radio)`` que devuelva el área de un círculo a partir de un radio. Calcula el área de un círculo de 5 de radio"
   ]
  },
  {
   "cell_type": "code",
   "execution_count": 67,
   "metadata": {},
   "outputs": [
    {
     "name": "stdout",
     "output_type": "stream",
     "text": [
      "78.53981633974483\n"
     ]
    }
   ],
   "source": [
    "import math\n",
    "\n",
    "def area_circulo(radio):\n",
    "    return math.pi * math.pow(radio,2)\n",
    "print(area_circulo(5))"
   ]
  },
  {
   "cell_type": "markdown",
   "metadata": {},
   "source": [
    "## Ejercicio 10\n",
    "\n",
    "Dada la siguiente función:"
   ]
  },
  {
   "cell_type": "code",
   "execution_count": 68,
   "metadata": {},
   "outputs": [],
   "source": [
    "def venta_online(pedido, fecha_entrega, incidencia = False):\n",
    "    \n",
    "    if(incidencia):\n",
    "        print(\"Contacte con Att. Cliente\")\n",
    "        \n",
    "    else:\n",
    "        print(\"Su pedido\", pedido, \"se entregará el\", fecha_entrega)\n"
   ]
  },
  {
   "cell_type": "markdown",
   "metadata": {},
   "source": [
    "¿Qué nos devuelve si guardamos \"venta_online\" en una variable? ¿Qué tipo de variable es?"
   ]
  },
  {
   "cell_type": "code",
   "execution_count": 69,
   "metadata": {},
   "outputs": [
    {
     "data": {
      "text/plain": [
       "<function __main__.venta_online(pedido, fecha_entrega, incidencia=False)>"
      ]
     },
     "execution_count": 69,
     "metadata": {},
     "output_type": "execute_result"
    }
   ],
   "source": [
    "my_var = venta_online\n",
    "my_var"
   ]
  },
  {
   "cell_type": "markdown",
   "metadata": {},
   "source": [
    "__Respuesta__: Nos devuelve una variable de tipo \"function\". En otras palabras, la variable contendrá una referencia a esa función, que puede ser asignada a variables, pasadas como argumentos a otras funciones, etc. Por tanto, ahora se puede llamar a ``my_var`` de la misma manera que llamarías a venta_online, ya que apunta a la misma función:"
   ]
  },
  {
   "cell_type": "code",
   "execution_count": 71,
   "metadata": {},
   "outputs": [
    {
     "name": "stdout",
     "output_type": "stream",
     "text": [
      "Su pedido Linternas LED se entregará el 24 ABRIL\n"
     ]
    }
   ],
   "source": [
    "my_var('Linternas LED', '24 ABRIL')"
   ]
  },
  {
   "cell_type": "markdown",
   "metadata": {},
   "source": [
    "-----------------\n",
    "\n",
    "Recuerda entregar el notebook en formato html. Puedes hacerlo con la librería \"nbconvert\" desde el cmd en la ruta del documento que quieres transformar de ipynb a html:\n",
    "\n",
    "> jupyter nbconvert --to html --execute notebook_name.ipynb\n"
   ]
  }
 ],
 "metadata": {
  "kernelspec": {
   "display_name": "Python 3",
   "language": "python",
   "name": "python3"
  },
  "language_info": {
   "codemirror_mode": {
    "name": "ipython",
    "version": 3
   },
   "file_extension": ".py",
   "mimetype": "text/x-python",
   "name": "python",
   "nbconvert_exporter": "python",
   "pygments_lexer": "ipython3",
   "version": "3.7.4"
  }
 },
 "nbformat": 4,
 "nbformat_minor": 4
}
