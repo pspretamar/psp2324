{
 "cells": [
  {
   "cell_type": "markdown",
   "metadata": {},
   "source": [
    "# Ejercicios de funciones\n",
    "\n",
    "----\n",
    "\n",
    "Este examen se evaluará de tal forma que se vea la maestría del alumno sobre Python. Esto se ve no solamente con el código bien elaborado, sino con comentarios sobre el código. Se debe demostrar los conocimientos adquiridos en clase.\n",
    "\n",
    "Se evaluará:\n",
    "- Que se haya llegado a una solución (50%)\n",
    "- Que se haya llegado a soluciones creativas, no en todas las preguntas, sino en aquellas en las que sea apropiado, mostrando una forma alternativa de resolver un apartado (20%)\n",
    "- Que se haya resuelto únicamente de una forma no vista en clase (-30%)\n",
    "- Documentación de las funciones (30%)\n",
    "\n",
    "Acuérdate que solo se aceptan entregas en formato html"
   ]
  },
  {
   "cell_type": "markdown",
   "metadata": {},
   "source": [
    "![imagen](./img/ejercicios.png)"
   ]
  },
  {
   "cell_type": "markdown",
   "metadata": {},
   "source": [
    "## Ejercicio 1\n",
    "\n",
    "Escribe una función que reciba un número y lo redondee a tres decimales. Ejecuta la función con el número pi.\n",
    "\n",
    "> HINT acuérdate de que para redondear puedes hacer uso de una [función integrada](https://docs.hektorprofe.net/python/programacion-de-funciones/funciones-integradas/)"
   ]
  },
  {
   "cell_type": "code",
   "execution_count": null,
   "metadata": {},
   "outputs": [],
   "source": []
  },
  {
   "cell_type": "markdown",
   "metadata": {},
   "source": [
    "## Ejercicio 2\n",
    "\n",
    "Escribe una función llamada \"continent_name\" que recibe un input de tipo string, llamado \"continent\", y que imprima por pantalla \"The name of continent is _..._\".\n",
    "\n",
    "Ejecuta la función. ¿Se debe guardar en una variable? ¿o no? ¿por qué?"
   ]
  },
  {
   "cell_type": "code",
   "execution_count": null,
   "metadata": {},
   "outputs": [],
   "source": []
  },
  {
   "cell_type": "markdown",
   "metadata": {},
   "source": [
    "## Ejercicio 3\n",
    "\n",
    "Escribe una función llamada \"location_of_cpus\" que recibe un input de tipo list, llamado \"continent\". \n",
    "- La función devuelve el número de veces que se ejecuta un proceso (pero no ejecuta ningún proceso en sí dado que eso todavía no lo hemos visto) \n",
    "- Si alguno de los continentes en la lista está entre estos continentes: America, Europe, Africa; entonces significa que tiene que ejecutarse un proceso llamado \"aws\". La función no tiene que ejecutar ningún proceso, pero tiene que devolver el número de veces que se requiere de ese proceso. Es decir, si el input de la función aparece dos veces \"America\", que devuelva \"aws\" = 2.\n",
    "- Si algún continente en la lista no está entre estos continentes: America, Europe, Africa; entonces significa que tiene que ejecutarse un proceso llamado \"local\". Del mismo modo, la función no tiene que ejecutar ningún proceso, pero tiene que devolver el número de veces que se requiere de ese proceso. Es decir, si el input de la función aparece dos veces \"Antartida\", que devuelva \"local\" = 2."
   ]
  },
  {
   "cell_type": "code",
   "execution_count": null,
   "metadata": {},
   "outputs": [],
   "source": []
  },
  {
   "cell_type": "markdown",
   "metadata": {},
   "source": [
    "## Ejercicio 4\n",
    "\n",
    "Documenta esta función"
   ]
  },
  {
   "cell_type": "code",
   "execution_count": 33,
   "metadata": {},
   "outputs": [],
   "source": [
    "def venta_online(pedido, fecha_entrega, incidencia = False):\n",
    "    \n",
    "    if(incidencia):\n",
    "        print(\"Contacte con Att. Cliente\")\n",
    "        \n",
    "    else:\n",
    "        print(\"Su pedido\", pedido, \"se entregará el\", fecha_entrega)\n"
   ]
  },
  {
   "cell_type": "markdown",
   "metadata": {},
   "source": [
    "## Ejercicio 5\n",
    "\n",
    "En la siguiente celda se ha creado una variable llamada \"compras\", la cual es una lista que contiene distintas compras de una empresa. Te sigo explicando más abajo."
   ]
  },
  {
   "cell_type": "code",
   "execution_count": 1,
   "metadata": {},
   "outputs": [],
   "source": [
    "# Celda escrita para crear variable 'compras', necesaria para el ejercicio 5\n",
    "import random \n",
    "\n",
    "marcas = ['Samsung', 'Apple', 'Sony', 'LG', 'Nike', 'Adidas', 'Microsoft', 'HP', 'Dell', 'Lenovo']\n",
    "tiendas = ['ElectroStore', 'Gadget Haven', 'Fashion Electronics', 'Super Sports Gear', 'Digital World', 'Gizmo Central']\n",
    "productos = ['Smartphone', 'Laptop', 'Headphones', 'Smart TV', 'Running Shoes', 'Gaming Console']\n",
    "\n",
    "compras = []\n",
    "\n",
    "for i in range(1, 11):\n",
    "    compra = {\n",
    "        'brand': random.choice(marcas),\n",
    "        'price': round(random.uniform(50.0, 200.0), 2),\n",
    "        'shop': random.choice(tiendas),\n",
    "        'product': random.choice(productos),\n",
    "    }\n",
    "    compras.append(compra)"
   ]
  },
  {
   "cell_type": "markdown",
   "metadata": {},
   "source": [
    "La variable \"compras\" contiene diccionarios, cada uno de los cuales representa una compra ejecutada por una empresa. Por ejemplo, la primera compra sería:"
   ]
  },
  {
   "cell_type": "code",
   "execution_count": 3,
   "metadata": {},
   "outputs": [
    {
     "data": {
      "text/plain": [
       "{'brand': 'HP',\n",
       " 'price': 192.51,\n",
       " 'shop': 'Gizmo Central',\n",
       " 'product': 'Gaming Console'}"
      ]
     },
     "execution_count": 3,
     "metadata": {},
     "output_type": "execute_result"
    }
   ],
   "source": [
    "compras[0]"
   ]
  },
  {
   "cell_type": "markdown",
   "metadata": {},
   "source": [
    "Crea una función llamada ``\"product_retrieval()\"`` te permite buscar compras superiores o inferiores a una cantidad.\n",
    "- la función debe recibir tres inputs: la lista con las compras (list), el umbral del precio (int/float), y si queremos precios superiores o inferiores (boolean)\n",
    "- la función debe devolver cada compra con toda su información que supere / o sea inferior al umbral del precio definido"
   ]
  },
  {
   "cell_type": "code",
   "execution_count": null,
   "metadata": {},
   "outputs": [],
   "source": []
  },
  {
   "cell_type": "markdown",
   "metadata": {},
   "source": [
    "Ejecuta la función, devolviendo toda la información de los productos que han costado más de 100 euros"
   ]
  },
  {
   "cell_type": "markdown",
   "metadata": {},
   "source": [
    "## Ejercicio 6\n",
    "\n",
    "En el enunciado del ejercicio 5 se presentaba en una celda de Python la creación de una lista llamada \"compras\". Ese código ya está escrito. Encapsúlalo en una función lamada \"generar_compra\", la cual reciba tres parámetros \"marcas\", \"tiendas\", \"productos\" (de tipo lista), y te devuelva en un diccionario con la información de la compra. \n",
    "\n",
    "Ejemplo de lo que debe devolver: \n",
    "\n",
    "`{'brand': 'Adidas',\n",
    " 'price': 69.85,\n",
    " 'shop': 'Gadget Haven',\n",
    " 'product': 'Headphones'}`"
   ]
  },
  {
   "cell_type": "code",
   "execution_count": null,
   "metadata": {},
   "outputs": [],
   "source": []
  },
  {
   "cell_type": "markdown",
   "metadata": {},
   "source": [
    "## Ejercicio 7\n",
    "\n",
    "Crea una función **recursiva** que muestre la cuenta regresiva hasta cero a partir de un número. \n",
    "- La función debe de llamarse ``\"cuenta_atras()\"``\n",
    "- debe recibir un único argumento que es el número a contar __(por defecto tiene que ser 10)__\n",
    "- que imprimir todos los números desde ese número (ej: 10, 9, 8, 7, 6, 5, 4, 3, 2, 1, 'BOOM'). Como ves, al llegar a cero debe imprimir \"BOOM\".\n",
    "- acuérdate de que debe ser una función __recursiva__, es decir, se debe llamar a sí misma en la propia función"
   ]
  },
  {
   "cell_type": "code",
   "execution_count": null,
   "metadata": {},
   "outputs": [],
   "source": []
  },
  {
   "cell_type": "markdown",
   "metadata": {},
   "source": [
    "## Ejercicio 8\n",
    "\n",
    "Realiza una función ``separar(lista)`` que tome una lista de números enteros y devuelva dos listas ordenadas. La primera con los números pares y la segunda con los números impares."
   ]
  },
  {
   "cell_type": "code",
   "execution_count": null,
   "metadata": {},
   "outputs": [],
   "source": []
  },
  {
   "cell_type": "markdown",
   "metadata": {},
   "source": [
    "## Ejercicio 9\n",
    "\n",
    "Realiza una función llamada ``area_circulo(radio)`` que devuelva el área de un círculo a partir de un radio. Calcula el área de un círculo de 5 de radio"
   ]
  },
  {
   "cell_type": "code",
   "execution_count": null,
   "metadata": {},
   "outputs": [],
   "source": []
  },
  {
   "cell_type": "markdown",
   "metadata": {},
   "source": [
    "## Ejercicio 10\n",
    "\n",
    "Dada la siguiente función:"
   ]
  },
  {
   "cell_type": "code",
   "execution_count": 34,
   "metadata": {},
   "outputs": [],
   "source": [
    "def venta_online(pedido, fecha_entrega, incidencia = False):\n",
    "    \n",
    "    if(incidencia):\n",
    "        print(\"Contacte con Att. Cliente\")\n",
    "        \n",
    "    else:\n",
    "        print(\"Su pedido\", pedido, \"se entregará el\", fecha_entrega)\n"
   ]
  },
  {
   "cell_type": "markdown",
   "metadata": {},
   "source": [
    "¿Qué nos devuelve si guardamos \"venta_online\" en una variable? ¿Qué tipo de variable es?"
   ]
  },
  {
   "cell_type": "code",
   "execution_count": 35,
   "metadata": {},
   "outputs": [
    {
     "data": {
      "text/plain": [
       "<function __main__.venta_online(pedido, fecha_entrega, incidencia=False)>"
      ]
     },
     "execution_count": 35,
     "metadata": {},
     "output_type": "execute_result"
    }
   ],
   "source": [
    "my_var = venta_online\n",
    "my_var"
   ]
  },
  {
   "cell_type": "markdown",
   "metadata": {},
   "source": [
    "__Respuesta__:"
   ]
  },
  {
   "cell_type": "markdown",
   "metadata": {},
   "source": [
    "-----------------\n",
    "\n",
    "Recuerda entregar el notebook en formato html. Puedes hacerlo con la librería \"nbconvert\" desde el cmd en la ruta del documento que quieres transformar de ipynb a html:\n",
    "\n",
    "> jupyter nbconvert --to html --execute notebook_name.ipynb\n"
   ]
  }
 ],
 "metadata": {
  "kernelspec": {
   "display_name": "Python 3",
   "language": "python",
   "name": "python3"
  },
  "language_info": {
   "codemirror_mode": {
    "name": "ipython",
    "version": 3
   },
   "file_extension": ".py",
   "mimetype": "text/x-python",
   "name": "python",
   "nbconvert_exporter": "python",
   "pygments_lexer": "ipython3",
   "version": "3.7.4"
  }
 },
 "nbformat": 4,
 "nbformat_minor": 4
}
