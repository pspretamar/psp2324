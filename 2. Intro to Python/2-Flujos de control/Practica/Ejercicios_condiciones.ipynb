{
 "cells": [
  {
   "cell_type": "markdown",
   "metadata": {},
   "source": [
    "![imagen](./img/ejercicios.png)"
   ]
  },
  {
   "cell_type": "markdown",
   "metadata": {},
   "source": [
    "# Ejercicios Condicionales\n",
    "\n",
    "Este ejercicio se evaluará de tal forma que se vea la comprensión del alumno. Esto se ve no solamente con el código bien elaborado, sino con comentarios puestos por el alumno. Se debe demostrar los conocimientos adquiridos en clase.\n",
    "\n",
    "Se evaluará:\n",
    "- Que se haya llegado a una solución (30%)\n",
    "- Que se haya llegado a soluciones creativas (30%), mostrando distintos caminos de resolvelo\n",
    "- Que se haya resuelto únicamente de una forma no vista en clase (-30%)\n",
    "- Que se explique cada paso con comentarios en el código de forma clara, concisa y ordenada (30%)\n",
    "- Que se haya utilizado una condición anidada (una condición dentro de una condición) (10%)\n",
    "\n",
    "Acuérdate que solo se aceptan entregas en formato html"
   ]
  },
  {
   "cell_type": "markdown",
   "metadata": {},
   "source": [
    "## Ejercicio 1\n",
    "\n",
    "Escribir por pantalla un programa que pregunte al usuario su edad y muestre por pantalla si es mayor de edad o no "
   ]
  },
  {
   "cell_type": "code",
   "execution_count": null,
   "metadata": {},
   "outputs": [],
   "source": []
  },
  {
   "cell_type": "markdown",
   "metadata": {},
   "source": [
    "## Ejercicio 2\n",
    "Declara una variable numérica que será una hora cualquiera del día. Implementa mediante sentencias `if/elif/else` la siguiente casuística:\n",
    "\n",
    "* Si es entre las 0 y las 8, print \"Durmiendo\"\n",
    "* Si es entre las 9 y las 18, print \"Trabajando\"\n",
    "* Si es entre las 19 y las 21, print \"Clase\"\n",
    "* Si es entre las 22 y las 24, print \"Descanso\"\n",
    "* En cualquier otro caso, print \"Transporte o error\""
   ]
  },
  {
   "cell_type": "code",
   "execution_count": null,
   "metadata": {},
   "outputs": [],
   "source": []
  },
  {
   "cell_type": "markdown",
   "metadata": {},
   "source": [
    "## Ejercicio 3\n",
    "En este ejercicio vamos a implementar un calculador de precios de casas muy sencillo. Tenemos las siguientes variables:\n",
    "\n",
    "> superficie\n",
    ">\n",
    "> distrito\n",
    "\n",
    "Implementa mediante sentencias `if/elif/else` la siguiente casuística:\n",
    "\n",
    "1. Si el distrito es \"Moncloa\" o \"Centro\", y además la superficie es superior a 100 metros cuadrados, el precio de la casa es de 1000\n",
    "2. Si el distrito es \"Salamanca\", y además la superficie de la casa es al menos de 150 metros, el precio de la casa es de 1500\n",
    "3. Si el distrito no es \"Retiro\" y la superficie está entre 60 y 80 metros, el precio es de 600\n",
    "4. En cualquier otro caso, el precio será de 0"
   ]
  },
  {
   "cell_type": "code",
   "execution_count": null,
   "metadata": {},
   "outputs": [],
   "source": []
  },
  {
   "cell_type": "markdown",
   "metadata": {},
   "source": [
    "## Ejercicio 4\n",
    "En este ejercicio vamos a realizar un programa muy parecido. Para este caso queremos que se cumplan las siguientes condiciones:\n",
    "\n",
    "1. Primero se compruebe si el distrito es \"Retiro\". Si es asi, que imprima \"Distrito Retiro\", y si no, \"Otro distrito\"\n",
    "2. Si el distrito es \"Retiro\", comprueba si si la superficie es mayor de 100 metros cuadrados. En tal caso, que imprima un precio de 1000, y si no, de 500.\n",
    "\n",
    "Hay que usar `ifs` anidados"
   ]
  },
  {
   "cell_type": "code",
   "execution_count": null,
   "metadata": {},
   "outputs": [],
   "source": []
  },
  {
   "cell_type": "markdown",
   "metadata": {},
   "source": [
    "## Ejercicio 5\n",
    "\n",
    "En este ejercicio vamos a crear un programa que nos diga cuánto debe pagar el cliente.\n",
    "\n",
    "En una tienda de ropa se descuenta 20% del precio al cliente si el valor a pagarse es mayor a 200 EUR. Dado un valor de precio, muestre lo que debe pagar el cliente.\n",
    "\n"
   ]
  },
  {
   "cell_type": "code",
   "execution_count": null,
   "metadata": {},
   "outputs": [],
   "source": []
  },
  {
   "cell_type": "markdown",
   "metadata": {},
   "source": [
    "-----"
   ]
  },
  {
   "cell_type": "markdown",
   "metadata": {},
   "source": [
    "Recuerda entregar el notebook en formato html. Puedes hacerlo con la librería \"nbconvert\""
   ]
  },
  {
   "cell_type": "code",
   "execution_count": null,
   "metadata": {},
   "outputs": [],
   "source": [
    "# jupyter nbconvert --to html Ejercicios_condiciones.ipynb\n"
   ]
  }
 ],
 "metadata": {
  "kernelspec": {
   "display_name": "Python 3",
   "language": "python",
   "name": "python3"
  },
  "language_info": {
   "codemirror_mode": {
    "name": "ipython",
    "version": 3
   },
   "file_extension": ".py",
   "mimetype": "text/x-python",
   "name": "python",
   "nbconvert_exporter": "python",
   "pygments_lexer": "ipython3",
   "version": "3.7.4"
  }
 },
 "nbformat": 4,
 "nbformat_minor": 2
}
