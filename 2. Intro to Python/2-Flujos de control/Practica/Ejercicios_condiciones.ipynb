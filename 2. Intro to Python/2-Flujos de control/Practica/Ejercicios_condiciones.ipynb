{
 "cells": [
  {
   "cell_type": "markdown",
   "metadata": {},
   "source": [
    "![imagen](./img/ejercicios.png)"
   ]
  },
  {
   "cell_type": "markdown",
   "metadata": {},
   "source": [
    "# Ejercicios Condicionales\n",
    "\n",
    "Este ejercicio se evaluará de tal forma que se vea la comprensión del alumno. Esto se ve no solamente con el código bien elaborado, sino con comentarios puestos por el alumno. Se debe demostrar los conocimientos adquiridos en clase.\n",
    "\n",
    "Se evaluará:\n",
    "- Que se haya llegado a una solución (30%)\n",
    "- Que se haya llegado a soluciones creativas (30%), mostrando distintos caminos de resolvelo\n",
    "- Que se haya resuelto únicamente de una forma no vista en clase (-30%)\n",
    "- Que se explique cada paso con comentarios en el código de forma clara, concisa y ordenada (30%)\n",
    "- Que se haya utilizado una condición anidada (una condición dentro de una condición) (10%)\n",
    "\n",
    "Acuérdate que solo se aceptan entregas en formato html"
   ]
  },
  {
   "cell_type": "markdown",
   "metadata": {},
   "source": [
    "## Ejercicio 1\n",
    "\n",
    "Escribir por pantalla un programa que pregunte al usuario su edad y muestre por pantalla si es mayor de edad o no "
   ]
  },
  {
   "cell_type": "code",
   "execution_count": 4,
   "metadata": {},
   "outputs": [
    {
     "name": "stdout",
     "output_type": "stream",
     "text": [
      "No es mayor de edad.\n"
     ]
    }
   ],
   "source": [
    "#Preguntar edad\n",
    "edad = int(input(\"Introduce tu edad: \"))\n",
    "\n",
    "#Calculamos si es mayor de edad o no\n",
    "if edad >= 18:\n",
    "    print(\"Es mayor de edad.\")\n",
    "else:\n",
    "    print(\"No es mayor de edad.\")"
   ]
  },
  {
   "cell_type": "code",
   "execution_count": 25,
   "metadata": {},
   "outputs": [
    {
     "name": "stdout",
     "output_type": "stream",
     "text": [
      "Es menor de edad\n"
     ]
    }
   ],
   "source": [
    "# variable con lo que introduzca el usuario\n",
    "edad = int(input(\"Introduzca su edad\"))\n",
    "\n",
    "# comprobamos que sea numerico\n",
    "if isinstance(edad, int):\n",
    "# preguntamos si es menor de 18 años\n",
    "    if edad < 18:\n",
    "        # si lo es, lo imprimimos\n",
    "        print(\"Es menor de edad\")\n",
    "    else:\n",
    "        # si no lo es, se imprime\n",
    "        print(\"Es mayor de edad\")\n",
    "# si no\n",
    "else:\n",
    "    # Imprime esto\n",
    "    print(\"Debe introducir un numero\")"
   ]
  },
  {
   "cell_type": "code",
   "execution_count": 3,
   "metadata": {},
   "outputs": [
    {
     "name": "stdout",
     "output_type": "stream",
     "text": [
      "¿Es mayor de edad? --  False\n"
     ]
    }
   ],
   "source": [
    "# Pedimos la edad al usuario\n",
    "edad = input(\"Dígame su edad señor\")\n",
    "# Comprobamos si es mayor de edad\n",
    "mayorEdad = int(edad) >= 18\n",
    "# Mostramos si es mayor de edad\n",
    "print(\"¿Es mayor de edad? -- \",mayorEdad)"
   ]
  },
  {
   "cell_type": "code",
   "execution_count": null,
   "metadata": {},
   "outputs": [],
   "source": [
    "usuario = 23\n",
    "\n",
    "if usuario < 0:\n",
    "    print(\"Error\")\n",
    "elif usuario < 18:\n",
    "    print(\"El usuario es menor de edad\")\n",
    "else:\n",
    "    print(\"El usuario es mayor de edad\")"
   ]
  },
  {
   "cell_type": "code",
   "execution_count": 27,
   "metadata": {},
   "outputs": [
    {
     "name": "stdout",
     "output_type": "stream",
     "text": [
      "Eres mayor de edad.\n"
     ]
    }
   ],
   "source": [
    "#2ª Forma de hacerlo\n",
    "\n",
    "# Solicitar al usuario que ingrese su edad\n",
    "edad = int(input(\"Por favor, ingresa tu edad: \"))\n",
    "\n",
    "# Determinar si es mayor de edad y mostrar el resultado\n",
    "mensaje = \"Eres mayor de edad.\" if edad >= 18 else \"Eres menor de edad.\"\n",
    "print(mensaje)"
   ]
  },
  {
   "cell_type": "markdown",
   "metadata": {},
   "source": [
    "## Ejercicio 2\n",
    "Declara una variable numérica que será una hora cualquiera del día. Implementa mediante sentencias `if/elif/else` la siguiente casuística:\n",
    "\n",
    "* Si es entre las 0 y las 8, print \"Durmiendo\"\n",
    "* Si es entre las 9 y las 18, print \"Trabajando\"\n",
    "* Si es entre las 19 y las 21, print \"Clase\"\n",
    "* Si es entre las 22 y las 24, print \"Descanso\"\n",
    "* En cualquier otro caso, print \"Transporte o error\""
   ]
  },
  {
   "cell_type": "code",
   "execution_count": 20,
   "metadata": {},
   "outputs": [
    {
     "name": "stdout",
     "output_type": "stream",
     "text": [
      "Introduce una hora válida\n",
      "Introduce una hora válida\n",
      "Durmiendo\n"
     ]
    }
   ],
   "source": [
    "#Preguntamos la hora del dia\n",
    "hora = input(\"Introduce la hora del dia: \")\n",
    "\n",
    "while type(hora) == str:\n",
    "    if hora.isdigit():\n",
    "        hora = int(hora)\n",
    "        break\n",
    "    else:\n",
    "        print('Introduce una hora válida')\n",
    "        hora = input(\"Introduce la hora del dia: \")\n",
    "        continue\n",
    "\n",
    "#Dependiendo la hora, se imprimirá lo correspondiente\n",
    "if 0 <= hora < 8:\n",
    "    print(\"Durmiendo\")\n",
    "elif hora < 9:\n",
    "    print(\"Trabajando\")\n",
    "elif hora < 18:\n",
    "    print(\"Trabajando\")\n",
    "elif hora < 21:\n",
    "    print(\"Clase\")\n",
    "elif hora < 22:\n",
    "    print(\"Descanso\")\n",
    "elif hora < 24:\n",
    "    print(\"Descanso\")\n",
    "else:\n",
    "    print(\"Transporte o error\")"
   ]
  },
  {
   "cell_type": "markdown",
   "metadata": {},
   "source": [
    "## Ejercicio 3\n",
    "En este ejercicio vamos a implementar un calculador de precios de casas muy sencillo. Tenemos las siguientes variables:\n",
    "\n",
    "> superficie\n",
    ">\n",
    "> distrito\n",
    "\n",
    "Implementa mediante sentencias `if/elif/else` la siguiente casuística:\n",
    "\n",
    "1. Si el distrito es \"Moncloa\" o \"Centro\", y además la superficie es superior a 100 metros cuadrados, el precio de la casa es de 1000\n",
    "2. Si el distrito es \"Salamanca\", y además la superficie de la casa es al menos de 150 metros, el precio de la casa es de 1500\n",
    "3. Si el distrito no es \"Retiro\" y la superficie está entre 60 y 80 metros, el precio es de 600\n",
    "4. En cualquier otro caso, el precio será de 0"
   ]
  },
  {
   "cell_type": "code",
   "execution_count": 24,
   "metadata": {},
   "outputs": [
    {
     "name": "stdout",
     "output_type": "stream",
     "text": [
      "1500\n"
     ]
    }
   ],
   "source": [
    "#Preguntamos la superficie y distrito\n",
    "superficie = float(input(\"Introduce la superficie de la casa: \"))\n",
    "distrito = str(input(\"Introduce el distrito: \")).lower()\n",
    "\n",
    "#Inicializamos el precio\n",
    "precio = 0\n",
    "\n",
    "#Depende del distrito y superficie, el precio será distinto\n",
    "if (distrito == \"moncloa\" or distrito == \"centro\") and superficie > 100:\n",
    "    precio = 1000\n",
    "elif distrito == \"salamanca\" and superficie >= 150:\n",
    "    precio = 1500\n",
    "elif distrito != \"retiro\" and 60 <= superficie < 80:\n",
    "    precio = 600\n",
    "else:\n",
    "    precio = 0\n",
    "\n",
    "print(precio)"
   ]
  },
  {
   "cell_type": "markdown",
   "metadata": {},
   "source": [
    "## Ejercicio 4\n",
    "En este ejercicio vamos a realizar un programa muy parecido. Para este caso queremos que se cumplan las siguientes condiciones:\n",
    "\n",
    "1. Primero se compruebe si el distrito es \"Retiro\". Si es asi, que imprima \"Distrito Retiro\", y si no, \"Otro distrito\"\n",
    "2. Si el distrito es \"Retiro\", comprueba si si la superficie es mayor de 100 metros cuadrados. En tal caso, que imprima un precio de 1000, y si no, de 500.\n",
    "\n",
    "Hay que usar `ifs` anidados"
   ]
  },
  {
   "cell_type": "code",
   "execution_count": null,
   "metadata": {},
   "outputs": [],
   "source": [
    "#Preguntamos la superficie y distrito\n",
    "superficie = float(input(\"Introduce la superficie de la casa: \"))\n",
    "distrito = input(\"Introduce el distrito: \")\n",
    "\n",
    "#Comprobamos si el distrito es Retiro\n",
    "if distrito == \"Retiro\":\n",
    "    print(\"Distrito Retiro\")\n",
    "    #Si el distrito es Retiro, comprobamos la superficie\n",
    "    if superficie > 100:\n",
    "        print(\"El precio es de 1000 euros.\")\n",
    "    else:\n",
    "        print(\"El precio es de 500 euros.\")\n",
    "else:\n",
    "    print(\"Otro distrito\")"
   ]
  },
  {
   "cell_type": "code",
   "execution_count": null,
   "metadata": {},
   "outputs": [],
   "source": [
    "# creamos las variables para que puedan introducir los datos\n",
    "superficie = int(input(\"Introduzca la superficie\"))\n",
    "distrito = input(\"Introduce distrito\")\n",
    "\n",
    "# comprobamos que introduzca bien los datos\n",
    "if isinstance(superficie, int) and isinstance(distrito, str):\n",
    "    # Preguntamos si el distrito es Retiro\n",
    "    if distrito == \"Retiro\":\n",
    "        # si lo es imprime lo siguiente\n",
    "        print(\"Distrito Retiro\")\n",
    "        # y comprueba si el valor de superficie es mayor de 100m2\n",
    "        if superficie > 100:\n",
    "            # de ser asi impreme esto\n",
    "            print(\"Precio: 1000 €\")\n",
    "        # si no\n",
    "        else:\n",
    "            # Imprime esto\n",
    "            print(\"Precio: 500 €\")\n",
    "    # si no\n",
    "    else:\n",
    "        # Imprime esto\n",
    "        print(\"Otro distrito\")\n",
    "# si no\n",
    "else:\n",
    "    # imprime esto\n",
    "    print(\"Superficie debe ser numerico y distrito debe ser una palabra\")"
   ]
  },
  {
   "cell_type": "markdown",
   "metadata": {},
   "source": [
    "## Ejercicio 5\n",
    "\n",
    "En este ejercicio vamos a crear un programa que nos diga cuánto debe pagar el cliente.\n",
    "\n",
    "En una tienda de ropa se descuenta 20% del precio al cliente si el valor a pagarse es mayor a 200 EUR. Dado un valor de precio, muestre lo que debe pagar el cliente.\n",
    "\n"
   ]
  },
  {
   "cell_type": "code",
   "execution_count": null,
   "metadata": {},
   "outputs": [],
   "source": [
    "#Preguntamos el precio del producto\n",
    "precio_producto = float(input(\"Introduce el precio del producto: \"))\n",
    "\n",
    "#Calculamos si el precio del producto es mayor a 200 euros\n",
    "if precio_producto > 200:\n",
    "    descuento = precio_producto * 0.20 \n",
    "    precio_final = precio_producto - descuento\n",
    "else:\n",
    "    precio_final = precio_producto\n",
    "\n",
    "#Mostramos el precio final\n",
    "print(precio_final)"
   ]
  },
  {
   "cell_type": "markdown",
   "metadata": {},
   "source": [
    "-----"
   ]
  },
  {
   "cell_type": "markdown",
   "metadata": {},
   "source": [
    "Recuerda entregar el notebook en formato html. Puedes hacerlo con la librería \"nbconvert\""
   ]
  },
  {
   "cell_type": "code",
   "execution_count": 1,
   "metadata": {},
   "outputs": [],
   "source": [
    "# jupyter nbconvert --to html --execute mynotebook.ipynb\n"
   ]
  }
 ],
 "metadata": {
  "kernelspec": {
   "display_name": "Python 3",
   "language": "python",
   "name": "python3"
  },
  "language_info": {
   "codemirror_mode": {
    "name": "ipython",
    "version": 3
   },
   "file_extension": ".py",
   "mimetype": "text/x-python",
   "name": "python",
   "nbconvert_exporter": "python",
   "pygments_lexer": "ipython3",
   "version": "3.7.4"
  }
 },
 "nbformat": 4,
 "nbformat_minor": 2
}
