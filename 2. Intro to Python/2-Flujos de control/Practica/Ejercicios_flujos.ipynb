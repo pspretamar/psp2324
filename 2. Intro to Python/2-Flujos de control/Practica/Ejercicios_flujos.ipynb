{
 "cells": [
  {
   "cell_type": "markdown",
   "metadata": {},
   "source": [
    "# Ejercicios Flujos\n",
    "\n",
    "Este ejercicio se evaluará de tal forma que se vea la maestría del alumno sobre Python. Esto se ve no solamente con el código bien elaborado, sino con comentarios sobre el código. Se debe demostrar los conocimientos adquiridos en clase.\n",
    "\n",
    "Se evaluará:\n",
    "- Que se haya llegado a una solución (30%)\n",
    "- Que se haya llegado a soluciones creativas, mostrando distintos caminos de resolvelo (30%)\n",
    "- Que se haya resuelto únicamente de una forma no vista en clase (-30%)\n",
    "- Que se explique cada paso con comentarios en el código de forma clara, concisa y ordenada (es decir, que se comprenda bien el código) (30%)\n",
    "- Ejercicios de Markdown (10%)\n",
    "\n",
    "Acuérdate que solo se aceptan entregas en formato html"
   ]
  },
  {
   "cell_type": "markdown",
   "metadata": {},
   "source": [
    "## Ejercicio Markdown\n",
    "\n",
    "Incluye la imagen que está guardada en la carpeta \"img\""
   ]
  },
  {
   "cell_type": "markdown",
   "metadata": {},
   "source": []
  },
  {
   "cell_type": "markdown",
   "metadata": {},
   "source": [
    "## Ejercicio 1\n",
    "\n",
    "Imprime por pantalla cada número del -1 al -10. En ese orden."
   ]
  },
  {
   "cell_type": "code",
   "execution_count": null,
   "metadata": {},
   "outputs": [],
   "source": []
  },
  {
   "cell_type": "markdown",
   "metadata": {},
   "source": [
    "## Ejercicio 2\n",
    "\n",
    "Escribe un programa en Python que imprima por pantalla todos los números divisibles por 5 y divisibles por 7, dentro del rango de valores (150, 350)"
   ]
  },
  {
   "cell_type": "code",
   "execution_count": null,
   "metadata": {},
   "outputs": [],
   "source": []
  },
  {
   "cell_type": "markdown",
   "metadata": {},
   "source": [
    "## Ejercicio 3\n",
    "\n",
    "Implementa un programa que imprima por pantalla el siguiente patrón:\n",
    "\n",
    "5 4 3 2 1 \n",
    "\n",
    "4 3 2 1 \n",
    "\n",
    "3 2 1 \n",
    "\n",
    "2 1 \n",
    "\n",
    "1"
   ]
  },
  {
   "cell_type": "code",
   "execution_count": null,
   "metadata": {},
   "outputs": [],
   "source": []
  },
  {
   "cell_type": "code",
   "execution_count": 40,
   "metadata": {},
   "outputs": [
    {
     "name": "stdout",
     "output_type": "stream",
     "text": [
      "0 1 2 3 4 "
     ]
    }
   ],
   "source": [
    "# Te puede servir el método 'end' en el 'print' para lograr el formato solicitado, por ej:\n",
    "\n",
    "for i in range(5):\n",
    "    print(i, end=' ')"
   ]
  },
  {
   "cell_type": "markdown",
   "metadata": {},
   "source": [
    "## Ejercicio 4\n",
    "\n",
    "Tenemos la siguiente lista de productos: \n",
    "\n",
    "price = [24.99, 300, 450, 98, 990, 12, 9.99, 89, 18.50, 340, 329.99, 560, 999, 1200]\n",
    "\n",
    "Queremos detectat los precios psicológicos, y en particular aquellos que acaban en 99 céntimos y la posición que ocupan en la lista. Para ello, asigna un mensaje de notificación a la variable \"psicologic_prices\" (tipo lista) qwue indique el precio y la posición. Ej: en el caso de que los precios \"49.99\" y \"9.99\" fuesen los únicos precios piscológicos en la lista \"price\" y estuviesen en las posiciones 3 y 5, imprimir \"psicologic_prices\" que debería de contener una lista tal que así: ['La posicion 3 tiene un precio de 49.99', 'La posición 5 tiene un precio de 9.99']\n",
    "\n",
    "- Te puede ayudar hacerlo con métodos de string y de listas"
   ]
  },
  {
   "cell_type": "code",
   "execution_count": 47,
   "metadata": {},
   "outputs": [],
   "source": [
    "price = [24.99, 300, 450, 98, 990, 12, 9.99, 89, 18.50, 340, 329.99, 560, 999, 1200]\n",
    "psicologic_prices = []\n",
    "\n"
   ]
  },
  {
   "cell_type": "markdown",
   "metadata": {},
   "source": [
    "## Ejercicio Markdown\n",
    "\n",
    "Según el output del ejercicio 4, escribe de forma esquemática en Markdown en qué posición está cada precio psicológico. Escribe tanto la posición como el precio en negrita:"
   ]
  },
  {
   "cell_type": "markdown",
   "metadata": {},
   "source": []
  },
  {
   "cell_type": "markdown",
   "metadata": {},
   "source": [
    "## Ejercicio 5\n",
    "\n",
    "Dada la siguiente lista, imprime qué tipos de variable hay en la lista (strings, integer, float...) y cuantas variables de cada tipo hay.\n",
    "\n",
    "> mix = [5, 7, \"Abril\", True, False, [\"Blanco\", \"Negro\"], 8.8, 8, 9.8, \"Manzana\"]\n"
   ]
  },
  {
   "cell_type": "code",
   "execution_count": 3,
   "metadata": {},
   "outputs": [],
   "source": [
    "mix = [5, 7, \"Abril\", True, False, [\"Blanco\", \"Negro\"], 8.8, 8, 9.8, \"Manzana\"]\n"
   ]
  },
  {
   "cell_type": "markdown",
   "metadata": {},
   "source": [
    "## Ejercicio 6\n",
    "\n",
    "En este ejercicio vamos a crear un pequeño juego. Se trata de intentar adivinar un numero del 1 al 5. Tenemos dos intentos para acertar. Pasos a seguir:\n",
    "\n",
    "1. Ya viene implementado cómo obtener un número aleatorio del 1 al 5\n"
   ]
  },
  {
   "cell_type": "code",
   "execution_count": 23,
   "metadata": {},
   "outputs": [
    {
     "data": {
      "text/plain": [
       "4"
      ]
     },
     "execution_count": 23,
     "metadata": {},
     "output_type": "execute_result"
    }
   ],
   "source": [
    "# 1 | Para obtener un número aleatorio del 1 al 5 se puede utilizar la librería random método randint\n",
    "\n",
    "import random\n",
    "random_number = random.randint(1, 5)\n",
    "random_number"
   ]
  },
  {
   "cell_type": "markdown",
   "metadata": {},
   "source": [
    "2. Tendrás que declarar en una variable el numero de vidas, y mediante un bucle while, comprobar que todavia quedan vidas.\n",
    "3. Dentro del bucle, obtener el valor del usuario y comprobar si es ese el numero a adivinar. Si no, actualizar las vidas.\n",
    "4. Si acertamos, salimos del bucle e imprimimos por pantalla \"You win\". Y si finalmente nos quedamos sin vidas también salimos del bucle, pero en este caso imprimimos por pantalla \"You lose\".\n",
    "\n",
    "TIP: te puede resultar útil usar la sentencia `else` cuando acabe el bucle `while`. Lo que haya dentro de ese `else` se ejecutará una vez acabe la ejecución del `while`. Lo podrás usar para cuando pierdas."
   ]
  },
  {
   "cell_type": "code",
   "execution_count": null,
   "metadata": {},
   "outputs": [],
   "source": []
  },
  {
   "cell_type": "markdown",
   "metadata": {},
   "source": [
    "-----"
   ]
  },
  {
   "cell_type": "markdown",
   "metadata": {},
   "source": [
    "Recuerda entregar el notebook en formato html. Puedes hacerlo con la librería \"nbconvert\" desde el cmd en la ruta del documento que quieres transformar de ipynb a html:\n",
    "\n",
    "> jupyter nbconvert --to html --execute Ejercicios_flujos.ipynb\n"
   ]
  }
 ],
 "metadata": {
  "kernelspec": {
   "display_name": "Python 3",
   "language": "python",
   "name": "python3"
  },
  "language_info": {
   "codemirror_mode": {
    "name": "ipython",
    "version": 3
   },
   "file_extension": ".py",
   "mimetype": "text/x-python",
   "name": "python",
   "nbconvert_exporter": "python",
   "pygments_lexer": "ipython3",
   "version": "3.7.4"
  }
 },
 "nbformat": 4,
 "nbformat_minor": 2
}
