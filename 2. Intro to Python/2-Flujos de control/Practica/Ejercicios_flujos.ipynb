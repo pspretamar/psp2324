{
 "cells": [
  {
   "cell_type": "markdown",
   "metadata": {},
   "source": [
    "# Ejercicios Flujos\n",
    "\n",
    "Este ejercicio se evaluará de tal forma que se vea la maestría del alumno sobre Python. Esto se ve no solamente con el código bien elaborado, sino con comentarios sobre el código. Se debe demostrar los conocimientos adquiridos en clase.\n",
    "\n",
    "Se evaluará:\n",
    "- Que se haya llegado a una solución (30%)\n",
    "- Que se haya llegado a soluciones creativas, mostrando distintos caminos de resolvelo (30%)\n",
    "- Que se haya resuelto únicamente de una forma no vista en clase (-30%)\n",
    "- Que se explique cada paso con comentarios en el código de forma clara, concisa y ordenada (es decir, que se comprenda bien el código) (30%)\n",
    "- Ejercicios de Markdown (10%)\n",
    "\n",
    "Acuérdate que solo se aceptan entregas en formato html"
   ]
  },
  {
   "cell_type": "markdown",
   "metadata": {},
   "source": [
    "## Ejercicio Markdown\n",
    "\n",
    "Incluye la imagen que está guardada en la carpeta \"img\""
   ]
  },
  {
   "cell_type": "markdown",
   "metadata": {},
   "source": [
    "![imagen](img/ejercicios.png)"
   ]
  },
  {
   "cell_type": "markdown",
   "metadata": {},
   "source": [
    "## Ejercicio 1\n",
    "\n",
    "Imprime por pantalla cada número del -1 al -10. En ese orden."
   ]
  },
  {
   "cell_type": "code",
   "execution_count": 2,
   "metadata": {},
   "outputs": [
    {
     "name": "stdout",
     "output_type": "stream",
     "text": [
      "-1\n",
      "-2\n",
      "-3\n",
      "-4\n",
      "-5\n",
      "-6\n",
      "-7\n",
      "-8\n",
      "-9\n",
      "-10\n"
     ]
    }
   ],
   "source": [
    "for i in range(-1, -11, -1):\n",
    "    print(i)"
   ]
  },
  {
   "cell_type": "code",
   "execution_count": 48,
   "metadata": {},
   "outputs": [
    {
     "name": "stdout",
     "output_type": "stream",
     "text": [
      "-1\n",
      "-2\n",
      "-3\n",
      "-4\n",
      "-5\n",
      "-6\n",
      "-7\n",
      "-8\n",
      "-9\n",
      "-10\n"
     ]
    }
   ],
   "source": [
    "num = -1\n",
    "\n",
    "while num >= -10:\n",
    "    print(num)    \n",
    "    num -= 1"
   ]
  },
  {
   "cell_type": "code",
   "execution_count": 3,
   "metadata": {},
   "outputs": [
    {
     "data": {
      "text/plain": [
       "[-1, -2, -3, -4, -5, -6, -7, -8, -9, -10]"
      ]
     },
     "execution_count": 3,
     "metadata": {},
     "output_type": "execute_result"
    }
   ],
   "source": [
    "[i for i in range(-1, -11, -1)]"
   ]
  },
  {
   "cell_type": "markdown",
   "metadata": {},
   "source": [
    "## Ejercicio 2\n",
    "\n",
    "Escribe un programa en Python que imprima por pantalla todos los números divisibles por 5 y divisibles por 7, dentro del rango de valores (150, 350)"
   ]
  },
  {
   "cell_type": "code",
   "execution_count": 39,
   "metadata": {},
   "outputs": [
    {
     "name": "stdout",
     "output_type": "stream",
     "text": [
      "175\n",
      "210\n",
      "245\n",
      "280\n",
      "315\n",
      "350\n"
     ]
    }
   ],
   "source": [
    "for e in range(150,351):\n",
    "    if e%5==0 and e%7==0:\n",
    "        print(e)"
   ]
  },
  {
   "cell_type": "code",
   "execution_count": 49,
   "metadata": {},
   "outputs": [
    {
     "name": "stdout",
     "output_type": "stream",
     "text": [
      "175 210 245 280 315 350 "
     ]
    }
   ],
   "source": [
    "num = 150\n",
    "\n",
    "while num <= 350:\n",
    "    if num % 5 == 0 and num % 7 == 0:\n",
    "        print(num, end=' ')    \n",
    "    num += 1"
   ]
  },
  {
   "cell_type": "markdown",
   "metadata": {},
   "source": [
    "## Ejercicio 3\n",
    "\n",
    "Implementa un programa que imprima por pantalla el siguiente patrón:\n",
    "\n",
    "5 4 3 2 1 \n",
    "\n",
    "4 3 2 1 \n",
    "\n",
    "3 2 1 \n",
    "\n",
    "2 1 \n",
    "\n",
    "1"
   ]
  },
  {
   "cell_type": "code",
   "execution_count": 4,
   "metadata": {},
   "outputs": [
    {
     "name": "stdout",
     "output_type": "stream",
     "text": [
      "0 1 2 3 4 "
     ]
    }
   ],
   "source": [
    "# Te puede servir el método 'end' en el 'print' para lograr el formato solicitado, por ej:\n",
    "\n",
    "for i in range(5):\n",
    "    print(i, end=' ')"
   ]
  },
  {
   "cell_type": "code",
   "execution_count": 5,
   "metadata": {},
   "outputs": [
    {
     "name": "stdout",
     "output_type": "stream",
     "text": [
      "5 4 3 2 1 \t\n",
      "4 3 2 1 \t\n",
      "3 2 1 \t\n",
      "2 1 \t\n",
      "1 "
     ]
    }
   ],
   "source": [
    "numero=list(range(5,0,-1))\n",
    "# realizamos varios bucles for para hacer el recorrido y vamos quitando un numero a la posicion 0\n",
    "\n",
    "for i in numero:\n",
    "    print(i, end=\" \")\n",
    "print(\"\\t\")   \n",
    "for i in range(4,0,-1):\n",
    "    print(i,end=\" \")\n",
    "print(\"\\t\")  \n",
    "for i in range(3,0,-1):\n",
    "    print(i,end=\" \")\n",
    "print(\"\\t\")  \n",
    "for i in range(2,0,-1):\n",
    "    print(i,end=\" \")\n",
    "print(\"\\t\")  \n",
    "for i in range(1,0,-1):\n",
    "    print(i,end=\" \")"
   ]
  },
  {
   "cell_type": "code",
   "execution_count": 25,
   "metadata": {},
   "outputs": [
    {
     "name": "stdout",
     "output_type": "stream",
     "text": [
      "5 4 3 2 1 \n",
      "4 3 2 1 \n",
      "3 2 1 \n",
      "2 1 \n",
      "1 \n"
     ]
    }
   ],
   "source": [
    "for i in range(5, 0, -1):\n",
    "    for j in range(i, 0, -1):\n",
    "        print(j, end=' ')\n",
    "    print('')"
   ]
  },
  {
   "cell_type": "code",
   "execution_count": 26,
   "metadata": {},
   "outputs": [
    {
     "name": "stdout",
     "output_type": "stream",
     "text": [
      "5 4 3 2 1\n",
      "4 3 2 1\n",
      "3 2 1\n",
      "2 1\n",
      "1\n"
     ]
    }
   ],
   "source": [
    "for i in range(5, 0, -1):\n",
    "    print(*range(i, 0, -1))"
   ]
  },
  {
   "cell_type": "code",
   "execution_count": 12,
   "metadata": {},
   "outputs": [
    {
     "name": "stdout",
     "output_type": "stream",
     "text": [
      "[5, 4, 3, 2, 1]\n",
      "[4, 3, 2, 1]\n",
      "[3, 2, 1]\n",
      "[2, 1]\n",
      "[1]\n"
     ]
    }
   ],
   "source": [
    "my_list = list(range(5, 0, -1))\n",
    "\n",
    "for i in range(len(my_list)):\n",
    "    print(my_list[i:])\n",
    "    # print(str(my_list[i:]).replace('[', '').replace(',', '').replace(']', ''))"
   ]
  },
  {
   "cell_type": "code",
   "execution_count": 32,
   "metadata": {},
   "outputs": [
    {
     "name": "stdout",
     "output_type": "stream",
     "text": [
      "5 4 3 2 1 \n",
      "4 3 2 1 \n",
      "3 2 1 \n",
      "2 1 \n",
      "1 \n"
     ]
    }
   ],
   "source": [
    "n = 5\n",
    "\n",
    "while n > 0:\n",
    "    for i in range(n,0,-1):\n",
    "        print(i, end= ' ')\n",
    "    print()\n",
    "    n -= 1"
   ]
  },
  {
   "cell_type": "markdown",
   "metadata": {},
   "source": [
    "## Ejercicio 4\n",
    "\n",
    "Tenemos la siguiente lista de productos: \n",
    "\n",
    "price = [24.99, 300, 450, 98, 990, 12, 9.99, 89, 18.50, 340, 329.99, 560, 999, 1200]\n",
    "\n",
    "Queremos detectar los precios psicológicos, y en particular aquellos que acaban en 99 céntimos y la posición que ocupan en la lista. Para ello, asigna un mensaje de notificación a la variable \"psicologic_prices\" (tipo lista) que indique el precio y la posición. Ej: en el caso de que los precios \"49.99\" y \"9.99\" fuesen los únicos precios psicológicos en la lista \"price\" y estuviesen en las posiciones 3 y 5, imprimir \"psicologic_prices\" que debería de contener una lista tal que así: ['La posicion 3 tiene un precio de 49.99', 'La posición 5 tiene un precio de 9.99']\n",
    "\n",
    "- Te puede ayudar hacerlo con métodos de string y de listas"
   ]
  },
  {
   "cell_type": "code",
   "execution_count": 33,
   "metadata": {},
   "outputs": [
    {
     "name": "stdout",
     "output_type": "stream",
     "text": [
      "['La posición 0 tiene un precio de 24.99', 'La posición 6 tiene un precio de 9.99', 'La posición 10 tiene un precio de 329.99']\n"
     ]
    }
   ],
   "source": [
    "price = [24.99, 300, 450, 98, 990, 12, 9.99, 89, 18.50, 340, 329.99, 560, 999, 1200]\n",
    "psicologic_prices = []\n",
    "\n",
    "for i, p in enumerate(price):\n",
    "    if str(p).endswith('.99'):\n",
    "        psicologic_prices.append(f'La posición {i} tiene un precio de {p}')\n",
    "\n",
    "print(psicologic_prices)"
   ]
  },
  {
   "cell_type": "code",
   "execution_count": null,
   "metadata": {},
   "outputs": [],
   "source": [
    "for i, p in enumerate(price): \n",
    "    if str(p).__contains__(\".99\"): # Verifica si la cadena contiene \".99\"\n",
    "        psicologic_prices.append(f'La posicion {i} tiene un precio de {p}') \n",
    "\n",
    "print(psicologic_prices) "
   ]
  },
  {
   "cell_type": "code",
   "execution_count": 45,
   "metadata": {},
   "outputs": [
    {
     "name": "stdout",
     "output_type": "stream",
     "text": [
      "la posicion 0 tiene un precio de 24.99\n",
      "la posicion 6 tiene un precio de 9.99\n",
      "la posicion 10 tiene un precio de 329.99\n"
     ]
    }
   ],
   "source": [
    "price = [24.99, 300, 450, 98, 990, 12, 9.99, 89, 18.50, 340, 329.99, 560, 999, 1200]\n",
    "psicologic_prices = []\n",
    "\n",
    "for index, element in enumerate(price):\n",
    "    #se comprueba con find si exite una substring con 99, en caso de que no exista, se saca int de -1\n",
    "    if str(element).find(\".99\") != -1:\n",
    "        psicologic_prices.append(f\"la posicion {index} tiene un precio de {element}\")\n",
    "\n",
    "for i in psicologic_prices:\n",
    "    print(i)"
   ]
  },
  {
   "cell_type": "markdown",
   "metadata": {},
   "source": [
    "## Ejercicio Markdown\n",
    "\n",
    "Según el output del ejercicio 4, escribe de forma esquemática en Markdown en qué posición está cada precio psicológico. Escribe tanto la posición como el precio en negrita:"
   ]
  },
  {
   "cell_type": "markdown",
   "metadata": {},
   "source": [
    "- la posicion __0__ tiene un precio de __24.99__\n",
    "- la posicion __6__ tiene un precio de __9.99__\n",
    "- la posicion __10__ tiene un precio de __329.99__"
   ]
  },
  {
   "cell_type": "markdown",
   "metadata": {},
   "source": [
    "|Posición|Precio|\n",
    "|:--:|:--:|\n",
    "|0|24.99|\n",
    "|6|9.99|\n",
    "|10|329.99|"
   ]
  },
  {
   "cell_type": "markdown",
   "metadata": {},
   "source": [
    "## Ejercicio 5\n",
    "\n",
    "Dada la siguiente lista, imprime qué tipos de variable hay en la lista (strings, integer, float...) y cuantas variables de cada tipo hay.\n",
    "\n",
    "> mix = [5, 7, \"Abril\", True, False, [\"Blanco\", \"Negro\"], 8.8, 8, 9.8, \"Manzana\"]\n"
   ]
  },
  {
   "cell_type": "code",
   "execution_count": 34,
   "metadata": {},
   "outputs": [
    {
     "name": "stdout",
     "output_type": "stream",
     "text": [
      "{<class 'int'>: 3, <class 'str'>: 2, <class 'bool'>: 2, <class 'list'>: 1, <class 'float'>: 2}\n"
     ]
    }
   ],
   "source": [
    "mix = [5, 7, \"Abril\", True, False, [\"Blanco\", \"Negro\"], 8.8, 8, 9.8, \"Manzana\"]\n",
    "\n",
    "variable_types = {}\n",
    "\n",
    "for item in mix:\n",
    "    var_type = type(item)\n",
    "    if var_type in variable_types:\n",
    "        variable_types[var_type] += 1\n",
    "    else:\n",
    "        variable_types[var_type] = 1\n",
    "\n",
    "print(variable_types)"
   ]
  },
  {
   "cell_type": "code",
   "execution_count": 43,
   "metadata": {},
   "outputs": [
    {
     "name": "stdout",
     "output_type": "stream",
     "text": [
      "<class 'int'>: 3\n",
      "<class 'str'>: 2\n",
      "<class 'bool'>: 2\n",
      "<class 'list'>: 1\n",
      "<class 'float'>: 2\n"
     ]
    }
   ],
   "source": [
    "for tipo, cantidad in variable_types.items():\n",
    "    print(f\"{tipo}: {cantidad}\")"
   ]
  },
  {
   "cell_type": "code",
   "execution_count": 47,
   "metadata": {},
   "outputs": [
    {
     "name": "stdout",
     "output_type": "stream",
     "text": [
      "Tipo: int, Cantidad: 3\n",
      "Tipo: str, Cantidad: 2\n",
      "Tipo: bool, Cantidad: 2\n",
      "Tipo: list, Cantidad: 1\n",
      "Tipo: float, Cantidad: 2\n"
     ]
    }
   ],
   "source": [
    "mix = [5, 7, \"Abril\", True, False, [\"Blanco\", \"Negro\"], 8.8, 8, 9.8, \"Manzana\"]\n",
    "#declaramos una lista auxiliar\n",
    "tipo_variables = {}\n",
    "\n",
    "#recorrer lista\n",
    "for elemento in mix:\n",
    "    #tipo\n",
    "    tipo = type(elemento).__name__    \n",
    "    # recuento\n",
    "    if tipo in tipo_variables:\n",
    "        tipo_variables[tipo] += 1\n",
    "    else:\n",
    "        tipo_variables[tipo] = 1\n",
    "#imprimir lista auxiliar(funcion items para coger cada miembro)\n",
    "for tipo, cantidad in tipo_variables.items():\n",
    "    print(f'Tipo: {tipo}, Cantidad: {cantidad}')"
   ]
  },
  {
   "cell_type": "markdown",
   "metadata": {},
   "source": [
    "## Ejercicio 6\n",
    "\n",
    "En este ejercicio vamos a crear un pequeño juego. Se trata de intentar adivinar un numero del 1 al 5. Tenemos dos intentos para acertar. Pasos a seguir:\n",
    "\n",
    "1. Ya viene implementado cómo obtener un número aleatorio del 1 al 5\n"
   ]
  },
  {
   "cell_type": "code",
   "execution_count": 26,
   "metadata": {},
   "outputs": [
    {
     "data": {
      "text/plain": [
       "4"
      ]
     },
     "execution_count": 26,
     "metadata": {},
     "output_type": "execute_result"
    }
   ],
   "source": [
    "# 1 | Para obtener un número aleatorio del 1 al 5 se puede utilizar la librería random método randint\n",
    "\n",
    "import random\n",
    "random_number = random.randint(1, 5)\n",
    "random_number"
   ]
  },
  {
   "cell_type": "markdown",
   "metadata": {},
   "source": [
    "2. Tendrás que declarar en una variable el numero de vidas, y mediante un bucle while, comprobar que todavia quedan vidas.\n",
    "3. Dentro del bucle, obtener el valor del usuario y comprobar si es ese el numero a adivinar. Si no, actualizar las vidas.\n",
    "4. Si acertamos, salimos del bucle e imprimimos por pantalla \"You win\". Y si finalmente nos quedamos sin vidas también salimos del bucle, pero en este caso imprimimos por pantalla \"You lose\".\n",
    "\n",
    "TIP: te puede resultar útil usar la sentencia `else` cuando acabe el bucle `while`. Lo que haya dentro de ese `else` se ejecutará una vez acabe la ejecución del `while`. Lo podrás usar para cuando pierdas."
   ]
  },
  {
   "cell_type": "code",
   "execution_count": 37,
   "metadata": {},
   "outputs": [
    {
     "name": "stdout",
     "output_type": "stream",
     "text": [
      "Incorrecto. Te quedan 1 vidas.\n",
      "Incorrecto. Te quedan 0 vidas.\n",
      "You lose. El número era 3.\n"
     ]
    }
   ],
   "source": [
    "vidas = 2\n",
    "\n",
    "while vidas > 0:\n",
    "    jugador = int(input(\"Adivina el número del 1 al 5: \"))\n",
    "    \n",
    "    if jugador == random_number:\n",
    "        print(\"You win\")\n",
    "        break\n",
    "    else:\n",
    "        vidas -= 1\n",
    "        print(f\"Incorrecto. Te quedan {vidas} vidas.\")\n",
    "\n",
    "else:\n",
    "    print(f\"You lose. El número era {random_number}.\")"
   ]
  },
  {
   "cell_type": "code",
   "execution_count": 42,
   "metadata": {},
   "outputs": [
    {
     "name": "stdout",
     "output_type": "stream",
     "text": [
      "You lose\n"
     ]
    }
   ],
   "source": [
    "vidas = 2\n",
    "win=False\n",
    "\n",
    "while vidas!=0:\n",
    "    entrada=int(input(\"Adivina el número: \"))\n",
    "    if(random_number==entrada):\n",
    "        win=True\n",
    "        break\n",
    "    vidas-=1\n",
    "\n",
    "if(win):\n",
    "    print (\"You win\")\n",
    "else:\n",
    "    print(\"You lose\")"
   ]
  },
  {
   "cell_type": "markdown",
   "metadata": {},
   "source": [
    "-----"
   ]
  },
  {
   "cell_type": "markdown",
   "metadata": {},
   "source": [
    "Recuerda entregar el notebook en formato html. Puedes hacerlo con la librería \"nbconvert\" desde el cmd en la ruta del documento que quieres transformar de ipynb a html:\n",
    "\n",
    "> jupyter nbconvert --to html --execute Ejercicios_flujos.ipynb\n"
   ]
  }
 ],
 "metadata": {
  "kernelspec": {
   "display_name": "Python 3",
   "language": "python",
   "name": "python3"
  },
  "language_info": {
   "codemirror_mode": {
    "name": "ipython",
    "version": 3
   },
   "file_extension": ".py",
   "mimetype": "text/x-python",
   "name": "python",
   "nbconvert_exporter": "python",
   "pygments_lexer": "ipython3",
   "version": "3.7.4"
  }
 },
 "nbformat": 4,
 "nbformat_minor": 2
}
