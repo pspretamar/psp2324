{
 "cells": [
  {
   "cell_type": "markdown",
   "metadata": {},
   "source": [
    "\n",
    "\n",
    "<div style=\"text-align:center\">\n",
    "    <img src=\"image/Thread.jpg\" style=\"width:1000px;height:400px;\">\n",
    "</div>"
   ]
  },
  {
   "cell_type": "markdown",
   "metadata": {},
   "source": [
    "# THREAD\n",
    "\n",
    "### * ¿Qué es la clase Thread?\n",
    "La clase `Thread` en Python, integrada en el módulo *`threading`*, es una herramienta clave para gestionar y crear subprocesos dentro de una aplicación.<br/> Su función principal es permitir la ejecución simultánea de diversas tareas, lo que puede ser beneficioso para optimizar el rendimiento de la aplicación. Además, facilita la realización de operaciones de entrada/salida sin bloquear el flujo principal de la ejecución, así como la ejecución de tareas en segundo plano mientras se lleva a cabo el procesamiento principal.\n",
    "\n",
    "###  * Métodos Importantes de la clase Thread:\n",
    "* start()\n",
    "* join()\n",
    "* is_alive()\n",
    "* run()\n",
    "* getName()\n",
    "* setName()\n",
    "* isDaemon()\n",
    "* setDaemon()\n",
    "* enumerate()\n",
    "\n",
    "\n",
    "###  * Atributos Importantes de la clase Thread:\n",
    "* name\n",
    "* ident\n",
    "* daemon\n"
   ]
  },
  {
   "cell_type": "markdown",
   "metadata": {},
   "source": [
    "## 1. COMO SE UTILIZA:"
   ]
  },
  {
   "cell_type": "markdown",
   "metadata": {},
   "source": [
    "Lo primero que tenemos que hacer antes de empezar a usar la clase Thread, es importar la Libreria o Modulo Threading\n",
    "\n",
    "```Python\n",
    "import threading\n",
    "```"
   ]
  },
  {
   "cell_type": "code",
   "execution_count": 9,
   "metadata": {},
   "outputs": [],
   "source": [
    "import threading\n",
    "\n",
    "def mi_funcion():\n",
    "    print(\"Hola desde el subproceso!\")\n",
    "\n",
    "# Crear un objeto Thread\n",
    "mi_thread = threading.Thread(target=mi_funcion)"
   ]
  },
  {
   "cell_type": "markdown",
   "metadata": {},
   "source": [
    "## 2. Métodos Importantes de la clase Thread:"
   ]
  },
  {
   "cell_type": "markdown",
   "metadata": {},
   "source": [
    "### A) Método `start()`:\n",
    "Inicia la ejecución del subproceso llamando a la función especificada en el argumento `target`"
   ]
  },
  {
   "cell_type": "code",
   "execution_count": 2,
   "metadata": {},
   "outputs": [
    {
     "name": "stdout",
     "output_type": "stream",
     "text": [
      "Hola desde el subproceso!\n"
     ]
    }
   ],
   "source": [
    "mi_thread.start()"
   ]
  },
  {
   "cell_type": "markdown",
   "metadata": {},
   "source": [
    "### B) Método `join()`:\n",
    "Espera a que el subproceso finalice su ejecución. El argumento opcional timeout especifica el tiempo máximo en segundos para esperar que el subproceso termine. Si se omite, el método join() bloqueará el programa hasta que el subproceso finalice."
   ]
  },
  {
   "cell_type": "code",
   "execution_count": 6,
   "metadata": {},
   "outputs": [],
   "source": [
    "mi_thread.join()"
   ]
  },
  {
   "cell_type": "markdown",
   "metadata": {},
   "source": [
    "### C) Método `is_alive()`:\n",
    "Verifica si el subproceso está en ejecución."
   ]
  },
  {
   "cell_type": "code",
   "execution_count": 23,
   "metadata": {},
   "outputs": [
    {
     "name": "stdout",
     "output_type": "stream",
     "text": [
      "False\n"
     ]
    }
   ],
   "source": [
    "print(mi_thread.is_alive())"
   ]
  },
  {
   "cell_type": "markdown",
   "metadata": {},
   "source": [
    "### D) Método `run()`:\n",
    "Método que se ejecuta cuando se inicia un subproceso. Puedes sobrescribir este método en una subclase de `Thread` para definir el comportamiento del subproceso."
   ]
  },
  {
   "cell_type": "code",
   "execution_count": 10,
   "metadata": {},
   "outputs": [
    {
     "name": "stdout",
     "output_type": "stream",
     "text": [
      "Hola desde el subproceso!\n"
     ]
    }
   ],
   "source": [
    "mi_thread.run()"
   ]
  },
  {
   "cell_type": "markdown",
   "metadata": {},
   "source": [
    "###  E) Método `getName()`:\n",
    "Devuelve el nombre del subproceso."
   ]
  },
  {
   "cell_type": "code",
   "execution_count": 15,
   "metadata": {},
   "outputs": [
    {
     "name": "stdout",
     "output_type": "stream",
     "text": [
      "Nombre_Thread\n"
     ]
    }
   ],
   "source": [
    "print(mi_thread.getName())"
   ]
  },
  {
   "cell_type": "markdown",
   "metadata": {},
   "source": [
    "### F) Método `setName()`:\n",
    "Establece el nombre del subproceso."
   ]
  },
  {
   "cell_type": "code",
   "execution_count": 14,
   "metadata": {},
   "outputs": [],
   "source": [
    "mi_thread.setName(\"Nombre_Thread\")"
   ]
  },
  {
   "cell_type": "markdown",
   "metadata": {},
   "source": [
    "### G) Métodos `isDaemon()`:\n",
    "Verifica si el subproceso es un demonio."
   ]
  },
  {
   "cell_type": "code",
   "execution_count": 16,
   "metadata": {},
   "outputs": [
    {
     "name": "stdout",
     "output_type": "stream",
     "text": [
      "False\n"
     ]
    }
   ],
   "source": [
    "print(mi_thread.isDaemon())"
   ]
  },
  {
   "cell_type": "markdown",
   "metadata": {},
   "source": [
    "### H) Método `setDaemon()`:\n",
    "Establece si el subproceso es un demonio o no. Si se establece en *`True`*, el subproceso se convertirá en un demonio y terminará si el programa principal sale del ámbito. Si se establece en *`False`*, el subproceso se ejecutará hasta que finalice su tarea."
   ]
  },
  {
   "cell_type": "code",
   "execution_count": 17,
   "metadata": {},
   "outputs": [],
   "source": [
    "mi_thread.setDaemon(True)"
   ]
  },
  {
   "cell_type": "markdown",
   "metadata": {},
   "source": [
    "### I) Método `enumerate()`:\n",
    " Devuelve una lista de todos los subprocesos activos."
   ]
  },
  {
   "cell_type": "code",
   "execution_count": 18,
   "metadata": {},
   "outputs": [
    {
     "name": "stdout",
     "output_type": "stream",
     "text": [
      "[<_MainThread(MainThread, started 3080)>, <Thread(IOPub, started daemon 9520)>, <Heartbeat(Heartbeat, started daemon 13080)>, <ControlThread(Control, started daemon 18132)>, <HistorySavingThread(IPythonHistorySavingThread, started 2596)>, <ParentPollerWindows(Thread-4, started daemon 8564)>]\n"
     ]
    }
   ],
   "source": [
    "print(threading.enumerate())"
   ]
  },
  {
   "cell_type": "markdown",
   "metadata": {},
   "source": [
    "# 3. Atributos Importantes de la clase Thread:"
   ]
  },
  {
   "cell_type": "markdown",
   "metadata": {},
   "source": [
    "### A) Atributo `name`:\n",
    " Nombre del subproceso."
   ]
  },
  {
   "cell_type": "code",
   "execution_count": 19,
   "metadata": {},
   "outputs": [
    {
     "name": "stdout",
     "output_type": "stream",
     "text": [
      "Nombre_Thread\n"
     ]
    }
   ],
   "source": [
    "print(mi_thread.name)"
   ]
  },
  {
   "cell_type": "markdown",
   "metadata": {},
   "source": [
    "### B) Atributo `ident`:\n",
    "Identificador único del subproceso."
   ]
  },
  {
   "cell_type": "code",
   "execution_count": 20,
   "metadata": {},
   "outputs": [
    {
     "name": "stdout",
     "output_type": "stream",
     "text": [
      "None\n"
     ]
    }
   ],
   "source": [
    "print(mi_thread.ident)"
   ]
  },
  {
   "cell_type": "markdown",
   "metadata": {},
   "source": [
    "### C) Atributo `daemon`:\n",
    "Propiedad que indica si el subproceso es un demonio (subproceso en segundo plano) o no. Los subprocesos no demonio deben terminar antes de que el programa principal pueda salir."
   ]
  },
  {
   "cell_type": "code",
   "execution_count": 21,
   "metadata": {},
   "outputs": [
    {
     "name": "stdout",
     "output_type": "stream",
     "text": [
      "True\n"
     ]
    }
   ],
   "source": [
    "print(mi_thread.daemon)"
   ]
  },
  {
   "cell_type": "markdown",
   "metadata": {},
   "source": [
    "# 4. EJEMPLO DE UN EJERCICIO RESUELTO DE THREAD:\n"
   ]
  },
  {
   "cell_type": "code",
   "execution_count": 35,
   "metadata": {},
   "outputs": [
    {
     "name": "stdout",
     "output_type": "stream",
     "text": [
      "Nombre del subproceso: MyThread\n",
      "Identificador del subproceso: None\n",
      "Es un demonio: False\n",
      "Hello, World!\n",
      "Identificador del subproceso: 11016\n",
      "Goodbye!\n",
      "¿Está el subproceso en ejecución? False\n",
      "Nuevo nombre del subproceso: NewName\n",
      "Nombre del subproceso: NewName\n",
      "Es un demonio: False\n"
     ]
    }
   ],
   "source": [
    "import threading\n",
    "import time\n",
    "\n",
    "# Función que será ejecutada por el subproceso\n",
    "def target_function(name):\n",
    "    print(f\"Hello, {name}!\")\n",
    "    time.sleep(2)\n",
    "    print(\"Goodbye!\")\n",
    "\n",
    "# Crear una instancia de Thread\n",
    "t = threading.Thread(target=target_function, args=(\"World\",), name=\"MyThread\")\n",
    "\n",
    "# Atributos de la clase Thread\n",
    "print(\"Nombre del subproceso:\", t.name)\n",
    "print(\"Identificador del subproceso:\", t.ident)\n",
    "print(\"Es un demonio:\", t.daemon)\n",
    "\n",
    "# Método: start\n",
    "t.start()\n",
    "\n",
    "# Cuando se inicia el Método : start, se le añadira un Identificador al subproceso con el Atributo ident\n",
    "print(\"Identificador del subproceso:\", t.ident)\n",
    "\n",
    "# Método: run (no se llama directamente, se ejecuta automáticamente cuando se llama a start())\n",
    "\n",
    "# Método: join\n",
    "t.join()\n",
    "\n",
    "# Método: is_alive\n",
    "print(\"¿Está el subproceso en ejecución?\", t.is_alive())\n",
    "\n",
    "# Método: setName\n",
    "t.setName(\"NewName\")\n",
    "print(\"Nuevo nombre del subproceso:\", t.getName())\n",
    "\n",
    "# Método: getName\n",
    "print(\"Nombre del subproceso:\", t.getName())\n",
    "\n",
    "# Atributo: daemon\n",
    "print(\"Es un demonio:\",t.daemon)"
   ]
  },
  {
   "cell_type": "markdown",
   "metadata": {},
   "source": [
    "# 5. EJERCICIO PRACTICO DE THREAD:"
   ]
  },
  {
   "cell_type": "markdown",
   "metadata": {},
   "source": [
    "<table align=\"left\">\n",
    " <tr><td width=\"80\"><img src=\"image/practico.jpg\" style=\"width:200px;height:200px\"></td>\n",
    "     <td style=\"text-align:left\">\n",
    "         <h3>Ejercicio Thread</h3>\n",
    "        Escribe un programa Python que cree tres subprocesos utilizando la clase Thread.<br/>\n",
    "        Cada subproceso imprimirá un mensaje diferente en la consola. <br/>\n",
    "        El primer subproceso imprimirá \"Hola\", <br/>\n",
    "        el segundo subproceso imprimirá \"Mundo\", <br/>\n",
    "        y el tercer subproceso imprimirá \"!\".\n",
    " </td></tr>\n",
    "</table>"
   ]
  },
  {
   "cell_type": "code",
   "execution_count": null,
   "metadata": {},
   "outputs": [],
   "source": []
  }
 ],
 "metadata": {
  "kernelspec": {
   "display_name": "Python 3",
   "language": "python",
   "name": "python3"
  },
  "language_info": {
   "codemirror_mode": {
    "name": "ipython",
    "version": 3
   },
   "file_extension": ".py",
   "mimetype": "text/x-python",
   "name": "python",
   "nbconvert_exporter": "python",
   "pygments_lexer": "ipython3",
   "version": "3.7.4"
  }
 },
 "nbformat": 4,
 "nbformat_minor": 2
}
