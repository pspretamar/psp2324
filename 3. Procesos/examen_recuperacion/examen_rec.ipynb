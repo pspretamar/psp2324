{
 "cells": [
  {
   "cell_type": "markdown",
   "metadata": {},
   "source": [
    "# Examen de recuperación\n",
    "\n",
    "----\n",
    "\n",
    "Este examen se evaluará de tal forma que se vea la maestría del alumno sobre Python, encapsulamiento de código, documentación y programación concurrente y paralela. Se deben demostrar los conocimientos adquiridos en clase.\n",
    "\n",
    "Se evaluará:\n",
    "- Que se haya llegado a una solución (50%)\n",
    "- Que se haya llegado a soluciones creativas, no en todas las preguntas, sino en aquellas en las que sea apropiado, mostrando una forma alternativa de resolver un apartado (20%)\n",
    "- Que se haya resuelto únicamente de una forma no vista en clase (-30%)\n",
    "- Documentación de las clases y funciones y comentarios sobre código (30%) \n",
    "\n",
    "Acuérdate que solo se aceptan entregas en formato html"
   ]
  },
  {
   "cell_type": "markdown",
   "metadata": {},
   "source": [
    "## Ejercicio I | Teoría & Markdown\n",
    "---\n",
    "\n",
    "Crea una tabla, utilizando __markdown__, que explique en la primera fila la librería ``multiprocessing`` y en la segunda fila la librería ``multithreading``. Para ambas librerías indica sus casos de uso, limitaciones y sus principales métodos (no indiques más de dos métodos)."
   ]
  },
  {
   "cell_type": "markdown",
   "metadata": {},
   "source": []
  },
  {
   "cell_type": "markdown",
   "metadata": {},
   "source": [
    "## Ejercicio II | Markdown\n",
    "---\n",
    "\n",
    "__A)__ Escribe este enlace como hipervínculo sobre la palabra __link__. Enlace a hipervincular: https://www.google.es/images/branding/googlelogo/1x/googlelogo_light_color_272x92dp.png"
   ]
  },
  {
   "cell_type": "markdown",
   "metadata": {},
   "source": [
    "[Link](https://www.google.es/images/branding/googlelogo/1x/googlelogo_light_color_272x92dp.png)"
   ]
  },
  {
   "cell_type": "markdown",
   "metadata": {},
   "source": [
    "__B)__ Guarda dentro de la carpeta \"img\" de este mismo directorio la imagen a la que te dirige el enlace anterior, y añade la imagen:"
   ]
  },
  {
   "cell_type": "markdown",
   "metadata": {},
   "source": []
  },
  {
   "cell_type": "markdown",
   "metadata": {},
   "source": [
    "__C)__ Redacta, utilizando markdown, la fórmula matemática del área de un triángulo, el cual es igual a base por altura partido por 2.\n"
   ]
  },
  {
   "cell_type": "markdown",
   "metadata": {},
   "source": []
  },
  {
   "cell_type": "markdown",
   "metadata": {},
   "source": [
    "## Ejercicio III | Saber leer y utilizar documentación externa\n",
    "---\n",
    "\n",
    "El servicio de inteligencia del Imperio de Etiopía está investigando crímenes cibernéticos de transacciones ilegales en uno de los bancos más grandes del país: el reputado y archiconocido banco የኢትዮጵያ ንጉሠ ነገሥት መንግሥተ. Para ello, desde el banco han instalado un algoritmo matemático para detectar anomalías. Cuando este algoritmo detecta movimientos sospechosos, los reporta al servicio de inteligencia, enviando dichos movimientos en formato excel.\n",
    "\n",
    "__A)__ Carga dicho documento y guárdalo en la colección de datos que consideres adecuada. Para ello:\n",
    "\n",
    "1. Importa la librería ``openpyxl`` (no hace falta instalarla, viene con Python al ser una librería integrada)\n",
    "2. Carga el archivo de excel llamado ``anomalies.xlsx`` que está en la misma ruta que este mismo examen\n",
    "3. Guárdalo en una variable llamada ``movimientos_sospechosos``\n",
    "\n",
    "Aviso: La librería ``openpyxl`` tiene métodos para cargar este tipo de documentos tales como ``load_workbook``"
   ]
  },
  {
   "cell_type": "code",
   "execution_count": null,
   "metadata": {},
   "outputs": [],
   "source": []
  },
  {
   "cell_type": "markdown",
   "metadata": {},
   "source": [
    "__B)__ ¿De qué tipo es la variable ``movimientos_sospechosos``? ¿Y los elementos que componen dicha colección, de qué tipo son?"
   ]
  },
  {
   "cell_type": "code",
   "execution_count": null,
   "metadata": {},
   "outputs": [],
   "source": []
  },
  {
   "cell_type": "markdown",
   "metadata": {},
   "source": [
    "__C)__ Guarda la información en un diccionario de tal forma que tenga esta estructura:\n",
    "\n",
    "``{'cliente': 'Kwame Fatoumata',\n",
    "  'monto': 80000,\n",
    "  'fecha': '2024-03-01',\n",
    "  'tipo': 'retiro'},\n",
    " {'cliente': 'Musa Chukwu',\n",
    "  'monto': 150000,\n",
    "  'fecha': '2024-03-02',\n",
    "  'tipo': 'transferencia'},\n",
    " {'cliente': 'Aisha Nabila',\n",
    "  'monto': 80000,\n",
    "  'fecha': '2024-03-03',\n",
    "  'tipo': 'retiro'},\n",
    " {'cliente': 'Sipho Ayodele',\n",
    "  'monto': 150000,\n",
    "  'fecha': '2024-03-04',\n",
    "  'tipo': 'retiro'},\n",
    " {'cliente': 'Naledi Mensah',\n",
    "  'monto': 200000,\n",
    "  'fecha': '2024-03-05',\n",
    "  'tipo': 'transferencia'}``\n",
    "\n",
    "Seguramente tengas que utilizar bucles"
   ]
  },
  {
   "cell_type": "code",
   "execution_count": null,
   "metadata": {},
   "outputs": [],
   "source": []
  },
  {
   "cell_type": "markdown",
   "metadata": {},
   "source": [
    "## Ejercicio IV | Funciones\n",
    "---\n",
    "\n",
    "__A)__ Completa la siguiente función según su documentación:"
   ]
  },
  {
   "cell_type": "code",
   "execution_count": 13,
   "metadata": {},
   "outputs": [],
   "source": [
    "def comprobar_descenso(clasificacion: list, n_champions: int = 4) -> list:\n",
    "    \"\"\"\n",
    "    Función que, dada la clasificación de una liga en un momento determinado, \n",
    "    devuelve los equipos que están en posición de champions (los 4 primeros puestos generalmente).\n",
    "\n",
    "    Args:\n",
    "        clasificacion (list): Una lista que contiene la clasificación actual de la liga.\n",
    "        n_champions (int, opcional): El número de equipos que deben ser considerados en \n",
    "            posición de Champions. Por defecto, se consideran 4 equipos.\n",
    "\n",
    "    Returns:\n",
    "        list: Una lista que contiene los nombres de los equipos que están en posición de Champions.\n",
    "    \"\"\"\n",
    "    "
   ]
  },
  {
   "cell_type": "code",
   "execution_count": 8,
   "metadata": {},
   "outputs": [],
   "source": [
    "# Prueba la función con un ejemplo\n",
    "clasificacion = [\"Athletic Club\", \"Atlético de Madrid\", \"Girona\", \"Sevilla\", \"Real Sociedad\", \"Villarreal\", \"Valencia\", \"Levante\", \"Betis\", \"Celta de Vigo\", \"Granada\", \"Osasuna\", \"Alavés\", \"Valladolid\", \"Eibar\", \"Elche\", \"Huesca\", \"Getafe\", \"Cádiz\", \"Barcelona\", \"Real Madrid\"]\n"
   ]
  },
  {
   "cell_type": "markdown",
   "metadata": {},
   "source": [
    "__B)__ Imprime la documentación de la función anterior"
   ]
  },
  {
   "cell_type": "code",
   "execution_count": null,
   "metadata": {},
   "outputs": [],
   "source": []
  },
  {
   "cell_type": "markdown",
   "metadata": {},
   "source": [
    "## Ejercicio V | Funciones\n",
    "---\n",
    "\n",
    "Crea una función que calcule la cuota de una hipoteca utilizando el Sistema de Amortización Constante (SAC). \n",
    "\n",
    "En el Sistema de Amortización Constante (SAC), las cuotas hipotecarias se calculan de manera que son constantes a lo largo de todo el período del préstamo. Esto significa que el monto total de la cuota (capital más intereses) es constante en cada pago, aunque la proporción entre capital e intereses varía en cada cuota.\n",
    "\n",
    "La fórmula para calcular la cuota mensual en el Sistema de Amortización Constante es la siguiente:\n",
    "\n",
    "\\begin{align*}\n",
    "C = V \\times \\left( i + \\frac{i}{(1+i)^n - 1} \\right)\n",
    "\\end{align*}\n",
    "\n",
    "Donde:\n",
    "\n",
    "- $C$ es la cuota mensual a pagar.\n",
    "- $V$ es la cantidad del préstamo hipotecario.\n",
    "- $i$ es la tasa de interés mensual (en decimal).\n",
    "- $n$ es el número total de cuotas (anual).\n",
    "\n",
    "__A)__. Crea un programa que solicite al usuario los datos de su hipoteca (cantidad, interés **anual**, y plazo en **años**) y le devuelva la cuota **anual** a pagar **sin funciones**."
   ]
  },
  {
   "cell_type": "code",
   "execution_count": null,
   "metadata": {},
   "outputs": [],
   "source": []
  },
  {
   "cell_type": "markdown",
   "metadata": {},
   "source": [
    "__B)__ Calcula la cuota si la cantidad de la hipoteca son 250000 euros, el interés anual es del 3% y la quiere pagar en 20 años.\n"
   ]
  },
  {
   "cell_type": "code",
   "execution_count": null,
   "metadata": {},
   "outputs": [],
   "source": []
  },
  {
   "cell_type": "markdown",
   "metadata": {},
   "source": [
    "__C)__ Crea una función `calc_cuota_hip` que realiza el cálculo y cuyos argumentos sean `cantidad_euros`, `interes_anual` y `anios_pago`."
   ]
  },
  {
   "cell_type": "code",
   "execution_count": null,
   "metadata": {},
   "outputs": [],
   "source": []
  },
  {
   "cell_type": "markdown",
   "metadata": {},
   "source": [
    "__D)__ Crea una función `calc_cuota_hip_noargs` que realice el mismo cálculo pero sin argumentos de entrada y que contenga otra función dentro `recoger_datos_usuario` que recoja los datos del usuario."
   ]
  },
  {
   "cell_type": "code",
   "execution_count": null,
   "metadata": {},
   "outputs": [],
   "source": []
  },
  {
   "cell_type": "markdown",
   "metadata": {},
   "source": [
    "## Ejercicio VI | Funciones recursivas y optimización de procesos\n",
    "---\n",
    "\n",
    "Uno de los problemas clásicos que se puede resolver utilizando la recursión es el problema de las \"Escaleras\". Imagina que tienes $n$ escalones para subir, y puedes subir uno o dos escalones a la vez. ¿Cuántas formas diferentes hay de subir los $n$ escalones?\n",
    "\n",
    "- Si solo hay un escalón o no hubiese ninguno, entonces entonces solo hay una forma de subirlos, que es quedarse quieto si no hay escalones o subir un escalón si solo hay uno. Por lo tanto, el valor de retorno en este caso es ``1``.\n",
    "- Si hay más de un escalón, entonces hay que aplicar recursividad. En este caso, el número total de formas de subir $n$ escalones es igual al número total de formas de subir $n−1$ escalones más el número total de formas de subir $n−2$ escalones. Esto se debe a que, para subir $n$ escalones, la persona puede tomar un paso de tamaño 1 desde el paso anterior (lo que resulta en $n−1$ escalones restantes) o puede tomar un paso de tamaño 2 desde el paso anterior (lo que resulta en $n−2$ escalones restantes).\n",
    " \n",
    "\n",
    "__A)__ Crea una función **recursiva** llamada ``subir_escaleras`` que calcule el número de formas de subir $n$ escalones utilizando las reglas mencionadas anteriormente."
   ]
  },
  {
   "cell_type": "code",
   "execution_count": null,
   "metadata": {},
   "outputs": [],
   "source": []
  },
  {
   "cell_type": "markdown",
   "metadata": {},
   "source": [
    "__B)__ ¿Cuantas formas hay de subir 5 escaleras?"
   ]
  },
  {
   "cell_type": "code",
   "execution_count": null,
   "metadata": {},
   "outputs": [],
   "source": []
  },
  {
   "cell_type": "markdown",
   "metadata": {},
   "source": [
    "__C)__ ¿Cuantas formas hay de subir 40 escaleras?\n",
    "\n",
    "Ojo: ¡ten paciencia! no debe de tardar más de un minuto, sino, prueba subir 35 escaleras o un número menor"
   ]
  },
  {
   "cell_type": "code",
   "execution_count": null,
   "metadata": {},
   "outputs": [],
   "source": []
  },
  {
   "cell_type": "markdown",
   "metadata": {},
   "source": [
    "__D)__ Si queremos optimizar el tiempo en el que ejecutamos este código, ¿utilizaremos concurrencia o paralelismo? ¿por qué? Explícalo brevemente."
   ]
  },
  {
   "cell_type": "markdown",
   "metadata": {},
   "source": []
  },
  {
   "cell_type": "markdown",
   "metadata": {},
   "source": [
    "__E)__ Aplica o concurrencia o paralelismo según convenga en esta situación.\n",
    "\n",
    "__Hint__: recuerda que se evalúan las respuestas alternativas. En este caso esto implica que se puede aplicar concurrencia/paralelismo por medio de más de una librería.\n",
    "\n",
    "__Ojo__: En el caso de aplicar paralelismo, recuerda que en Windows da problemas para ejecutarlo desde el Notebook. Se ruego escribir el código en el notebook para que pueda ser evaluado, pero para que el alumno pruebe que funciona correctamente puede usar un script externo."
   ]
  },
  {
   "cell_type": "code",
   "execution_count": null,
   "metadata": {},
   "outputs": [],
   "source": []
  },
  {
   "cell_type": "markdown",
   "metadata": {},
   "source": [
    "## Ejercicio VII | Clases y optimización de procesos\n",
    "---\n",
    "\n",
    "__A)__ Crea una clase \"Empleado\" que tenga los siguientes atributos: \"antiguedad\"(int default 0), \"edad\"(int), \"altura\"(float) y \"nombre\"(str), \"genero\" (str), \"fumador\" (bool default False), \"baja_maternal\" (bool default False). Además, debe contar con tres métodos: \n",
    "\n",
    "- \"birthday\": al llamar a este método se debe sumar 1 al atributo edad del empleado y que retorne la edad actualizada. \n",
    "- \"proof_pregancy\": este método está pensado para llamarse únicamente desde dentro de la clase (quizás hay que añadir algo al nombre... y no te digo más), y que evite que alguien cambie el atributo \"baja_maternal\" en el caso en el que el atributo \"genero\" sea \"hombre\".\n",
    "- \"insurance_cost\": calcula el coste anual del seguro del empleado. Por defecto es 1000. Si el empleado es fumador, asciende en un 15%. Además, por cada año de antigüedad, se increment en un 2% de la cuota que se paga ese año, pudiénde incrementar hasta los 750 de cuota anual. Ojo, añade un time.sleep(2) de tal forma que este método tarde 2 segundos en calcularse (simulando una tarea de E/S (entrada/salida) que tarda un tiempo en completarse por causas externas a Python)\n",
    "- Documenta la clase"
   ]
  },
  {
   "cell_type": "code",
   "execution_count": null,
   "metadata": {},
   "outputs": [],
   "source": []
  },
  {
   "cell_type": "markdown",
   "metadata": {},
   "source": [
    "__B)__ Crea un empleado llamado \"Joaquin\", antiguedad=10, edad=32, altura=1.70, genero=hombre, fumador=sí, baja_maternal=no. Calcula el precio del seguro anual de este paciente. Además, comprueba que no se le puede cambiar su atributo \"baja_maternal\" a True."
   ]
  },
  {
   "cell_type": "code",
   "execution_count": null,
   "metadata": {},
   "outputs": [],
   "source": []
  },
  {
   "cell_type": "markdown",
   "metadata": {},
   "source": [
    "__C)__ En el apartado D vamos a calcular el ``insurance_cost`` para 10 empleados. Si queremos optimizar el tiempo de ejecución, ¿utilizaremos concurrencia o paralelismo? ¿por qué? Explícalo brevemente."
   ]
  },
  {
   "cell_type": "markdown",
   "metadata": {},
   "source": []
  },
  {
   "cell_type": "markdown",
   "metadata": {},
   "source": [
    "__D)__ Aplica o concurrencia o paralelismo, según convenga, para calcular el ``insurance_cost`` para 10 empleados.\n",
    "\n",
    "__Hint__: recuerda que se evalúan las respuestas alternativas. En este caso esto implica que se puede aplicar concurrencia/paralelismo por medio de más de una librería.\n",
    "\n",
    "__Ojo__: En el caso de aplicar paralelismo, recuerda que en Windows da problemas para ejecutarlo desde el Notebook. Se ruego escribir el código en el notebook para que pueda ser evaluado, pero para que el alumno pruebe que funciona correctamente puede usar un script externo."
   ]
  },
  {
   "cell_type": "code",
   "execution_count": null,
   "metadata": {},
   "outputs": [],
   "source": []
  },
  {
   "cell_type": "markdown",
   "metadata": {},
   "source": [
    "-----------------\n",
    "\n",
    "Recuerda entregar el notebook en formato html. Puedes hacerlo con la librería \"nbconvert\" desde el cmd en la ruta del documento que quieres transformar de ipynb a html:\n",
    "\n",
    "> jupyter nbconvert --to html --execute examen_ev.ipynb"
   ]
  }
 ],
 "metadata": {
  "kernelspec": {
   "display_name": "Python 3",
   "language": "python",
   "name": "python3"
  },
  "language_info": {
   "codemirror_mode": {
    "name": "ipython",
    "version": 3
   },
   "file_extension": ".py",
   "mimetype": "text/x-python",
   "name": "python",
   "nbconvert_exporter": "python",
   "pygments_lexer": "ipython3",
   "version": "3.7.4"
  }
 },
 "nbformat": 4,
 "nbformat_minor": 2
}
