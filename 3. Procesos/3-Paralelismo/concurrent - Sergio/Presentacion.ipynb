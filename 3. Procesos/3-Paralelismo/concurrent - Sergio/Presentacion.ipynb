{
 "cells": [
  {
   "cell_type": "markdown",
   "metadata": {},
   "source": [
    "\n",
    "\n",
    "#### <p align=\"left\">Sergio Martinez Campos</p> \n",
    "\n",
    "\n",
    "<p align=\"center\"><font size=\"8\"><u>Librería `concurrent.futures`</u></font></p>\n",
    "\n",
    "## <p align=\"left\">Clase 'ProcessPoolExecutor'</p>"
   ]
  },
  {
   "cell_type": "markdown",
   "metadata": {},
   "source": [
    "## <p align=\"left\">¿Para que sirven?</p>\n",
    "\n",
    "\n",
    "#### PROPOSITO\n",
    "\n",
    "ProcessPoolExecutor es una clase en Python del módulo concurrent.futures que permite ejecutar tareas en paralelo utilizando procesos múltiples.\n",
    "\n",
    "#### USO PRINCIPAL\n",
    "\n",
    "Se utiliza cuando se tiene cómputo intensivo o tareas que se benefician de la ejecución paralela en CPU multi-núcleo.\n",
    "\n",
    "#### VENTAJAS\n",
    "\n",
    "Cada proceso tiene su propio espacio de memoria, lo que evita el bloqueo del GIL (Global Interpreter Lock) y permite una mejor utilización de los recursos de la CPU."
   ]
  },
  {
   "cell_type": "markdown",
   "metadata": {},
   "source": [
    "| ProcessPoolExecutor | ThreadPoolExecutor |\n",
    "|------------|------------|\n",
    "| Tienen su propio espacio de memoria y recursos independientes | Comparten espacio de memoria y recursos dentro de un mismo proceso|\n",
    "| Comunicación entre procesos requiere mecanismos explícitos | Mayor facilidad de comunicación entre hilos |\n",
    "| Mayor overhead debido a la separación de recursos | Menor overhead en creación y cambio de contexto |\n",
    "| No se ven afectados por el GIL, permitiendo mejor escalabilidad en CPUs múltiples | Limitados por el GIL en CPython, afectando la escalabilidad en CPUs múltiples |\n",
    "\n",
    "El \"overhead\" se refiere al costo adicional o la carga adicional que se agrega a una operación debido a ciertas acciones o características como tiempo de CPU, memoria y otros recursos\n",
    "\n",
    "El GIL es un mecanismo de sincronización en la implementación estándars este bloqueo asegura que solo un hilo ejecute instrucciones a la vez en un proceso. Puede limitar la eficiencia en escenarios donde se busca aprovechar múltiples núcleos de CPU."
   ]
  },
  {
   "cell_type": "markdown",
   "metadata": {},
   "source": [
    "1- Tienen su propio espacio de memoria y recursos independientes:\n",
    "\n",
    "En esta clase cada uno tiene su portatil y una forma de trabajar con mas o menos recursos depende de la capacidad y experiencia de cada uno. Cada persona puede trabajar sin afectar directamente el trabajo de los demás.\n",
    "\n",
    "2- Comunicación entre procesos requiere mecanismos explícitos:\n",
    "\n",
    "Estás trabajando en un proyecto con un compañero de clase pero cada uno estais en vuestra casa. Para compartir información, necesitas utilizar medios como correos electrónicos, llamadas telefónicas o reuniones planificadas, ya que no compartes el mismo espacio físico.\n",
    "\n",
    "3- Mayor overhead debido a la separación de recursos:\n",
    "\n",
    "Si en este centro hubiera un profesor por cada alumno sería un gasto enorme para el centro, cuando va a tener que explicar el mismo temario a todos los alumnos y reducir gastos con un solo profesor por clase\n",
    "\n",
    "4- No se ven afectados por el GIL, permitiendo mejor escalabilidad en CPUs múltiples:\n",
    "\n",
    "En esta clase hay que hacer un trabajo grupal de 5 integrantes, cada uno se va a encargar de un tema. Esto hará que cada persona este pendiente de que su tema salga lo mejor posible sin preocuparse de lo que pase en el trabajo del resto de compañeros.  Esto permite un flujo más eficiente de tráfico, similar a cómo los procesos pueden aprovechar mejor los recursos en sistemas con múltiples CPUs."
   ]
  },
  {
   "cell_type": "markdown",
   "metadata": {},
   "source": [
    "## <p align=\"left\">EJERCICIO 1</p>"
   ]
  },
  {
   "cell_type": "code",
   "execution_count": 9,
   "metadata": {},
   "outputs": [
    {
     "ename": "BrokenProcessPool",
     "evalue": "A process in the process pool was terminated abruptly while the future was running or pending.",
     "output_type": "error",
     "traceback": [
      "\u001b[1;31m---------------------------------------------------------------------------\u001b[0m",
      "\u001b[1;31mBrokenProcessPool\u001b[0m                         Traceback (most recent call last)",
      "\u001b[1;32m~\\AppData\\Local\\Temp\\ipykernel_9672\\1054510282.py\u001b[0m in \u001b[0;36m<module>\u001b[1;34m\u001b[0m\n\u001b[0;32m     24\u001b[0m \u001b[1;33m\u001b[0m\u001b[0m\n\u001b[0;32m     25\u001b[0m \u001b[1;32mif\u001b[0m \u001b[0m__name__\u001b[0m \u001b[1;33m==\u001b[0m \u001b[1;34m\"__main__\"\u001b[0m\u001b[1;33m:\u001b[0m\u001b[1;33m\u001b[0m\u001b[1;33m\u001b[0m\u001b[0m\n\u001b[1;32m---> 26\u001b[1;33m     \u001b[0mcalcular_suma_total\u001b[0m\u001b[1;33m(\u001b[0m\u001b[1;33m)\u001b[0m\u001b[1;33m\u001b[0m\u001b[1;33m\u001b[0m\u001b[0m\n\u001b[0m\u001b[0;32m     27\u001b[0m \u001b[1;33m\u001b[0m\u001b[0m\n\u001b[0;32m     28\u001b[0m \u001b[1;33m\u001b[0m\u001b[0m\n",
      "\u001b[1;32m~\\AppData\\Local\\Temp\\ipykernel_9672\\1054510282.py\u001b[0m in \u001b[0;36mcalcular_suma_total\u001b[1;34m()\u001b[0m\n\u001b[0;32m     19\u001b[0m \u001b[1;33m\u001b[0m\u001b[0m\n\u001b[0;32m     20\u001b[0m         \u001b[1;31m# Obtener los resultados\u001b[0m\u001b[1;33m\u001b[0m\u001b[1;33m\u001b[0m\u001b[1;33m\u001b[0m\u001b[0m\n\u001b[1;32m---> 21\u001b[1;33m         \u001b[0msuma_total\u001b[0m \u001b[1;33m=\u001b[0m \u001b[0mresultado1\u001b[0m\u001b[1;33m.\u001b[0m\u001b[0mresult\u001b[0m\u001b[1;33m(\u001b[0m\u001b[1;33m)\u001b[0m \u001b[1;33m+\u001b[0m \u001b[0mresultado2\u001b[0m\u001b[1;33m.\u001b[0m\u001b[0mresult\u001b[0m\u001b[1;33m(\u001b[0m\u001b[1;33m)\u001b[0m\u001b[1;33m\u001b[0m\u001b[1;33m\u001b[0m\u001b[0m\n\u001b[0m\u001b[0;32m     22\u001b[0m \u001b[1;33m\u001b[0m\u001b[0m\n\u001b[0;32m     23\u001b[0m     \u001b[0mprint\u001b[0m\u001b[1;33m(\u001b[0m\u001b[1;34mf\"La suma total de la lista es: {suma_total}\"\u001b[0m\u001b[1;33m)\u001b[0m\u001b[1;33m\u001b[0m\u001b[1;33m\u001b[0m\u001b[0m\n",
      "\u001b[1;32mc:\\Users\\sergi\\AppData\\Local\\Programs\\Python\\Python37\\lib\\concurrent\\futures\\_base.py\u001b[0m in \u001b[0;36mresult\u001b[1;34m(self, timeout)\u001b[0m\n\u001b[0;32m    433\u001b[0m                 \u001b[1;32mraise\u001b[0m \u001b[0mCancelledError\u001b[0m\u001b[1;33m(\u001b[0m\u001b[1;33m)\u001b[0m\u001b[1;33m\u001b[0m\u001b[1;33m\u001b[0m\u001b[0m\n\u001b[0;32m    434\u001b[0m             \u001b[1;32melif\u001b[0m \u001b[0mself\u001b[0m\u001b[1;33m.\u001b[0m\u001b[0m_state\u001b[0m \u001b[1;33m==\u001b[0m \u001b[0mFINISHED\u001b[0m\u001b[1;33m:\u001b[0m\u001b[1;33m\u001b[0m\u001b[1;33m\u001b[0m\u001b[0m\n\u001b[1;32m--> 435\u001b[1;33m                 \u001b[1;32mreturn\u001b[0m \u001b[0mself\u001b[0m\u001b[1;33m.\u001b[0m\u001b[0m__get_result\u001b[0m\u001b[1;33m(\u001b[0m\u001b[1;33m)\u001b[0m\u001b[1;33m\u001b[0m\u001b[1;33m\u001b[0m\u001b[0m\n\u001b[0m\u001b[0;32m    436\u001b[0m             \u001b[1;32melse\u001b[0m\u001b[1;33m:\u001b[0m\u001b[1;33m\u001b[0m\u001b[1;33m\u001b[0m\u001b[0m\n\u001b[0;32m    437\u001b[0m                 \u001b[1;32mraise\u001b[0m \u001b[0mTimeoutError\u001b[0m\u001b[1;33m(\u001b[0m\u001b[1;33m)\u001b[0m\u001b[1;33m\u001b[0m\u001b[1;33m\u001b[0m\u001b[0m\n",
      "\u001b[1;32mc:\\Users\\sergi\\AppData\\Local\\Programs\\Python\\Python37\\lib\\concurrent\\futures\\_base.py\u001b[0m in \u001b[0;36m__get_result\u001b[1;34m(self)\u001b[0m\n\u001b[0;32m    382\u001b[0m     \u001b[1;32mdef\u001b[0m \u001b[0m__get_result\u001b[0m\u001b[1;33m(\u001b[0m\u001b[0mself\u001b[0m\u001b[1;33m)\u001b[0m\u001b[1;33m:\u001b[0m\u001b[1;33m\u001b[0m\u001b[1;33m\u001b[0m\u001b[0m\n\u001b[0;32m    383\u001b[0m         \u001b[1;32mif\u001b[0m \u001b[0mself\u001b[0m\u001b[1;33m.\u001b[0m\u001b[0m_exception\u001b[0m\u001b[1;33m:\u001b[0m\u001b[1;33m\u001b[0m\u001b[1;33m\u001b[0m\u001b[0m\n\u001b[1;32m--> 384\u001b[1;33m             \u001b[1;32mraise\u001b[0m \u001b[0mself\u001b[0m\u001b[1;33m.\u001b[0m\u001b[0m_exception\u001b[0m\u001b[1;33m\u001b[0m\u001b[1;33m\u001b[0m\u001b[0m\n\u001b[0m\u001b[0;32m    385\u001b[0m         \u001b[1;32melse\u001b[0m\u001b[1;33m:\u001b[0m\u001b[1;33m\u001b[0m\u001b[1;33m\u001b[0m\u001b[0m\n\u001b[0;32m    386\u001b[0m             \u001b[1;32mreturn\u001b[0m \u001b[0mself\u001b[0m\u001b[1;33m.\u001b[0m\u001b[0m_result\u001b[0m\u001b[1;33m\u001b[0m\u001b[1;33m\u001b[0m\u001b[0m\n",
      "\u001b[1;31mBrokenProcessPool\u001b[0m: A process in the process pool was terminated abruptly while the future was running or pending."
     ]
    }
   ],
   "source": [
    "from concurrent.futures import ProcessPoolExecutor\n",
    "\n",
    "def suma_lista(lista):\n",
    "    return sum(lista)\n",
    "\n",
    "def calcular_suma_total():\n",
    "    # Lista de números\n",
    "    numeros = [1, 2, 3, 4, 5, 6, 7, 8, 9, 10]\n",
    "\n",
    "    # Dividir la lista en dos partes para procesamiento paralelo\n",
    "    mitad1 = numeros[:len(numeros)//2]\n",
    "    mitad2 = numeros[len(numeros)//2:]\n",
    "\n",
    "    # Crear un ProcessPoolExecutor\n",
    "    with ProcessPoolExecutor() as executor:\n",
    "        # Calcular la suma de cada mitad de la lista en paralelo\n",
    "        resultado1 = executor.submit(suma_lista, mitad1)\n",
    "        resultado2 = executor.submit(suma_lista, mitad2)\n",
    "\n",
    "        # Obtener los resultados\n",
    "        suma_total = resultado1.result() + resultado2.result()\n",
    "\n",
    "    print(f\"La suma total de la lista es: {suma_total}\")\n",
    "\n",
    "if __name__ == \"__main__\":\n",
    "    calcular_suma_total()\n",
    "\n",
    "\n"
   ]
  },
  {
   "cell_type": "markdown",
   "metadata": {},
   "source": [
    "## <p align=\"left\">EJERCICIO 2</p>"
   ]
  },
  {
   "cell_type": "code",
   "execution_count": 10,
   "metadata": {},
   "outputs": [
    {
     "name": "stdout",
     "output_type": "stream",
     "text": [
      "La suma total de la lista es: 55\n"
     ]
    }
   ],
   "source": [
    "from concurrent.futures import ThreadPoolExecutor\n",
    "\n",
    "def suma_lista(lista):\n",
    "    return sum(lista)\n",
    "\n",
    "# Lista de números\n",
    "numeros = [1, 2, 3, 4, 5, 6, 7, 8, 9, 10]\n",
    "\n",
    "# Dividir la lista en dos partes para procesamiento paralelo\n",
    "mitad1 = numeros[:len(numeros)//2]\n",
    "mitad2 = numeros[len(numeros)//2:]\n",
    "\n",
    "# Crear un ThreadPoolExecutor\n",
    "with ThreadPoolExecutor() as executor:\n",
    "    # Calcular la suma de cada mitad de la lista en paralelo\n",
    "    resultado1 = executor.submit(suma_lista, mitad1)\n",
    "    resultado2 = executor.submit(suma_lista, mitad2)\n",
    "\n",
    "    # Obtener los resultados\n",
    "    suma_total = resultado1.result() + resultado2.result()\n",
    "\n",
    "print(f\"La suma total de la lista es: {suma_total}\")"
   ]
  }
 ],
 "metadata": {
  "kernelspec": {
   "display_name": "Python 3",
   "language": "python",
   "name": "python3"
  },
  "language_info": {
   "codemirror_mode": {
    "name": "ipython",
    "version": 3
   },
   "file_extension": ".py",
   "mimetype": "text/x-python",
   "name": "python",
   "nbconvert_exporter": "python",
   "pygments_lexer": "ipython3",
   "version": "3.7.4"
  }
 },
 "nbformat": 4,
 "nbformat_minor": 2
}
