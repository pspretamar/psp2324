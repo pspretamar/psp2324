{
 "cells": [
  {
   "cell_type": "markdown",
   "metadata": {},
   "source": [
    "<div style=\"text-align:center\">\n",
    "    <img src=\"https://codeflex.co/wp-content/uploads/2021/03/python3-multiprocessing-example.jpg\" />\n",
    "</div>\n",
    "\n"
   ]
  },
  {
   "cell_type": "markdown",
   "metadata": {},
   "source": [
    "# Multiprocessing en Python: Paralelismo basado en procesos #\n",
    "\n",
    "### Introducción\n",
    "En Python, el módulo multiprocessing permite crear procesos independientes para realizar tareas concurrentemente, aprovechando así múltiples núcleos de CPU y logrando paralelismo. A diferencia del módulo threading, multiprocessing usa procesos en lugar de subprocesos, lo que evita los problemas de concurrencia asociados con el Global Interpreter Lock (GIL) de Python.\n",
    "\n",
    "### Funcionamiento\n",
    "El módulo multiprocessing proporciona una API similar a la del módulo threading, pero utiliza procesos en lugar de subprocesos. Cada proceso tiene su propio espacio de memoria, lo que evita problemas de concurrencia. Los procesos se pueden crear y manejar fácilmente utilizando clases como Process, Pool y Queue.\n",
    "\n",
    "### Casos de uso\n",
    "Procesamiento por lotes: Procesar grandes cantidades de datos de manera eficiente mediante la distribución de la carga de trabajo en múltiples procesos.\n",
    "Cálculos intensivos: Realizar cálculos complejos distribuyendo la carga entre varios procesos para mejorar el rendimiento.\n",
    "Paralelización de tareas de E/S: Mejorar la eficiencia al realizar operaciones de entrada/salida, como lectura/escritura de archivos o solicitudes de red, en paralelo.\n",
    "### Ejemplo básico\n",
    "Supongamos que queremos calcular la suma de una lista grande de números de forma paralela utilizando multiprocessing."
   ]
  },
  {
   "cell_type": "code",
   "execution_count": 1,
   "metadata": {},
   "outputs": [],
   "source": [
    "import multiprocessing\n",
    "\n",
    "def calcular_suma(lista):\n",
    "    return sum(lista)\n",
    "\n",
    "if __name__ == \"__main__\":\n",
    "    lista_grande = list(range(1000000))\n",
    "    num_procesos = multiprocessing.cpu_count()\n",
    "    \n",
    "    chunk_size = len(lista_grande) // num_procesos\n",
    "    chunks = [lista_grande[i:i+chunk_size] for i in range(0, len(lista_grande), chunk_size)]\n",
    "    \n",
    "    with multiprocessing.Pool(processes=num_procesos) as pool:\n",
    "        resultados = pool.map(calcular_suma, chunks)\n",
    "    \n",
    "    suma_total = sum(resultados)\n",
    "    print(\"La suma total es:\", suma_total)\n"
   ]
  },
  {
   "cell_type": "markdown",
   "metadata": {},
   "source": [
    "`La suma total es: 499999500000`\n",
    "### En este ejemplo\n",
    "dividimos la lista grande en partes más pequeñas (chunks) y luego utilizamos un grupo de procesos (Pool) para calcular la suma de cada parte en paralelo. Finalmente, sumamos los resultados parciales para obtener la suma total."
   ]
  },
  {
   "cell_type": "markdown",
   "metadata": {},
   "source": [
    "### Uso más común\n",
    "El uso más común de multiprocessing es la aceleración de cálculos intensivos y tareas de procesamiento de datos en paralelo. Por ejemplo, en aplicaciones de análisis de datos, procesamiento de imágenes, cálculos científicos, etc."
   ]
  },
  {
   "cell_type": "code",
   "execution_count": null,
   "metadata": {},
   "outputs": [],
   "source": [
    "import multiprocessing\n",
    "from PIL import Image, ImageFilter\n",
    "\n",
    "def aplicar_filtro(imagen, filtro, resultado, indice):\n",
    "    imagen_filtrada = imagen.filter(filtro)\n",
    "    resultado.put((indice, imagen_filtrada))\n",
    "\n",
    "if __name__ == \"__main__\":\n",
    "    # Abrir la imagen\n",
    "    imagen_original = Image.open(\"imagen.jpg\")\n",
    "    \n",
    "    # Definir el filtro a aplicar\n",
    "    filtro = ImageFilter.BLUR\n",
    "    \n",
    "    # Dividir la imagen en partes iguales para cada proceso\n",
    "    ancho, alto = imagen_original.size\n",
    "    num_procesos = multiprocessing.cpu_count()\n",
    "    tamano_subimagen = alto // num_procesos\n",
    "    subimagenes = [(0, i * tamano_subimagen, ancho, (i + 1) * tamano_subimagen) for i in range(num_procesos)]\n",
    "    \n",
    "    # Crear un objeto Queue para recopilar los resultados de los procesos\n",
    "    resultados = multiprocessing.Queue()\n",
    "    \n",
    "    # Crear y ejecutar los procesos\n",
    "    procesos = []\n",
    "    for i, (x0, y0, x1, y1) in enumerate(subimagenes):\n",
    "        subimagen = imagen_original.crop((x0, y0, x1, y1))\n",
    "        p = multiprocessing.Process(target=aplicar_filtro, args=(subimagen, filtro, resultados, i))\n",
    "        procesos.append(p)\n",
    "        p.start()\n",
    "    \n",
    "    # Esperar a que todos los procesos terminen\n",
    "    for p in procesos:\n",
    "        p.join()\n",
    "    \n",
    "    # Ordenar los resultados y reconstruir la imagen filtrada\n",
    "    resultados_ordenados = [resultados.get() for _ in range(num_procesos)]\n",
    "    resultados_ordenados.sort()\n",
    "    subimagenes_filtradas = [imagen for indice, imagen in resultados_ordenados]\n",
    "    imagen_filtrada = Image.new(\"RGB\", (ancho, alto))\n",
    "    y = 0\n",
    "    for subimagen_filtrada in subimagenes_filtradas:\n",
    "        imagen_filtrada.paste(subimagen_filtrada, (0, y))\n",
    "        y += subimagen_filtrada.size[1]\n",
    "    \n",
    "    # Guardar la imagen filtrada\n",
    "    imagen_filtrada.save(\"imagen_filtrada.jpg\")\n"
   ]
  },
  {
   "cell_type": "markdown",
   "metadata": {},
   "source": [
    "### Process\n",
    "Process es una clase que representa un proceso independiente en Python. Se utiliza para crear nuevos procesos mediante la definición de una función objetivo que será ejecutada en el proceso.\n",
    "\n",
    "Métodos importantes:\n",
    "1. __init__(self, target, args=(), kwargs={}): Constructor de la clase Process. Toma la función target como argumento, así como los argumentos posicionales args y los argumentos de palabras clave kwargs que se pasarán a la función.\n",
    "2. start(): Inicia la ejecución del proceso.\n",
    "3. join(timeout=None): Espera a que el proceso termine. Opcionalmente, se puede especificar un tiempo de espera (timeout) en segundos.\n",
    "### Ejemplo:"
   ]
  },
  {
   "cell_type": "code",
   "execution_count": 1,
   "metadata": {},
   "outputs": [],
   "source": [
    "import multiprocessing\n",
    "\n",
    "def worker(num):\n",
    "    print(f\"Proceso hijo: {num}\")\n",
    "\n",
    "if __name__ == \"__main__\":\n",
    "    processes = []\n",
    "    for i in range(5):\n",
    "        p = multiprocessing.Process(target=worker, args=(i,))\n",
    "        processes.append(p)\n",
    "        p.start()\n",
    "    \n",
    "    for p in processes:\n",
    "        p.join()\n"
   ]
  },
  {
   "cell_type": "markdown",
   "metadata": {},
   "source": [
    "`Proceso hijo: 0\n",
    "Proceso hijo: 1\n",
    "Proceso hijo: 2\n",
    "Proceso hijo: 3\n",
    "Proceso hijo: 4`"
   ]
  },
  {
   "cell_type": "markdown",
   "metadata": {},
   "source": [
    "### Process (Continuación)\n",
    "\n",
    "Métodos importantes (Continuación):\n",
    "1. is_alive(): Devuelve True si el proceso está vivo (ejecutándose), False de lo contrario.\n",
    "2. terminate(): Termina el proceso de forma abrupta.\n",
    "3. pid: Atributo que devuelve el identificador de proceso (PID) del proceso.\n",
    "\n",
    "### Ejemplo:"
   ]
  },
  {
   "cell_type": "code",
   "execution_count": 2,
   "metadata": {},
   "outputs": [
    {
     "name": "stdout",
     "output_type": "stream",
     "text": [
      "Estado del proceso antes de iniciar: False\n",
      "Estado del proceso después de iniciar: True\n",
      "Estado del proceso después de terminar: False\n"
     ]
    }
   ],
   "source": [
    "import multiprocessing\n",
    "import time\n",
    "\n",
    "def mi_tarea():\n",
    "    print(\"Comenzando la tarea...\")\n",
    "    time.sleep(2)\n",
    "    print(\"Terminando la tarea...\")\n",
    "\n",
    "if __name__ == \"__main__\":\n",
    "    proceso = multiprocessing.Process(target=mi_tarea)\n",
    "    print(\"Estado del proceso antes de iniciar:\", proceso.is_alive())\n",
    "    \n",
    "    proceso.start()\n",
    "    print(\"Estado del proceso después de iniciar:\", proceso.is_alive())\n",
    "    \n",
    "    proceso.join()\n",
    "    print(\"Estado del proceso después de terminar:\", proceso.is_alive())\n"
   ]
  },
  {
   "cell_type": "markdown",
   "metadata": {},
   "source": [
    "En este ejemplo, creamos un proceso que ejecuta una tarea (mi_tarea). Después de crear el proceso, podemos verificar su estado utilizando el método is_alive(). Luego, iniciamos el proceso, verificamos su estado nuevamente y finalmente esperamos a que termine la tarea utilizando join().\n",
    "\n",
    "### También podemos obtener el PID del proceso usando el atributo pid:"
   ]
  },
  {
   "cell_type": "code",
   "execution_count": 3,
   "metadata": {},
   "outputs": [
    {
     "name": "stdout",
     "output_type": "stream",
     "text": [
      "PID del proceso: 11960\n"
     ]
    }
   ],
   "source": [
    "print(\"PID del proceso:\", proceso.pid)\n"
   ]
  },
  {
   "cell_type": "markdown",
   "metadata": {},
   "source": [
    "### uso de if __name__ == \"__main__\":\n",
    "Es importante envolver el código que crea procesos dentro de la condición if __name__ == \"__main__\": para evitar problemas con la importación del módulo. Cuando se importa un módulo que contiene código para crear procesos, el intérprete de Python intentará crear esos procesos nuevamente en el proceso principal, lo que puede provocar comportamientos inesperados.\n",
    "\n",
    "Al colocar el código de creación de procesos dentro de esta condición, nos aseguramos de que solo se ejecute cuando el módulo se ejecute como un script independiente y no cuando se importe como un módulo en otro script.\n",
    "\n"
   ]
  },
  {
   "cell_type": "markdown",
   "metadata": {},
   "source": [
    "### Conclusión\n",
    "El módulo multiprocessing de Python proporciona una forma efectiva de aprovechar el paralelismo basado en procesos para mejorar el rendimiento de las aplicaciones. Al distribuir tareas en múltiples procesos, podemos aprovechar eficientemente los recursos del sistema y realizar operaciones de manera concurrente. Es importante tener en cuenta el costo asociado con la creación y gestión de procesos, por lo que su uso debe evaluarse cuidadosamente según las necesidades específicas de cada aplicación.\n",
    "\n"
   ]
  }
 ],
 "metadata": {
  "kernelspec": {
   "display_name": "Python 3",
   "language": "python",
   "name": "python3"
  },
  "language_info": {
   "codemirror_mode": {
    "name": "ipython",
    "version": 3
   },
   "file_extension": ".py",
   "mimetype": "text/x-python",
   "name": "python",
   "nbconvert_exporter": "python",
   "pygments_lexer": "ipython3",
   "version": "3.7.4"
  }
 },
 "nbformat": 4,
 "nbformat_minor": 2
}
