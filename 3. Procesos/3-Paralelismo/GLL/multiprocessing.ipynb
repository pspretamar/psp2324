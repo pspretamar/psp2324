{
 "cells": [
  {
   "cell_type": "markdown",
   "metadata": {},
   "source": [
    "# Multiprocessing - Pool"
   ]
  },
  {
   "cell_type": "markdown",
   "metadata": {},
   "source": [
    "### ¿Que es el multiprocessing?"
   ]
  },
  {
   "cell_type": "markdown",
   "metadata": {},
   "source": [
    "Multiprocessing es una libreria que soporta la creacion de procesos, usa una API similar a threading.\n",
    "\n",
    "Al usar subprocesos en lugar de threads, el módulo de multiprocesamiento permite al programador aprovechar al máximo varios procesadores en una máquina determinada. Se puede utilizar tanto en POSIX como en Windows."
   ]
  },
  {
   "cell_type": "markdown",
   "metadata": {},
   "source": [
    "Un excelente ejemplo de esto es el objeto Pool, el cual es conveniente para paralelizar la ejecución de una función a través de múltiples valores de entrada, distribuyendo los datos de entrada entre procesos (paralelismo de datos). El siguiente ejemplo demuestra la práctica común de definir dichas funciones en un módulo para que los procesos secundarios puedan importar ese módulo con éxito.\n",
    "\n",
    "Este es un ejemplo básico de paralelismo de datos usando Pool"
   ]
  },
  {
   "cell_type": "code",
   "execution_count": 1,
   "metadata": {},
   "outputs": [],
   "source": [
    "from multiprocessing import Pool\n",
    "\n",
    "def f(x):\n",
    "    return x*x\n",
    "\n",
    "if __name__ == '__main__':\n",
    "    with Pool(5) as p:\n",
    "        print(p.map(f, [1, 2, 3]))"
   ]
  },
  {
   "cell_type": "markdown",
   "metadata": {},
   "source": [
    "### Metodos mas utilizados"
   ]
  },
  {
   "cell_type": "markdown",
   "metadata": {},
   "source": [
    "- map(func, iterable)\n",
    "- apply(func, args=(), kwds={})\n",
    "- close()\n",
    "- join()\n",
    "- terminate()"
   ]
  },
  {
   "cell_type": "markdown",
   "metadata": {},
   "source": [
    "## map()"
   ]
  },
  {
   "cell_type": "markdown",
   "metadata": {},
   "source": [
    "\n",
    "Este método aplica la función func a cada elemento del iterable (como una lista) y devuelve una lista de resultados. Se bloquea hasta que se completan todas las tareas."
   ]
  },
  {
   "cell_type": "code",
   "execution_count": null,
   "metadata": {},
   "outputs": [],
   "source": [
    "result_list = p.map(func, iterable)"
   ]
  },
  {
   "cell_type": "markdown",
   "metadata": {},
   "source": [
    "## apply()"
   ]
  },
  {
   "cell_type": "markdown",
   "metadata": {},
   "source": [
    "\n",
    "Este método aplica la función func a los argumentos args y a los argumentos de palabras clave kwds. Se bloquea hasta que se completa la tarea y devuelve el resultado."
   ]
  },
  {
   "cell_type": "code",
   "execution_count": null,
   "metadata": {},
   "outputs": [],
   "source": [
    "result = p.apply(func, args=(arg1, arg2), kwds={'key': value})"
   ]
  },
  {
   "cell_type": "markdown",
   "metadata": {},
   "source": [
    "## close()"
   ]
  },
  {
   "cell_type": "markdown",
   "metadata": {},
   "source": [
    "\n",
    "Este método evita que se envíen más tareas al grupo. Una vez que se hayan completado todas las tareas, los procesos de trabajo saldrán."
   ]
  },
  {
   "cell_type": "code",
   "execution_count": null,
   "metadata": {},
   "outputs": [],
   "source": [
    "p.close()"
   ]
  },
  {
   "cell_type": "markdown",
   "metadata": {},
   "source": [
    "## join()"
   ]
  },
  {
   "cell_type": "markdown",
   "metadata": {},
   "source": [
    "Este método se bloquea hasta que se hayan completado todas las tareas del grupo y todos los procesos de trabajo hayan finalizado."
   ]
  },
  {
   "cell_type": "code",
   "execution_count": null,
   "metadata": {},
   "outputs": [],
   "source": [
    "p.join()"
   ]
  },
  {
   "cell_type": "markdown",
   "metadata": {},
   "source": [
    "## terminate()"
   ]
  },
  {
   "cell_type": "markdown",
   "metadata": {},
   "source": [
    "Este método finaliza todos los procesos de trabajo inmediatamente sin completar las tareas pendientes. Este método tienes que usarse con precaución, ya que puede dejar los recursos en un estado inconsistente."
   ]
  },
  {
   "cell_type": "code",
   "execution_count": null,
   "metadata": {},
   "outputs": [],
   "source": [
    "p.terminate()"
   ]
  },
  {
   "cell_type": "markdown",
   "metadata": {},
   "source": [
    "# Ejercicio de ejemplo utilizando Pool"
   ]
  },
  {
   "cell_type": "code",
   "execution_count": null,
   "metadata": {},
   "outputs": [],
   "source": [
    "import multiprocessing\n",
    "\n",
    "def square(n):\n",
    "    # funcion que calcula el cuadrado de un numero.\n",
    "    return n * n\n",
    "\n",
    "if __name__ == \"__main__\":\n",
    "    # definimos una lista de numeros\n",
    "    numbers = [1, 2, 3, 4, 5, 6, 7, 8, 9, 10]\n",
    "\n",
    "    # se crea una pool con 4 procesos\n",
    "    with multiprocessing.Pool(processes=4) as pool:\n",
    "        # Usando pool.map(), asignamos la función cuadrado a cada número de la lista. \n",
    "        # Esto distribuye la carga de trabajo entre los procesos disponibles.\n",
    "        results = pool.map(square, numbers)\n",
    "\n",
    "    # imprimimos los resultados\n",
    "    print(\"numeros:\", numbers)\n",
    "    print(\"numeros al cuadrado:\", results)"
   ]
  },
  {
   "cell_type": "markdown",
   "metadata": {},
   "source": [
    "<table align=\"left\">\n",
    " <tr>\n",
    "    <td style=\"text-align:left\">\n",
    "         <h3>Ejercicio practico multiprocessing</h3>\n",
    "         Escriba un programa que use la biblioteca de multiprocesamiento para paralelizar el ordenado de una lista de números enteros. El script debería pedirle al usuario que ingrese una lista de números enteros separados por espacios. Luego, debería usar multiprocesamiento para ordenar la lista simultáneamente usando diferentes procesos. \n",
    "\n",
    "         Recuerda asegurarte de que el script funcione correctamente para varios escenarios de entrada, incluidas entradas vacías o valores no numéricos.\n",
    " </td>\n",
    "</tr>\n",
    "</table>"
   ]
  },
  {
   "cell_type": "code",
   "execution_count": null,
   "metadata": {},
   "outputs": [],
   "source": []
  }
 ],
 "metadata": {
  "kernelspec": {
   "display_name": "Python 3",
   "language": "python",
   "name": "python3"
  },
  "language_info": {
   "codemirror_mode": {
    "name": "ipython",
    "version": 3
   },
   "file_extension": ".py",
   "mimetype": "text/x-python",
   "name": "python",
   "nbconvert_exporter": "python",
   "pygments_lexer": "ipython3",
   "version": "3.7.4"
  }
 },
 "nbformat": 4,
 "nbformat_minor": 2
}
