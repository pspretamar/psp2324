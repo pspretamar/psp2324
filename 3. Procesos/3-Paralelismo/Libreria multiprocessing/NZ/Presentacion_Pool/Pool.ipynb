{
 "cells": [
  {
   "cell_type": "markdown",
   "metadata": {},
   "source": [
    "\n",
    "<div style=\"text-align:center\">\n",
    "    <img src=\"https://asociacionaepi.es/wp-content/uploads/2022/10/Python-image-with-logo.png\" />\n",
    "</div>\n"
   ]
  },
  {
   "cell_type": "markdown",
   "metadata": {},
   "source": [
    "# POOL #"
   ]
  },
  {
   "cell_type": "markdown",
   "metadata": {},
   "source": [
    "### ¿Qué es la clase Pool?\n",
    "\n",
    "La clase `Pool` se encuentra en el módulo `multiprocessing`, el cual es parte de la biblioteca estándar de Python. Esta clase se utiliza para crear un grupo de procesos secundarios que pueden ejecutar tareas de manera paralela.\n",
    "\n",
    "El propósito principal de la clase Pool es permitir la ejecución concurrente de múltiples procesos secundarios para realizar tareas de manera eficiente en sistemas multiprocesador o multinúcleo."
   ]
  },
  {
   "cell_type": "markdown",
   "metadata": {},
   "source": [
    "### Métodos Importantes de la clase Pool:\n",
    "1. *apply()*\n",
    "2. *map()*\n",
    "3. *apply_async()*\n",
    "4. *map_async()*\n",
    "5. *close()*\n",
    "6. *join()*\n",
    "7. *terminate()*\n",
    "8. *imap()*\n",
    "9. *imap_unordered()*\n",
    "\n",
    "\n"
   ]
  },
  {
   "cell_type": "markdown",
   "metadata": {},
   "source": [
    "## 1. COMO SE UTILIZA:\n",
    "\n",
    "En primer lugar tenemos que importar la librería `multiporcessing` y crear una instancia de la clase `Pool`"
   ]
  },
  {
   "cell_type": "code",
   "execution_count": 3,
   "metadata": {},
   "outputs": [],
   "source": [
    "from multiprocessing import Pool as pool\n",
    "\n",
    "pool = pool()"
   ]
  },
  {
   "cell_type": "code",
   "execution_count": 2,
   "metadata": {},
   "outputs": [],
   "source": [
    "import multiprocessing\n",
    "pool = multiprocessing.Pool()"
   ]
  },
  {
   "cell_type": "markdown",
   "metadata": {},
   "source": [
    "## 2. Métodos Importantes de la clase Pool:"
   ]
  },
  {
   "cell_type": "markdown",
   "metadata": {},
   "source": [
    "### A) Método *`apply(función, args=(), kwds={}):`*:\n",
    "Este método aplica la función dada a los argumentos proporcionados. Los argumentos `args` son una tupla de argumentos posicionales y `kwds` es un diccionario de argumentos de palabras clave. Retorna el resultado de la función."
   ]
  },
  {
   "cell_type": "markdown",
   "metadata": {},
   "source": [
    "Esto bloquea la ejecución del programa principal hasta que se complete la ejecución de la función en un proceso secundario y devuelve el resultado, que en este caso sería el factorial de 5."
   ]
  },
  {
   "cell_type": "markdown",
   "metadata": {},
   "source": [
    "Usando `args`"
   ]
  },
  {
   "cell_type": "code",
   "execution_count": null,
   "metadata": {},
   "outputs": [],
   "source": [
    "from multiprocessing import Pool\n",
    "\n",
    "# Función para calcular el factorial de un número\n",
    "def factorial(n):\n",
    "    result = 1\n",
    "    for i in range(1, n + 1):\n",
    "        result *= i\n",
    "    return result\n",
    "\n",
    "if __name__ == \"__main__\":\n",
    "    # Creamos un pool de procesos con 4 procesos\n",
    "    with Pool(processes=4) as pool:\n",
    "        # Calculamos el factorial de 5 usando apply\n",
    "        result = pool.apply(factorial, (5,))\n",
    "\n",
    "    # Imprimimos el resultado\n",
    "    print(\"El factorial de 5 es:\", result)\n"
   ]
  },
  {
   "cell_type": "markdown",
   "metadata": {},
   "source": [
    "`El factorial de 5 es: 120`"
   ]
  },
  {
   "cell_type": "markdown",
   "metadata": {},
   "source": [
    "Usando `kwds`"
   ]
  },
  {
   "cell_type": "code",
   "execution_count": 4,
   "metadata": {},
   "outputs": [],
   "source": [
    "from multiprocessing import Pool\n",
    "\n",
    "# Función para calcular el área de un rectángulo\n",
    "def calculate_area(length, width):\n",
    "    return length * width\n",
    "\n",
    "if __name__ == \"__main__\":\n",
    "    # Parámetros para el cálculo del área del rectángulo\n",
    "    params = {\"length\": 5, \"width\": 3}\n",
    "\n",
    "    # Creamos un pool de procesos con 2 procesos\n",
    "    with Pool(processes=4) as pool:\n",
    "        # Aplicamos la función calculate_area con los parámetros\n",
    "        # usando el argumento kwds para pasar los argumentos de palabras clave\n",
    "        # () indica que no existen argumentos args posicionales\n",
    "        result = pool.apply(calculate_area, (), params)\n",
    "\n",
    "    # Imprimimos el resultado\n",
    "    print(\"El área del rectángulo es:\", result)"
   ]
  },
  {
   "cell_type": "markdown",
   "metadata": {},
   "source": [
    "`El área del rectángulo es: 15`"
   ]
  },
  {
   "cell_type": "markdown",
   "metadata": {},
   "source": [
    "### B) Método *`map(función, iterable)`*:\n",
    "Este método aplica la función dada a cada elemento del iterable, de forma similar a la función `map` de Python estándar. Los elementos se distribuyen automáticamente entre los procesos secundarios en el pool para su procesamiento en paralelo. Retorna una lista de resultados en el mismo orden que el iterable."
   ]
  },
  {
   "cell_type": "code",
   "execution_count": null,
   "metadata": {},
   "outputs": [],
   "source": [
    "from multiprocessing import Pool\n",
    "\n",
    "# Función para calcular el cuadrado de un número\n",
    "def square(x):\n",
    "    return x * x\n",
    "\n",
    "if __name__ == \"__main__\":\n",
    "    # Lista de números\n",
    "    numbers = [1, 2, 3, 4, 5, 6, 7, 8, 9, 10]\n",
    "\n",
    "    # Creamos un pool de procesos con 4 procesos\n",
    "    with Pool(processes=4) as pool:\n",
    "        # Utilizamos map para aplicar la función square a cada número en paralelo\n",
    "        squared_numbers = pool.map(square, numbers)\n",
    "\n",
    "    # Imprimimos los resultados\n",
    "    print(\"Números originales:\", numbers)\n",
    "    print(\"Números al cuadrado:\", squared_numbers)"
   ]
  },
  {
   "cell_type": "markdown",
   "metadata": {},
   "source": [
    "`Números originales: [1, 2, 3, 4, 5, 6, 7, 8, 9, 10]`\n",
    "</br>\n",
    "`Números al cuadrado: [1, 4, 9, 16, 25, 36, 49, 64, 81, 100]`"
   ]
  },
  {
   "cell_type": "markdown",
   "metadata": {},
   "source": [
    "### C) Método *`apply_async()`*:\n",
    "Igual que el metodo `apply`, pero es un método asíncrono, lo que significa que devuelve un objeto AsyncResult de inmediato sin bloquear el proceso principal. El proceso principal puede continuar ejecutando otras tareas mientras se ejecuta la función en el proceso secundario."
   ]
  },
  {
   "cell_type": "code",
   "execution_count": null,
   "metadata": {},
   "outputs": [],
   "source": [
    "from multiprocessing import Pool\n",
    "\n",
    "# Función simple para calcular el cuadrado de un número\n",
    "def square(x):\n",
    "    return x * x\n",
    "\n",
    "if __name__ == \"__main__\":\n",
    "    # Creamos un pool de procesos con 2 procesos\n",
    "    with Pool(processes=2) as pool:\n",
    "        # Usamos apply_async para calcular el cuadrado de un número de manera asíncrona\n",
    "        result_async = pool.apply_async(square, (1000000,))\n",
    "        \n",
    "        # El flujo de ejecución del programa principal no espera\n",
    "        # continuamos haciendo otras operaciones mientras se realiza el cálculo\n",
    "        print(\"Esto se imprime antes de obtener el resultado de apply_async\")\n",
    "        \n",
    "        # Obtenemos el resultado cuando esté disponible\n",
    "        result = result_async.get()\n",
    "        print(\"Resultado de apply_async:\", result)"
   ]
  },
  {
   "cell_type": "markdown",
   "metadata": {},
   "source": [
    "`Esto se imprime antes de obtener el resultado de apply_async`\n",
    "</br>\n",
    "`Resultado de apply_async: 1000000000000`"
   ]
  },
  {
   "cell_type": "markdown",
   "metadata": {},
   "source": [
    "### D) Método *`map_async(función, iterable, callback=None, error_callback=None)`*:\n",
    "El método map_async() de la clase Pool en Python es similar al método map(), pero funciona de manera asíncrona, lo que significa que no bloquea el proceso principal mientras se están procesando las tareas en los procesos secundarios."
   ]
  },
  {
   "cell_type": "code",
   "execution_count": null,
   "metadata": {},
   "outputs": [],
   "source": [
    "from multiprocessing import Pool\n",
    "\n",
    "# Función para calcular la suma de los dígitos de un número\n",
    "def sum_digits(n):\n",
    "    total = sum(int(digit) for digit in str(n))\n",
    "    return total\n",
    "\n",
    "# Función de callback para manejar los resultados de las tareas completadas\n",
    "def handle_result(result):\n",
    "    print(\"Resultado de la tarea:\", result)\n",
    "\n",
    "if __name__ == \"__main__\":\n",
    "    # Creamos un pool de procesos con 2 procesos\n",
    "    with Pool(processes=2) as pool:\n",
    "        # Lista de números\n",
    "        numbers = [1234, 5678, 91011, 121314]\n",
    "\n",
    "        # Aplicamos la función sum_digits a cada número de manera asíncrona con map_async\n",
    "        async_result = pool.map_async(sum_digits, numbers, callback=handle_result)\n",
    "\n",
    "        # Esperamos a que todas las tareas asíncronas se completen\n",
    "        async_result.wait()\n",
    "\n",
    "    print(\"Todas las tareas se han completado\")"
   ]
  },
  {
   "cell_type": "markdown",
   "metadata": {},
   "source": [
    "`Resultado de la tarea: [10, 26, 12, 12]`\n",
    "</br>\n",
    "`Todas las tareas se han completado`"
   ]
  },
  {
   "cell_type": "markdown",
   "metadata": {},
   "source": [
    "### E) Método *`close()`*:\n",
    "Este método cierra el pool, lo que significa que ya no se pueden agregar nuevas tareas al mismo. Sin embargo, los procesos secundarios que ya se están ejecutando continuarán hasta que completen su trabajo."
   ]
  },
  {
   "cell_type": "code",
   "execution_count": null,
   "metadata": {},
   "outputs": [],
   "source": [
    "# Función que realiza un cálculo intensivo\n",
    "def heavy_computation(x):\n",
    "    # Simulamos una tarea intensiva que toma algún tiempo\n",
    "    time.sleep(1)\n",
    "    return x * x\n",
    "\n",
    "if __name__ == \"__main__\":\n",
    "    # Creamos un pool de procesos con 2 procesos\n",
    "    with Pool(processes=2) as pool:\n",
    "        # Creamos una lista de números\n",
    "        numbers = [1, 2, 3, 4, 5]\n",
    "        \n",
    "        # Aplicamos la función heavy_computation a cada número de manera asíncrona\n",
    "        result_async = pool.map_async(heavy_computation, numbers)\n",
    "        \n",
    "        # Llamamos al método close() para indicar que no se aceptarán más tareas\n",
    "        pool.close()\n",
    "        \n",
    "        # Esperamos a que todas las tareas asíncronas se completen\n",
    "        result_async.wait()\n",
    "\n",
    "    print(\"Todas las tareas se han completado\")"
   ]
  },
  {
   "cell_type": "markdown",
   "metadata": {},
   "source": [
    "El problema con este enfoque es que no llamamos al método `close()` antes de esperar a que todas las tareas se completen. Esto significa que el pool aún está abierto y puede aceptar más tareas mientras esperamos. Si esto sucede, el programa se bloqueará indefinidamente, ya que `wait()` no retornará hasta que todas las tareas en el pool estén completas, lo que incluye las tareas adicionales que podrían agregarse mientras esperamos."
   ]
  },
  {
   "cell_type": "markdown",
   "metadata": {},
   "source": [
    "### F) Método `*join()*`:\n",
    "Usado para los metodos asíncronos.\n",
    "\n",
    "El método `join()` en el contexto de la clase Pool en Python se utiliza para esperar a que todas las tareas asíncronas que se hayan lanzado en el pool se completen antes de continuar con la ejecución del programa principal.\n",
    "\n",
    "Cuando se llama al método `join()` en un objeto AsyncResult retornado por un método como `map_async` o `apply_async`, el flujo de ejecución del programa principal se bloqueará hasta que todas las tareas asociadas con ese objeto AsyncResult se completen."
   ]
  },
  {
   "cell_type": "code",
   "execution_count": null,
   "metadata": {},
   "outputs": [],
   "source": [
    "from multiprocessing import Pool\n",
    "\n",
    "# Función de ejemplo que realiza una tarea intensiva\n",
    "def heavy_computation(x):\n",
    "    # Simulamos una tarea intensiva que toma algún tiempo\n",
    "    import time\n",
    "    time.sleep(1)\n",
    "    return x * x\n",
    "\n",
    "if __name__ == \"__main__\":\n",
    "    # Creamos un pool de procesos con 2 procesos\n",
    "    with Pool(processes=2) as pool:\n",
    "        # Aplicamos la función heavy_computation a una lista de números de manera asíncrona\n",
    "        result_async = pool.map_async(heavy_computation, [1, 2, 3, 4, 5])\n",
    "        \n",
    "        # Esperamos a que todas las tareas asíncronas se completen antes de continuar\n",
    "        result_async.join()\n",
    "\n",
    "    print(\"Todas las tareas se han completado\")"
   ]
  },
  {
   "cell_type": "markdown",
   "metadata": {},
   "source": [
    "<img src = \"https://th.bing.com/th/id/R.f0d9714ad9440054354f205a3b7c6f06?rik=WiQMdaEfe4HC9g&riu=http%3a%2f%2fsimpleicon.com%2fwp-content%2fuploads%2fwarning.png&ehk=lylsb1QR0ttNcAa3CrMzHZvHPHPxdoJ0Ee8y%2by75xWY%3d&risl=&pid=ImgRaw&r=0\" style=\"width:50px;height:50px\"/>\n",
    "\n",
    "### Diferencia entre `wait()` y `join()`\n"
   ]
  },
  {
   "cell_type": "markdown",
   "metadata": {},
   "source": [
    "En ambos casos, el metodo espera a que  un hilo termine su ejecución. La principal diferencia radica en cómo se comportan:\n",
    "- *`wait()`*: espera a que todas las tareas se realicen antes de proseguir con la ejecución. Permite cancelar la ejecución por ejemplo estableciendo un `timeout()`, lo que devolvera un error `TimeoutException`\n",
    "- *`join()`*: espera a que todas las tareas se realicen antes de proseguir con la ejecución. No finzaliza hasta que se realicen todas las tareas."
   ]
  },
  {
   "cell_type": "markdown",
   "metadata": {},
   "source": [
    "### G) Método *`terminate()`*:\n",
    "\n",
    "Cuando llamas al método `terminate()` en un objeto Pool, todos los procesos secundarios del pool se detienen inmediatamente y se liberan los recursos asociados a ellos. Esto significa que cualquier tarea que esté en curso o en espera dentro del pool será interrumpida y no se completará. Es importante tener en cuenta que esto puede resultar en la pérdida de datos o en un estado inconsistente, por lo que se debe usar con precaución. El resto del programa sigue su ejecución."
   ]
  },
  {
   "cell_type": "markdown",
   "metadata": {},
   "source": [
    "### H) Método *`imap(función, iterable)`* y *`imap_unordered(función, iterable)`*:\n",
    "\n",
    "La función `imap()` toma dos argumentos principales: la función que se aplicará a cada elemento del iterable y el iterable en sí mismo. La función especificada se ejecutará en paralelo en los procesos del pool, aplicándose a cada elemento del iterable de forma independiente.\n",
    "\n",
    "La diferencia principal entre `imap()` y `map()` radica en que imap devuelve un iterador que genera los resultados a medida que están disponibles, en lugar de esperar a que todos los resultados se calculen antes de devolverlos todos juntos. Esto puede ser útil para procesar grandes conjuntos de datos de manera eficiente o para trabajar con resultados en tiempo real."
   ]
  },
  {
   "cell_type": "code",
   "execution_count": null,
   "metadata": {},
   "outputs": [],
   "source": [
    "from multiprocessing import Pool\n",
    "\n",
    "# Función de ejemplo\n",
    "\n",
    "def square(x):\n",
    "    return x * x\n",
    "\n",
    "if __name__ == \"__main__\":\n",
    "    # Creamos un pool de procesos con 2 procesos\n",
    "    with Pool(processes=2) as pool:\n",
    "        # Aplicamos la función square a cada número de manera asíncrona usando imap\n",
    "        result_iterator = pool.imap(square, [1, 2, 3, 4, 5])\n",
    "        \n",
    "        # Iteramos sobre el iterador para obtener los resultados\n",
    "        for result in result_iterator:\n",
    "            print(\"Resultado:\", result)\n",
    "\n",
    "    print(\"Todas las tareas se han completado\")"
   ]
  },
  {
   "cell_type": "markdown",
   "metadata": {},
   "source": [
    "`Resultado: 1`\n",
    "</br>\n",
    "`Resultado: 4`\n",
    "</br>\n",
    "`Resultado: 9`\n",
    "</br>\n",
    "`Resultado: 16`\n",
    "</br>\n",
    "`Resultado: 25`"
   ]
  },
  {
   "cell_type": "markdown",
   "metadata": {},
   "source": [
    "La diferencia principal de `imap()` e `imap_unordered()` es que este último, a diferencia de `imap()` no asegura que los resultados se devuelvan en el orden en el que se aplica sobre el iterable."
   ]
  },
  {
   "cell_type": "markdown",
   "metadata": {},
   "source": [
    "# 3. EJERCICIO DE EJEMPLO DE CLASE POOL:"
   ]
  },
  {
   "cell_type": "code",
   "execution_count": null,
   "metadata": {},
   "outputs": [],
   "source": [
    "from multiprocessing import Pool\n",
    "from functools import reduce\n",
    "\n",
    "# Función para procesar una línea y calcular la suma de los números\n",
    "def procesar_linea(linea):\n",
    "    numeros = list(map(int, linea.strip().split(',')))\n",
    "    suma = sum(numeros)\n",
    "    return suma\n",
    "\n",
    "if __name__ == '__main__':\n",
    "    # Nombre del archivo\n",
    "    nombre_archivo = 'datos_grandes.txt'\n",
    "\n",
    "\n",
    "    # Abrir el archivo y leer todas las líneas\n",
    "    with open(nombre_archivo, 'r') as archivo:\n",
    "        lineas = archivo.readlines()\n",
    "\n",
    "    # Crear un pool de procesos con el número de procesos determinado\n",
    "    with Pool(processes=4) as pool:\n",
    "        # Método map para procesar líneas\n",
    "        resultados_map = pool.map(procesar_linea, lineas)\n",
    "\n",
    "        # Método apply_async para procesar una línea específica de manera asincrónica\n",
    "        resultado_apply_async = pool.apply_async(procesar_linea, (lineas[0],))\n",
    "\n",
    "        # Método map_async para procesar líneas de manera asincrónica\n",
    "        resultados_map_async = pool.map_async(procesar_linea, lineas)\n",
    "\n",
    "        # Método apply para procesar una línea específica de manera síncrona\n",
    "        resultado_apply = pool.apply(procesar_linea, (lineas[1],))\n",
    "\n",
    "        # Combinar los resultados\n",
    "        suma_total = reduce(lambda x, y: x + y, resultados_map)\n",
    "\n",
    "        # Imprimir los resultados\n",
    "        print(\"Resultado usando map:\", resultados_map)\n",
    "        print(\"Resultado usando apply_async:\", resultado_apply_async.get())\n",
    "        print(\"Resultado usando map_async:\", resultados_map_async.get())\n",
    "        print(\"Resultado usando apply:\", resultado_apply)\n",
    "        print(\"Suma total:\", suma_total)"
   ]
  },
  {
   "cell_type": "markdown",
   "metadata": {},
   "source": [
    "`Resultado usando map: [10, 26, 42]`\n",
    "</br>\n",
    "`Resultado usando apply_async: 10`\n",
    "</br>\n",
    "`Resultado usando map_async: [10, 26, 42]`\n",
    "</br>\n",
    "`Resultado usando apply: 26`\n",
    "</br>\n",
    "`Suma total: 78`"
   ]
  }
 ],
 "metadata": {
  "kernelspec": {
   "display_name": "Python 3",
   "language": "python",
   "name": "python3"
  },
  "language_info": {
   "codemirror_mode": {
    "name": "ipython",
    "version": 3
   },
   "file_extension": ".py",
   "mimetype": "text/x-python",
   "name": "python",
   "nbconvert_exporter": "python",
   "pygments_lexer": "ipython3",
   "version": "3.11.5"
  }
 },
 "nbformat": 4,
 "nbformat_minor": 2
}
