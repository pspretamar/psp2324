{
 "cells": [
  {
   "cell_type": "markdown",
   "metadata": {},
   "source": [
    "# MULTIPROCESSING EN PYTHON\n",
    "<div style=\"text-align:center;\">\n",
    "  <img src=\"img/multiprocessing_scheme.jpg\" alt=\"Image of Multiprocessing Scheme\" width=\"90%\" />\n",
    "</div>\n",
    "Es un paquete que nos permite crear procesos **de manera similar a threading**.\n",
    "Ofrece concurrencia tando de forma local como remota mediante el uso de subprocesos en lugar de hilos.\n",
    "## El Objeto Pool\n",
    "Nos sirve para **ejecutar tareas en paralelo** mediante un grupo de procesos.\n"
   ]
  },
  {
   "cell_type": "code",
   "execution_count": 5,
   "metadata": {},
   "outputs": [
    {
     "name": "stdout",
     "output_type": "stream",
     "text": [
      "Overwriting Prueba_Multiprocessing.py\n"
     ]
    }
   ],
   "source": [
    "%%writefile Prueba_Multiprocessing.py\n",
    "\n",
    "from multiprocessing import Pool\n",
    "\n",
    "def potenciarCuad(numero):\n",
    "    '''\n",
    "    Esta función eleva al cuadrado la entrada\n",
    "    Parametros:\n",
    "    numero: número que queremos elevar al cuadrado\n",
    "    '''\n",
    "    return numero*numero\n",
    "\n",
    "if __name__ == '__main__':\n",
    "# Si el archivo actual es el programa principal se ejecutará\n",
    "    with Pool(5) as p:\n",
    "        print(p.map(potenciarCuad, [2, 3]))\n"
   ]
  },
  {
   "cell_type": "markdown",
   "metadata": {},
   "source": [
    "#### Para trabajar con Multiprocessing es frecuente utilizar la condición de que solo se ejecute en el proceso principal el código que ejecuta los procesos primarios\n",
    "``if __name__ == '__main__':``"
   ]
  },
  {
   "cell_type": "markdown",
   "metadata": {},
   "source": [
    "<div style=\"text-align:center;\">\n",
    "  <img src=\"img/synchronization-python-3.png\" alt=\"Image of Multiprocessing Scheme\" width=\"70%\" />\n",
    "</div>\n",
    "\n",
    "## Prueba de rendimiento\n",
    "*Utilizaremos time para medir los tiempos de ejecución*"
   ]
  },
  {
   "cell_type": "code",
   "execution_count": 1,
   "metadata": {},
   "outputs": [
    {
     "name": "stdout",
     "output_type": "stream",
     "text": [
      "Overwriting Rendimiento_Multiprocessing.py\n"
     ]
    }
   ],
   "source": [
    "%%writefile Rendimiento_Multiprocessing.py\n",
    "import time\n",
    "from multiprocessing import Pool\n",
    "\n",
    "def potenciarCuad(x):\n",
    "  \"\"\"\n",
    "  Eleva al cuadrado el num. de entrada\n",
    "  Parámetros:\n",
    "  x El número a elevar al cuadrado.\n",
    "  Retorno:\n",
    "  El cuadrado de x.\n",
    "  \"\"\"\n",
    "  return x ** 2\n",
    "\n",
    "def ejecutar_normal(listaNumeros):\n",
    "  inicio = time.time()\n",
    "  resultado = [potenciarCuad(x) for x in listaNumeros]\n",
    "  fin = time.time()\n",
    "  tiempo_ejecucion = fin - inicio\n",
    "  print(f\"Tiempo de ejecución normal: {tiempo_ejecucion:.4f} segundos\")\n",
    "  return resultado\n",
    "\n",
    "def ejecutar_optimizada(listaNumeros):\n",
    "  inicio = time.time()\n",
    "  with Pool(processes = 6) as pool:\n",
    "    resultado = pool.map(potenciarCuad, listaNumeros)\n",
    "  fin = time.time()\n",
    "  tiempo_ejecucion = fin - inicio\n",
    "  print(f\"Tiempo de ejecución optimizada: {tiempo_ejecucion:.4f} segundos\")\n",
    "  return resultado\n",
    "\n",
    "if __name__ == '__main__':\n",
    "  ejecutar_normal([2,7,9,10,29,12])\n",
    "  ejecutar_optimizada([2,7,9,10,29,12])\n"
   ]
  },
  {
   "cell_type": "markdown",
   "metadata": {},
   "source": [
    "### Podemos utilizar varias opciones para trabajar con Pools\n",
    "1. ``map(funcion, iterable[, chunksize])`` - ***Paraleliza la ejecución de la función utilizando un conjunto de procesos***\n",
    "```def process_with_map():\n",
    "        with multiprocessing.Pool() as pool:\n",
    "            resultado = pool.map(funcion, range(10))\n",
    "        return resultado"
   ]
  },
  {
   "cell_type": "markdown",
   "metadata": {},
   "source": [
    "2. ``apply(funcion, args)`` - ***Bloquea la ejecución*** del programa principal ***hasta que se complete la ejecución de la función en el proceso secundario*** (sincronía). Devuelve el resultado de la función una vez que esta haya terminado de ejecutarse.\n",
    "```def procesar_con_apply():\n",
    "        with multiprocessing.Pool() as pool:\n",
    "            resultado = [pool.apply(funcion, (x,)) for x in range(10)]\n",
    "        return resultado"
   ]
  },
  {
   "cell_type": "markdown",
   "metadata": {},
   "source": [
    "3. ``apply_async(funcion, args[, kwds[, callback]])`` - Ejecuta la función ***en un proceso secundario*** (asincronía), de modo que el programa principal puede continuar sin esperar a que la función del proceso secundario se termine\n",
    "    ```def process_with_apply_async():\n",
    "        with multiprocessing.Pool() as pool:\n",
    "            resultados = [pool.apply_async(square, (x,)) for x in range(10)]\n",
    "            # Obtener los resultados\n",
    "            resultado = [r.get() for r in resultados]\n",
    "        return resultado    "
   ]
  },
  {
   "cell_type": "markdown",
   "metadata": {},
   "source": [
    "4. ``map_async(func, iterable[, chunksize[, callback]])`` - ***Similar a map***, paraleliza la ejecución de la función utilizando un ***conjunto de procesos secundarios***\n",
    "    ```def process_with_map_async():\n",
    "        with multiprocessing.Pool() as pool:\n",
    "            result = pool.map_async(square, range(10)).get()\n",
    "        return result"
   ]
  }
 ],
 "metadata": {
  "kernelspec": {
   "display_name": "Python 3",
   "language": "python",
   "name": "python3"
  },
  "language_info": {
   "codemirror_mode": {
    "name": "ipython",
    "version": 3
   },
   "file_extension": ".py",
   "mimetype": "text/x-python",
   "name": "python",
   "nbconvert_exporter": "python",
   "pygments_lexer": "ipython3",
   "version": "3.7.4"
  }
 },
 "nbformat": 4,
 "nbformat_minor": 2
}
