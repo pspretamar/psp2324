{
 "cells": [
  {
   "cell_type": "markdown",
   "metadata": {},
   "source": [
    "\n",
    "<div style=\"text-align:center\">\n",
    "    <img src=\"img/psp.jpg\" alt=\"ThreadPoolExecutor\" style=\"width:900px;height:400px;\">\n",
    "</div>"
   ]
  },
  {
   "cell_type": "markdown",
   "metadata": {},
   "source": [
    "# Librería multiprocessing. Clase Process\n",
    "\n",
    "La librería `multiprocessing` en Python se introdujo por primera vez en la versión 2.6 como una forma de permitir el paralelismo utilizando procesos en lugar de subprocesos (como lo hace el módulo `threading`). Proporciona una interfaz similar al módulo `threading`, pero utiliza procesos en lugar de subprocesos, lo que permite el verdadero paralelismo en sistemas multi-core.\n"
   ]
  },
  {
   "cell_type": "markdown",
   "metadata": {},
   "source": [
    "## Clase `Process`:\n"
   ]
  },
  {
   "cell_type": "markdown",
   "metadata": {},
   "source": [
    "\n",
    "### Process\n",
    "La clase `Process`se utiliza para crear y controlar procesos secundarios en Python. Permite la ejecución de funciones en paralelo en entornos multiproceso. A continuación, se detallan sus `atributos` y `métodos` principales:\n"
   ]
  },
  {
   "cell_type": "markdown",
   "metadata": {},
   "source": [
    "### Atributos:"
   ]
  },
  {
   "cell_type": "markdown",
   "metadata": {},
   "source": [
    "`name`: Es el nombre del proceso. Puede establecerse para identificar el proceso."
   ]
  },
  {
   "cell_type": "markdown",
   "metadata": {},
   "source": [
    "`daemon`: Un booleano que indica si el proceso es un demonio o no. Si es verdadero, el proceso será un demonio y terminará si el programa principal sale del ámbito."
   ]
  },
  {
   "cell_type": "markdown",
   "metadata": {},
   "source": [
    "### Métodos:"
   ]
  },
  {
   "cell_type": "markdown",
   "metadata": {},
   "source": [
    "`start()`: Inicia la ejecución del proceso invocando la función especificada en el argumento target."
   ]
  },
  {
   "cell_type": "markdown",
   "metadata": {},
   "source": [
    "`run()`: Método que se ejecuta cuando se inicia un proceso. Puedes sobrescribir este método en una subclase de Process para definir el comportamiento del proceso."
   ]
  },
  {
   "cell_type": "markdown",
   "metadata": {},
   "source": [
    "`join(timeout=None)`: Espera a que el proceso termine su ejecución. El argumento opcional timeout especifica el tiempo máximo en segundos para esperar que el proceso termine. Si se omite, el método join() bloqueará el programa hasta que el proceso finalice."
   ]
  },
  {
   "cell_type": "markdown",
   "metadata": {},
   "source": [
    "`is_alive()`: Verifica si el proceso está en ejecución."
   ]
  },
  {
   "cell_type": "markdown",
   "metadata": {},
   "source": [
    "`terminate()`: Detiene abruptamente la ejecución del proceso."
   ]
  },
  {
   "cell_type": "markdown",
   "metadata": {},
   "source": [
    "Esta clase proporciona funcionalidades para la creación y el control de procesos secundarios en Python, permitiendo el paralelismo y la ejecución de tareas en entornos multiproceso."
   ]
  },
  {
   "cell_type": "code",
   "execution_count": 2,
   "metadata": {},
   "outputs": [
    {
     "name": "stdout",
     "output_type": "stream",
     "text": [
      "Identificador del proceso: 11260\n",
      "¿Está el proceso en ejecución? False\n",
      "Nombre del proceso: Process-2\n",
      "Es un demonio: False\n"
     ]
    }
   ],
   "source": [
    "import multiprocessing\n",
    "\n",
    "import time\n",
    "\n",
    "# Función objetivo que será ejecutada en el proceso\n",
    "def worker_func(num):\n",
    "    print(f\"Proceso hijo con argumento {num}\")\n",
    "    time.sleep(2)  # Simulamos algún procesamiento\n",
    "    print(\"Proceso hijo finalizado\")\n",
    "\n",
    "if __name__ == \"__main__\":\n",
    "    # Creamos un proceso\n",
    "    p = multiprocessing.Process(target=worker_func, args=(123,))\n",
    "    \n",
    "    # Métodos de la clase Process\n",
    "    \n",
    "    # Método start\n",
    "    p.start()\n",
    "    \n",
    "    # Cuando se inicia el Método : start, se le añadirá un identificador al proceso con el Atributo pid\n",
    "    print(\"Identificador del proceso:\", p.pid)\n",
    "    \n",
    "    # Método run (no se llama directamente, se ejecuta automáticamente cuando se llama a start())\n",
    "    \n",
    "    # Método join\n",
    "    p.join()\n",
    "    \n",
    "    # Método is_alive\n",
    "    print(\"¿Está el proceso en ejecución?\", p.is_alive())\n",
    "    \n",
    "    # Atributos de la clase Process\n",
    "    \n",
    "    # Atributo name\n",
    "    print(\"Nombre del proceso:\", p.name)\n",
    "    \n",
    "    # Atributo daemon\n",
    "    print(\"Es un demonio:\", p.daemon)\n"
   ]
  }
 ],
 "metadata": {
  "interpreter": {
   "hash": "7c77fdb427e7cbc9bc1367dd530fc2b36aacdbbde1ac83c85833b10dfa8b831c"
  },
  "kernelspec": {
   "display_name": "Python 3.7.4 64-bit",
   "name": "python3"
  },
  "language_info": {
   "codemirror_mode": {
    "name": "ipython",
    "version": 3
   },
   "file_extension": ".py",
   "mimetype": "text/x-python",
   "name": "python",
   "nbconvert_exporter": "python",
   "pygments_lexer": "ipython3",
   "version": "3.11.5"
  }
 },
 "nbformat": 4,
 "nbformat_minor": 4
}
