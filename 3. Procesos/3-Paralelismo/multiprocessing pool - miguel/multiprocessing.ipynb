{
 "cells": [
  {
   "cell_type": "markdown",
   "metadata": {},
   "source": [
    "# Librería multiprocessing en Python"
   ]
  },
  {
   "cell_type": "markdown",
   "metadata": {},
   "source": [
    "La librería multiprocessing de Python es una herramienta poderosa que permite la ejecución de procesos en paralelo, lo que significa que puedes aprovechar múltiples CPU o núcleos de CPU para realizar tareas simultáneas. Esto es especialmente útil en situaciones donde necesitas realizar cálculos intensivos en CPU de manera eficiente, o cuando quieres evitar bloqueos de la interfaz de usuario en aplicaciones GUI."
   ]
  },
  {
   "cell_type": "markdown",
   "metadata": {},
   "source": [
    "## Características principales:"
   ]
  },
  {
   "cell_type": "markdown",
   "metadata": {},
   "source": [
    "1. Procesos: La librería multiprocessing ofrece una interfaz similar a la del módulo threading, permitiendo la creación y administración de procesos en Python. Sin embargo, a diferencia de los hilos (threads), los procesos tienen su propio espacio de memoria y pueden aprovechar múltiples núcleos de CPU.\n",
    "\n",
    "2. Comunicación entre procesos: Los procesos pueden comunicarse entre sí utilizando diferentes mecanismos proporcionados por la librería multiprocessing, como tuberías (Pipes), colas (Queues) y objetos compartidos (Shared Memory). Esto permite la transferencia segura de datos entre procesos.\n",
    "\n",
    "3. Pools de procesos: La clase Pool facilita la distribución de tareas entre un grupo de procesos. Esto es útil cuando tienes un conjunto de tareas que pueden ejecutarse de manera independiente y quieres utilizar varios procesos para realizarlas de manera eficiente."
   ]
  },
  {
   "cell_type": "markdown",
   "metadata": {},
   "source": [
    "### Ejemplo de uso:\n",
    "\n",
    "A continuación, te presento un ejemplo básico de cómo utilizar la librería multiprocessing en Python para calcular el cuadrado de una lista de números en paralelo:"
   ]
  },
  {
   "cell_type": "code",
   "execution_count": 1,
   "metadata": {},
   "outputs": [],
   "source": [
    "import multiprocessing\n",
    "\n",
    "def calcular_cuadrado(numero):\n",
    "    return numero * numero\n",
    "\n",
    "if __name__ == \"__main__\":\n",
    "    numeros = [1, 2, 3, 4, 5]\n",
    "    \n",
    "    # Creamos un Pool de procesos con 3 procesos\n",
    "    with multiprocessing.Pool(processes=3) as pool:\n",
    "        # Aplicamos la función calcular_cuadrado a cada número en paralelo\n",
    "        resultados = pool.map(calcular_cuadrado, numeros)\n",
    "    \n",
    "    print(resultados)\n"
   ]
  },
  {
   "cell_type": "markdown",
   "metadata": {},
   "source": [
    "En este ejemplo, creamos un Pool de procesos con 3 procesos y utilizamos el método map para aplicar la función calcular_cuadrado a cada elemento de la lista numeros en paralelo. Finalmente, imprimimos los resultados."
   ]
  },
  {
   "cell_type": "markdown",
   "metadata": {},
   "source": [
    "## Ejercicio: \n",
    "Ahora te propongo un ejercicio para que pongas en práctica lo aprendido. Escribe un programa que utilice multiprocessing para calcular el factorial de una lista de números en paralelo."
   ]
  },
  {
   "cell_type": "code",
   "execution_count": null,
   "metadata": {},
   "outputs": [],
   "source": [
    "import multiprocessing\n",
    "from math import factorial\n",
    "\n",
    "def calclar_factorial(x):\n",
    "    return factorial(x)\n",
    "\n",
    "if __name__ == \"__main__\":\n",
    "    numeros = [5,6,7,8,9]\n",
    "\n",
    "    with multiprocessing.Pool(processes=3) as pool:\n",
    "        resultados = pool.map(calclar_factorial, numeros)\n",
    "\n",
    "    print(resultados)"
   ]
  }
 ],
 "metadata": {
  "kernelspec": {
   "display_name": "Python 3",
   "language": "python",
   "name": "python3"
  },
  "language_info": {
   "codemirror_mode": {
    "name": "ipython",
    "version": 3
   },
   "file_extension": ".py",
   "mimetype": "text/x-python",
   "name": "python",
   "nbconvert_exporter": "python",
   "pygments_lexer": "ipython3",
   "version": "3.11.0"
  }
 },
 "nbformat": 4,
 "nbformat_minor": 2
}
