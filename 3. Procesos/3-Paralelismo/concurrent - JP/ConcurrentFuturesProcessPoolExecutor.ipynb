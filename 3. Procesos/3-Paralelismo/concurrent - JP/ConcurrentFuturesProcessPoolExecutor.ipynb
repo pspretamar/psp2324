{
 "cells": [
  {
   "cell_type": "markdown",
   "metadata": {},
   "source": [
    "**Índice:**\n",
    "1. [Introducción](#1.Introducción)\n",
    "2. [Definición de ProcessPoolExecutor](#2-Definicion-de-processpoolexecutor)\n",
    "3. [Método 1: `submit` - Definición](#3.Submit-Definicion)\n",
    "4. [Método 1: `submit` - Ejemplo](#4.Ejemplo-Submit)\n",
    "5. [Método 2: `map` - Definición](#5.Map-Definicion)\n",
    "6. [Método 2: `map` - Ejemplo](#6.Ejemplo-Map)\n",
    "7. [Método 3: `shutdown` - Definición](#7.Shutdown-Definicion)\n",
    "8. [Método 3: `shutdown` - Ejemplo](#8.Ejemplo-Shutdown)"
   ]
  },
  {
   "cell_type": "markdown",
   "metadata": {},
   "source": [
    "## 1.Introducción\n",
    "La librería concurrent.futures de Python ofrece una interfaz para ejecución de código concurrente y paralelo. "
   ]
  },
  {
   "cell_type": "code",
   "execution_count": 1,
   "metadata": {},
   "outputs": [],
   "source": [
    "from concurrent.futures import ProcessPoolExecutor"
   ]
  },
  {
   "cell_type": "markdown",
   "metadata": {},
   "source": [
    "## 2.Definicion de ProcessPoolExecutor\n",
    "La clase ProcessPoolExecutor permite ejecutar funciones en paralelo utilizando procesos. Esto es útil para aprovechar los múltiples núcleos de la CPU."
   ]
  },
  {
   "cell_type": "markdown",
   "metadata": {},
   "source": [
    "## 3 Submit Definicion\n",
    "El método submit envía una función para ser ejecutada en el conjunto de procesos y devuelve un objeto Future que representa el resultado de la ejecución."
   ]
  },
  {
   "cell_type": "markdown",
   "metadata": {},
   "source": [
    "## 4.Ejemplo Submit"
   ]
  },
  {
   "cell_type": "code",
   "execution_count": 2,
   "metadata": {},
   "outputs": [
    {
     "name": "stdout",
     "output_type": "stream",
     "text": [
      "Tarea enviada para calcular el cuadrado de 5\n",
      "La ejecución continúa mientras la tarea está en progreso...\n"
     ]
    },
    {
     "ename": "BrokenProcessPool",
     "evalue": "A process in the process pool was terminated abruptly while the future was running or pending.",
     "output_type": "error",
     "traceback": [
      "\u001b[1;31m---------------------------------------------------------------------------\u001b[0m",
      "\u001b[1;31mBrokenProcessPool\u001b[0m                         Traceback (most recent call last)",
      "\u001b[1;32m~\\AppData\\Local\\Temp\\ipykernel_16652\\2699102034.py\u001b[0m in \u001b[0;36m<module>\u001b[1;34m\u001b[0m\n\u001b[0;32m     22\u001b[0m \u001b[1;33m\u001b[0m\u001b[0m\n\u001b[0;32m     23\u001b[0m \u001b[1;32mif\u001b[0m \u001b[0m__name__\u001b[0m \u001b[1;33m==\u001b[0m \u001b[1;34m\"__main__\"\u001b[0m\u001b[1;33m:\u001b[0m\u001b[1;33m\u001b[0m\u001b[1;33m\u001b[0m\u001b[0m\n\u001b[1;32m---> 24\u001b[1;33m     \u001b[0mmain\u001b[0m\u001b[1;33m(\u001b[0m\u001b[1;33m)\u001b[0m\u001b[1;33m\u001b[0m\u001b[1;33m\u001b[0m\u001b[0m\n\u001b[0m",
      "\u001b[1;32m~\\AppData\\Local\\Temp\\ipykernel_16652\\2699102034.py\u001b[0m in \u001b[0;36mmain\u001b[1;34m()\u001b[0m\n\u001b[0;32m     17\u001b[0m \u001b[1;33m\u001b[0m\u001b[0m\n\u001b[0;32m     18\u001b[0m         \u001b[1;31m# Obtiene el resultado cuando la tarea está completa\u001b[0m\u001b[1;33m\u001b[0m\u001b[1;33m\u001b[0m\u001b[1;33m\u001b[0m\u001b[0m\n\u001b[1;32m---> 19\u001b[1;33m         \u001b[0mresult\u001b[0m \u001b[1;33m=\u001b[0m \u001b[0mfuture\u001b[0m\u001b[1;33m.\u001b[0m\u001b[0mresult\u001b[0m\u001b[1;33m(\u001b[0m\u001b[1;33m)\u001b[0m\u001b[1;33m\u001b[0m\u001b[1;33m\u001b[0m\u001b[0m\n\u001b[0m\u001b[0;32m     20\u001b[0m         \u001b[0mprint\u001b[0m\u001b[1;33m(\u001b[0m\u001b[1;34mf\"Resultado de submit: {result}\"\u001b[0m\u001b[1;33m)\u001b[0m\u001b[1;33m\u001b[0m\u001b[1;33m\u001b[0m\u001b[0m\n\u001b[0;32m     21\u001b[0m         \u001b[0mprint\u001b[0m\u001b[1;33m(\u001b[0m\u001b[1;34m\"La tarea se ha completado y el resultado se ha obtenido\"\u001b[0m\u001b[1;33m)\u001b[0m\u001b[1;33m\u001b[0m\u001b[1;33m\u001b[0m\u001b[0m\n",
      "\u001b[1;32mc:\\Users\\retiq\\AppData\\Local\\Programs\\Python\\Python37\\lib\\concurrent\\futures\\_base.py\u001b[0m in \u001b[0;36mresult\u001b[1;34m(self, timeout)\u001b[0m\n\u001b[0;32m    433\u001b[0m                 \u001b[1;32mraise\u001b[0m \u001b[0mCancelledError\u001b[0m\u001b[1;33m(\u001b[0m\u001b[1;33m)\u001b[0m\u001b[1;33m\u001b[0m\u001b[1;33m\u001b[0m\u001b[0m\n\u001b[0;32m    434\u001b[0m             \u001b[1;32melif\u001b[0m \u001b[0mself\u001b[0m\u001b[1;33m.\u001b[0m\u001b[0m_state\u001b[0m \u001b[1;33m==\u001b[0m \u001b[0mFINISHED\u001b[0m\u001b[1;33m:\u001b[0m\u001b[1;33m\u001b[0m\u001b[1;33m\u001b[0m\u001b[0m\n\u001b[1;32m--> 435\u001b[1;33m                 \u001b[1;32mreturn\u001b[0m \u001b[0mself\u001b[0m\u001b[1;33m.\u001b[0m\u001b[0m__get_result\u001b[0m\u001b[1;33m(\u001b[0m\u001b[1;33m)\u001b[0m\u001b[1;33m\u001b[0m\u001b[1;33m\u001b[0m\u001b[0m\n\u001b[0m\u001b[0;32m    436\u001b[0m             \u001b[1;32melse\u001b[0m\u001b[1;33m:\u001b[0m\u001b[1;33m\u001b[0m\u001b[1;33m\u001b[0m\u001b[0m\n\u001b[0;32m    437\u001b[0m                 \u001b[1;32mraise\u001b[0m \u001b[0mTimeoutError\u001b[0m\u001b[1;33m(\u001b[0m\u001b[1;33m)\u001b[0m\u001b[1;33m\u001b[0m\u001b[1;33m\u001b[0m\u001b[0m\n",
      "\u001b[1;32mc:\\Users\\retiq\\AppData\\Local\\Programs\\Python\\Python37\\lib\\concurrent\\futures\\_base.py\u001b[0m in \u001b[0;36m__get_result\u001b[1;34m(self)\u001b[0m\n\u001b[0;32m    382\u001b[0m     \u001b[1;32mdef\u001b[0m \u001b[0m__get_result\u001b[0m\u001b[1;33m(\u001b[0m\u001b[0mself\u001b[0m\u001b[1;33m)\u001b[0m\u001b[1;33m:\u001b[0m\u001b[1;33m\u001b[0m\u001b[1;33m\u001b[0m\u001b[0m\n\u001b[0;32m    383\u001b[0m         \u001b[1;32mif\u001b[0m \u001b[0mself\u001b[0m\u001b[1;33m.\u001b[0m\u001b[0m_exception\u001b[0m\u001b[1;33m:\u001b[0m\u001b[1;33m\u001b[0m\u001b[1;33m\u001b[0m\u001b[0m\n\u001b[1;32m--> 384\u001b[1;33m             \u001b[1;32mraise\u001b[0m \u001b[0mself\u001b[0m\u001b[1;33m.\u001b[0m\u001b[0m_exception\u001b[0m\u001b[1;33m\u001b[0m\u001b[1;33m\u001b[0m\u001b[0m\n\u001b[0m\u001b[0;32m    385\u001b[0m         \u001b[1;32melse\u001b[0m\u001b[1;33m:\u001b[0m\u001b[1;33m\u001b[0m\u001b[1;33m\u001b[0m\u001b[0m\n\u001b[0;32m    386\u001b[0m             \u001b[1;32mreturn\u001b[0m \u001b[0mself\u001b[0m\u001b[1;33m.\u001b[0m\u001b[0m_result\u001b[0m\u001b[1;33m\u001b[0m\u001b[1;33m\u001b[0m\u001b[0m\n",
      "\u001b[1;31mBrokenProcessPool\u001b[0m: A process in the process pool was terminated abruptly while the future was running or pending."
     ]
    }
   ],
   "source": [
    "# main_with_submit.py\n",
    "\n",
    "from concurrent.futures import ProcessPoolExecutor\n",
    "\n",
    "# Función que se ejecutará en paralelo\n",
    "def example_submit(x):\n",
    "    return x * x\n",
    "\n",
    "def main():\n",
    "    with ProcessPoolExecutor(max_workers=2) as executor:\n",
    "        # Utiliza submit para enviar la tarea\n",
    "        future = executor.submit(example_submit, 5)\n",
    "        print(f\"Tarea enviada para calcular el cuadrado de 5\")\n",
    "\n",
    "        # La ejecución continúa mientras la tarea está en progreso\n",
    "        print(\"La ejecución continúa mientras la tarea está en progreso...\")\n",
    "\n",
    "        # Obtiene el resultado cuando la tarea está completa\n",
    "        result = future.result()\n",
    "        print(f\"Resultado de submit: {result}\")\n",
    "        print(\"La tarea se ha completado y el resultado se ha obtenido\")\n",
    "\n",
    "if __name__ == \"__main__\":\n",
    "    main()"
   ]
  },
  {
   "cell_type": "markdown",
   "metadata": {},
   "source": [
    "## 5.Map Definicion\n",
    "El método map es similar a la función map estándar de Python, pero ejecuta la función en paralelo utilizando el ProcessPoolExecutor."
   ]
  },
  {
   "cell_type": "markdown",
   "metadata": {},
   "source": [
    "## 6.Ejemplo Map"
   ]
  },
  {
   "cell_type": "code",
   "execution_count": null,
   "metadata": {},
   "outputs": [],
   "source": [
    "# main_with_map_inline.py\n",
    "from concurrent.futures import ProcessPoolExecutor\n",
    "import time\n",
    "\n",
    "# Función que se ejecutará en paralelo\n",
    "def square(x):\n",
    "    result = x * x\n",
    "    print(f\"Calculando el cuadrado de {x}: {result}\")\n",
    "    return result\n",
    "\n",
    "def sum_numbers(x):\n",
    "    result = sum(range(1, x + 1))\n",
    "    print(f\"Calculando la suma de los primeros {x} números: {result}\")\n",
    "    return result\n",
    "\n",
    "def main():\n",
    "    # Lista de números (ahora con solo 2 elementos)\n",
    "    numbers = [2, 3]\n",
    "\n",
    "    print(\"Iniciando el procesamiento en paralelo...\")\n",
    "\n",
    "    start_time = time.time()\n",
    "\n",
    "    # Crear un objeto ProcessPoolExecutor con 2 procesos\n",
    "    with ProcessPoolExecutor(max_workers=2) as executor:\n",
    "        # Usar map() para calcular los cuadrados en paralelo\n",
    "        square_results = list(executor.map(square, numbers))\n",
    "\n",
    "        # Usar map() para calcular las sumas en paralelo\n",
    "        sum_results = list(executor.map(sum_numbers, numbers))\n",
    "\n",
    "    print(\"Procesamiento en paralelo completado.\")\n",
    "    print(\"\\nResultados obtenidos:\")\n",
    "    for i, number in enumerate(numbers):\n",
    "        print(f\"Resultado de square para {number}: {square_results[i]}\")\n",
    "        print(f\"Resultado de sum_numbers para {number}: {sum_results[i]}\")\n",
    "\n",
    "    print(\"Tiempo de procesamiento en paralelo:\", time.time() - start_time)\n",
    "\n",
    "if __name__ == \"__main__\":\n",
    "    main()\n"
   ]
  },
  {
   "cell_type": "markdown",
   "metadata": {},
   "source": [
    "## 7.Shutdown Definicion\n",
    "El método shutdown libera todos los recursos asociados con el executor. Si wait es True, espera a que todas las tareas pendientes se completen antes de cerrarse."
   ]
  },
  {
   "cell_type": "markdown",
   "metadata": {},
   "source": [
    "## 8.Ejemplo Shutdown\n"
   ]
  },
  {
   "cell_type": "code",
   "execution_count": null,
   "metadata": {},
   "outputs": [],
   "source": [
    "# main_optimized.py\n",
    "from concurrent.futures import ThreadPoolExecutor\n",
    "\n",
    "def main():\n",
    "    # Función que se ejecutará en paralelo\n",
    "    def square(x):\n",
    "        return x * x\n",
    "\n",
    "    # Lista de números\n",
    "    numbers = [1, 2, 3, 4, 5]\n",
    "\n",
    "    print(\"Iniciando el procesamiento en paralelo...\")\n",
    "\n",
    "    # Utiliza ThreadPoolExecutor para ejecutar square en paralelo usando map\n",
    "    with ThreadPoolExecutor(max_workers=2) as executor:\n",
    "        # Mapea la función square a la lista de números y obtén los resultados\n",
    "        results = list(executor.map(square, numbers))\n",
    "\n",
    "        # Imprime los resultados\n",
    "        for result in results:\n",
    "            print(\"Resultado de square:\", result)\n",
    "\n",
    "    print(\"Todas las tareas se han completado.\")\n",
    "\n",
    "if __name__ == \"__main__\":\n",
    "    main()\n"
   ]
  },
  {
   "cell_type": "markdown",
   "metadata": {},
   "source": [
    "## 9. Ejercicio Práctico:\n"
   ]
  },
  {
   "cell_type": "markdown",
   "metadata": {},
   "source": [
    "No he sido capaz de plantearlo. "
   ]
  }
 ],
 "metadata": {
  "kernelspec": {
   "display_name": "Python 3",
   "language": "python",
   "name": "python3"
  },
  "language_info": {
   "codemirror_mode": {
    "name": "ipython",
    "version": 3
   },
   "file_extension": ".py",
   "mimetype": "text/x-python",
   "name": "python",
   "nbconvert_exporter": "python",
   "pygments_lexer": "ipython3",
   "version": "3.7.4"
  }
 },
 "nbformat": 4,
 "nbformat_minor": 2
}
