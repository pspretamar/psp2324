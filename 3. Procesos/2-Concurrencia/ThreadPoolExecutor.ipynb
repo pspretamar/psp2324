{
 "cells": [
  {
   "cell_type": "markdown",
   "metadata": {},
   "source": [
    "# Concurrent Futures - ThreadPoolExecutor\n",
    "\n",
    "![imagen](./img/ejercicios.png)\n",
    "\n",
    "El módulo concurrent.futures provee una interfaz de alto nivel para ejecutar invocables de forma asincrónica.\n",
    "\n",
    "La ejecución asincrónica se puede realizar mediante hilos, usando ThreadPoolExecutor, o procesos independientes, mediante ProcessPoolExecutor. Ambos implementan la misma interfaz, que se encuentra definida por la clase abstracta Executor. Aqui nos centraremos en la libreria <b>ThreadPoolExecutor</b>"
   ]
  },
  {
   "cell_type": "code",
   "execution_count": 1,
   "metadata": {},
   "outputs": [],
   "source": [
    "#Codigos de importacion para el funcionamiento de los ejemplos\n",
    "import concurrent.futures #as cf\n",
    "from concurrent.futures import ThreadPoolExecutor\n",
    "import time\n",
    "import math"
   ]
  },
  {
   "cell_type": "markdown",
   "metadata": {},
   "source": [
    "Asi esta definida la funcion en la libreria:\n",
    "<br>\n",
    "```Python\n",
    "ThreadPoolExecutor(max_workers=None, thread_name_prefix='', initializer=None, initargs=())\n",
    "```\n",
    "Nos vamos a centrar más en este constructor:\n",
    "<br>\n",
    "```Python\n",
    "ThreadPoolExecutor(max_workers=None)\n",
    "```\n",
    "<br>\n",
    "Como se puede observar, esta funcion permite la introduccion de cuantos hilos van a ser utilizados para la gestion de tareas. En la versión 3.7 de python, en caso de no dar un número de hilos, este tomara por defecto el número de procesadores, multiplicado por cinco\n",
    "\n",
    "Usamos `with` con `ThreadPoolExecutor` para que al liberarse los hilos, se rellenen si hicieran falta"
   ]
  },
  {
   "cell_type": "code",
   "execution_count": 2,
   "metadata": {},
   "outputs": [
    {
     "name": "stdout",
     "output_type": "stream",
     "text": [
      "Processing task 1\n",
      "\n",
      "Processing task 2\n",
      "\n",
      "Processing task 3\n",
      "\n",
      "Task 2 completed\n",
      "\n",
      "Task 3 completed\n",
      "\n",
      "Task 1 completed\n",
      "\n",
      "completado en 4.01 segundos.\n",
      "Processing task 1\n",
      "\n",
      "Task 1 completed\n",
      "\n",
      "Processing task 2\n",
      "\n",
      "Task 2 completed\n",
      "\n",
      "Processing task 3\n",
      "\n",
      "Task 3 completed\n",
      "\n",
      "completado en 6.03 segundos.\n"
     ]
    }
   ],
   "source": [
    "def task(n):\n",
    "    print(f\"Processing task {n}\\n\")\n",
    "    time.sleep(2)  # Simula Computacion\n",
    "    return f\"Task {n} completed\\n\"\n",
    "time_start = time.time()\n",
    "# Creamos un ThreadPoolExecutor con 2 workers\n",
    "with ThreadPoolExecutor(max_workers=2) as executor:\n",
    "    # Enviando 5 tareas al ThreadPoolExecutor\n",
    "    future_to_task = {executor.submit(task, i): i for i in range(1, 4)}\n",
    "    #Espera hasta que termine\n",
    "    concurrent.futures.wait(future_to_task)\n",
    "    # Iteramos sobre los resultados conforme las tareas se completan\n",
    "    for future in concurrent.futures.as_completed(future_to_task):\n",
    "        task_result = future.result()\n",
    "        print(task_result)\n",
    "\n",
    "time_end = time.time()\n",
    "print(f'completado en {round((time_end-time_start), 2)} segundos.')\n",
    "time_start = time.time()\n",
    "\n",
    "for i in range(1,4):\n",
    "    print(task(i))\n",
    "\n",
    "time_end = time.time()\n",
    "print(f'completado en {round((time_end-time_start), 2)} segundos.')"
   ]
  },
  {
   "cell_type": "markdown",
   "metadata": {},
   "source": [
    "Una vez asignada la cantidad de hilos que se utilizaran, se tendran que utilizar el motodo de <b>submit</b> para enviar las tareas al Executor\n",
    "<br>\n",
    "La funcion contiene estos parametros:\n",
    "```\n",
    "submit(fn, *args,**kwargs)\n",
    "```\n",
    "Siendo <b>fn</b> una funcion, seguido los argumentos de dicha funcion, y este devuelve un objeto de clase <b><i>Future</i></b> que representa el resultado futuro.\n",
    "<br>\n",
    "En este caso, usamos un diccionario para saber que proceso es el que termina.\n",
    "\n",
    "```\n",
    "future_to_task = {executor.submit(task, i): i for i in range(1, 3)}\n",
    "```"
   ]
  },
  {
   "cell_type": "code",
   "execution_count": 3,
   "metadata": {},
   "outputs": [
    {
     "name": "stdout",
     "output_type": "stream",
     "text": [
      "Procesando tarea 1\n",
      "\n",
      "Procesando tarea 2\n",
      "\n"
     ]
    }
   ],
   "source": [
    "\n",
    "def task(n):\n",
    "    print(f\"Procesando tarea {n}\\n\")\n",
    "    time.sleep(2)  # Simula Computacion\n",
    "    return f\"hola, tarea {n}º completada \\n\"\n",
    "\n",
    "with ThreadPoolExecutor() as executor:\n",
    "     future_to_task = {executor.submit(task, i): i for i in range(1, 3)}"
   ]
  },
  {
   "cell_type": "markdown",
   "metadata": {},
   "source": [
    "Usamos la funcion  <b><i>as_completed()</i></b> para iterar una vez que se vayan terminando los procesos, y para recoger el resultado del objeto se usara <b><i>submit()</i></b>"
   ]
  },
  {
   "cell_type": "code",
   "execution_count": 4,
   "metadata": {},
   "outputs": [
    {
     "name": "stdout",
     "output_type": "stream",
     "text": [
      "hola, tarea 2º completada \n",
      "\n",
      "hola, tarea 1º completada \n",
      "\n"
     ]
    }
   ],
   "source": [
    "for future in concurrent.futures.as_completed(future_to_task):\n",
    "        task_result = future.result()\n",
    "        print(task_result)"
   ]
  },
  {
   "cell_type": "markdown",
   "metadata": {},
   "source": [
    "Como hemos estado viendo, `submit` envia funciones de uno en uno, si quisieramos enviar multiples tareas, utilizariamos la funcion `map`\n",
    "```\n",
    "map(fn, *iterables, timeout=None)\n",
    "```\n",
    "Siendo en este caso los valores que se pasan a la funcion, un conjunto de elementos iterables."
   ]
  },
  {
   "cell_type": "code",
   "execution_count": null,
   "metadata": {},
   "outputs": [],
   "source": [
    "\n",
    "# Función que simula un proceso costoso\n",
    "def simulate_process(n):\n",
    "    print(f\"Processing task {n}\")\n",
    "    time.sleep(1)\n",
    "    return f\"Task {n} completed\"\n",
    "\n",
    "# Ejemplo usando submit\n",
    "def example_submit():\n",
    "    with ThreadPoolExecutor(max_workers=3) as executor:\n",
    "        # Enviar tareas individualmente utilizando submit\n",
    "        futures = [executor.submit(simulate_process, i) for i in range(1, 6)]\n",
    "        # Esperar a que todas las tareas se completen y obtener los resultados\n",
    "        for future in futures:\n",
    "            result = future.result()\n",
    "            print(result)\n",
    "\n",
    "# Ejemplo usando map\n",
    "def example_map():\n",
    "    with ThreadPoolExecutor(max_workers=3) as executor:\n",
    "        # Enviar múltiples tareas usando map\n",
    "        results = executor.map(simulate_process, range(1, 6))\n",
    "        # Los resultados se producen a medida que se completan las tareas\n",
    "        for result in results:\n",
    "            print(result)\n",
    "\n",
    "print(\"Ejemplo usando submit:\")\n",
    "example_submit()\n",
    "\n",
    "print(\"\\nEjemplo usando map:\")\n",
    "example_map()\n"
   ]
  },
  {
   "cell_type": "markdown",
   "metadata": {},
   "source": [
    "# Ejercicio - Submit\n",
    "Simular una operacion que tarde 5 segundos y devuelva la reaiz cuadrada de un numero"
   ]
  },
  {
   "cell_type": "code",
   "execution_count": 15,
   "metadata": {},
   "outputs": [
    {
     "name": "stdout",
     "output_type": "stream",
     "text": [
      "submit:\n",
      "la raiz cuadrada de 4 es 2.0\n",
      "la raiz cuadrada de 9 es 3.0\n",
      "la raiz cuadrada de 16 es 4.0\n",
      "la raiz cuadrada de 25 es 5.0\n",
      "la raiz cuadrada de 36 es 6.0\n",
      "None\n",
      "None\n",
      "None\n",
      "None\n",
      "None\n",
      "map:\n",
      "la raiz cuadrada de 4 es 2.0\n",
      "la raiz cuadrada de 9 es 3.0\n",
      "la raiz cuadrada de 16 es 4.0\n",
      "la raiz cuadrada de 25 es 5.0\n",
      "la raiz cuadrada de 36 es 6.0\n",
      "None\n",
      "None\n",
      "None\n",
      "None\n",
      "None\n"
     ]
    }
   ],
   "source": [
    "from math import sqrt\n",
    "# Función para calcular la raíz cuadrada de un número\n",
    "def raiz(num):\n",
    "    operado = sqrt(num)\n",
    "    print(f'la raiz cuadrada de {num} es {operado}')\n",
    "# Lista de números de ejemplo\n",
    "numbers = [4, 9, 16, 25, 36]\n",
    "# Usando submit\n",
    "def raiz_submit():\n",
    "    with ThreadPoolExecutor() as executor:\n",
    "        raices = [executor.submit(raiz, i) for i in numbers]\n",
    "        for j in raices:\n",
    "            final = j.result()\n",
    "            print(final)\n",
    "# Usando map\n",
    "def raiz_map():\n",
    "    with ThreadPoolExecutor() as executor:\n",
    "        nombre = executor.map(raiz, numbers)\n",
    "        for nombres in nombre:\n",
    "            print(nombres)\n",
    "\n",
    "print(\"submit:\")\n",
    "raiz_submit()\n",
    "print(\"map:\")\n",
    "raiz_map()"
   ]
  }
 ],
 "metadata": {
  "kernelspec": {
   "display_name": "Python 3",
   "language": "python",
   "name": "python3"
  },
  "language_info": {
   "codemirror_mode": {
    "name": "ipython",
    "version": 3
   },
   "file_extension": ".py",
   "mimetype": "text/x-python",
   "name": "python",
   "nbconvert_exporter": "python",
   "pygments_lexer": "ipython3",
   "version": "3.7.4"
  }
 },
 "nbformat": 4,
 "nbformat_minor": 2
}
