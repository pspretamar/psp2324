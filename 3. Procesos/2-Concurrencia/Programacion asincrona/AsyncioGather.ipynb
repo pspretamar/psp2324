{
 "cells": [
  {
   "cell_type": "markdown",
   "metadata": {},
   "source": [
    "# asyncio.gather()\n",
    "\n",
    "¡Hola a todos! En esta presentación vamos a explorar el método `gather` de la biblioteca `asyncio` y cómo nos ayuda a trabajar de manera concurrente en nuestros programas.\n",
    "\n",
    "## ¿Qué es `asyncio.gather()`?\n",
    "\n",
    "`asyncio.gather()` es un método fundamental en la biblioteca `asyncio` que nos permite ejecutar múltiples tareas de forma concurrente y esperar a que todas se completen antes de continuar.\n",
    "\n",
    "## Concurrencia vs. Paralelismo\n",
    "\n",
    "Cuando hablamos de hacer varias cosas a la vez en nuestros programas, nos encontramos con dos términos importantes: **concurrencia** y **paralelismo**. Aunque pueden parecer similares, tienen diferencias clave.\n",
    "\n",
    "### Concurrencia\n",
    "\n",
    "La concurrencia es como un **malabarista que lanza varias pelotas al aire**. Aunque parece que está manejando varias pelotas simultáneamente, en realidad, solo atrapa y lanza una pelota a la vez. En el mundo de la programación, la concurrencia permite que nuestro programa avance en más de una tarea a la vez, pero no necesariamente al mismo tiempo. Es útil para esperar algo, como una página web cargando, mientras hacemos otra cosa.\n",
    "\n",
    "### Paralelismo\n",
    "\n",
    "El paralelismo, por otro lado, es como tener **varios malabaristas**, cada uno manejando sus propias pelotas al mismo tiempo. En términos de programación, significa que realmente se están ejecutando varias tareas exactamente al mismo tiempo, pero esto requiere que tengamos más de un núcleo en el procesador de nuestra computadora.\n",
    "\n",
    "### ¿Cómo se relaciona esto con `asyncio.gather()`?\n",
    "\n",
    "`asyncio.gather()` nos ayuda a ser **malabaristas eficientes** en el mundo de la programación, permitiéndonos preparar varias tareas (como descargar archivos) para que se \"lanzen al aire\" y se \"atrapen\" (o se completen) de manera más organizada y eficiente, sin tener que esperar a que una termine para empezar con la siguiente.\n",
    "\n",
    "# Entendiendo las Coroutines\n",
    "\n",
    "Antes de sumergirnos en nuestro ejercicio práctico, es fundamental comprender qué son las **coroutines** y cómo desempeñan un papel crucial en la programación asincrónica con `asyncio`.\n",
    "\n",
    "### Las Coroutines: Pieza Clave en `asyncio`\n",
    "\n",
    "Las coroutines son funciones especiales que se definen con `async def` y permiten a nuestros programas realizar múltiples operaciones \"en el aire\", como un malabarista, pero sin bloquearse. Utilizan `await` para \"descansar\" mientras esperan que algo (como una operación de I/O) se complete, permitiendo que otras coroutines tomen el escenario.\n",
    "\n",
    "### ¿Cómo Funcionan?\n",
    "\n",
    "Piensa en una coroutine como un artista que puede pausar su acto, permitiendo que otros artistas actúen, y luego continuar exactamente desde donde se detuvo. Este \"descanso\" se logra con `await`, que marca un punto de suspensión en la ejecución de la coroutine.\n",
    "\n",
    "### ¿Por Qué Importan?\n",
    "\n",
    "Las coroutines hacen posible que `asyncio.gather()` ejecute varias tareas de manera eficiente y concurrente. Sin coroutines, manejar múltiples tareas que requieren esperar, como solicitudes web, sería como tener un solo malabarista tratando de mantener todas las pelotas en el aire sin ayuda.\n",
    "\n",
    "## Ejercicio práctico: Descargar archivos de internet\n",
    "\n",
    "Vamos a simular la descarga de varios archivos de internet de forma concurrente utilizando `asyncio.gather()`. Esto nos ayudará a entender mejor cómo funciona y por qué es útil en aplicaciones del mundo real."
   ]
  },
  {
   "cell_type": "code",
   "execution_count": 1,
   "metadata": {},
   "outputs": [
    {
     "name": "stdout",
     "output_type": "stream",
     "text": [
      "Descargando archivo de https://example.com/file1.txt...\n",
      "Archivo de https://example.com/file1.txt descargado.\n",
      "Descargando archivo de https://example.com/file2.txt...\n",
      "Archivo de https://example.com/file2.txt descargado.\n",
      "Descargando archivo de https://example.com/file3.txt...\n",
      "Archivo de https://example.com/file3.txt descargado.\n",
      "Tiempo total de ejecución secuencial: 6.025111675262451 segundos\n"
     ]
    }
   ],
   "source": [
    "import time\n",
    "\n",
    "def descargar_archivo(url):\n",
    "    print(f'Descargando archivo de {url}...')\n",
    "    time.sleep(2)  # Simulamos una descarga de 2 segundos\n",
    "    print(f'Archivo de {url} descargado.')\n",
    "\n",
    "def main():\n",
    "    # Llamamos a las funciones de manera secuencial\n",
    "    descargar_archivo(\"https://example.com/file1.txt\")\n",
    "    descargar_archivo(\"https://example.com/file2.txt\")\n",
    "    descargar_archivo(\"https://example.com/file3.txt\")\n",
    "\n",
    "# Llamamos a la función principal\n",
    "inicio_secuencial = time.time()\n",
    "main()\n",
    "fin_secuencial = time.time()\n",
    "print(f\"Tiempo total de ejecución secuencial: {fin_secuencial - inicio_secuencial} segundos\")"
   ]
  },
  {
   "cell_type": "code",
   "execution_count": 2,
   "metadata": {},
   "outputs": [
    {
     "name": "stdout",
     "output_type": "stream",
     "text": [
      "Descargando archivo de https://example.com/file1.txt...\n",
      "Descargando archivo de https://example.com/file2.txt...\n",
      "Descargando archivo de https://example.com/file3.txt...\n",
      "Archivo de https://example.com/file1.txt descargado.\n",
      "Archivo de https://example.com/file2.txt descargado.\n",
      "Archivo de https://example.com/file3.txt descargado.\n",
      "[None, None, None]\n",
      "Tiempo total de ejecución asincrónica: 2.0071637630462646 segundos\n"
     ]
    }
   ],
   "source": [
    "import asyncio\n",
    "\n",
    "async def descargar_archivo(url):\n",
    "    print(f'Descargando archivo de {url}...')\n",
    "    await asyncio.sleep(2)  # Simulamos una descarga de 2 segundos\n",
    "    print(f'Archivo de {url} descargado.')\n",
    "\n",
    "inicio_async = time.time()\n",
    "print(await asyncio.gather(descargar_archivo(\"https://example.com/file1.txt\"),descargar_archivo(\"https://example.com/file2.txt\"),descargar_archivo(\"https://example.com/file3.txt\")))\n",
    "fin_async = time.time()\n",
    "print(f\"Tiempo total de ejecución asincrónica: {fin_async - inicio_async} segundos\")\n"
   ]
  },
  {
   "cell_type": "markdown",
   "metadata": {},
   "source": [
    "## ¿Qué devuelve el método `gather`?\n",
    "\n",
    "El método `gather` de `asyncio` en Python devuelve los resultados de todas las tareas que se ejecutan de manera concurrente dentro de él. En este ejemplo, el método `gather` espera a que todas las tareas de descarga de archivos se completen y luego devuelve una lista con los resultados de cada una de esas tareas.\n",
    "\n",
    "Entonces, si todas las descargas de archivos son exitosas, `gather` devolverá una lista con los resultados de cada tarea, que en este caso serán `None` (ya que las funciones `descargar_archivo()` no tienen un valor de retorno explícito). Si alguna de las descargas falla con una excepción, `gather` capturará esa excepción y la propagará cuando la función `gather` sea llamada.\n",
    "\n",
    "En resumen, el método `gather` nos proporciona una forma conveniente de esperar a que múltiples tareas asincrónicas se completen y nos devuelve los resultados de esas tareas para que podamos manejarlos en nuestro código.\n"
   ]
  },
  {
   "cell_type": "markdown",
   "metadata": {},
   "source": [
    "## ¿Qué es eso de `asyncio.sleep()`?\n",
    "\n",
    "`asyncio.sleep()` es una función proporcionada por la biblioteca asyncio que se utiliza para suspender la ejecución de una tarea asincrónica durante un período de tiempo especificado, sin bloquear el bucle de eventos.\n",
    "\n",
    "Cuando utilizas `asyncio.sleep()`, estás indicando al bucle de eventos que pause la ejecución de la tarea actual durante el tiempo especificado, permitiendo que otras tareas en el bucle de eventos continúen ejecutándose en su lugar.\n",
    "\n",
    "Es importante destacar que `asyncio.sleep()` es una función asincrónica, lo que significa que se debe utilizar dentro de una función asincrónica (`async def`). La función espera el tiempo especificado sin bloquear el bucle de eventos"
   ]
  },
  {
   "cell_type": "markdown",
   "metadata": {},
   "source": [
    "<table align=\"left\">\n",
    " <tr><td width=\"80\"><img src=\"./img/ejercicio.png\" style=\"width:auto;height:auto\"></td>\n",
    "     <td style=\"text-align:left\">\n",
    "         <h3>Ejercicio Practico: Saludos asincronicos</h3>\n",
    "\n",
    "### Objetivo\n",
    "\n",
    "El objetivo de este ejercicio es utilizar `asyncio` y `asyncio.gather()` para enviar saludos a tres amigos de manera asincrónica.\n",
    "\n",
    "### Descripción del Ejercicio\n",
    "\n",
    "Vamos a simular el envío de mensajes de saludo a tres amigos, cada uno con un pequeño retraso para simular el tiempo que toma \"enviar\" el mensaje. Queremos utilizar `asyncio` para manejar estos \"envíos\" de manera concurrente, demostrando cómo `asyncio.gather()` puede ejecutar múltiples tareas asincrónicas al mismo tiempo.\n",
    "\n",
    "### Tarea\n",
    "\n",
    "1. Define una coroutine `saludar_amigo(nombre)` que imprima un mensaje de saludo a un amigo y utilice `await asyncio.sleep(1)` para simular un retraso.\n",
    "2. Utiliza `asyncio.gather()` para saludar a tres amigos de manera concurrente.\n",
    "3. Ejecuta tu programa asincrónico y observa los resultados.\n",
    "\n",
    " </td></tr>\n",
    "</table>"
   ]
  },
  {
   "cell_type": "code",
   "execution_count": 3,
   "metadata": {},
   "outputs": [
    {
     "name": "stdout",
     "output_type": "stream",
     "text": [
      "Enviando saludo a Juan...\n",
      "Enviando saludo a Lucas...\n",
      "Enviando saludo a Pablo...\n",
      "Hola, Juan\n",
      "Hola, Lucas\n",
      "Hola, Pablo\n"
     ]
    }
   ],
   "source": [
    "import asyncio\n",
    "\n",
    "async def saludar_amigo(nombre):\n",
    "    print(f'Enviando saludo a {nombre}...')\n",
    "    await asyncio.sleep(1)\n",
    "    print(f'Hola, {nombre}')\n",
    "\n",
    "async def main():\n",
    "    amigos = [\"Juan\", \"Lucas\", \"Pablo\"]\n",
    "    await asyncio.gather(*(saludar_amigo(amigo) for amigo in amigos))\n",
    "    # await asyncio.gather(saludar_amigo(amigos[0]),saludar_amigo(amigos[1]),saludar_amigo(amigos[2]))\n",
    "\n",
    "await main()"
   ]
  }
 ],
 "metadata": {
  "kernelspec": {
   "display_name": "Python 3",
   "language": "python",
   "name": "python3"
  },
  "language_info": {
   "codemirror_mode": {
    "name": "ipython",
    "version": 3
   },
   "file_extension": ".py",
   "mimetype": "text/x-python",
   "name": "python",
   "nbconvert_exporter": "python",
   "pygments_lexer": "ipython3",
   "version": "3.7.4"
  }
 },
 "nbformat": 4,
 "nbformat_minor": 2
}
