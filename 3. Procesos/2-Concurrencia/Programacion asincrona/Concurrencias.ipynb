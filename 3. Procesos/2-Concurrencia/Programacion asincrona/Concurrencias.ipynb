{
 "cells": [
  {
   "cell_type": "markdown",
   "metadata": {},
   "source": [
    "# CONCURRENCIA \n",
    "\n",
    "### ¿Qué es la concurrencia?\n",
    "\n",
    "La `concurrencia` es un concepto en informática que se refiere a la ejecución simultánea de múltiples tareas o procesos. En el contexto de Python, la concurrencia permite a los programas realizar múltiples operaciones al mismo tiempo, lo que puede mejorar significativamente la eficiencia y el rendimiento de aplicaciones, especialmente aquellas que son I/O-bound (esto significa que realizan muchas operaciones de entrada/salida. La prioridad de un proceso para obtener un recurso será inversamente proporcional al uso que haga del mismo).\n",
    "\n",
    "\n",
    "<br/> Python ofrece varias bibliotecas para implementar concurrencia, tales como threading, multiprocessing, y asyncio. Cada una tiene sus propios casos de uso y ventajas dependiendo del tipo de tarea que se necesite realizar.\n",
    "\n"
   ]
  },
  {
   "cell_type": "code",
   "execution_count": null,
   "metadata": {},
   "outputs": [],
   "source": [
    "import asyncio\n",
    "\n",
    "async def corrut():\n",
    "    print('Buenas tardes')\n",
    "    await asyncio.sleep(1)\n",
    "    print('Buenas noches')\n",
    "\n",
    "asyncio.run(corrut())"
   ]
  },
  {
   "cell_type": "markdown",
   "metadata": {},
   "source": [
    "Este código muestra la estructura básica de un programa usando asyncio. La función corrut es una coroutina definida con async def y se ejecuta con asyncio.run()."
   ]
  },
  {
   "cell_type": "markdown",
   "metadata": {},
   "source": [
    "## 1. Método gather de asyncio"
   ]
  },
  {
   "cell_type": "markdown",
   "metadata": {},
   "source": [
    "El método `gather` de asyncio es utilizado para ejecutar múltiples coroutines de manera concurrente y esperar a que todas completen. El resultado es una única awaitable que completa cuando todas las coroutines pasadas a gather han terminado, devolviendo sus resultados en un conjunto."
   ]
  },
  {
   "cell_type": "code",
   "execution_count": null,
   "metadata": {},
   "outputs": [],
   "source": [
    "import asyncio\n",
    "\n",
    "async def tarea(string):\n",
    "    await asyncio.sleep(1)\n",
    "    return f'Tarea {string} completada'\n",
    "\n",
    "async def main():\n",
    "    results = await asyncio.gather(\n",
    "        tarea(\"hola\"),\n",
    "        tarea(\"que\"),\n",
    "        tarea(\"tal\")\n",
    "    )\n",
    "    for result in results:\n",
    "        print(result)\n",
    "\n",
    "asyncio.run(main())"
   ]
  },
  {
   "cell_type": "markdown",
   "metadata": {},
   "source": [
    "Este ejemplo demuestra cómo `gather` puede ser utilizado para ejecutar tres coroutinas tarea concurrentemente, esperando a que todas finalicen y luego imprimiendo sus resultados."
   ]
  },
  {
   "cell_type": "markdown",
   "metadata": {},
   "source": [
    "## 2. Ejercicios/ ejemplos"
   ]
  },
  {
   "cell_type": "markdown",
   "metadata": {},
   "source": [
    "### 2.1 Saludo concurrente\n",
    "\n",
    "Este ejemplo muestra cómo ejecutar coroutines que simplemente imprimen mensajes de saludo de manera concurrente. La concurrencia aquí permite que todos los saludos se \"preparen\" al mismo tiempo, aunque el efecto real dependerá del scheduler de asyncio."
   ]
  },
  {
   "cell_type": "code",
   "execution_count": null,
   "metadata": {},
   "outputs": [],
   "source": [
    "import asyncio\n",
    "\n",
    "async def greeting(delay, apellido):\n",
    "    await asyncio.sleep(delay)  #Simula una espera\n",
    "    print(f'Hola mr {apellido}!')\n",
    "\n",
    "async def main():\n",
    "    #Uso de gather para ejecutar todos los saludos de manera concurrente\n",
    "    await asyncio.gather(\n",
    "        greeting(1, 'Robbinson'),\n",
    "        greeting(2, 'Beckham'),\n",
    "        greeting(3, 'Ibraitovich')\n",
    "    )\n",
    "\n",
    "asyncio.run(main())"
   ]
  },
  {
   "cell_type": "markdown",
   "metadata": {},
   "source": [
    "En este ejemplo, las coroutines saludo se ejecutan concurrentemente, cada una esperando un tiempo diferente antes de saludar. Aunque el await en asyncio.sleep(delay) podría sugerir que se bloquea, en realidad libera el bucle de eventos para otras tareas, mostrando así la naturaleza no bloqueante de la concurrencia en asyncio."
   ]
  },
  {
   "cell_type": "markdown",
   "metadata": {},
   "source": [
    "### 2.2 Operaciones concurrentes"
   ]
  },
  {
   "cell_type": "code",
   "execution_count": null,
   "metadata": {},
   "outputs": [],
   "source": [
    "import asyncio\n",
    "\n",
    "async def sumar(a, b):\n",
    "    print(f\"Operación de sumar {a} + {b}\")\n",
    "    await asyncio.sleep(1)  #Simula ejecución\n",
    "    return a + b\n",
    "\n",
    "async def multiplicar(a, b):\n",
    "    print(f\"Operación de multiplicar {a} x {b}\")\n",
    "    await asyncio.sleep(1)  #Simula ejecución\n",
    "    return a * b\n",
    "\n",
    "async def main():\n",
    "    # Ejecuta sumas de manera concurrente y recoge los resultados\n",
    "    resultados = await asyncio.gather(\n",
    "        multiplicar(12, 24),\n",
    "        sumar(11, 2500),\n",
    "        multiplicar(0.5, 0.9)\n",
    "    )\n",
    "    #Imprime los resultados de las operaciones\n",
    "    for i in resultados:\n",
    "        print(f\"Resultado: {i}\")\n",
    "\n",
    "asyncio.run(main())"
   ]
  },
  {
   "cell_type": "markdown",
   "metadata": {},
   "source": [
    "### 2.3 Solicitudes HTTP concurrentes"
   ]
  },
  {
   "cell_type": "markdown",
   "metadata": {},
   "source": [
    "Utiliza asyncio junto con aiohttp (una biblioteca de cliente/servidor HTTP para asyncio) para realizar solicitudes HTTP a varios endpoints de manera concurrente."
   ]
  },
  {
   "cell_type": "code",
   "execution_count": null,
   "metadata": {},
   "outputs": [],
   "source": [
    "import asyncio\n",
    "import aiohttp\n",
    "\n",
    "async def fetch(url):\n",
    "    async with aiohttp.ClientSession() as session:\n",
    "        async with session.get(url) as response:\n",
    "            return await response.text()\n",
    "\n",
    "async def main():\n",
    "    urls = [\n",
    "        'http://example.com',\n",
    "        'http://example.org',\n",
    "        'http://example.net'\n",
    "    ]\n",
    "    results = await asyncio.gather(*[fetch(url) for url in urls])\n",
    "    for result in results:\n",
    "        print(result[:100]) #Imprime los primeros 100 caracteres de cada respuesta\n",
    "\n",
    "asyncio.run(main())"
   ]
  },
  {
   "cell_type": "markdown",
   "metadata": {},
   "source": [
    "Este código utiliza asyncio y aiohttp para realizar solicitudes HTTP de manera concurrente a tres URL diferentes. Se define una coroutine fetch que hace una petición a una URL y retorna el texto de la respuesta. En la función main, se emplea asyncio.gather para ejecutar las coroutines fetch para cada URL en paralelo, recolectando sus resultados. Finalmente, se imprimen los primeros 100 caracteres de cada respuesta obtenida."
   ]
  }
 ],
 "metadata": {
  "kernelspec": {
   "display_name": "Python 3",
   "language": "python",
   "name": "python3"
  },
  "language_info": {
   "codemirror_mode": {
    "name": "ipython",
    "version": 3
   },
   "file_extension": ".py",
   "mimetype": "text/x-python",
   "name": "python",
   "nbconvert_exporter": "python",
   "pygments_lexer": "ipython3",
   "version": "3.7.4"
  }
 },
 "nbformat": 4,
 "nbformat_minor": 2
}
