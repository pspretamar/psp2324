{
 "cells": [
  {
   "cell_type": "markdown",
   "metadata": {},
   "source": [
    "# Examen evaluación\n",
    "\n",
    "----\n",
    "\n",
    "Este examen se evaluará de tal forma que se vea la maestría del alumno sobre Python, encapsulamiento de código, documentación y programación concurrente y paralela. Se deben demostrar los conocimientos adquiridos en clase.\n",
    "\n",
    "Se evaluará:\n",
    "- Que se haya llegado a una solución (50%)\n",
    "- Que se haya llegado a soluciones creativas, no en todas las preguntas, sino en aquellas en las que sea apropiado, mostrando una forma alternativa de resolver un apartado (20%)\n",
    "- Que se haya resuelto únicamente de una forma no vista en clase (-30%)\n",
    "- Documentación de las clases y funciones y comentarios sobre código (30%) \n",
    "\n",
    "Acuérdate que solo se aceptan entregas en formato html"
   ]
  },
  {
   "cell_type": "markdown",
   "metadata": {},
   "source": [
    "## Ejercicio I | Teoría & Markdown\n",
    "---\n",
    "\n",
    "Crea una tabla, utilizando __markdown__, que explique en la primera fila la programación paralela y en la segunda fila la programación concurrente. Para ambos tipos de programación indica sus características, casos de uso, limitaciones y las principales librerías asociadas."
   ]
  },
  {
   "cell_type": "markdown",
   "metadata": {},
   "source": []
  },
  {
   "cell_type": "markdown",
   "metadata": {},
   "source": [
    "## Ejercicio II | Markdown\n",
    "---\n",
    "\n",
    "__A)__ Escribe este enlace como hipervínculo sobre la palabra __link__. Enlace a hipervincular: https://www.google.es/images/branding/googlelogo/1x/googlelogo_light_color_272x92dp.png"
   ]
  },
  {
   "cell_type": "markdown",
   "metadata": {},
   "source": []
  },
  {
   "cell_type": "markdown",
   "metadata": {},
   "source": [
    "__B)__ Guarda dentro de la carpeta \"img\" de este mismo directorio la imagen a la que te dirige el enlace anterior, y añade la imagen:"
   ]
  },
  {
   "cell_type": "markdown",
   "metadata": {},
   "source": []
  },
  {
   "cell_type": "markdown",
   "metadata": {},
   "source": [
    "__C)__ Redacta, utilizando markdown, la fórmula matemática de la estandarización mediante el método Z-score. La estandarización es un concepto fundamental en matemáticas, estadísticas y procesamiento de datos que se utiliza para escalar valores a una escala común o estándar. Hay varios métodos para normalizar, y uno de los más comunes es el de Z-score, el cual transforma los valores para que tengan una media de 0 y una desviación estándar de 1.  Por tanto, la formula es que Z (valor estandarizado) es igual a (X (o un valor a estandarizar) menos la media de toda la muestra ($\\mu$)) y todo ello entre la desviación estándar ($\\sigma$). \n",
    "\n",
    "- $Z$: es el Z-Score (valor normalizado).\n",
    "- $X$: representa el valor original.\n",
    "- $\\mu$: es la media de toda la muestra.\n",
    "- $\\sigma$: es la desviación estándar de la muestra.\n"
   ]
  },
  {
   "cell_type": "markdown",
   "metadata": {},
   "source": []
  },
  {
   "cell_type": "markdown",
   "metadata": {},
   "source": [
    "## Ejercicio III | Saber leer y utilizar documentación externa\n",
    "---\n",
    "\n",
    "El servicio de inteligencia del Imperio de Etiopía está investigando crímenes cibernéticos de transacciones ilegales en uno de los bancos más grandes del país: el reputado y archiconocido banco የኢትዮጵያ ንጉሠ ነገሥት መንግሥተ. Para ello, desde el banco han instalado un algoritmo matemático para detectar anomalías. Cuando este algoritmo detecta movimientos sospechosos, los reporta al servicio de inteligencia, enviando dichos movimientos en formato JSON.\n",
    "\n",
    "__A)__ Carga dicho documento y guárdalo en la colección de datos que consideres adecuada. Para ello:\n",
    "\n",
    "1. Importa la librería ``json`` (no hace falta instalarla, viene con Python al ser una librería integrada)\n",
    "2. Carga el archivo JSON llamado ``anomalies.json`` que está en la misma ruta que este mismo examen\n",
    "3. Guárdalo en una variable llamada ``movimientos_sospechosos``\n",
    "\n",
    "Aviso: La librería ``json`` tiene métodos para cargar este tipo de documentos.\n"
   ]
  },
  {
   "cell_type": "code",
   "execution_count": null,
   "metadata": {},
   "outputs": [],
   "source": []
  },
  {
   "cell_type": "markdown",
   "metadata": {},
   "source": [
    "__B)__ ¿De qué tipo es la variable ``movimientos_sospechosos``? ¿Y los elementos que componen dicha colección, de qué tipo son?"
   ]
  },
  {
   "cell_type": "code",
   "execution_count": null,
   "metadata": {},
   "outputs": [],
   "source": []
  },
  {
   "cell_type": "markdown",
   "metadata": {},
   "source": [
    "__C)__ Crea un diccionario llamado ``criminales`` con dos claves (``nombres``, ``apellidos``) donde guardes tanto el nombre como el apellido de aquellos clientes cuya transferencia tiene la misma cantidad, siempre y cuando una de ellas sea de tipo ``transferencia`` y la otra de tipo ``retiro``."
   ]
  },
  {
   "cell_type": "code",
   "execution_count": null,
   "metadata": {},
   "outputs": [],
   "source": []
  },
  {
   "cell_type": "markdown",
   "metadata": {},
   "source": [
    "__D)__ Escribe el código para guardar el diccionario llamado ``criminales``creado en el apartado C) en un archivo JSON"
   ]
  },
  {
   "cell_type": "code",
   "execution_count": null,
   "metadata": {},
   "outputs": [],
   "source": []
  },
  {
   "cell_type": "markdown",
   "metadata": {},
   "source": [
    "## Ejercicio IV | Funciones\n",
    "---\n",
    "\n",
    "__A)__ Completa la siguiente función según su documentación:"
   ]
  },
  {
   "cell_type": "code",
   "execution_count": 15,
   "metadata": {},
   "outputs": [],
   "source": [
    "def comprobar_descenso(clasificacion: list, n_descensos: int = 3) -> list:\n",
    "    \"\"\"\n",
    "    Función que, dada la clasificación de una liga en un momento determinado, \n",
    "    devuelve los equipos que están en posición de descenso.\n",
    "\n",
    "    Args:\n",
    "        clasificacion (list): Una lista que contiene la clasificación actual de la liga.\n",
    "        n_descensos (int, opcional): El número de equipos que deben ser considerados en \n",
    "            posición de descenso. Por defecto, se consideran 3 equipos en descenso.\n",
    "\n",
    "    Returns:\n",
    "        list: Una lista que contiene los nombres de los equipos que están en posición de descenso.\n",
    "            Si hay menos de `n_descensos` equipos en la clasificación, devuelve un aviso.\n",
    "    \"\"\"\n"
   ]
  },
  {
   "cell_type": "code",
   "execution_count": null,
   "metadata": {},
   "outputs": [],
   "source": [
    "# Prueba la función con un ejemplo\n",
    "clasificacion = [\"Atlético de Madrid\", \"Girona\", \"Sevilla\", \"Real Sociedad\", \"Villarreal\", \"Athletic Club\", \"Valencia\", \"Levante\", \"Betis\", \"Celta de Vigo\", \"Granada\", \"Osasuna\", \"Alavés\", \"Valladolid\", \"Eibar\", \"Elche\", \"Huesca\", \"Getafe\", \"Cádiz\", \"Barcelona\", \"Real Madrid\"]\n"
   ]
  },
  {
   "cell_type": "markdown",
   "metadata": {},
   "source": [
    "__B)__ Imprime la documentación de la función anterior"
   ]
  },
  {
   "cell_type": "code",
   "execution_count": null,
   "metadata": {},
   "outputs": [],
   "source": []
  },
  {
   "cell_type": "markdown",
   "metadata": {},
   "source": [
    "## Ejercicio V | Funciones\n",
    "---\n",
    "\n",
    "Crea una función que calcule la cuota de una hipoteca\n",
    "\n",
    "Las cuotas hipotecarias se calculan utilizando la fórmula del interés frances. \n",
    "\n",
    "La formula del interés frances es la siguiente:\n",
    "\\begin{align*}\n",
    "C=V \\frac{(1+i)^n i}{(1+i)^n -1}\n",
    "\\end{align*}\n",
    "\n",
    "\n",
    "    C = Cuota a pagar (mensual)\n",
    "    V = Cantidad del préstamo hipotecario\n",
    "    i = tipo de interés del período (mensual)\n",
    "    n = número de cuotas (mensual)\n",
    "\n",
    "__A)__. Crea un programa que solicite al usuario los datos de su hipoteca (cantidad, interés **anual**, y plazo en **años**) y le devuelva la cuota **mensual** a pagar **sin funciones**."
   ]
  },
  {
   "cell_type": "code",
   "execution_count": null,
   "metadata": {},
   "outputs": [],
   "source": []
  },
  {
   "cell_type": "markdown",
   "metadata": {},
   "source": [
    "__B)__ Calcula la cuota si la cantidad de la hipoteca son 250000 euros, el interés anual es del 3% y la quiere pagar en 20 años.\n"
   ]
  },
  {
   "cell_type": "code",
   "execution_count": null,
   "metadata": {},
   "outputs": [],
   "source": []
  },
  {
   "cell_type": "markdown",
   "metadata": {},
   "source": [
    "__C)__ Crea una función `calc_cuota_hip` que realiza el cálculo y cuyos argumentos sean `cantidad_euros`, `interes_anual` y `anios_pago`."
   ]
  },
  {
   "cell_type": "code",
   "execution_count": null,
   "metadata": {},
   "outputs": [],
   "source": []
  },
  {
   "cell_type": "markdown",
   "metadata": {},
   "source": [
    "__D)__ Crea una función `calc_cuota_hip_noargs` que realice el mismo cálculo pero sin argumentos de entrada y que contenga otra función dentro `recoger_datos_usuario` que recoja los datos del usuario."
   ]
  },
  {
   "cell_type": "code",
   "execution_count": null,
   "metadata": {},
   "outputs": [],
   "source": []
  },
  {
   "cell_type": "markdown",
   "metadata": {},
   "source": [
    "## Ejercicio VI | Funciones recursivas y optimización de procesos\n",
    "---\n",
    "\n",
    "La sucesión de Fibonacci es un ejemplo clásico de recursión, y se trata de una serie infinita de números naturales que empieza con un 0 y un 1 y continúa añadiendo números que son la suma de los dos anteriores: 0, 1, 1, 2, 3, 5, 8, 13, 21, 34, 55, 89, 144, 233, 377, 610, 987, 1597…\n",
    "\n",
    "Por ejemplo, el número Fibonnaci que está en la posición 8 es igual al número Fibonacci de la posición 7 más el de la posición 6\n",
    "\n",
    "__A)__ Crea una función **recursiva** llamada ``fib`` que obtenga el término n de la sucesión de Fibonacci."
   ]
  },
  {
   "cell_type": "code",
   "execution_count": null,
   "metadata": {},
   "outputs": [],
   "source": []
  },
  {
   "cell_type": "markdown",
   "metadata": {},
   "source": [
    "__B)__ Obtén el término 5 de la sucesión de Fibonacci"
   ]
  },
  {
   "cell_type": "code",
   "execution_count": null,
   "metadata": {},
   "outputs": [],
   "source": []
  },
  {
   "cell_type": "markdown",
   "metadata": {},
   "source": [
    "__C)__ Obtén el término 36 de la sucesión de Fibonacci.... \n",
    "\n",
    "Ojo: ¡ten paciencia! Eso sí, , si tarda más de 1 minuto entonces prubea el de l término 35"
   ]
  },
  {
   "cell_type": "code",
   "execution_count": null,
   "metadata": {},
   "outputs": [],
   "source": []
  },
  {
   "cell_type": "markdown",
   "metadata": {},
   "source": [
    "__D)__ Si queremos optimizar el tiempo en el que ejecutamos este código, ¿utilizaremos concurrencia o paralelismo? ¿por qué? Explícalo brevemente (la explicación que distingue a la concurrencia del paralelismo ya está respondido con la tabla inicial)"
   ]
  },
  {
   "cell_type": "markdown",
   "metadata": {},
   "source": []
  },
  {
   "cell_type": "markdown",
   "metadata": {},
   "source": [
    "__E)__ Aplica o concurrencia o paralelismo según convenga en esta situación.\n",
    "\n",
    "__Hint__: recuerda que se evalúan las respuestas alternativas. En este caso esto implica que se puede aplicar concurrencia/paralelismo por medio de más de una librería.\n",
    "\n",
    "__Ojo__: En el caso de aplicar paralelismo, recuerda que en Windows da problemas para ejecutarlo desde el Notebook. Se ruego escribir el código en el notebook para que pueda ser evaluado, pero para que el alumno pruebe que funciona correctamente puede usar un script externo."
   ]
  },
  {
   "cell_type": "markdown",
   "metadata": {},
   "source": []
  },
  {
   "cell_type": "code",
   "execution_count": null,
   "metadata": {},
   "outputs": [],
   "source": []
  },
  {
   "cell_type": "markdown",
   "metadata": {},
   "source": [
    "## Ejercicio VII | Clases y optimización de procesos\n",
    "---\n",
    "\n",
    "__A)__ Crea una clase \"Paciente\" que tenga los siguientes atributos: \"antiguedad\"(int default 0), \"edad\"(int), \"altura\"(float) y \"nombre\"(str), \"genero\" (str), \"fumador\" (bool default False), \"embarazo\" (bool default False). Además, debe contar con tres métodos: \n",
    "\n",
    "- \"birthday\": al llamar a este método se debe sumar 1 al atributo edad del paciente y que retorne la edad actualizada. \n",
    "- \"proof_pregancy\": este método está pensado para llamarse únicamente desde dentro de la clase (quizás hay que añadir algo al nombre... y no te digo más), y que evite que alguien cambie el atributo \"embarazo\" en el caso en el que el atributo \"genero\" sea \"hombre\".\n",
    "- \"insurance_cost\": calcula el coste anual del seguro. Por defecto es 1000. Si el paciente es fumador, asciende en un 15%. Además, por cada año de antigüedad, se reduce en un 2% de la cuota que se paga ese año, pudiénde reducir hasta los 750 de cuota anual. Ojo, añade un time.sleep(2) de tal forma que este método tarde 2 segundos en calcularse (simulando una tarea de E/S (entrada/salida) que tarda un tiempo en completarse por causas externas a Python)\n",
    "- Documenta la clase"
   ]
  },
  {
   "cell_type": "code",
   "execution_count": null,
   "metadata": {},
   "outputs": [],
   "source": []
  },
  {
   "cell_type": "markdown",
   "metadata": {},
   "source": [
    "__B)__ Crea un paciente llamado \"Andrés\", antiguedad=10, edad=32, altura=1.70, genero=hombre, fumador=sí, embarazo=no. Calcula el precio del seguro anual de este paciente. Además, comprueba que no se le puede cambiar su atributo \"embarazo\" a True."
   ]
  },
  {
   "cell_type": "code",
   "execution_count": null,
   "metadata": {},
   "outputs": [],
   "source": []
  },
  {
   "cell_type": "markdown",
   "metadata": {},
   "source": [
    "__C)__ En el apartado D vamos a calcular el ``insurance_cost`` para 10 pacientes. Si queremos optimizar el tiempo de ejecución, ¿utilizaremos concurrencia o paralelismo? ¿por qué? Explícalo brevemente (la explicación que distingue a la concurrencia del paralelismo ya está respondido con la tabla inicial)"
   ]
  },
  {
   "cell_type": "markdown",
   "metadata": {},
   "source": []
  },
  {
   "cell_type": "markdown",
   "metadata": {},
   "source": [
    "__D)__ Aplica o concurrencia o paralelismo, según convenga, para calcular el ``insurance_cost`` para 10 pacientes.\n",
    "\n",
    "__Hint__: recuerda que se evalúan las respuestas alternativas. En este caso esto implica que se puede aplicar concurrencia/paralelismo por medio de más de una librería.\n",
    "\n",
    "__Ojo__: En el caso de aplicar paralelismo, recuerda que en Windows da problemas para ejecutarlo desde el Notebook. Se ruego escribir el código en el notebook para que pueda ser evaluado, pero para que el alumno pruebe que funciona correctamente puede usar un script externo."
   ]
  },
  {
   "cell_type": "code",
   "execution_count": null,
   "metadata": {},
   "outputs": [],
   "source": [
    "paciente1 = Paciente(edad=30, altura=1.75, nombre=\"Juan\", genero=\"hombre\")\n",
    "paciente2 = Paciente(edad=25, altura=1.65, nombre=\"María\", genero=\"mujer\", fumador=True)\n",
    "paciente3 = Paciente(edad=40, altura=1.80, nombre=\"Pedro\", genero=\"hombre\", antiguedad=5)\n",
    "paciente4 = Paciente(edad=35, altura=1.70, nombre=\"Laura\", genero=\"mujer\")\n",
    "paciente5 = Paciente(edad=45, altura=1.78, nombre=\"Carlos\", genero=\"hombre\", fumador=True)\n",
    "paciente6 = Paciente(edad=28, altura=1.60, nombre=\"Ana\", genero=\"mujer\")\n",
    "paciente7 = Paciente(edad=33, altura=1.73, nombre=\"Luis\", genero=\"hombre\")\n",
    "paciente8 = Paciente(edad=50, altura=1.85, nombre=\"Elena\", genero=\"mujer\", fumador=True)\n",
    "paciente9 = Paciente(edad=37, altura=1.79, nombre=\"David\", genero=\"hombre\")\n",
    "paciente10 = Paciente(edad=42, altura=1.76, nombre=\"Sofía\", genero=\"mujer\", antiguedad=3)"
   ]
  },
  {
   "cell_type": "markdown",
   "metadata": {},
   "source": [
    "-----------------\n",
    "\n",
    "Recuerda entregar el notebook en formato html. Puedes hacerlo con la librería \"nbconvert\" desde el cmd en la ruta del documento que quieres transformar de ipynb a html:\n",
    "\n",
    "> jupyter nbconvert --to html --execute examen_ev.ipynb"
   ]
  }
 ],
 "metadata": {
  "kernelspec": {
   "display_name": "Python 3",
   "language": "python",
   "name": "python3"
  },
  "language_info": {
   "codemirror_mode": {
    "name": "ipython",
    "version": 3
   },
   "file_extension": ".py",
   "mimetype": "text/x-python",
   "name": "python",
   "nbconvert_exporter": "python",
   "pygments_lexer": "ipython3",
   "version": "3.7.4"
  }
 },
 "nbformat": 4,
 "nbformat_minor": 2
}
